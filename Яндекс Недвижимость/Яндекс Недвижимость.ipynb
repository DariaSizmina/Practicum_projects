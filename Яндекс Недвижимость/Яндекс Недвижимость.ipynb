{
 "cells": [
  {
   "cell_type": "markdown",
   "metadata": {
    "id": "-VFbjcb3Awb7"
   },
   "source": [
    "# Исследование объявлений о продаже квартир\n",
    "\n",
    "В распоряжении данные сервиса Яндекс Недвижимость — архив объявлений о продаже квартир в Санкт-Петербурге и соседних населённых пунктах за несколько лет. Нужно научиться определять рыночную стоимость объектов недвижимости. Для этого проведем исследовательский анализ данных и установим параметры, влияющие на цену объектов. Это позволит построить автоматизированную систему: она отследит аномалии и мошенническую деятельность.\n",
    "\n",
    "По каждой квартире на продажу доступны два вида данных. Первые вписаны пользователем, вторые — получены автоматически на основе картографических данных. Например, расстояние до центра, аэропорта и других объектов — эти данные автоматически получены из геосервисов. Количество парков и водоёмов также заполняется без участия пользователя."
   ]
  },
  {
   "cell_type": "markdown",
   "metadata": {
    "id": "aeFLH07FAwb9"
   },
   "source": [
    "### Откроем файл с данными и изучим общую информацию"
   ]
  },
  {
   "cell_type": "code",
   "execution_count": 1,
   "metadata": {
    "id": "7MZxY65pAwb9"
   },
   "outputs": [
    {
     "name": "stdout",
     "output_type": "stream",
     "text": [
      "   total_images  last_price  total_area first_day_exposition  rooms  \\\n",
      "0            20  13000000.0       108.0  2019-03-07T00:00:00      3   \n",
      "1             7   3350000.0        40.4  2018-12-04T00:00:00      1   \n",
      "2            10   5196000.0        56.0  2015-08-20T00:00:00      2   \n",
      "3             0  64900000.0       159.0  2015-07-24T00:00:00      3   \n",
      "4             2  10000000.0       100.0  2018-06-19T00:00:00      2   \n",
      "\n",
      "   ceiling_height  floors_total  living_area  floor is_apartment  ...  \\\n",
      "0            2.70          16.0         51.0      8          NaN  ...   \n",
      "1             NaN          11.0         18.6      1          NaN  ...   \n",
      "2             NaN           5.0         34.3      4          NaN  ...   \n",
      "3             NaN          14.0          NaN      9          NaN  ...   \n",
      "4            3.03          14.0         32.0     13          NaN  ...   \n",
      "\n",
      "   kitchen_area  balcony    locality_name  airports_nearest  \\\n",
      "0          25.0      NaN  Санкт-Петербург           18863.0   \n",
      "1          11.0      2.0   посёлок Шушары           12817.0   \n",
      "2           8.3      0.0  Санкт-Петербург           21741.0   \n",
      "3           NaN      0.0  Санкт-Петербург           28098.0   \n",
      "4          41.0      NaN  Санкт-Петербург           31856.0   \n",
      "\n",
      "  cityCenters_nearest  parks_around3000  parks_nearest  ponds_around3000  \\\n",
      "0             16028.0               1.0          482.0               2.0   \n",
      "1             18603.0               0.0            NaN               0.0   \n",
      "2             13933.0               1.0           90.0               2.0   \n",
      "3              6800.0               2.0           84.0               3.0   \n",
      "4              8098.0               2.0          112.0               1.0   \n",
      "\n",
      "   ponds_nearest  days_exposition  \n",
      "0          755.0              NaN  \n",
      "1            NaN             81.0  \n",
      "2          574.0            558.0  \n",
      "3          234.0            424.0  \n",
      "4           48.0            121.0  \n",
      "\n",
      "[5 rows x 22 columns]\n",
      "       total_images    last_price    total_area         rooms  ceiling_height  \\\n",
      "count  23699.000000  2.369900e+04  23699.000000  23699.000000    14504.000000   \n",
      "mean       9.858475  6.541549e+06     60.348651      2.070636        2.771499   \n",
      "std        5.682529  1.088701e+07     35.654083      1.078405        1.261056   \n",
      "min        0.000000  1.219000e+04     12.000000      0.000000        1.000000   \n",
      "25%        6.000000  3.400000e+06     40.000000      1.000000        2.520000   \n",
      "50%        9.000000  4.650000e+06     52.000000      2.000000        2.650000   \n",
      "75%       14.000000  6.800000e+06     69.900000      3.000000        2.800000   \n",
      "max       50.000000  7.630000e+08    900.000000     19.000000      100.000000   \n",
      "\n",
      "       floors_total   living_area         floor  kitchen_area       balcony  \\\n",
      "count  23613.000000  21796.000000  23699.000000  21421.000000  12180.000000   \n",
      "mean      10.673824     34.457852      5.892358     10.569807      1.150082   \n",
      "std        6.597173     22.030445      4.885249      5.905438      1.071300   \n",
      "min        1.000000      2.000000      1.000000      1.300000      0.000000   \n",
      "25%        5.000000     18.600000      2.000000      7.000000      0.000000   \n",
      "50%        9.000000     30.000000      4.000000      9.100000      1.000000   \n",
      "75%       16.000000     42.300000      8.000000     12.000000      2.000000   \n",
      "max       60.000000    409.700000     33.000000    112.000000      5.000000   \n",
      "\n",
      "       airports_nearest  cityCenters_nearest  parks_around3000  parks_nearest  \\\n",
      "count      18157.000000         18180.000000      18181.000000    8079.000000   \n",
      "mean       28793.672193         14191.277833          0.611408     490.804555   \n",
      "std        12630.880622          8608.386210          0.802074     342.317995   \n",
      "min            0.000000           181.000000          0.000000       1.000000   \n",
      "25%        18585.000000          9238.000000          0.000000     288.000000   \n",
      "50%        26726.000000         13098.500000          0.000000     455.000000   \n",
      "75%        37273.000000         16293.000000          1.000000     612.000000   \n",
      "max        84869.000000         65968.000000          3.000000    3190.000000   \n",
      "\n",
      "       ponds_around3000  ponds_nearest  days_exposition  \n",
      "count      18181.000000    9110.000000     20518.000000  \n",
      "mean           0.770255     517.980900       180.888634  \n",
      "std            0.938346     277.720643       219.727988  \n",
      "min            0.000000      13.000000         1.000000  \n",
      "25%            0.000000     294.000000        45.000000  \n",
      "50%            1.000000     502.000000        95.000000  \n",
      "75%            1.000000     729.000000       232.000000  \n",
      "max            3.000000    1344.000000      1580.000000  \n",
      "<class 'pandas.core.frame.DataFrame'>\n",
      "RangeIndex: 23699 entries, 0 to 23698\n",
      "Data columns (total 22 columns):\n",
      " #   Column                Non-Null Count  Dtype  \n",
      "---  ------                --------------  -----  \n",
      " 0   total_images          23699 non-null  int64  \n",
      " 1   last_price            23699 non-null  float64\n",
      " 2   total_area            23699 non-null  float64\n",
      " 3   first_day_exposition  23699 non-null  object \n",
      " 4   rooms                 23699 non-null  int64  \n",
      " 5   ceiling_height        14504 non-null  float64\n",
      " 6   floors_total          23613 non-null  float64\n",
      " 7   living_area           21796 non-null  float64\n",
      " 8   floor                 23699 non-null  int64  \n",
      " 9   is_apartment          2775 non-null   object \n",
      " 10  studio                23699 non-null  bool   \n",
      " 11  open_plan             23699 non-null  bool   \n",
      " 12  kitchen_area          21421 non-null  float64\n",
      " 13  balcony               12180 non-null  float64\n",
      " 14  locality_name         23650 non-null  object \n",
      " 15  airports_nearest      18157 non-null  float64\n",
      " 16  cityCenters_nearest   18180 non-null  float64\n",
      " 17  parks_around3000      18181 non-null  float64\n",
      " 18  parks_nearest         8079 non-null   float64\n",
      " 19  ponds_around3000      18181 non-null  float64\n",
      " 20  ponds_nearest         9110 non-null   float64\n",
      " 21  days_exposition       20518 non-null  float64\n",
      "dtypes: bool(2), float64(14), int64(3), object(3)\n",
      "memory usage: 3.7+ MB\n",
      "None\n"
     ]
    },
    {
     "data": {
      "text/plain": [
       "array([[<AxesSubplot:title={'center':'total_images'}>,\n",
       "        <AxesSubplot:title={'center':'last_price'}>,\n",
       "        <AxesSubplot:title={'center':'total_area'}>,\n",
       "        <AxesSubplot:title={'center':'rooms'}>],\n",
       "       [<AxesSubplot:title={'center':'ceiling_height'}>,\n",
       "        <AxesSubplot:title={'center':'floors_total'}>,\n",
       "        <AxesSubplot:title={'center':'living_area'}>,\n",
       "        <AxesSubplot:title={'center':'floor'}>],\n",
       "       [<AxesSubplot:title={'center':'kitchen_area'}>,\n",
       "        <AxesSubplot:title={'center':'balcony'}>,\n",
       "        <AxesSubplot:title={'center':'airports_nearest'}>,\n",
       "        <AxesSubplot:title={'center':'cityCenters_nearest'}>],\n",
       "       [<AxesSubplot:title={'center':'parks_around3000'}>,\n",
       "        <AxesSubplot:title={'center':'parks_nearest'}>,\n",
       "        <AxesSubplot:title={'center':'ponds_around3000'}>,\n",
       "        <AxesSubplot:title={'center':'ponds_nearest'}>],\n",
       "       [<AxesSubplot:title={'center':'days_exposition'}>, <AxesSubplot:>,\n",
       "        <AxesSubplot:>, <AxesSubplot:>]], dtype=object)"
      ]
     },
     "execution_count": 1,
     "metadata": {},
     "output_type": "execute_result"
    },
    {
     "data": {
      "image/png": "[encoded data removed]",
      "text/plain": [
       "<Figure size 1080x1440 with 20 Axes>"
      ]
     },
     "metadata": {
      "needs_background": "light"
     },
     "output_type": "display_data"
    }
   ],
   "source": [
    "import pandas as pd\n",
    "import numpy as np\n",
    "import matplotlib.pyplot as plt\n",
    "data = pd.read_csv('/datasets/real_estate_data.csv', sep='\\t')\n",
    "print(data.head(5))\n",
    "print(data.describe())\n",
    "print(data.info())\n",
    "data.hist(figsize=(15, 20))"
   ]
  },
  {
   "cell_type": "markdown",
   "metadata": {},
   "source": [
    "Видно большое количество пропусков: в аппартаментах, ближайших парках, балконах, ближайших прудах. Также видны квартиры с 0 комнат и 19-комнатные, метровые и 100-метровые потолки, что выглядит неправдоподобно, есть над чем поработать.\n"
   ]
  },
  {
   "cell_type": "markdown",
   "metadata": {
    "id": "-O5NtivEAwb9"
   },
   "source": [
    "### Выполним предобработку данных"
   ]
  },
  {
   "cell_type": "code",
   "execution_count": 2,
   "metadata": {
    "id": "7v3vAeTuAwb-"
   },
   "outputs": [
    {
     "data": {
      "text/plain": [
       "total_images                0\n",
       "last_price                  0\n",
       "total_area                  0\n",
       "first_day_exposition        0\n",
       "rooms                       0\n",
       "ceiling_height           9195\n",
       "floors_total               86\n",
       "living_area              1903\n",
       "floor                       0\n",
       "is_apartment            20924\n",
       "studio                      0\n",
       "open_plan                   0\n",
       "kitchen_area             2278\n",
       "balcony                 11519\n",
       "locality_name              49\n",
       "airports_nearest         5542\n",
       "cityCenters_nearest      5519\n",
       "parks_around3000         5518\n",
       "parks_nearest           15620\n",
       "ponds_around3000         5518\n",
       "ponds_nearest           14589\n",
       "days_exposition          3181\n",
       "dtype: int64"
      ]
     },
     "execution_count": 2,
     "metadata": {},
     "output_type": "execute_result"
    }
   ],
   "source": [
    "data.isna().sum()"
   ]
  },
  {
   "cell_type": "code",
   "execution_count": 4,
   "metadata": {},
   "outputs": [
    {
     "name": "stdout",
     "output_type": "stream",
     "text": [
      "\n",
      "Number of rows : 23699\n",
      "<class 'pandas.core.frame.DataFrame'>\n",
      "RangeIndex: 23699 entries, 0 to 23698\n",
      "Data columns (total 22 columns):\n",
      " #   Column                Non-Null Count  Dtype  \n",
      "---  ------                --------------  -----  \n",
      " 0   total_images          23699 non-null  int64  \n",
      " 1   last_price            23699 non-null  float64\n",
      " 2   total_area            23699 non-null  float64\n",
      " 3   first_day_exposition  23699 non-null  object \n",
      " 4   rooms                 23699 non-null  int64  \n",
      " 5   ceiling_height        14504 non-null  float64\n",
      " 6   floors_total          23613 non-null  float64\n",
      " 7   living_area           21796 non-null  float64\n",
      " 8   floor                 23699 non-null  int64  \n",
      " 9   is_apartment          2775 non-null   object \n",
      " 10  studio                23699 non-null  bool   \n",
      " 11  open_plan             23699 non-null  bool   \n",
      " 12  kitchen_area          21421 non-null  float64\n",
      " 13  balcony               12180 non-null  float64\n",
      " 14  locality_name         23650 non-null  object \n",
      " 15  airports_nearest      18157 non-null  float64\n",
      " 16  cityCenters_nearest   18180 non-null  float64\n",
      " 17  parks_around3000      18181 non-null  float64\n",
      " 18  parks_nearest         8079 non-null   float64\n",
      " 19  ponds_around3000      18181 non-null  float64\n",
      " 20  ponds_nearest         9110 non-null   float64\n",
      " 21  days_exposition       20518 non-null  float64\n",
      "dtypes: bool(2), float64(14), int64(3), object(3)\n",
      "memory usage: 3.7+ MB\n"
     ]
    }
   ],
   "source": [
    "shape = data.shape \n",
    "\n",
    "print('\\nNumber of rows :', shape[0])\n",
    "\n",
    "data.info()"
   ]
  },
  {
   "cell_type": "markdown",
   "metadata": {},
   "source": [
    "<div class=\"alert alert-block alert-info\">\n",
    "Количество строк до переработки данных равно 23699.\n",
    "    \n",
    "</div>\n"
   ]
  },
  {
   "cell_type": "markdown",
   "metadata": {},
   "source": [
    "Присутствует большое количество пропусков, будем разбираться по порядку:\n",
    "- ceiling_height   -     9195 - огромное количество прорпусков, скорее всего люди, дающие объявления, не посчитали необходимым вносить высоту потолков, пропущенных данных очень много, поэтому считаю необходимым, заполнить пропуски медианным значением. \n",
    "- floors_total     -     86 - тут пропусков не так много, тоже списываю на человеческий фактор,не вижу возможности вносить медиану на место пропусков, тк информация исказится.\n",
    "- living_area      -     1903 - тут пропусков не так много, тоже списываю на человеческий фактор, возможно заполнить пропуски коэффициентом соотношения с общей площадью, так как она везде известна.\n",
    "- is_apartment     -     20924 - огромное число пропусков, вероятно, люди, имеющие квартиру, а не апартаменты не сочли нужным заполнять данную информацию, поэтому считаю возможным заменить пропуски 0.\n",
    "- kitchen_area     -     2278 - вероятно люди не посчитали нужным замерять площадь кухни, возможно заполнить пропуски коэффициентом соотношения с общей площадью, так как она везде известна.\n",
    "- balcony         -      11519 - тут возможно у человека нет балкона и поэтому стоит пропуск, можно заменить пропуски 0.\n",
    "- locality_name    -     49 - вероятно, тк все квартиры в Спб, люди не задумались, что есть населенные пункты и область, не вижу возможности вносить медиану на место пропусков, тк информация исказится.\n",
    "- parks_around3000  -    5518, parks_around3000   -   5518 - данные по пропускам прудов и парков в радиусе 3000км одинаковы, что странно, тк есть парки и без прудов, поэтому можно предположить, что данные не были выгружены.\n",
    "- parks_nearest     -    15620 - скорее всего люди не сочли эту информацию важной.\n",
    "- ponds_nearest     -    14589 - скорее всего люди не сочли эту информацию важной.\n",
    "Я также считаю информацию о парках и прудах не очень важной, есть возможность провести анализ без неё."
   ]
  },
  {
   "cell_type": "code",
   "execution_count": 3,
   "metadata": {},
   "outputs": [
    {
     "data": {
      "text/plain": [
       "total_images                0\n",
       "last_price                  0\n",
       "total_area                  0\n",
       "first_day_exposition        0\n",
       "rooms                       0\n",
       "ceiling_height           9195\n",
       "floors_total               86\n",
       "living_area              1903\n",
       "floor                       0\n",
       "is_apartment                0\n",
       "studio                      0\n",
       "open_plan                   0\n",
       "kitchen_area             2278\n",
       "balcony                     0\n",
       "locality_name              49\n",
       "airports_nearest         5542\n",
       "cityCenters_nearest      5519\n",
       "parks_around3000         5518\n",
       "parks_nearest           15620\n",
       "ponds_around3000         5518\n",
       "ponds_nearest           14589\n",
       "days_exposition          3181\n",
       "dtype: int64"
      ]
     },
     "execution_count": 3,
     "metadata": {},
     "output_type": "execute_result"
    }
   ],
   "source": [
    "data['balcony'] = data['balcony'].fillna(0)\n",
    "data['is_apartment'] = data['is_apartment'].fillna(0)\n",
    "\n",
    "data.isna().sum()"
   ]
  },
  {
   "cell_type": "markdown",
   "metadata": {},
   "source": [
    "Пропуски, в категории балкон и апартаменты заполнены."
   ]
  },
  {
   "cell_type": "code",
   "execution_count": 4,
   "metadata": {
    "scrolled": true
   },
   "outputs": [
    {
     "data": {
      "text/plain": [
       "total_images                0\n",
       "last_price                  0\n",
       "total_area                  0\n",
       "first_day_exposition        0\n",
       "rooms                       0\n",
       "ceiling_height              0\n",
       "floors_total               86\n",
       "living_area              1903\n",
       "floor                       0\n",
       "is_apartment                0\n",
       "studio                      0\n",
       "open_plan                   0\n",
       "kitchen_area             2278\n",
       "balcony                     0\n",
       "locality_name              49\n",
       "airports_nearest         5542\n",
       "cityCenters_nearest      5519\n",
       "parks_around3000         5518\n",
       "parks_nearest           15620\n",
       "ponds_around3000         5518\n",
       "ponds_nearest           14589\n",
       "days_exposition          3181\n",
       "dtype: int64"
      ]
     },
     "execution_count": 4,
     "metadata": {},
     "output_type": "execute_result"
    }
   ],
   "source": [
    "med = data['ceiling_height'].median()\n",
    "data['ceiling_height'] = data['ceiling_height'].fillna(med) #заполняем пропуски высоты потолка \n",
    "data.isna().sum()"
   ]
  },
  {
   "cell_type": "code",
   "execution_count": 5,
   "metadata": {},
   "outputs": [
    {
     "data": {
      "text/plain": [
       "total_images                0\n",
       "last_price                  0\n",
       "total_area                  0\n",
       "first_day_exposition        0\n",
       "rooms                       0\n",
       "ceiling_height              0\n",
       "floors_total               86\n",
       "living_area                 0\n",
       "floor                       0\n",
       "is_apartment                0\n",
       "studio                      0\n",
       "open_plan                   0\n",
       "kitchen_area                0\n",
       "balcony                     0\n",
       "locality_name              49\n",
       "airports_nearest         5542\n",
       "cityCenters_nearest      5519\n",
       "parks_around3000         5518\n",
       "parks_nearest           15620\n",
       "ponds_around3000         5518\n",
       "ponds_nearest           14589\n",
       "days_exposition          3181\n",
       "dtype: int64"
      ]
     },
     "execution_count": 5,
     "metadata": {},
     "output_type": "execute_result"
    }
   ],
   "source": [
    "kk = data['kitchen_area'].sum()/data['total_area'].sum()\n",
    "kl = data['living_area'].sum()/data['total_area'].sum()\n",
    "data['kitchen_area'] = data['kitchen_area'].fillna(data['total_area']*kk)\n",
    "data['living_area'] = data['living_area'].fillna(data['total_area']*kl)\n",
    "data.isna().sum()"
   ]
  },
  {
   "cell_type": "markdown",
   "metadata": {},
   "source": [
    "Чтобы заполнить пропуски площади кухни и жилой площади, я нашла коэффициент соотношения этих площадей с общей площадью квартиры и умножила его на общую площадь, так данные будут максимально точными, насколько это возможно. "
   ]
  },
  {
   "cell_type": "code",
   "execution_count": 6,
   "metadata": {},
   "outputs": [
    {
     "name": "stdout",
     "output_type": "stream",
     "text": [
      "<class 'pandas.core.frame.DataFrame'>\n",
      "RangeIndex: 23699 entries, 0 to 23698\n",
      "Data columns (total 22 columns):\n",
      " #   Column                Non-Null Count  Dtype  \n",
      "---  ------                --------------  -----  \n",
      " 0   total_images          23699 non-null  int64  \n",
      " 1   last_price            23699 non-null  float64\n",
      " 2   total_area            23699 non-null  float64\n",
      " 3   first_day_exposition  23699 non-null  object \n",
      " 4   rooms                 23699 non-null  int64  \n",
      " 5   ceiling_height        23699 non-null  float64\n",
      " 6   floors_total          23613 non-null  float64\n",
      " 7   living_area           23699 non-null  float64\n",
      " 8   floor                 23699 non-null  int64  \n",
      " 9   is_apartment          23699 non-null  object \n",
      " 10  studio                23699 non-null  bool   \n",
      " 11  open_plan             23699 non-null  bool   \n",
      " 12  kitchen_area          23699 non-null  float64\n",
      " 13  balcony               23699 non-null  float64\n",
      " 14  locality_name         23650 non-null  object \n",
      " 15  airports_nearest      18157 non-null  float64\n",
      " 16  cityCenters_nearest   18180 non-null  float64\n",
      " 17  parks_around3000      18181 non-null  float64\n",
      " 18  parks_nearest         8079 non-null   float64\n",
      " 19  ponds_around3000      18181 non-null  float64\n",
      " 20  ponds_nearest         9110 non-null   float64\n",
      " 21  days_exposition       20518 non-null  float64\n",
      "dtypes: bool(2), float64(14), int64(3), object(3)\n",
      "memory usage: 3.7+ MB\n",
      "None\n"
     ]
    },
    {
     "data": {
      "text/html": [
       "<div>\n",
       "<style scoped>\n",
       "    .dataframe tbody tr th:only-of-type {\n",
       "        vertical-align: middle;\n",
       "    }\n",
       "\n",
       "    .dataframe tbody tr th {\n",
       "        vertical-align: top;\n",
       "    }\n",
       "\n",
       "    .dataframe thead th {\n",
       "        text-align: right;\n",
       "    }\n",
       "</style>\n",
       "<table border=\"1\" class=\"dataframe\">\n",
       "  <thead>\n",
       "    <tr style=\"text-align: right;\">\n",
       "      <th></th>\n",
       "      <th>total_images</th>\n",
       "      <th>last_price</th>\n",
       "      <th>total_area</th>\n",
       "      <th>first_day_exposition</th>\n",
       "      <th>rooms</th>\n",
       "      <th>ceiling_height</th>\n",
       "      <th>floors_total</th>\n",
       "      <th>living_area</th>\n",
       "      <th>floor</th>\n",
       "      <th>is_apartment</th>\n",
       "      <th>...</th>\n",
       "      <th>kitchen_area</th>\n",
       "      <th>balcony</th>\n",
       "      <th>locality_name</th>\n",
       "      <th>airports_nearest</th>\n",
       "      <th>cityCenters_nearest</th>\n",
       "      <th>parks_around3000</th>\n",
       "      <th>parks_nearest</th>\n",
       "      <th>ponds_around3000</th>\n",
       "      <th>ponds_nearest</th>\n",
       "      <th>days_exposition</th>\n",
       "    </tr>\n",
       "  </thead>\n",
       "  <tbody>\n",
       "    <tr>\n",
       "      <th>0</th>\n",
       "      <td>20</td>\n",
       "      <td>13000000.0</td>\n",
       "      <td>108.0</td>\n",
       "      <td>2019-03-07T00:00:00</td>\n",
       "      <td>3</td>\n",
       "      <td>2.70</td>\n",
       "      <td>16.0</td>\n",
       "      <td>51.000000</td>\n",
       "      <td>8</td>\n",
       "      <td>0</td>\n",
       "      <td>...</td>\n",
       "      <td>25.00000</td>\n",
       "      <td>0.0</td>\n",
       "      <td>Санкт-Петербург</td>\n",
       "      <td>18863.0</td>\n",
       "      <td>16028.0</td>\n",
       "      <td>1.0</td>\n",
       "      <td>482.0</td>\n",
       "      <td>2.0</td>\n",
       "      <td>755.0</td>\n",
       "      <td>NaN</td>\n",
       "    </tr>\n",
       "    <tr>\n",
       "      <th>1</th>\n",
       "      <td>7</td>\n",
       "      <td>3350000.0</td>\n",
       "      <td>40.4</td>\n",
       "      <td>2018-12-04T00:00:00</td>\n",
       "      <td>1</td>\n",
       "      <td>2.65</td>\n",
       "      <td>11.0</td>\n",
       "      <td>18.600000</td>\n",
       "      <td>1</td>\n",
       "      <td>0</td>\n",
       "      <td>...</td>\n",
       "      <td>11.00000</td>\n",
       "      <td>2.0</td>\n",
       "      <td>посёлок Шушары</td>\n",
       "      <td>12817.0</td>\n",
       "      <td>18603.0</td>\n",
       "      <td>0.0</td>\n",
       "      <td>NaN</td>\n",
       "      <td>0.0</td>\n",
       "      <td>NaN</td>\n",
       "      <td>81.0</td>\n",
       "    </tr>\n",
       "    <tr>\n",
       "      <th>2</th>\n",
       "      <td>10</td>\n",
       "      <td>5196000.0</td>\n",
       "      <td>56.0</td>\n",
       "      <td>2015-08-20T00:00:00</td>\n",
       "      <td>2</td>\n",
       "      <td>2.65</td>\n",
       "      <td>5.0</td>\n",
       "      <td>34.300000</td>\n",
       "      <td>4</td>\n",
       "      <td>0</td>\n",
       "      <td>...</td>\n",
       "      <td>8.30000</td>\n",
       "      <td>0.0</td>\n",
       "      <td>Санкт-Петербург</td>\n",
       "      <td>21741.0</td>\n",
       "      <td>13933.0</td>\n",
       "      <td>1.0</td>\n",
       "      <td>90.0</td>\n",
       "      <td>2.0</td>\n",
       "      <td>574.0</td>\n",
       "      <td>558.0</td>\n",
       "    </tr>\n",
       "    <tr>\n",
       "      <th>3</th>\n",
       "      <td>0</td>\n",
       "      <td>64900000.0</td>\n",
       "      <td>159.0</td>\n",
       "      <td>2015-07-24T00:00:00</td>\n",
       "      <td>3</td>\n",
       "      <td>2.65</td>\n",
       "      <td>14.0</td>\n",
       "      <td>83.495783</td>\n",
       "      <td>9</td>\n",
       "      <td>0</td>\n",
       "      <td>...</td>\n",
       "      <td>25.17134</td>\n",
       "      <td>0.0</td>\n",
       "      <td>Санкт-Петербург</td>\n",
       "      <td>28098.0</td>\n",
       "      <td>6800.0</td>\n",
       "      <td>2.0</td>\n",
       "      <td>84.0</td>\n",
       "      <td>3.0</td>\n",
       "      <td>234.0</td>\n",
       "      <td>424.0</td>\n",
       "    </tr>\n",
       "    <tr>\n",
       "      <th>4</th>\n",
       "      <td>2</td>\n",
       "      <td>10000000.0</td>\n",
       "      <td>100.0</td>\n",
       "      <td>2018-06-19T00:00:00</td>\n",
       "      <td>2</td>\n",
       "      <td>3.03</td>\n",
       "      <td>14.0</td>\n",
       "      <td>32.000000</td>\n",
       "      <td>13</td>\n",
       "      <td>0</td>\n",
       "      <td>...</td>\n",
       "      <td>41.00000</td>\n",
       "      <td>0.0</td>\n",
       "      <td>Санкт-Петербург</td>\n",
       "      <td>31856.0</td>\n",
       "      <td>8098.0</td>\n",
       "      <td>2.0</td>\n",
       "      <td>112.0</td>\n",
       "      <td>1.0</td>\n",
       "      <td>48.0</td>\n",
       "      <td>121.0</td>\n",
       "    </tr>\n",
       "  </tbody>\n",
       "</table>\n",
       "<p>5 rows × 22 columns</p>\n",
       "</div>"
      ],
      "text/plain": [
       "   total_images  last_price  total_area first_day_exposition  rooms  \\\n",
       "0            20  13000000.0       108.0  2019-03-07T00:00:00      3   \n",
       "1             7   3350000.0        40.4  2018-12-04T00:00:00      1   \n",
       "2            10   5196000.0        56.0  2015-08-20T00:00:00      2   \n",
       "3             0  64900000.0       159.0  2015-07-24T00:00:00      3   \n",
       "4             2  10000000.0       100.0  2018-06-19T00:00:00      2   \n",
       "\n",
       "   ceiling_height  floors_total  living_area  floor is_apartment  ...  \\\n",
       "0            2.70          16.0    51.000000      8            0  ...   \n",
       "1            2.65          11.0    18.600000      1            0  ...   \n",
       "2            2.65           5.0    34.300000      4            0  ...   \n",
       "3            2.65          14.0    83.495783      9            0  ...   \n",
       "4            3.03          14.0    32.000000     13            0  ...   \n",
       "\n",
       "   kitchen_area  balcony    locality_name  airports_nearest  \\\n",
       "0      25.00000      0.0  Санкт-Петербург           18863.0   \n",
       "1      11.00000      2.0   посёлок Шушары           12817.0   \n",
       "2       8.30000      0.0  Санкт-Петербург           21741.0   \n",
       "3      25.17134      0.0  Санкт-Петербург           28098.0   \n",
       "4      41.00000      0.0  Санкт-Петербург           31856.0   \n",
       "\n",
       "  cityCenters_nearest  parks_around3000  parks_nearest  ponds_around3000  \\\n",
       "0             16028.0               1.0          482.0               2.0   \n",
       "1             18603.0               0.0            NaN               0.0   \n",
       "2             13933.0               1.0           90.0               2.0   \n",
       "3              6800.0               2.0           84.0               3.0   \n",
       "4              8098.0               2.0          112.0               1.0   \n",
       "\n",
       "   ponds_nearest  days_exposition  \n",
       "0          755.0              NaN  \n",
       "1            NaN             81.0  \n",
       "2          574.0            558.0  \n",
       "3          234.0            424.0  \n",
       "4           48.0            121.0  \n",
       "\n",
       "[5 rows x 22 columns]"
      ]
     },
     "execution_count": 6,
     "metadata": {},
     "output_type": "execute_result"
    }
   ],
   "source": [
    "print(data.info())\n",
    "data.head()"
   ]
  },
  {
   "cell_type": "markdown",
   "metadata": {},
   "source": [
    "Преобразую тип данных в выбранных столбцах\n",
    "last_price, floors_total, balcony, airports_nearest, cityCenters_nearest, parks_around3000, parks_nearest, ponds_around3000, ponds_nearest, days_exposition - переводим в целочисленный тип (int) (кол-во балконов, прудов, парков и тд - целые числа)\n",
    "first_day_exposition - даты в datetime (для наглядности и понятности дат)\n"
   ]
  },
  {
   "cell_type": "code",
   "execution_count": 7,
   "metadata": {},
   "outputs": [
    {
     "data": {
      "text/html": [
       "<div>\n",
       "<style scoped>\n",
       "    .dataframe tbody tr th:only-of-type {\n",
       "        vertical-align: middle;\n",
       "    }\n",
       "\n",
       "    .dataframe tbody tr th {\n",
       "        vertical-align: top;\n",
       "    }\n",
       "\n",
       "    .dataframe thead th {\n",
       "        text-align: right;\n",
       "    }\n",
       "</style>\n",
       "<table border=\"1\" class=\"dataframe\">\n",
       "  <thead>\n",
       "    <tr style=\"text-align: right;\">\n",
       "      <th></th>\n",
       "      <th>total_images</th>\n",
       "      <th>last_price</th>\n",
       "      <th>total_area</th>\n",
       "      <th>first_day_exposition</th>\n",
       "      <th>rooms</th>\n",
       "      <th>ceiling_height</th>\n",
       "      <th>floors_total</th>\n",
       "      <th>living_area</th>\n",
       "      <th>floor</th>\n",
       "      <th>is_apartment</th>\n",
       "      <th>...</th>\n",
       "      <th>kitchen_area</th>\n",
       "      <th>balcony</th>\n",
       "      <th>locality_name</th>\n",
       "      <th>airports_nearest</th>\n",
       "      <th>cityCenters_nearest</th>\n",
       "      <th>parks_around3000</th>\n",
       "      <th>parks_nearest</th>\n",
       "      <th>ponds_around3000</th>\n",
       "      <th>ponds_nearest</th>\n",
       "      <th>days_exposition</th>\n",
       "    </tr>\n",
       "  </thead>\n",
       "  <tbody>\n",
       "    <tr>\n",
       "      <th>0</th>\n",
       "      <td>20</td>\n",
       "      <td>13000000</td>\n",
       "      <td>108.0</td>\n",
       "      <td>2019-03-07</td>\n",
       "      <td>3</td>\n",
       "      <td>2.70</td>\n",
       "      <td>16.0</td>\n",
       "      <td>51.000000</td>\n",
       "      <td>8</td>\n",
       "      <td>0</td>\n",
       "      <td>...</td>\n",
       "      <td>25.00000</td>\n",
       "      <td>0</td>\n",
       "      <td>Санкт-Петербург</td>\n",
       "      <td>18863.0</td>\n",
       "      <td>16028.0</td>\n",
       "      <td>1.0</td>\n",
       "      <td>482.0</td>\n",
       "      <td>2.0</td>\n",
       "      <td>755.0</td>\n",
       "      <td>NaN</td>\n",
       "    </tr>\n",
       "    <tr>\n",
       "      <th>1</th>\n",
       "      <td>7</td>\n",
       "      <td>3350000</td>\n",
       "      <td>40.4</td>\n",
       "      <td>2018-12-04</td>\n",
       "      <td>1</td>\n",
       "      <td>2.65</td>\n",
       "      <td>11.0</td>\n",
       "      <td>18.600000</td>\n",
       "      <td>1</td>\n",
       "      <td>0</td>\n",
       "      <td>...</td>\n",
       "      <td>11.00000</td>\n",
       "      <td>2</td>\n",
       "      <td>посёлок Шушары</td>\n",
       "      <td>12817.0</td>\n",
       "      <td>18603.0</td>\n",
       "      <td>0.0</td>\n",
       "      <td>NaN</td>\n",
       "      <td>0.0</td>\n",
       "      <td>NaN</td>\n",
       "      <td>81.0</td>\n",
       "    </tr>\n",
       "    <tr>\n",
       "      <th>2</th>\n",
       "      <td>10</td>\n",
       "      <td>5196000</td>\n",
       "      <td>56.0</td>\n",
       "      <td>2015-08-20</td>\n",
       "      <td>2</td>\n",
       "      <td>2.65</td>\n",
       "      <td>5.0</td>\n",
       "      <td>34.300000</td>\n",
       "      <td>4</td>\n",
       "      <td>0</td>\n",
       "      <td>...</td>\n",
       "      <td>8.30000</td>\n",
       "      <td>0</td>\n",
       "      <td>Санкт-Петербург</td>\n",
       "      <td>21741.0</td>\n",
       "      <td>13933.0</td>\n",
       "      <td>1.0</td>\n",
       "      <td>90.0</td>\n",
       "      <td>2.0</td>\n",
       "      <td>574.0</td>\n",
       "      <td>558.0</td>\n",
       "    </tr>\n",
       "    <tr>\n",
       "      <th>3</th>\n",
       "      <td>0</td>\n",
       "      <td>64900000</td>\n",
       "      <td>159.0</td>\n",
       "      <td>2015-07-24</td>\n",
       "      <td>3</td>\n",
       "      <td>2.65</td>\n",
       "      <td>14.0</td>\n",
       "      <td>83.495783</td>\n",
       "      <td>9</td>\n",
       "      <td>0</td>\n",
       "      <td>...</td>\n",
       "      <td>25.17134</td>\n",
       "      <td>0</td>\n",
       "      <td>Санкт-Петербург</td>\n",
       "      <td>28098.0</td>\n",
       "      <td>6800.0</td>\n",
       "      <td>2.0</td>\n",
       "      <td>84.0</td>\n",
       "      <td>3.0</td>\n",
       "      <td>234.0</td>\n",
       "      <td>424.0</td>\n",
       "    </tr>\n",
       "    <tr>\n",
       "      <th>4</th>\n",
       "      <td>2</td>\n",
       "      <td>10000000</td>\n",
       "      <td>100.0</td>\n",
       "      <td>2018-06-19</td>\n",
       "      <td>2</td>\n",
       "      <td>3.03</td>\n",
       "      <td>14.0</td>\n",
       "      <td>32.000000</td>\n",
       "      <td>13</td>\n",
       "      <td>0</td>\n",
       "      <td>...</td>\n",
       "      <td>41.00000</td>\n",
       "      <td>0</td>\n",
       "      <td>Санкт-Петербург</td>\n",
       "      <td>31856.0</td>\n",
       "      <td>8098.0</td>\n",
       "      <td>2.0</td>\n",
       "      <td>112.0</td>\n",
       "      <td>1.0</td>\n",
       "      <td>48.0</td>\n",
       "      <td>121.0</td>\n",
       "    </tr>\n",
       "  </tbody>\n",
       "</table>\n",
       "<p>5 rows × 22 columns</p>\n",
       "</div>"
      ],
      "text/plain": [
       "   total_images  last_price  total_area first_day_exposition  rooms  \\\n",
       "0            20    13000000       108.0           2019-03-07      3   \n",
       "1             7     3350000        40.4           2018-12-04      1   \n",
       "2            10     5196000        56.0           2015-08-20      2   \n",
       "3             0    64900000       159.0           2015-07-24      3   \n",
       "4             2    10000000       100.0           2018-06-19      2   \n",
       "\n",
       "   ceiling_height  floors_total  living_area  floor is_apartment  ...  \\\n",
       "0            2.70          16.0    51.000000      8            0  ...   \n",
       "1            2.65          11.0    18.600000      1            0  ...   \n",
       "2            2.65           5.0    34.300000      4            0  ...   \n",
       "3            2.65          14.0    83.495783      9            0  ...   \n",
       "4            3.03          14.0    32.000000     13            0  ...   \n",
       "\n",
       "   kitchen_area  balcony    locality_name  airports_nearest  \\\n",
       "0      25.00000        0  Санкт-Петербург           18863.0   \n",
       "1      11.00000        2   посёлок Шушары           12817.0   \n",
       "2       8.30000        0  Санкт-Петербург           21741.0   \n",
       "3      25.17134        0  Санкт-Петербург           28098.0   \n",
       "4      41.00000        0  Санкт-Петербург           31856.0   \n",
       "\n",
       "  cityCenters_nearest  parks_around3000  parks_nearest  ponds_around3000  \\\n",
       "0             16028.0               1.0          482.0               2.0   \n",
       "1             18603.0               0.0            NaN               0.0   \n",
       "2             13933.0               1.0           90.0               2.0   \n",
       "3              6800.0               2.0           84.0               3.0   \n",
       "4              8098.0               2.0          112.0               1.0   \n",
       "\n",
       "   ponds_nearest  days_exposition  \n",
       "0          755.0              NaN  \n",
       "1            NaN             81.0  \n",
       "2          574.0            558.0  \n",
       "3          234.0            424.0  \n",
       "4           48.0            121.0  \n",
       "\n",
       "[5 rows x 22 columns]"
      ]
     },
     "execution_count": 7,
     "metadata": {},
     "output_type": "execute_result"
    }
   ],
   "source": [
    "data['first_day_exposition'] = pd.to_datetime(data['first_day_exposition'], format='%Y-%m-%dT%H:%M:%S') #изменяю формат дат\n",
    "\n",
    "float_to_int = ['last_price', 'floors_total', 'balcony', 'airports_nearest', 'cityCenters_nearest', 'parks_around3000',\n",
    "               'parks_nearest', 'ponds_around3000', 'ponds_nearest', 'days_exposition']\n",
    "for column in float_to_int:\n",
    "    data[column] = data[data[column].notnull()][column].astype('int')\n",
    "data.head()\n"
   ]
  },
  {
   "cell_type": "markdown",
   "metadata": {},
   "source": [
    "Неявные дубликаты: одинаковые названия городов и областей, написанные по-разному."
   ]
  },
  {
   "cell_type": "code",
   "execution_count": 8,
   "metadata": {},
   "outputs": [
    {
     "data": {
      "text/plain": [
       "365"
      ]
     },
     "execution_count": 8,
     "metadata": {},
     "output_type": "execute_result"
    }
   ],
   "source": [
    "len(data['locality_name'].unique())\n"
   ]
  },
  {
   "cell_type": "code",
   "execution_count": 9,
   "metadata": {},
   "outputs": [
    {
     "data": {
      "text/plain": [
       "328"
      ]
     },
     "execution_count": 9,
     "metadata": {},
     "output_type": "execute_result"
    }
   ],
   "source": [
    "data['locality_name'] = (\n",
    "    data['locality_name']\n",
    "    .str.replace('ё', 'е')\n",
    "    .replace(['поселок Мурино'], 'Мурино', regex=True)\n",
    "    .replace(['поселок городского типа Рябово'], 'поселок Рябово', regex=True)\n",
    "    .replace(['деревня Кудрово'], 'Кудрово', regex=True)\n",
    ") \n",
    "len(data['locality_name'].unique())"
   ]
  },
  
  {
   "cell_type": "markdown",
   "metadata": {
    "id": "QCcvyY6YAwb-"
   },
   "source": [
    "### Добавьте в таблицу новые столбцы"
   ]
  },
  {
   "cell_type": "code",
   "execution_count": 10,
   "metadata": {
    "id": "Z8eJek3IAwb-"
   },
   "outputs": [
    {
     "name": "stdout",
     "output_type": "stream",
     "text": [
      "   total_images  last_price  total_area first_day_exposition  rooms  \\\n",
      "0            20    13000000       108.0           2019-03-07      3   \n",
      "1             7     3350000        40.4           2018-12-04      1   \n",
      "2            10     5196000        56.0           2015-08-20      2   \n",
      "3             0    64900000       159.0           2015-07-24      3   \n",
      "4             2    10000000       100.0           2018-06-19      2   \n",
      "\n",
      "   ceiling_height  floors_total  living_area  floor is_apartment  ...  \\\n",
      "0            2.70          16.0    51.000000      8            0  ...   \n",
      "1            2.65          11.0    18.600000      1            0  ...   \n",
      "2            2.65           5.0    34.300000      4            0  ...   \n",
      "3            2.65          14.0    83.495783      9            0  ...   \n",
      "4            3.03          14.0    32.000000     13            0  ...   \n",
      "\n",
      "   parks_nearest  ponds_around3000  ponds_nearest  days_exposition  \\\n",
      "0          482.0               2.0          755.0              NaN   \n",
      "1            NaN               0.0            NaN             81.0   \n",
      "2           90.0               2.0          574.0            558.0   \n",
      "3           84.0               3.0          234.0            424.0   \n",
      "4          112.0               1.0           48.0            121.0   \n",
      "\n",
      "  price_of_sqrm  month  year          day  floor_type  cityCenters_nearest_km  \n",
      "0     120370.37      3  2019  воскресенье      другой                    16.0  \n",
      "1      82920.79     12  2018      четверг      первый                    19.0  \n",
      "2      92785.71      8  2015      суббота      другой                    14.0  \n",
      "3     408176.10      7  2015        среда      другой                     7.0  \n",
      "4     100000.00      6  2018      пятница      другой                     8.0  \n",
      "\n",
      "[5 rows x 28 columns]\n"
     ]
    }
   ],
   "source": [
    "data['price_of_sqrm'] = data['last_price']/data['total_area'] #цена одного квадратного метра\n",
    "data['price_of_sqrm'] = data['price_of_sqrm'].round(2)\n",
    "#---\n",
    "data['first_day_exposition'] = pd.to_datetime( #месяц публикации объявления;\n",
    "    data['first_day_exposition'], format='%Y-%m-%dT%H:%M:%S'\n",
    ")\n",
    "data['month'] = pd.DatetimeIndex(data['first_day_exposition']).month\n",
    "#---\n",
    "data['first_day_exposition'] = pd.to_datetime( #год публикации объявления;\n",
    "    data['first_day_exposition'], format='%Y-%m-%dT%H:%M:%S'\n",
    ")\n",
    "data['year'] = pd.DatetimeIndex(data['first_day_exposition']).year\n",
    "#---\n",
    "data['first_day_exposition'] = pd.to_datetime( #день публикации объявления;\n",
    "    data['first_day_exposition'], format='%Y-%m-%dT%H:%M:%S'\n",
    ")\n",
    "data['day'] = pd.DatetimeIndex(data['first_day_exposition']).day\n",
    "\n",
    "dict_of_weekdays = {1: 'понедельник', 2: 'вторник', 3: 'среда', 4: 'четверг', 5: 'пятница', 6: 'суббота',\n",
    "7: 'воскресенье', 8: 'понедельник', 9: 'вторник', 10: 'среда', 11: 'четверг', 12: 'пятница', 13: 'суббота', \n",
    "14: 'воскресенье', 15: 'понедельник', 16: 'вторник', 17: 'среда', 18: 'четверг', 19: 'пятница', 20: 'суббота', \n",
    "21: 'воскресенье', 22: 'понедельник', 23: 'вторник', 24: 'среда', 25: 'четверг', 26: 'пятница', 27: 'суббота', \n",
    "28: 'воскресенье', 29: 'понедельник', 30: 'вторник', 31: 'среда'}\n",
    "data['day'] = data['day'].map(dict_of_weekdays)\n",
    "\n",
    "#---\n",
    "data['floor_type'] = np.where(data['floor'] == 1, 'первый', 'другой') #тип этажа\n",
    "data['floor_type'] = np.where(data['floor'] == data['floors_total'], 'последний', data['floor_type'])\n",
    "\n",
    "#---\n",
    "data['cityCenters_nearest_km'] = data['cityCenters_nearest']/1000 #расстояние до центра города в километрах\n",
    "data['cityCenters_nearest_km'] = data['cityCenters_nearest_km'].round()\n",
    "\n",
    "\n",
    "print(data.head())\n",
    "\n",
    "\n",
    "\n"
   ]
  },

  {
   "cell_type": "markdown",
   "metadata": {
    "id": "pPyxrKWTAwb-"
   },
   "source": [
    "### Проведите исследовательский анализ данных"
   ]
  },
  {
   "cell_type": "code",
   "execution_count": 11,
   "metadata": {
    "id": "V2f0D3kLAwb-"
   },
   "outputs": [
    {
     "data": {
      "text/html": [
       "<div>\n",
       "<style scoped>\n",
       "    .dataframe tbody tr th:only-of-type {\n",
       "        vertical-align: middle;\n",
       "    }\n",
       "\n",
       "    .dataframe tbody tr th {\n",
       "        vertical-align: top;\n",
       "    }\n",
       "\n",
       "    .dataframe thead th {\n",
       "        text-align: right;\n",
       "    }\n",
       "</style>\n",
       "<table border=\"1\" class=\"dataframe\">\n",
       "  <thead>\n",
       "    <tr style=\"text-align: right;\">\n",
       "      <th></th>\n",
       "      <th>ceiling_height</th>\n",
       "    </tr>\n",
       "  </thead>\n",
       "  <tbody>\n",
       "    <tr>\n",
       "      <th>count</th>\n",
       "      <td>23699.000000</td>\n",
       "    </tr>\n",
       "    <tr>\n",
       "      <th>mean</th>\n",
       "      <td>2.724358</td>\n",
       "    </tr>\n",
       "    <tr>\n",
       "      <th>std</th>\n",
       "      <td>0.988298</td>\n",
       "    </tr>\n",
       "    <tr>\n",
       "      <th>min</th>\n",
       "      <td>1.000000</td>\n",
       "    </tr>\n",
       "    <tr>\n",
       "      <th>25%</th>\n",
       "      <td>2.600000</td>\n",
       "    </tr>\n",
       "    <tr>\n",
       "      <th>50%</th>\n",
       "      <td>2.650000</td>\n",
       "    </tr>\n",
       "    <tr>\n",
       "      <th>75%</th>\n",
       "      <td>2.700000</td>\n",
       "    </tr>\n",
       "    <tr>\n",
       "      <th>max</th>\n",
       "      <td>100.000000</td>\n",
       "    </tr>\n",
       "  </tbody>\n",
       "</table>\n",
       "</div>"
      ],
      "text/plain": [
       "       ceiling_height\n",
       "count    23699.000000\n",
       "mean         2.724358\n",
       "std          0.988298\n",
       "min          1.000000\n",
       "25%          2.600000\n",
       "50%          2.650000\n",
       "75%          2.700000\n",
       "max        100.000000"
      ]
     },
     "execution_count": 11,
     "metadata": {},
     "output_type": "execute_result"
    },
    {
     "data": {
      "image/png": "[encoded data removed]",
      "text/plain": [
       "<Figure size 432x288 with 1 Axes>"
      ]
     },
     "metadata": {
      "needs_background": "light"
     },
     "output_type": "display_data"
    }
   ],
   "source": [
    "plt.ylim(-1, 35)\n",
    "data.boxplot(column='ceiling_height')\n",
    "data[['ceiling_height']].describe()"
   ]
  },
  {
   "cell_type": "markdown",
   "metadata": {},
   "source": [
    "Видно, что есть выбросы, вероятно потолки выше 6м случайно записали целым а не вещественным значением (32м > 3,2м), \n",
    "заменим эти значения, так же существуют потолки 1 м, чего быть не может, потавим ограничение >= 2м."
   ]
  },
  {
   "cell_type": "code",
   "execution_count": 12,
   "metadata": {},
   "outputs": [
    {
     "data": {
      "text/html": [
       "<div>\n",
       "<style scoped>\n",
       "    .dataframe tbody tr th:only-of-type {\n",
       "        vertical-align: middle;\n",
       "    }\n",
       "\n",
       "    .dataframe tbody tr th {\n",
       "        vertical-align: top;\n",
       "    }\n",
       "\n",
       "    .dataframe thead th {\n",
       "        text-align: right;\n",
       "    }\n",
       "</style>\n",
       "<table border=\"1\" class=\"dataframe\">\n",
       "  <thead>\n",
       "    <tr style=\"text-align: right;\">\n",
       "      <th></th>\n",
       "      <th>ceiling_height</th>\n",
       "    </tr>\n",
       "  </thead>\n",
       "  <tbody>\n",
       "    <tr>\n",
       "      <th>count</th>\n",
       "      <td>23696.000000</td>\n",
       "    </tr>\n",
       "    <tr>\n",
       "      <th>mean</th>\n",
       "      <td>2.724537</td>\n",
       "    </tr>\n",
       "    <tr>\n",
       "      <th>std</th>\n",
       "      <td>0.988228</td>\n",
       "    </tr>\n",
       "    <tr>\n",
       "      <th>min</th>\n",
       "      <td>2.000000</td>\n",
       "    </tr>\n",
       "    <tr>\n",
       "      <th>25%</th>\n",
       "      <td>2.600000</td>\n",
       "    </tr>\n",
       "    <tr>\n",
       "      <th>50%</th>\n",
       "      <td>2.650000</td>\n",
       "    </tr>\n",
       "    <tr>\n",
       "      <th>75%</th>\n",
       "      <td>2.700000</td>\n",
       "    </tr>\n",
       "    <tr>\n",
       "      <th>max</th>\n",
       "      <td>100.000000</td>\n",
       "    </tr>\n",
       "  </tbody>\n",
       "</table>\n",
       "</div>"
      ],
      "text/plain": [
       "       ceiling_height\n",
       "count    23696.000000\n",
       "mean         2.724537\n",
       "std          0.988228\n",
       "min          2.000000\n",
       "25%          2.600000\n",
       "50%          2.650000\n",
       "75%          2.700000\n",
       "max        100.000000"
      ]
     },
     "execution_count": 12,
     "metadata": {},
     "output_type": "execute_result"
    }
   ],
   "source": [
    "data['ceiling_height'] = pd.to_numeric(data['ceiling_height'])\n",
    "\n",
    "data = data.loc[data['ceiling_height'] >= 2] #удаляем строки с высотой потолков меньше 2, так как скорее всего это ошибка в данных\n",
    "data[['ceiling_height']].describe()"
   ]
  },
  {
   "cell_type": "code",
   "execution_count": 13,
   "metadata": {},
   "outputs": [
    {
     "data": {
      "text/html": [
       "<div>\n",
       "<style scoped>\n",
       "    .dataframe tbody tr th:only-of-type {\n",
       "        vertical-align: middle;\n",
       "    }\n",
       "\n",
       "    .dataframe tbody tr th {\n",
       "        vertical-align: top;\n",
       "    }\n",
       "\n",
       "    .dataframe thead th {\n",
       "        text-align: right;\n",
       "    }\n",
       "</style>\n",
       "<table border=\"1\" class=\"dataframe\">\n",
       "  <thead>\n",
       "    <tr style=\"text-align: right;\">\n",
       "      <th></th>\n",
       "      <th>total_images</th>\n",
       "      <th>last_price</th>\n",
       "      <th>total_area</th>\n",
       "      <th>first_day_exposition</th>\n",
       "      <th>rooms</th>\n",
       "      <th>ceiling_height</th>\n",
       "      <th>floors_total</th>\n",
       "      <th>living_area</th>\n",
       "      <th>floor</th>\n",
       "      <th>is_apartment</th>\n",
       "      <th>...</th>\n",
       "      <th>parks_nearest</th>\n",
       "      <th>ponds_around3000</th>\n",
       "      <th>ponds_nearest</th>\n",
       "      <th>days_exposition</th>\n",
       "      <th>price_of_sqrm</th>\n",
       "      <th>month</th>\n",
       "      <th>year</th>\n",
       "      <th>day</th>\n",
       "      <th>floor_type</th>\n",
       "      <th>cityCenters_nearest_km</th>\n",
       "    </tr>\n",
       "  </thead>\n",
       "  <tbody>\n",
       "    <tr>\n",
       "      <th>0</th>\n",
       "      <td>20</td>\n",
       "      <td>13000000</td>\n",
       "      <td>108.00</td>\n",
       "      <td>2019-03-07</td>\n",
       "      <td>3</td>\n",
       "      <td>2.70</td>\n",
       "      <td>16.0</td>\n",
       "      <td>51.000000</td>\n",
       "      <td>8</td>\n",
       "      <td>0</td>\n",
       "      <td>...</td>\n",
       "      <td>482.0</td>\n",
       "      <td>2.0</td>\n",
       "      <td>755.0</td>\n",
       "      <td>NaN</td>\n",
       "      <td>120370.37</td>\n",
       "      <td>3</td>\n",
       "      <td>2019</td>\n",
       "      <td>воскресенье</td>\n",
       "      <td>другой</td>\n",
       "      <td>16.0</td>\n",
       "    </tr>\n",
       "    <tr>\n",
       "      <th>1</th>\n",
       "      <td>7</td>\n",
       "      <td>3350000</td>\n",
       "      <td>40.40</td>\n",
       "      <td>2018-12-04</td>\n",
       "      <td>1</td>\n",
       "      <td>2.65</td>\n",
       "      <td>11.0</td>\n",
       "      <td>18.600000</td>\n",
       "      <td>1</td>\n",
       "      <td>0</td>\n",
       "      <td>...</td>\n",
       "      <td>NaN</td>\n",
       "      <td>0.0</td>\n",
       "      <td>NaN</td>\n",
       "      <td>81.0</td>\n",
       "      <td>82920.79</td>\n",
       "      <td>12</td>\n",
       "      <td>2018</td>\n",
       "      <td>четверг</td>\n",
       "      <td>первый</td>\n",
       "      <td>19.0</td>\n",
       "    </tr>\n",
       "    <tr>\n",
       "      <th>2</th>\n",
       "      <td>10</td>\n",
       "      <td>5196000</td>\n",
       "      <td>56.00</td>\n",
       "      <td>2015-08-20</td>\n",
       "      <td>2</td>\n",
       "      <td>2.65</td>\n",
       "      <td>5.0</td>\n",
       "      <td>34.300000</td>\n",
       "      <td>4</td>\n",
       "      <td>0</td>\n",
       "      <td>...</td>\n",
       "      <td>90.0</td>\n",
       "      <td>2.0</td>\n",
       "      <td>574.0</td>\n",
       "      <td>558.0</td>\n",
       "      <td>92785.71</td>\n",
       "      <td>8</td>\n",
       "      <td>2015</td>\n",
       "      <td>суббота</td>\n",
       "      <td>другой</td>\n",
       "      <td>14.0</td>\n",
       "    </tr>\n",
       "    <tr>\n",
       "      <th>3</th>\n",
       "      <td>0</td>\n",
       "      <td>64900000</td>\n",
       "      <td>159.00</td>\n",
       "      <td>2015-07-24</td>\n",
       "      <td>3</td>\n",
       "      <td>2.65</td>\n",
       "      <td>14.0</td>\n",
       "      <td>83.495783</td>\n",
       "      <td>9</td>\n",
       "      <td>0</td>\n",
       "      <td>...</td>\n",
       "      <td>84.0</td>\n",
       "      <td>3.0</td>\n",
       "      <td>234.0</td>\n",
       "      <td>424.0</td>\n",
       "      <td>408176.10</td>\n",
       "      <td>7</td>\n",
       "      <td>2015</td>\n",
       "      <td>среда</td>\n",
       "      <td>другой</td>\n",
       "      <td>7.0</td>\n",
       "    </tr>\n",
       "    <tr>\n",
       "      <th>4</th>\n",
       "      <td>2</td>\n",
       "      <td>10000000</td>\n",
       "      <td>100.00</td>\n",
       "      <td>2018-06-19</td>\n",
       "      <td>2</td>\n",
       "      <td>3.03</td>\n",
       "      <td>14.0</td>\n",
       "      <td>32.000000</td>\n",
       "      <td>13</td>\n",
       "      <td>0</td>\n",
       "      <td>...</td>\n",
       "      <td>112.0</td>\n",
       "      <td>1.0</td>\n",
       "      <td>48.0</td>\n",
       "      <td>121.0</td>\n",
       "      <td>100000.00</td>\n",
       "      <td>6</td>\n",
       "      <td>2018</td>\n",
       "      <td>пятница</td>\n",
       "      <td>другой</td>\n",
       "      <td>8.0</td>\n",
       "    </tr>\n",
       "    <tr>\n",
       "      <th>...</th>\n",
       "      <td>...</td>\n",
       "      <td>...</td>\n",
       "      <td>...</td>\n",
       "      <td>...</td>\n",
       "      <td>...</td>\n",
       "      <td>...</td>\n",
       "      <td>...</td>\n",
       "      <td>...</td>\n",
       "      <td>...</td>\n",
       "      <td>...</td>\n",
       "      <td>...</td>\n",
       "      <td>...</td>\n",
       "      <td>...</td>\n",
       "      <td>...</td>\n",
       "      <td>...</td>\n",
       "      <td>...</td>\n",
       "      <td>...</td>\n",
       "      <td>...</td>\n",
       "      <td>...</td>\n",
       "      <td>...</td>\n",
       "      <td>...</td>\n",
       "    </tr>\n",
       "    <tr>\n",
       "      <th>23694</th>\n",
       "      <td>9</td>\n",
       "      <td>9700000</td>\n",
       "      <td>133.81</td>\n",
       "      <td>2017-03-21</td>\n",
       "      <td>3</td>\n",
       "      <td>3.70</td>\n",
       "      <td>5.0</td>\n",
       "      <td>73.300000</td>\n",
       "      <td>3</td>\n",
       "      <td>0</td>\n",
       "      <td>...</td>\n",
       "      <td>796.0</td>\n",
       "      <td>3.0</td>\n",
       "      <td>381.0</td>\n",
       "      <td>NaN</td>\n",
       "      <td>72490.85</td>\n",
       "      <td>3</td>\n",
       "      <td>2017</td>\n",
       "      <td>воскресенье</td>\n",
       "      <td>другой</td>\n",
       "      <td>4.0</td>\n",
       "    </tr>\n",
       "    <tr>\n",
       "      <th>23695</th>\n",
       "      <td>14</td>\n",
       "      <td>3100000</td>\n",
       "      <td>59.00</td>\n",
       "      <td>2018-01-15</td>\n",
       "      <td>3</td>\n",
       "      <td>2.65</td>\n",
       "      <td>5.0</td>\n",
       "      <td>38.000000</td>\n",
       "      <td>4</td>\n",
       "      <td>0</td>\n",
       "      <td>...</td>\n",
       "      <td>NaN</td>\n",
       "      <td>NaN</td>\n",
       "      <td>NaN</td>\n",
       "      <td>45.0</td>\n",
       "      <td>52542.37</td>\n",
       "      <td>1</td>\n",
       "      <td>2018</td>\n",
       "      <td>понедельник</td>\n",
       "      <td>другой</td>\n",
       "      <td>NaN</td>\n",
       "    </tr>\n",
       "    <tr>\n",
       "      <th>23696</th>\n",
       "      <td>18</td>\n",
       "      <td>2500000</td>\n",
       "      <td>56.70</td>\n",
       "      <td>2018-02-11</td>\n",
       "      <td>2</td>\n",
       "      <td>2.65</td>\n",
       "      <td>3.0</td>\n",
       "      <td>29.700000</td>\n",
       "      <td>1</td>\n",
       "      <td>0</td>\n",
       "      <td>...</td>\n",
       "      <td>NaN</td>\n",
       "      <td>NaN</td>\n",
       "      <td>NaN</td>\n",
       "      <td>NaN</td>\n",
       "      <td>44091.71</td>\n",
       "      <td>2</td>\n",
       "      <td>2018</td>\n",
       "      <td>четверг</td>\n",
       "      <td>первый</td>\n",
       "      <td>NaN</td>\n",
       "    </tr>\n",
       "    <tr>\n",
       "      <th>23697</th>\n",
       "      <td>13</td>\n",
       "      <td>11475000</td>\n",
       "      <td>76.75</td>\n",
       "      <td>2017-03-28</td>\n",
       "      <td>2</td>\n",
       "      <td>3.00</td>\n",
       "      <td>17.0</td>\n",
       "      <td>40.303782</td>\n",
       "      <td>12</td>\n",
       "      <td>0</td>\n",
       "      <td>...</td>\n",
       "      <td>173.0</td>\n",
       "      <td>3.0</td>\n",
       "      <td>196.0</td>\n",
       "      <td>602.0</td>\n",
       "      <td>149511.40</td>\n",
       "      <td>3</td>\n",
       "      <td>2017</td>\n",
       "      <td>воскресенье</td>\n",
       "      <td>другой</td>\n",
       "      <td>10.0</td>\n",
       "    </tr>\n",
       "    <tr>\n",
       "      <th>23698</th>\n",
       "      <td>4</td>\n",
       "      <td>1350000</td>\n",
       "      <td>32.30</td>\n",
       "      <td>2017-07-21</td>\n",
       "      <td>1</td>\n",
       "      <td>2.50</td>\n",
       "      <td>5.0</td>\n",
       "      <td>12.300000</td>\n",
       "      <td>1</td>\n",
       "      <td>0</td>\n",
       "      <td>...</td>\n",
       "      <td>NaN</td>\n",
       "      <td>NaN</td>\n",
       "      <td>NaN</td>\n",
       "      <td>NaN</td>\n",
       "      <td>41795.67</td>\n",
       "      <td>7</td>\n",
       "      <td>2017</td>\n",
       "      <td>воскресенье</td>\n",
       "      <td>первый</td>\n",
       "      <td>NaN</td>\n",
       "    </tr>\n",
       "  </tbody>\n",
       "</table>\n",
       "<p>23696 rows × 28 columns</p>\n",
       "</div>"
      ],
      "text/plain": [
       "       total_images  last_price  total_area first_day_exposition  rooms  \\\n",
       "0                20    13000000      108.00           2019-03-07      3   \n",
       "1                 7     3350000       40.40           2018-12-04      1   \n",
       "2                10     5196000       56.00           2015-08-20      2   \n",
       "3                 0    64900000      159.00           2015-07-24      3   \n",
       "4                 2    10000000      100.00           2018-06-19      2   \n",
       "...             ...         ...         ...                  ...    ...   \n",
       "23694             9     9700000      133.81           2017-03-21      3   \n",
       "23695            14     3100000       59.00           2018-01-15      3   \n",
       "23696            18     2500000       56.70           2018-02-11      2   \n",
       "23697            13    11475000       76.75           2017-03-28      2   \n",
       "23698             4     1350000       32.30           2017-07-21      1   \n",
       "\n",
       "       ceiling_height  floors_total  living_area  floor is_apartment  ...  \\\n",
       "0                2.70          16.0    51.000000      8            0  ...   \n",
       "1                2.65          11.0    18.600000      1            0  ...   \n",
       "2                2.65           5.0    34.300000      4            0  ...   \n",
       "3                2.65          14.0    83.495783      9            0  ...   \n",
       "4                3.03          14.0    32.000000     13            0  ...   \n",
       "...               ...           ...          ...    ...          ...  ...   \n",
       "23694            3.70           5.0    73.300000      3            0  ...   \n",
       "23695            2.65           5.0    38.000000      4            0  ...   \n",
       "23696            2.65           3.0    29.700000      1            0  ...   \n",
       "23697            3.00          17.0    40.303782     12            0  ...   \n",
       "23698            2.50           5.0    12.300000      1            0  ...   \n",
       "\n",
       "       parks_nearest  ponds_around3000  ponds_nearest  days_exposition  \\\n",
       "0              482.0               2.0          755.0              NaN   \n",
       "1                NaN               0.0            NaN             81.0   \n",
       "2               90.0               2.0          574.0            558.0   \n",
       "3               84.0               3.0          234.0            424.0   \n",
       "4              112.0               1.0           48.0            121.0   \n",
       "...              ...               ...            ...              ...   \n",
       "23694          796.0               3.0          381.0              NaN   \n",
       "23695            NaN               NaN            NaN             45.0   \n",
       "23696            NaN               NaN            NaN              NaN   \n",
       "23697          173.0               3.0          196.0            602.0   \n",
       "23698            NaN               NaN            NaN              NaN   \n",
       "\n",
       "      price_of_sqrm  month  year          day  floor_type  \\\n",
       "0         120370.37      3  2019  воскресенье      другой   \n",
       "1          82920.79     12  2018      четверг      первый   \n",
       "2          92785.71      8  2015      суббота      другой   \n",
       "3         408176.10      7  2015        среда      другой   \n",
       "4         100000.00      6  2018      пятница      другой   \n",
       "...             ...    ...   ...          ...         ...   \n",
       "23694      72490.85      3  2017  воскресенье      другой   \n",
       "23695      52542.37      1  2018  понедельник      другой   \n",
       "23696      44091.71      2  2018      четверг      первый   \n",
       "23697     149511.40      3  2017  воскресенье      другой   \n",
       "23698      41795.67      7  2017  воскресенье      первый   \n",
       "\n",
       "       cityCenters_nearest_km  \n",
       "0                        16.0  \n",
       "1                        19.0  \n",
       "2                        14.0  \n",
       "3                         7.0  \n",
       "4                         8.0  \n",
       "...                       ...  \n",
       "23694                     4.0  \n",
       "23695                     NaN  \n",
       "23696                     NaN  \n",
       "23697                    10.0  \n",
       "23698                     NaN  \n",
       "\n",
       "[23696 rows x 28 columns]"
      ]
     },
     "execution_count": 13,
     "metadata": {},
     "output_type": "execute_result"
    }
   ],
   "source": [
    "data"
   ]
  },
  {
   "cell_type": "code",
   "execution_count": 14,
   "metadata": {},
   "outputs": [
    {
     "data": {
      "text/plain": [
       "<AxesSubplot:>"
      ]
     },
     "execution_count": 14,
     "metadata": {},
     "output_type": "execute_result"
    },
    {
     "data": {
      "image/png": "[encoded data removed]",
      "text/plain": [
       "<Figure size 432x288 with 1 Axes>"
      ]
     },
     "metadata": {
      "needs_background": "light"
     },
     "output_type": "display_data"
    }
   ],
   "source": [
    "\n",
    "def hieght_fnc(row):\n",
    "    hieght = row['ceiling_height']\n",
    "    if 20 <= hieght <= 40:\n",
    "        return hieght/10\n",
    "    if 4 < hieght < 20:\n",
    "        return med\n",
    "    if hieght > 40:\n",
    "        return med\n",
    "    else:\n",
    "        return  hieght\n",
    "data['ceiling_height'] = data.apply(hieght_fnc, axis=1)\n",
    "data[['ceiling_height']].describe()\n",
    "data.boxplot(column='ceiling_height')\n"
   ]
  },
  {
   "cell_type": "markdown",
   "metadata": {},
   "source": [
    "Данной функцией я изманила высоту потолков, тк 3-4 м - предельная высота потолков, и ошибка могла произойти лишь в случае 20-40м (хотели написать вещественное число), в остальных случаях нереальную высоту я заменила на медиану.\n",
    "По ящику с усами, можно заметить, что от выбросов я избавилась."
   ]
  },
  {
   "cell_type": "code",
   "execution_count": 15,
   "metadata": {},
   "outputs": [
    {
     "data": {
      "text/html": [
       "<div>\n",
       "<style scoped>\n",
       "    .dataframe tbody tr th:only-of-type {\n",
       "        vertical-align: middle;\n",
       "    }\n",
       "\n",
       "    .dataframe tbody tr th {\n",
       "        vertical-align: top;\n",
       "    }\n",
       "\n",
       "    .dataframe thead th {\n",
       "        text-align: right;\n",
       "    }\n",
       "</style>\n",
       "<table border=\"1\" class=\"dataframe\">\n",
       "  <thead>\n",
       "    <tr style=\"text-align: right;\">\n",
       "      <th></th>\n",
       "      <th>total_area</th>\n",
       "    </tr>\n",
       "  </thead>\n",
       "  <tbody>\n",
       "    <tr>\n",
       "      <th>count</th>\n",
       "      <td>23696.000000</td>\n",
       "    </tr>\n",
       "    <tr>\n",
       "      <th>mean</th>\n",
       "      <td>60.350476</td>\n",
       "    </tr>\n",
       "    <tr>\n",
       "      <th>std</th>\n",
       "      <td>35.655896</td>\n",
       "    </tr>\n",
       "    <tr>\n",
       "      <th>min</th>\n",
       "      <td>12.000000</td>\n",
       "    </tr>\n",
       "    <tr>\n",
       "      <th>25%</th>\n",
       "      <td>40.000000</td>\n",
       "    </tr>\n",
       "    <tr>\n",
       "      <th>50%</th>\n",
       "      <td>52.000000</td>\n",
       "    </tr>\n",
       "    <tr>\n",
       "      <th>75%</th>\n",
       "      <td>69.900000</td>\n",
       "    </tr>\n",
       "    <tr>\n",
       "      <th>max</th>\n",
       "      <td>900.000000</td>\n",
       "    </tr>\n",
       "  </tbody>\n",
       "</table>\n",
       "</div>"
      ],
      "text/plain": [
       "         total_area\n",
       "count  23696.000000\n",
       "mean      60.350476\n",
       "std       35.655896\n",
       "min       12.000000\n",
       "25%       40.000000\n",
       "50%       52.000000\n",
       "75%       69.900000\n",
       "max      900.000000"
      ]
     },
     "execution_count": 15,
     "metadata": {},
     "output_type": "execute_result"
    },
    {
     "data": {
      "image/png": "[encoded data removed]",
      "text/plain": [
       "<Figure size 432x288 with 1 Axes>"
      ]
     },
     "metadata": {
      "needs_background": "light"
     },
     "output_type": "display_data"
    }
   ],
   "source": [
    "\n",
    "data.boxplot(column='total_area')\n",
    "data[['total_area']].describe()"
   ]
  },
  {
   "cell_type": "markdown",
   "metadata": {},
   "source": [
    "Выброс в 900 м^2 кажется странным, похоже на ошибку ввода, удалим эту строку."
   ]
  },
  {
   "cell_type": "code",
   "execution_count": 16,
   "metadata": {},
   "outputs": [
    {
     "data": {
      "text/html": [
       "<div>\n",
       "<style scoped>\n",
       "    .dataframe tbody tr th:only-of-type {\n",
       "        vertical-align: middle;\n",
       "    }\n",
       "\n",
       "    .dataframe tbody tr th {\n",
       "        vertical-align: top;\n",
       "    }\n",
       "\n",
       "    .dataframe thead th {\n",
       "        text-align: right;\n",
       "    }\n",
       "</style>\n",
       "<table border=\"1\" class=\"dataframe\">\n",
       "  <thead>\n",
       "    <tr style=\"text-align: right;\">\n",
       "      <th></th>\n",
       "      <th>total_area</th>\n",
       "    </tr>\n",
       "  </thead>\n",
       "  <tbody>\n",
       "    <tr>\n",
       "      <th>count</th>\n",
       "      <td>23695.000000</td>\n",
       "    </tr>\n",
       "    <tr>\n",
       "      <th>mean</th>\n",
       "      <td>60.315040</td>\n",
       "    </tr>\n",
       "    <tr>\n",
       "      <th>std</th>\n",
       "      <td>35.236919</td>\n",
       "    </tr>\n",
       "    <tr>\n",
       "      <th>min</th>\n",
       "      <td>12.000000</td>\n",
       "    </tr>\n",
       "    <tr>\n",
       "      <th>25%</th>\n",
       "      <td>40.000000</td>\n",
       "    </tr>\n",
       "    <tr>\n",
       "      <th>50%</th>\n",
       "      <td>52.000000</td>\n",
       "    </tr>\n",
       "    <tr>\n",
       "      <th>75%</th>\n",
       "      <td>69.900000</td>\n",
       "    </tr>\n",
       "    <tr>\n",
       "      <th>max</th>\n",
       "      <td>631.200000</td>\n",
       "    </tr>\n",
       "  </tbody>\n",
       "</table>\n",
       "</div>"
      ],
      "text/plain": [
       "         total_area\n",
       "count  23695.000000\n",
       "mean      60.315040\n",
       "std       35.236919\n",
       "min       12.000000\n",
       "25%       40.000000\n",
       "50%       52.000000\n",
       "75%       69.900000\n",
       "max      631.200000"
      ]
     },
     "execution_count": 16,
     "metadata": {},
     "output_type": "execute_result"
    }
   ],
   "source": [
    "data['total_area'] = pd.to_numeric(data['total_area'])\n",
    "\n",
    "data = data.loc[data['total_area'] < 900] \n",
    "data[['total_area']].describe()"
   ]
  },
  {
   "cell_type": "markdown",
   "metadata": {},
   "source": [
    "Общая площадь от 12 до 631 м^2, что вполне возможно, большие площади элитных жк или коммунальные квартиры, а маленькие в однушках и студиях."
   ]
  },
  {
   "cell_type": "code",
   "execution_count": 17,
   "metadata": {},
   "outputs": [
    {
     "data": {
      "text/html": [
       "<div>\n",
       "<style scoped>\n",
       "    .dataframe tbody tr th:only-of-type {\n",
       "        vertical-align: middle;\n",
       "    }\n",
       "\n",
       "    .dataframe tbody tr th {\n",
       "        vertical-align: top;\n",
       "    }\n",
       "\n",
       "    .dataframe thead th {\n",
       "        text-align: right;\n",
       "    }\n",
       "</style>\n",
       "<table border=\"1\" class=\"dataframe\">\n",
       "  <thead>\n",
       "    <tr style=\"text-align: right;\">\n",
       "      <th></th>\n",
       "      <th>living_area</th>\n",
       "    </tr>\n",
       "  </thead>\n",
       "  <tbody>\n",
       "    <tr>\n",
       "      <th>count</th>\n",
       "      <td>23695.000000</td>\n",
       "    </tr>\n",
       "    <tr>\n",
       "      <th>mean</th>\n",
       "      <td>34.346205</td>\n",
       "    </tr>\n",
       "    <tr>\n",
       "      <th>std</th>\n",
       "      <td>22.035323</td>\n",
       "    </tr>\n",
       "    <tr>\n",
       "      <th>min</th>\n",
       "      <td>2.000000</td>\n",
       "    </tr>\n",
       "    <tr>\n",
       "      <th>25%</th>\n",
       "      <td>18.904706</td>\n",
       "    </tr>\n",
       "    <tr>\n",
       "      <th>50%</th>\n",
       "      <td>30.000000</td>\n",
       "    </tr>\n",
       "    <tr>\n",
       "      <th>75%</th>\n",
       "      <td>42.000000</td>\n",
       "    </tr>\n",
       "    <tr>\n",
       "      <th>max</th>\n",
       "      <td>409.000000</td>\n",
       "    </tr>\n",
       "  </tbody>\n",
       "</table>\n",
       "</div>"
      ],
      "text/plain": [
       "        living_area\n",
       "count  23695.000000\n",
       "mean      34.346205\n",
       "std       22.035323\n",
       "min        2.000000\n",
       "25%       18.904706\n",
       "50%       30.000000\n",
       "75%       42.000000\n",
       "max      409.000000"
      ]
     },
     "execution_count": 17,
     "metadata": {},
     "output_type": "execute_result"
    },
    {
     "data": {
      "image/png": "[encoded data removed]",
      "text/plain": [
       "<Figure size 432x288 with 1 Axes>"
      ]
     },
     "metadata": {
      "needs_background": "light"
     },
     "output_type": "display_data"
    }
   ],
   "source": [
    "data.boxplot(column='living_area')\n",
    "data[['living_area']].describe()"
   ]
  },
  {
   "cell_type": "markdown",
   "metadata": {},
   "source": [
    "Данные кажутся мне корректными, площадь жилой зоны от 2 до 409 м^2."
   ]
  },
  {
   "cell_type": "code",
   "execution_count": 18,
   "metadata": {},
   "outputs": [
    {
     "data": {
      "text/html": [
       "<div>\n",
       "<style scoped>\n",
       "    .dataframe tbody tr th:only-of-type {\n",
       "        vertical-align: middle;\n",
       "    }\n",
       "\n",
       "    .dataframe tbody tr th {\n",
       "        vertical-align: top;\n",
       "    }\n",
       "\n",
       "    .dataframe thead th {\n",
       "        text-align: right;\n",
       "    }\n",
       "</style>\n",
       "<table border=\"1\" class=\"dataframe\">\n",
       "  <thead>\n",
       "    <tr style=\"text-align: right;\">\n",
       "      <th></th>\n",
       "      <th>kitchen_area</th>\n",
       "    </tr>\n",
       "  </thead>\n",
       "  <tbody>\n",
       "    <tr>\n",
       "      <th>count</th>\n",
       "      <td>23695.000000</td>\n",
       "    </tr>\n",
       "    <tr>\n",
       "      <th>mean</th>\n",
       "      <td>10.410772</td>\n",
       "    </tr>\n",
       "    <tr>\n",
       "      <th>std</th>\n",
       "      <td>5.944597</td>\n",
       "    </tr>\n",
       "    <tr>\n",
       "      <th>min</th>\n",
       "      <td>1.300000</td>\n",
       "    </tr>\n",
       "    <tr>\n",
       "      <th>25%</th>\n",
       "      <td>7.000000</td>\n",
       "    </tr>\n",
       "    <tr>\n",
       "      <th>50%</th>\n",
       "      <td>9.000000</td>\n",
       "    </tr>\n",
       "    <tr>\n",
       "      <th>75%</th>\n",
       "      <td>11.900000</td>\n",
       "    </tr>\n",
       "    <tr>\n",
       "      <th>max</th>\n",
       "      <td>107.000000</td>\n",
       "    </tr>\n",
       "  </tbody>\n",
       "</table>\n",
       "</div>"
      ],
      "text/plain": [
       "       kitchen_area\n",
       "count  23695.000000\n",
       "mean      10.410772\n",
       "std        5.944597\n",
       "min        1.300000\n",
       "25%        7.000000\n",
       "50%        9.000000\n",
       "75%       11.900000\n",
       "max      107.000000"
      ]
     },
     "execution_count": 18,
     "metadata": {},
     "output_type": "execute_result"
    },
    {
     "data": {
      "image/png": "[encoded data removed]",
      "text/plain": [
       "<Figure size 432x288 with 1 Axes>"
      ]
     },
     "metadata": {
      "needs_background": "light"
     },
     "output_type": "display_data"
    }
   ],
   "source": [
    "data.boxplot(column='kitchen_area')\n",
    "data[['kitchen_area']].describe()"
   ]
  },
  {
   "cell_type": "markdown",
   "metadata": {},
   "source": [
    "Минимальная площадь кухни в 1 кв м кажется нерельной, уберем значения меньше 2 кв м."
   ]
  },
  {
   "cell_type": "code",
   "execution_count": 19,
   "metadata": {},
   "outputs": [
    {
     "name": "stderr",
     "output_type": "stream",
     "text": [
      "/tmp/ipykernel_60/15827425.py:1: SettingWithCopyWarning: \n",
      "A value is trying to be set on a copy of a slice from a DataFrame.\n",
      "Try using .loc[row_indexer,col_indexer] = value instead\n",
      "\n",
      "See the caveats in the documentation: https://pandas.pydata.org/pandas-docs/stable/user_guide/indexing.html#returning-a-view-versus-a-copy\n",
      "  data['kitchen_area'] = pd.to_numeric(data['kitchen_area'])\n"
     ]
    },
    {
     "data": {
      "text/html": [
       "<div>\n",
       "<style scoped>\n",
       "    .dataframe tbody tr th:only-of-type {\n",
       "        vertical-align: middle;\n",
       "    }\n",
       "\n",
       "    .dataframe tbody tr th {\n",
       "        vertical-align: top;\n",
       "    }\n",
       "\n",
       "    .dataframe thead th {\n",
       "        text-align: right;\n",
       "    }\n",
       "</style>\n",
       "<table border=\"1\" class=\"dataframe\">\n",
       "  <thead>\n",
       "    <tr style=\"text-align: right;\">\n",
       "      <th></th>\n",
       "      <th>kitchen_area</th>\n",
       "    </tr>\n",
       "  </thead>\n",
       "  <tbody>\n",
       "    <tr>\n",
       "      <th>count</th>\n",
       "      <td>23686.000000</td>\n",
       "    </tr>\n",
       "    <tr>\n",
       "      <th>mean</th>\n",
       "      <td>10.414001</td>\n",
       "    </tr>\n",
       "    <tr>\n",
       "      <th>std</th>\n",
       "      <td>5.943415</td>\n",
       "    </tr>\n",
       "    <tr>\n",
       "      <th>min</th>\n",
       "      <td>2.058034</td>\n",
       "    </tr>\n",
       "    <tr>\n",
       "      <th>25%</th>\n",
       "      <td>7.000000</td>\n",
       "    </tr>\n",
       "    <tr>\n",
       "      <th>50%</th>\n",
       "      <td>9.000000</td>\n",
       "    </tr>\n",
       "    <tr>\n",
       "      <th>75%</th>\n",
       "      <td>11.900000</td>\n",
       "    </tr>\n",
       "    <tr>\n",
       "      <th>max</th>\n",
       "      <td>107.000000</td>\n",
       "    </tr>\n",
       "  </tbody>\n",
       "</table>\n",
       "</div>"
      ],
      "text/plain": [
       "       kitchen_area\n",
       "count  23686.000000\n",
       "mean      10.414001\n",
       "std        5.943415\n",
       "min        2.058034\n",
       "25%        7.000000\n",
       "50%        9.000000\n",
       "75%       11.900000\n",
       "max      107.000000"
      ]
     },
     "execution_count": 19,
     "metadata": {},
     "output_type": "execute_result"
    }
   ],
   "source": [
    "data['kitchen_area'] = pd.to_numeric(data['kitchen_area'])\n",
    "\n",
    "data = data.loc[data['kitchen_area'] > 2] \n",
    "data[['kitchen_area']].describe()"
   ]
  },
  {
   "cell_type": "code",
   "execution_count": 20,
   "metadata": {},
   "outputs": [
    {
     "data": {
      "text/html": [
       "<div>\n",
       "<style scoped>\n",
       "    .dataframe tbody tr th:only-of-type {\n",
       "        vertical-align: middle;\n",
       "    }\n",
       "\n",
       "    .dataframe tbody tr th {\n",
       "        vertical-align: top;\n",
       "    }\n",
       "\n",
       "    .dataframe thead th {\n",
       "        text-align: right;\n",
       "    }\n",
       "</style>\n",
       "<table border=\"1\" class=\"dataframe\">\n",
       "  <thead>\n",
       "    <tr style=\"text-align: right;\">\n",
       "      <th></th>\n",
       "      <th>last_price</th>\n",
       "    </tr>\n",
       "  </thead>\n",
       "  <tbody>\n",
       "    <tr>\n",
       "      <th>count</th>\n",
       "      <td>2.368600e+04</td>\n",
       "    </tr>\n",
       "    <tr>\n",
       "      <th>mean</th>\n",
       "      <td>6.525803e+06</td>\n",
       "    </tr>\n",
       "    <tr>\n",
       "      <th>std</th>\n",
       "      <td>1.055308e+07</td>\n",
       "    </tr>\n",
       "    <tr>\n",
       "      <th>min</th>\n",
       "      <td>1.219000e+04</td>\n",
       "    </tr>\n",
       "    <tr>\n",
       "      <th>25%</th>\n",
       "      <td>3.406500e+06</td>\n",
       "    </tr>\n",
       "    <tr>\n",
       "      <th>50%</th>\n",
       "      <td>4.650000e+06</td>\n",
       "    </tr>\n",
       "    <tr>\n",
       "      <th>75%</th>\n",
       "      <td>6.800000e+06</td>\n",
       "    </tr>\n",
       "    <tr>\n",
       "      <th>max</th>\n",
       "      <td>7.630000e+08</td>\n",
       "    </tr>\n",
       "  </tbody>\n",
       "</table>\n",
       "</div>"
      ],
      "text/plain": [
       "         last_price\n",
       "count  2.368600e+04\n",
       "mean   6.525803e+06\n",
       "std    1.055308e+07\n",
       "min    1.219000e+04\n",
       "25%    3.406500e+06\n",
       "50%    4.650000e+06\n",
       "75%    6.800000e+06\n",
       "max    7.630000e+08"
      ]
     },
     "execution_count": 20,
     "metadata": {},
     "output_type": "execute_result"
    },
    {
     "data": {
      "image/png": "[encoded data removed]",
      "text/plain": [
       "<Figure size 432x288 with 1 Axes>"
      ]
     },
     "metadata": {
      "needs_background": "light"
     },
     "output_type": "display_data"
    }
   ],
   "source": [
    "data.boxplot(column='last_price')\n",
    "data[['last_price']].describe()"
   ]
  },
  {
   "cell_type": "markdown",
   "metadata": {},
   "source": [
    "Данные по цене кажутся корректными."
   ]
  },
  {
   "cell_type": "code",
   "execution_count": 21,
   "metadata": {},
   "outputs": [
    {
     "data": {
      "text/html": [
       "<div>\n",
       "<style scoped>\n",
       "    .dataframe tbody tr th:only-of-type {\n",
       "        vertical-align: middle;\n",
       "    }\n",
       "\n",
       "    .dataframe tbody tr th {\n",
       "        vertical-align: top;\n",
       "    }\n",
       "\n",
       "    .dataframe thead th {\n",
       "        text-align: right;\n",
       "    }\n",
       "</style>\n",
       "<table border=\"1\" class=\"dataframe\">\n",
       "  <thead>\n",
       "    <tr style=\"text-align: right;\">\n",
       "      <th></th>\n",
       "      <th>rooms</th>\n",
       "    </tr>\n",
       "  </thead>\n",
       "  <tbody>\n",
       "    <tr>\n",
       "      <th>count</th>\n",
       "      <td>23686.000000</td>\n",
       "    </tr>\n",
       "    <tr>\n",
       "      <th>mean</th>\n",
       "      <td>2.070632</td>\n",
       "    </tr>\n",
       "    <tr>\n",
       "      <th>std</th>\n",
       "      <td>1.076567</td>\n",
       "    </tr>\n",
       "    <tr>\n",
       "      <th>min</th>\n",
       "      <td>0.000000</td>\n",
       "    </tr>\n",
       "    <tr>\n",
       "      <th>25%</th>\n",
       "      <td>1.000000</td>\n",
       "    </tr>\n",
       "    <tr>\n",
       "      <th>50%</th>\n",
       "      <td>2.000000</td>\n",
       "    </tr>\n",
       "    <tr>\n",
       "      <th>75%</th>\n",
       "      <td>3.000000</td>\n",
       "    </tr>\n",
       "    <tr>\n",
       "      <th>max</th>\n",
       "      <td>19.000000</td>\n",
       "    </tr>\n",
       "  </tbody>\n",
       "</table>\n",
       "</div>"
      ],
      "text/plain": [
       "              rooms\n",
       "count  23686.000000\n",
       "mean       2.070632\n",
       "std        1.076567\n",
       "min        0.000000\n",
       "25%        1.000000\n",
       "50%        2.000000\n",
       "75%        3.000000\n",
       "max       19.000000"
      ]
     },
     "execution_count": 21,
     "metadata": {},
     "output_type": "execute_result"
    },
    {
     "data": {
      "image/png": "[encoded data removed]",
      "text/plain": [
       "<Figure size 432x288 with 1 Axes>"
      ]
     },
     "metadata": {
      "needs_background": "light"
     },
     "output_type": "display_data"
    }
   ],
   "source": [
    "data.boxplot(column='rooms')\n",
    "data[['rooms']].describe()"
   ]
  },
  {
   "cell_type": "markdown",
   "metadata": {},
   "source": [
    "Минимульное число комнат - 0, уберем эти строки, количество комнат должно превышать 0, большое количество комнат возможно, если это элитная квартира или коммуналка."
   ]
  },
  {
   "cell_type": "code",
   "execution_count": 22,
   "metadata": {},
   "outputs": [
    {
     "data": {
      "text/html": [
       "<div>\n",
       "<style scoped>\n",
       "    .dataframe tbody tr th:only-of-type {\n",
       "        vertical-align: middle;\n",
       "    }\n",
       "\n",
       "    .dataframe tbody tr th {\n",
       "        vertical-align: top;\n",
       "    }\n",
       "\n",
       "    .dataframe thead th {\n",
       "        text-align: right;\n",
       "    }\n",
       "</style>\n",
       "<table border=\"1\" class=\"dataframe\">\n",
       "  <thead>\n",
       "    <tr style=\"text-align: right;\">\n",
       "      <th></th>\n",
       "      <th>rooms</th>\n",
       "    </tr>\n",
       "  </thead>\n",
       "  <tbody>\n",
       "    <tr>\n",
       "      <th>count</th>\n",
       "      <td>23489.000000</td>\n",
       "    </tr>\n",
       "    <tr>\n",
       "      <th>mean</th>\n",
       "      <td>2.087999</td>\n",
       "    </tr>\n",
       "    <tr>\n",
       "      <th>std</th>\n",
       "      <td>1.064169</td>\n",
       "    </tr>\n",
       "    <tr>\n",
       "      <th>min</th>\n",
       "      <td>1.000000</td>\n",
       "    </tr>\n",
       "    <tr>\n",
       "      <th>25%</th>\n",
       "      <td>1.000000</td>\n",
       "    </tr>\n",
       "    <tr>\n",
       "      <th>50%</th>\n",
       "      <td>2.000000</td>\n",
       "    </tr>\n",
       "    <tr>\n",
       "      <th>75%</th>\n",
       "      <td>3.000000</td>\n",
       "    </tr>\n",
       "    <tr>\n",
       "      <th>max</th>\n",
       "      <td>19.000000</td>\n",
       "    </tr>\n",
       "  </tbody>\n",
       "</table>\n",
       "</div>"
      ],
      "text/plain": [
       "              rooms\n",
       "count  23489.000000\n",
       "mean       2.087999\n",
       "std        1.064169\n",
       "min        1.000000\n",
       "25%        1.000000\n",
       "50%        2.000000\n",
       "75%        3.000000\n",
       "max       19.000000"
      ]
     },
     "execution_count": 22,
     "metadata": {},
     "output_type": "execute_result"
    }
   ],
   "source": [
    "data['rooms'] = pd.to_numeric(data['rooms'])\n",
    "\n",
    "data = data.loc[data['rooms'] > 0] \n",
    "data[['rooms']].describe()"
   ]
  },
  {
   "cell_type": "code",
   "execution_count": 23,
   "metadata": {},
   "outputs": [
    {
     "name": "stdout",
     "output_type": "stream",
     "text": [
      "            count\n",
      "            floor\n",
      "floor_type       \n",
      "другой      17271\n",
      "первый       2870\n",
      "последний    3348\n"
     ]
    },
    {
     "data": {
      "text/plain": [
       "<AxesSubplot:xlabel='floor_type'>"
      ]
     },
     "execution_count": 23,
     "metadata": {},
     "output_type": "execute_result"
    },
    {
     "data": {
      "image/png": "[encoded data removed]",
      "text/plain": [
       "<Figure size 576x576 with 1 Axes>"
      ]
     },
     "metadata": {
      "needs_background": "light"
     },
     "output_type": "display_data"
    }
   ],
   "source": [
    "stat_data = data.pivot_table(index='floor_type', values='floor', aggfunc=['count'])\n",
    "print(stat_data)                            \n",
    "stat_data.plot(orders, kind='bar', figsize=(8, 8))\n"
   ]
  },
  {
   "cell_type": "markdown",
   "metadata": {},
   "source": [
    "На графика показано соотношение типа этажей."
   ]
  },
  {
   "cell_type": "code",
   "execution_count": 23,
   "metadata": {},
   "outputs": [
    {
     "data": {
      "text/html": [
       "<div>\n",
       "<style scoped>\n",
       "    .dataframe tbody tr th:only-of-type {\n",
       "        vertical-align: middle;\n",
       "    }\n",
       "\n",
       "    .dataframe tbody tr th {\n",
       "        vertical-align: top;\n",
       "    }\n",
       "\n",
       "    .dataframe thead th {\n",
       "        text-align: right;\n",
       "    }\n",
       "</style>\n",
       "<table border=\"1\" class=\"dataframe\">\n",
       "  <thead>\n",
       "    <tr style=\"text-align: right;\">\n",
       "      <th></th>\n",
       "      <th>floors_total</th>\n",
       "    </tr>\n",
       "  </thead>\n",
       "  <tbody>\n",
       "    <tr>\n",
       "      <th>count</th>\n",
       "      <td>23406.000000</td>\n",
       "    </tr>\n",
       "    <tr>\n",
       "      <th>mean</th>\n",
       "      <td>10.620952</td>\n",
       "    </tr>\n",
       "    <tr>\n",
       "      <th>std</th>\n",
       "      <td>6.567205</td>\n",
       "    </tr>\n",
       "    <tr>\n",
       "      <th>min</th>\n",
       "      <td>1.000000</td>\n",
       "    </tr>\n",
       "    <tr>\n",
       "      <th>25%</th>\n",
       "      <td>5.000000</td>\n",
       "    </tr>\n",
       "    <tr>\n",
       "      <th>50%</th>\n",
       "      <td>9.000000</td>\n",
       "    </tr>\n",
       "    <tr>\n",
       "      <th>75%</th>\n",
       "      <td>16.000000</td>\n",
       "    </tr>\n",
       "    <tr>\n",
       "      <th>max</th>\n",
       "      <td>60.000000</td>\n",
       "    </tr>\n",
       "  </tbody>\n",
       "</table>\n",
       "</div>"
      ],
      "text/plain": [
       "       floors_total\n",
       "count  23406.000000\n",
       "mean      10.620952\n",
       "std        6.567205\n",
       "min        1.000000\n",
       "25%        5.000000\n",
       "50%        9.000000\n",
       "75%       16.000000\n",
       "max       60.000000"
      ]
     },
     "execution_count": 23,
     "metadata": {},
     "output_type": "execute_result"
    },
    {
     "data": {
      "image/png": "[encoded data removed]",
      "text/plain": [
       "<Figure size 432x288 with 1 Axes>"
      ]
     },
     "metadata": {
      "needs_background": "light"
     },
     "output_type": "display_data"
    }
   ],
   "source": [
    "data.boxplot(column='floors_total')\n",
    "data[['floors_total']].describe()"
   ]
  },
  {
   "cell_type": "markdown",
   "metadata": {},
   "source": [
    "Считаю, что данные корректны, тк число этажей варьируется от 1 до 60, среднее количество этажей 10, всё в пределах норамы."
   ]
  },
  {
   "cell_type": "code",
   "execution_count": 24,
   "metadata": {},
   "outputs": [
    {
     "data": {
      "text/html": [
       "<div>\n",
       "<style scoped>\n",
       "    .dataframe tbody tr th:only-of-type {\n",
       "        vertical-align: middle;\n",
       "    }\n",
       "\n",
       "    .dataframe tbody tr th {\n",
       "        vertical-align: top;\n",
       "    }\n",
       "\n",
       "    .dataframe thead th {\n",
       "        text-align: right;\n",
       "    }\n",
       "</style>\n",
       "<table border=\"1\" class=\"dataframe\">\n",
       "  <thead>\n",
       "    <tr style=\"text-align: right;\">\n",
       "      <th></th>\n",
       "      <th>cityCenters_nearest</th>\n",
       "    </tr>\n",
       "  </thead>\n",
       "  <tbody>\n",
       "    <tr>\n",
       "      <th>count</th>\n",
       "      <td>18050.000000</td>\n",
       "    </tr>\n",
       "    <tr>\n",
       "      <th>mean</th>\n",
       "      <td>14198.945928</td>\n",
       "    </tr>\n",
       "    <tr>\n",
       "      <th>std</th>\n",
       "      <td>8627.750996</td>\n",
       "    </tr>\n",
       "    <tr>\n",
       "      <th>min</th>\n",
       "      <td>181.000000</td>\n",
       "    </tr>\n",
       "    <tr>\n",
       "      <th>25%</th>\n",
       "      <td>9234.000000</td>\n",
       "    </tr>\n",
       "    <tr>\n",
       "      <th>50%</th>\n",
       "      <td>13094.000000</td>\n",
       "    </tr>\n",
       "    <tr>\n",
       "      <th>75%</th>\n",
       "      <td>16293.000000</td>\n",
       "    </tr>\n",
       "    <tr>\n",
       "      <th>max</th>\n",
       "      <td>65968.000000</td>\n",
       "    </tr>\n",
       "  </tbody>\n",
       "</table>\n",
       "</div>"
      ],
      "text/plain": [
       "       cityCenters_nearest\n",
       "count         18050.000000\n",
       "mean          14198.945928\n",
       "std            8627.750996\n",
       "min             181.000000\n",
       "25%            9234.000000\n",
       "50%           13094.000000\n",
       "75%           16293.000000\n",
       "max           65968.000000"
      ]
     },
     "execution_count": 24,
     "metadata": {},
     "output_type": "execute_result"
    },
    {
     "data": {
      "image/png": "[encoded data removed]",
      "text/plain": [
       "<Figure size 432x288 with 1 Axes>"
      ]
     },
     "metadata": {
      "needs_background": "light"
     },
     "output_type": "display_data"
    }
   ],
   "source": [
    "data.boxplot(column='cityCenters_nearest')\n",
    "data[['cityCenters_nearest']].describe()"
   ]
  },
  {
   "cell_type": "markdown",
   "metadata": {},
   "source": [
    "Большое количество квартир находятся далеко от центра, что возможно, тк квартиры продаются не только в самом городе, но и в области."
   ]
  },
  {
   "cell_type": "code",
   "execution_count": 25,
   "metadata": {},
   "outputs": [
    {
     "data": {
      "text/html": [
       "<div>\n",
       "<style scoped>\n",
       "    .dataframe tbody tr th:only-of-type {\n",
       "        vertical-align: middle;\n",
       "    }\n",
       "\n",
       "    .dataframe tbody tr th {\n",
       "        vertical-align: top;\n",
       "    }\n",
       "\n",
       "    .dataframe thead th {\n",
       "        text-align: right;\n",
       "    }\n",
       "</style>\n",
       "<table border=\"1\" class=\"dataframe\">\n",
       "  <thead>\n",
       "    <tr style=\"text-align: right;\">\n",
       "      <th></th>\n",
       "      <th>parks_nearest</th>\n",
       "    </tr>\n",
       "  </thead>\n",
       "  <tbody>\n",
       "    <tr>\n",
       "      <th>count</th>\n",
       "      <td>8046.000000</td>\n",
       "    </tr>\n",
       "    <tr>\n",
       "      <th>mean</th>\n",
       "      <td>490.397092</td>\n",
       "    </tr>\n",
       "    <tr>\n",
       "      <th>std</th>\n",
       "      <td>342.457422</td>\n",
       "    </tr>\n",
       "    <tr>\n",
       "      <th>min</th>\n",
       "      <td>1.000000</td>\n",
       "    </tr>\n",
       "    <tr>\n",
       "      <th>25%</th>\n",
       "      <td>287.250000</td>\n",
       "    </tr>\n",
       "    <tr>\n",
       "      <th>50%</th>\n",
       "      <td>454.000000</td>\n",
       "    </tr>\n",
       "    <tr>\n",
       "      <th>75%</th>\n",
       "      <td>612.000000</td>\n",
       "    </tr>\n",
       "    <tr>\n",
       "      <th>max</th>\n",
       "      <td>3190.000000</td>\n",
       "    </tr>\n",
       "  </tbody>\n",
       "</table>\n",
       "</div>"
      ],
      "text/plain": [
       "       parks_nearest\n",
       "count    8046.000000\n",
       "mean      490.397092\n",
       "std       342.457422\n",
       "min         1.000000\n",
       "25%       287.250000\n",
       "50%       454.000000\n",
       "75%       612.000000\n",
       "max      3190.000000"
      ]
     },
     "execution_count": 25,
     "metadata": {},
     "output_type": "execute_result"
    },
    {
     "data": {
      "image/png": "[encoded data removed]",
      "text/plain": [
       "<Figure size 432x288 with 1 Axes>"
      ]
     },
     "metadata": {
      "needs_background": "light"
     },
     "output_type": "display_data"
    }
   ],
   "source": [
    "data.boxplot(column='parks_nearest')\n",
    "data[['parks_nearest']].describe()"
   ]
  },
  {
   "cell_type": "markdown",
   "metadata": {},
   "source": [
    "Я считаю растояние от 1м до 3км до парка приемлемым."
   ]
  },
  {
   "cell_type": "code",
   "execution_count": 26,
   "metadata": {},
   "outputs": [
    {
     "name": "stdout",
     "output_type": "stream",
     "text": [
      "<class 'pandas.core.frame.DataFrame'>\n",
      "Int64Index: 23489 entries, 0 to 23698\n",
      "Data columns (total 28 columns):\n",
      " #   Column                  Non-Null Count  Dtype         \n",
      "---  ------                  --------------  -----         \n",
      " 0   total_images            23489 non-null  int64         \n",
      " 1   last_price              23489 non-null  int64         \n",
      " 2   total_area              23489 non-null  float64       \n",
      " 3   first_day_exposition    23489 non-null  datetime64[ns]\n",
      " 4   rooms                   23489 non-null  int64         \n",
      " 5   ceiling_height          23489 non-null  float64       \n",
      " 6   floors_total            23406 non-null  float64       \n",
      " 7   living_area             23489 non-null  float64       \n",
      " 8   floor                   23489 non-null  int64         \n",
      " 9   is_apartment            23489 non-null  object        \n",
      " 10  studio                  23489 non-null  bool          \n",
      " 11  open_plan               23489 non-null  bool          \n",
      " 12  kitchen_area            23489 non-null  float64       \n",
      " 13  balcony                 23489 non-null  int64         \n",
      " 14  locality_name           23440 non-null  object        \n",
      " 15  airports_nearest        18027 non-null  float64       \n",
      " 16  cityCenters_nearest     18050 non-null  float64       \n",
      " 17  parks_around3000        18051 non-null  float64       \n",
      " 18  parks_nearest           8046 non-null   float64       \n",
      " 19  ponds_around3000        18051 non-null  float64       \n",
      " 20  ponds_nearest           9032 non-null   float64       \n",
      " 21  days_exposition         20323 non-null  float64       \n",
      " 22  price_of_sqrm           23489 non-null  float64       \n",
      " 23  month                   23489 non-null  int64         \n",
      " 24  year                    23489 non-null  int64         \n",
      " 25  day                     23489 non-null  object        \n",
      " 26  floor_type              23489 non-null  object        \n",
      " 27  cityCenters_nearest_km  18050 non-null  float64       \n",
      "dtypes: bool(2), datetime64[ns](1), float64(14), int64(7), object(4)\n",
      "memory usage: 4.9+ MB\n"
     ]
    }
   ],
   "source": [
    "data.info()"
   ]
  },
  
  {
   "cell_type": "code",
   "execution_count": 27,
   "metadata": {},
   "outputs": [
    {
     "name": "stdout",
     "output_type": "stream",
     "text": [
      "\n",
      "Number of rows : 23489\n",
      "<class 'pandas.core.frame.DataFrame'>\n",
      "Int64Index: 23489 entries, 0 to 23698\n",
      "Data columns (total 28 columns):\n",
      " #   Column                  Non-Null Count  Dtype         \n",
      "---  ------                  --------------  -----         \n",
      " 0   total_images            23489 non-null  int64         \n",
      " 1   last_price              23489 non-null  int64         \n",
      " 2   total_area              23489 non-null  float64       \n",
      " 3   first_day_exposition    23489 non-null  datetime64[ns]\n",
      " 4   rooms                   23489 non-null  int64         \n",
      " 5   ceiling_height          23489 non-null  float64       \n",
      " 6   floors_total            23406 non-null  float64       \n",
      " 7   living_area             23489 non-null  float64       \n",
      " 8   floor                   23489 non-null  int64         \n",
      " 9   is_apartment            23489 non-null  object        \n",
      " 10  studio                  23489 non-null  bool          \n",
      " 11  open_plan               23489 non-null  bool          \n",
      " 12  kitchen_area            23489 non-null  float64       \n",
      " 13  balcony                 23489 non-null  int64         \n",
      " 14  locality_name           23440 non-null  object        \n",
      " 15  airports_nearest        18027 non-null  float64       \n",
      " 16  cityCenters_nearest     18050 non-null  float64       \n",
      " 17  parks_around3000        18051 non-null  float64       \n",
      " 18  parks_nearest           8046 non-null   float64       \n",
      " 19  ponds_around3000        18051 non-null  float64       \n",
      " 20  ponds_nearest           9032 non-null   float64       \n",
      " 21  days_exposition         20323 non-null  float64       \n",
      " 22  price_of_sqrm           23489 non-null  float64       \n",
      " 23  month                   23489 non-null  int64         \n",
      " 24  year                    23489 non-null  int64         \n",
      " 25  day                     23489 non-null  object        \n",
      " 26  floor_type              23489 non-null  object        \n",
      " 27  cityCenters_nearest_km  18050 non-null  float64       \n",
      "dtypes: bool(2), datetime64[ns](1), float64(14), int64(7), object(4)\n",
      "memory usage: 4.9+ MB\n"
     ]
    }
   ],
   "source": [
    "shape = data.shape \n",
    "\n",
    "print('\\nNumber of rows :', shape[0])\n",
    "\n",
    "data.info()\n"
   ]
  },
  {
   "cell_type": "markdown",
   "metadata": {},
   "source": [
    "<div class=\"alert alert-block alert-info\">\n",
    "    \n",
    "После переработки осталось 23489 строк (изначально было 23699), что составляет более 90% от изначального числа данных, поэтому можно провести актуальный анализ.\n",
    "    \n",
    "</div>"
   ]
  },
  {
   "cell_type": "markdown",
   "metadata": {},
   "source": [
    "<div class=\"alert alert-success\">\n",
    "\n",
    "**✔️ Комментарий ревьюера v2✔️**\n",
    "   \n",
    "   Хороший результат👍\n",
    "\n",
    "</div>\n"
   ]
  },
  {
   "cell_type": "code",
   "execution_count": 28,
   "metadata": {},
   "outputs": [
    {
     "name": "stdout",
     "output_type": "stream",
     "text": [
      "Медиана: 96.0\n",
      "среднее: 181.58323082222114\n"
     ]
    },
    {
     "data": {
      "text/plain": [
       "count    20323.000000\n",
       "mean       181.583231\n",
       "std        220.143499\n",
       "min          1.000000\n",
       "25%         45.000000\n",
       "50%         96.000000\n",
       "75%        232.000000\n",
       "max       1580.000000\n",
       "Name: days_exposition, dtype: float64"
      ]
     },
     "execution_count": 28,
     "metadata": {},
     "output_type": "execute_result"
    },
    {
     "data": {
      "image/png": "[encoded data removed]",
      "text/plain": [
       "<Figure size 432x288 with 1 Axes>"
      ]
     },
     "metadata": {
      "needs_background": "light"
     },
     "output_type": "display_data"
    }
   ],
   "source": [
    "data['days_exposition'].hist(bins=100)\n",
    "a = data['days_exposition'].median()\n",
    "b = data['days_exposition'].mean()\n",
    "print('Медиана:', a)\n",
    "print('среднее:', b)\n",
    "data['days_exposition'].describe()"
   ]
  },
  {
   "cell_type": "code",
   "execution_count": 29,
   "metadata": {},
   "outputs": [
    {
     "data": {
      "text/plain": [
       "count    20323.000000\n",
       "mean       181.583231\n",
       "std        220.143499\n",
       "min          1.000000\n",
       "25%         45.000000\n",
       "50%         96.000000\n",
       "75%        232.000000\n",
       "max       1580.000000\n",
       "Name: days_exposition, dtype: float64"
      ]
     },
     "execution_count": 29,
     "metadata": {},
     "output_type": "execute_result"
    },
    {
     "data": {
      "image/png": "[encoded data removed]",
      "text/plain": [
       "<Figure size 432x288 with 1 Axes>"
      ]
     },
     "metadata": {
      "needs_background": "light"
     },
     "output_type": "display_data"
    }
   ],
   "source": [
    "data.boxplot(column='days_exposition')\n",
    "data['days_exposition'].describe()"
   ]
  },
  {
   "cell_type": "markdown",
   "metadata": {},
   "source": [
    "<div class=\"alert alert-block alert-info\">\n",
    "В среднем продажа занимает 3 месяца. По диаграмме размаха видно, что быстрые продажи до 1,5 месяцев (1 квартиль), а долгими будут считаться продажи более 7,5 месяцев (3 квартиль), существует даже квартира, продававшаяся 5 лет. Вижу пики в значениях, посмотрим поближе.\n",
    "</div>"
   ]
  },
  {
   "cell_type": "code",
   "execution_count": 29,
   "metadata": {},
   "outputs": [
    {
     "data": {
      "text/plain": [
       "<AxesSubplot:>"
      ]
     },
     "execution_count": 29,
     "metadata": {},
     "output_type": "execute_result"
    },
    {
     "data": {
      "image/png": "[encoded data removed]",
      "text/plain": [
       "<Figure size 720x216 with 1 Axes>"
      ]
     },
     "metadata": {
      "needs_background": "light"
     },
     "output_type": "display_data"
    }
   ],
   "source": [
    "data.query('25<days_exposition<100')['days_exposition'].hist(bins=70, figsize=(10,3))"
   ]
  },
  {
   "cell_type": "markdown",
   "metadata": {},
   "source": [
    "<div class=\"alert alert-block alert-info\">\n",
    "Видно, что через 45, 60 и 90 дней продается большое количество квартир, возможно это связано с работой \"Яндекс Недвижимость\", эти пики являются следами автоматического снятия объявлений.\n",
    "</div>"
   ]
  },
  {
   "cell_type": "markdown",
   "metadata": {},
   "source": [
    "Определите факторы, которые больше всего влияют на общую (полную) стоимость объекта.\n",
    "Изучите, зависит ли цена от:\n",
    "общей площади;\n",
    "жилой площади;\n",
    "площади кухни;\n",
    "количества комнат;\n",
    "этажа, на котором расположена квартира (первый, последний, другой);\n",
    "даты размещения (день недели, месяц, год).\n",
    "Постройте графики, которые покажут зависимость цены от указанных выше параметров. Для подготовки данных перед визуализацией вы можете использовать сводные таблицы."
   ]
  },
  {
   "cell_type": "code",
   "execution_count": 30,
   "metadata": {},
   "outputs": [
    {
     "data": {
      "image/png": "[encoded data removed]",
      "text/plain": [
       "<Figure size 360x360 with 1 Axes>"
      ]
     },
     "metadata": {
      "needs_background": "light"
     },
     "output_type": "display_data"
    }
   ],
   "source": [
    "stat_totarea = data.pivot_table(index='total_area', values='last_price', aggfunc=['median']).plot(grid=True, style = 'o', figsize = (5,5))\n"
   ]
  },
  {
   "cell_type": "markdown",
   "metadata": {},
   "source": [
    "Видно, что цена зависит от общей площади. Чем больше площадь, тем больше цена."
   ]
  },
  {
   "cell_type": "code",
   "execution_count": 31,
   "metadata": {
    "scrolled": true
   },
   "outputs": [
    {
     "data": {
      "image/png": "[encoded data removed]",
      "text/plain": [
       "<Figure size 360x360 with 1 Axes>"
      ]
     },
     "metadata": {
      "needs_background": "light"
     },
     "output_type": "display_data"
    }
   ],
   "source": [
    "stat_livarea = data.pivot_table(index='living_area', values='last_price', aggfunc=['median']).plot(grid=True, style = 'o', figsize = (5,5))"
   ]
  },
  {
   "cell_type": "markdown",
   "metadata": {},
   "source": [
    "Видно, что цена зависит от жилой площади. Чем больше площадь, тем больше цена."
   ]
  },
  {
   "cell_type": "code",
   "execution_count": 32,
   "metadata": {},
   "outputs": [
    {
     "data": {
      "image/png": "[encoded data removed]",
      "text/plain": [
       "<Figure size 360x360 with 1 Axes>"
      ]
     },
     "metadata": {
      "needs_background": "light"
     },
     "output_type": "display_data"
    }
   ],
   "source": [
    "stat_kitarea = data.pivot_table(index='kitchen_area', values='last_price', aggfunc=['median']).plot(grid=True, style = 'o', figsize = (5,5))"
   ]
  },
  {
   "cell_type": "markdown",
   "metadata": {},
   "source": [
    "Видно, что цена зависит от кухонной площади. Чем больше площадь, тем больше цена."
   ]
  },
  {
   "cell_type": "code",
   "execution_count": 33,
   "metadata": {},
   "outputs": [
    {
     "data": {
      "image/png": "[encoded data removed]",
      "text/plain": [
       "<Figure size 360x360 with 1 Axes>"
      ]
     },
     "metadata": {
      "needs_background": "light"
     },
     "output_type": "display_data"
    }
   ],
   "source": [
    "stat_rooms = data.pivot_table(index='rooms', values='last_price', aggfunc=['median']).plot(grid=True, style = 'o', figsize = (5,5))"
   ]
  },
  {
   "cell_type": "markdown",
   "metadata": {},
   "source": [
    "Видно, что цена зависит от количества комнат. Чем больше комнат, тем больше цена."
   ]
  },
  {
   "cell_type": "code",
   "execution_count": 34,
   "metadata": {},
   "outputs": [
    {
     "data": {
      "image/png": "[encoded data removed]",
      "text/plain": [
       "<Figure size 360x360 with 1 Axes>"
      ]
     },
     "metadata": {
      "needs_background": "light"
     },
     "output_type": "display_data"
    }
   ],
   "source": [
    "stat_ft = data.pivot_table(index='floor_type', values='last_price', aggfunc=['median']).plot(grid=True, style = 'o', figsize = (5,5))"
   ]
  },
  {
   "cell_type": "markdown",
   "metadata": {},
   "source": [
    "Нельзя сказать точно, о влиянии цены на тип этажа, но цена на квартиру на первом этаже значительно ниже, чем на последнем."
   ]
  },
  {
   "cell_type": "markdown",
   "metadata": {},
   "source": [
    "<div class=\"alert alert-success\">\n",
    "\n",
    "**✔️ Комментарий ревьюера ✔️**\n",
    "\n",
    "   Хорошие результаты. Отмечу, что скорее всего, низкую цену на квартиры на первом и последнем этажах можно аргументировать плохими условиями - шум от улиц и моторов лифта, охлаждаемость помещения зимой.\n",
    "\n",
    "</div>"
   ]
  },
  {
   "cell_type": "code",
   "execution_count": 35,
   "metadata": {},
   "outputs": [
    {
     "data": {
      "image/png": "[encoded data removed]",
      "text/plain": [
       "<Figure size 360x360 with 1 Axes>"
      ]
     },
     "metadata": {
      "needs_background": "light"
     },
     "output_type": "display_data"
    }
   ],
   "source": [
    "stat_month = data.pivot_table(index='month', values='last_price', aggfunc=['median']).plot(grid=True, style = 'o', figsize = (5,5))"
   ]
  },
  {
   "cell_type": "markdown",
   "metadata": {},
   "source": [
    "Я не считаю, что месяц размещения влияет на цену."
   ]
  },
  {
   "cell_type": "code",
   "execution_count": 36,
   "metadata": {},
   "outputs": [
    {
     "data": {
      "image/png": "[encoded data removed]",
      "text/plain": [
       "<Figure size 360x360 with 1 Axes>"
      ]
     },
     "metadata": {
      "needs_background": "light"
     },
     "output_type": "display_data"
    }
   ],
   "source": [
    "stat_year = data.pivot_table(index='year', values='last_price', aggfunc=['median']).plot(grid=True, style = 'o', figsize = (5,5))"
   ]
  },
  {
   "cell_type": "markdown",
   "metadata": {},
   "source": [
    "А вот в 2014 году цены были самыми высокими, потом пошли на спад и к 2017 году снова стали расти.\n",
    "Это можно объяснить Валютным кризисом в России (2014—2015) — резкое ослабление российского рубля, к 2017 голу ситуация стабилизировалась и пошел рост покупательской способности."
   ]
  },
  {
   "cell_type": "code",
   "execution_count": 37,
   "metadata": {},
   "outputs": [
    {
     "data": {
      "image/png": "[encoded data removed]",
      "text/plain": [
       "<Figure size 360x360 with 1 Axes>"
      ]
     },
     "metadata": {
      "needs_background": "light"
     },
     "output_type": "display_data"
    }
   ],
   "source": [
    "stat_day = data.pivot_table(index='day', values='last_price', aggfunc=['median']).plot(grid=True, style = 'o', figsize = (5,5))"
   ]
  },
  {
   "cell_type": "markdown",
   "metadata": {},
   "source": [
    "Я не считаю, что месяц размещения влияет на цену."
   ]
  },
  {
   "cell_type": "code",
   "execution_count": 38,
   "metadata": {},
   "outputs": [
    {
     "data": {
      "text/html": [
       "<div>\n",
       "<style scoped>\n",
       "    .dataframe tbody tr th:only-of-type {\n",
       "        vertical-align: middle;\n",
       "    }\n",
       "\n",
       "    .dataframe tbody tr th {\n",
       "        vertical-align: top;\n",
       "    }\n",
       "\n",
       "    .dataframe thead th {\n",
       "        text-align: right;\n",
       "    }\n",
       "</style>\n",
       "<table border=\"1\" class=\"dataframe\">\n",
       "  <thead>\n",
       "    <tr style=\"text-align: right;\">\n",
       "      <th></th>\n",
       "      <th>total_images</th>\n",
       "      <th>last_price</th>\n",
       "      <th>total_area</th>\n",
       "      <th>rooms</th>\n",
       "      <th>ceiling_height</th>\n",
       "      <th>floors_total</th>\n",
       "      <th>living_area</th>\n",
       "      <th>floor</th>\n",
       "      <th>studio</th>\n",
       "      <th>open_plan</th>\n",
       "      <th>...</th>\n",
       "      <th>cityCenters_nearest</th>\n",
       "      <th>parks_around3000</th>\n",
       "      <th>parks_nearest</th>\n",
       "      <th>ponds_around3000</th>\n",
       "      <th>ponds_nearest</th>\n",
       "      <th>days_exposition</th>\n",
       "      <th>price_of_sqrm</th>\n",
       "      <th>month</th>\n",
       "      <th>year</th>\n",
       "      <th>cityCenters_nearest_km</th>\n",
       "    </tr>\n",
       "  </thead>\n",
       "  <tbody>\n",
       "    <tr>\n",
       "      <th>total_images</th>\n",
       "      <td>1.000000</td>\n",
       "      <td>0.107938</td>\n",
       "      <td>0.115390</td>\n",
       "      <td>0.095403</td>\n",
       "      <td>0.050240</td>\n",
       "      <td>0.013497</td>\n",
       "      <td>0.104905</td>\n",
       "      <td>0.033687</td>\n",
       "      <td>-0.015802</td>\n",
       "      <td>-0.012589</td>\n",
       "      <td>...</td>\n",
       "      <td>-0.048378</td>\n",
       "      <td>0.021078</td>\n",
       "      <td>-0.007348</td>\n",
       "      <td>-0.010638</td>\n",
       "      <td>-0.002429</td>\n",
       "      <td>-0.028202</td>\n",
       "      <td>0.133783</td>\n",
       "      <td>0.005364</td>\n",
       "      <td>0.141759</td>\n",
       "      <td>-0.047829</td>\n",
       "    </tr>\n",
       "    <tr>\n",
       "      <th>last_price</th>\n",
       "      <td>0.107938</td>\n",
       "      <td>1.000000</td>\n",
       "      <td>0.642457</td>\n",
       "      <td>0.361555</td>\n",
       "      <td>0.275592</td>\n",
       "      <td>-0.008040</td>\n",
       "      <td>0.577227</td>\n",
       "      <td>0.022696</td>\n",
       "      <td>-0.007694</td>\n",
       "      <td>0.007529</td>\n",
       "      <td>...</td>\n",
       "      <td>-0.212582</td>\n",
       "      <td>0.157072</td>\n",
       "      <td>-0.016456</td>\n",
       "      <td>0.163669</td>\n",
       "      <td>-0.086694</td>\n",
       "      <td>0.084229</td>\n",
       "      <td>0.750671</td>\n",
       "      <td>0.000753</td>\n",
       "      <td>-0.043833</td>\n",
       "      <td>-0.212876</td>\n",
       "    </tr>\n",
       "    <tr>\n",
       "      <th>total_area</th>\n",
       "      <td>0.115390</td>\n",
       "      <td>0.642457</td>\n",
       "      <td>1.000000</td>\n",
       "      <td>0.761218</td>\n",
       "      <td>0.382403</td>\n",
       "      <td>-0.072059</td>\n",
       "      <td>0.943451</td>\n",
       "      <td>-0.024786</td>\n",
       "      <td>-0.020421</td>\n",
       "      <td>0.004189</td>\n",
       "      <td>...</td>\n",
       "      <td>-0.235182</td>\n",
       "      <td>0.166415</td>\n",
       "      <td>-0.021178</td>\n",
       "      <td>0.164558</td>\n",
       "      <td>-0.100033</td>\n",
       "      <td>0.150881</td>\n",
       "      <td>0.301556</td>\n",
       "      <td>0.004983</td>\n",
       "      <td>-0.080262</td>\n",
       "      <td>-0.235027</td>\n",
       "    </tr>\n",
       "    <tr>\n",
       "      <th>rooms</th>\n",
       "      <td>0.095403</td>\n",
       "      <td>0.361555</td>\n",
       "      <td>0.761218</td>\n",
       "      <td>1.000000</td>\n",
       "      <td>0.251281</td>\n",
       "      <td>-0.219620</td>\n",
       "      <td>0.834512</td>\n",
       "      <td>-0.147340</td>\n",
       "      <td>-0.022131</td>\n",
       "      <td>0.007146</td>\n",
       "      <td>...</td>\n",
       "      <td>-0.188820</td>\n",
       "      <td>0.134767</td>\n",
       "      <td>-0.052725</td>\n",
       "      <td>0.094600</td>\n",
       "      <td>-0.058516</td>\n",
       "      <td>0.124050</td>\n",
       "      <td>0.056842</td>\n",
       "      <td>-0.001707</td>\n",
       "      <td>-0.054313</td>\n",
       "      <td>-0.188384</td>\n",
       "    </tr>\n",
       "    <tr>\n",
       "      <th>ceiling_height</th>\n",
       "      <td>0.050240</td>\n",
       "      <td>0.275592</td>\n",
       "      <td>0.382403</td>\n",
       "      <td>0.251281</td>\n",
       "      <td>1.000000</td>\n",
       "      <td>-0.077223</td>\n",
       "      <td>0.361632</td>\n",
       "      <td>-0.045498</td>\n",
       "      <td>-0.000235</td>\n",
       "      <td>0.005682</td>\n",
       "      <td>...</td>\n",
       "      <td>-0.298768</td>\n",
       "      <td>0.228499</td>\n",
       "      <td>-0.059906</td>\n",
       "      <td>0.193718</td>\n",
       "      <td>-0.118643</td>\n",
       "      <td>0.110269</td>\n",
       "      <td>0.282277</td>\n",
       "      <td>-0.005522</td>\n",
       "      <td>-0.052094</td>\n",
       "      <td>-0.299147</td>\n",
       "    </tr>\n",
       "    <tr>\n",
       "      <th>floors_total</th>\n",
       "      <td>0.013497</td>\n",
       "      <td>-0.008040</td>\n",
       "      <td>-0.072059</td>\n",
       "      <td>-0.219620</td>\n",
       "      <td>-0.077223</td>\n",
       "      <td>1.000000</td>\n",
       "      <td>-0.159030</td>\n",
       "      <td>0.679117</td>\n",
       "      <td>0.016861</td>\n",
       "      <td>0.005291</td>\n",
       "      <td>...</td>\n",
       "      <td>0.018381</td>\n",
       "      <td>-0.250861</td>\n",
       "      <td>0.095079</td>\n",
       "      <td>-0.123975</td>\n",
       "      <td>0.041602</td>\n",
       "      <td>-0.050751</td>\n",
       "      <td>0.147284</td>\n",
       "      <td>0.015376</td>\n",
       "      <td>0.007592</td>\n",
       "      <td>0.017732</td>\n",
       "    </tr>\n",
       "    <tr>\n",
       "      <th>living_area</th>\n",
       "      <td>0.104905</td>\n",
       "      <td>0.577227</td>\n",
       "      <td>0.943451</td>\n",
       "      <td>0.834512</td>\n",
       "      <td>0.361632</td>\n",
       "      <td>-0.159030</td>\n",
       "      <td>1.000000</td>\n",
       "      <td>-0.090956</td>\n",
       "      <td>-0.015087</td>\n",
       "      <td>0.006145</td>\n",
       "      <td>...</td>\n",
       "      <td>-0.231320</td>\n",
       "      <td>0.180208</td>\n",
       "      <td>-0.049686</td>\n",
       "      <td>0.149067</td>\n",
       "      <td>-0.084449</td>\n",
       "      <td>0.146082</td>\n",
       "      <td>0.230019</td>\n",
       "      <td>-0.000012</td>\n",
       "      <td>-0.074283</td>\n",
       "      <td>-0.230999</td>\n",
       "    </tr>\n",
       "    <tr>\n",
       "      <th>floor</th>\n",
       "      <td>0.033687</td>\n",
       "      <td>0.022696</td>\n",
       "      <td>-0.024786</td>\n",
       "      <td>-0.147340</td>\n",
       "      <td>-0.045498</td>\n",
       "      <td>0.679117</td>\n",
       "      <td>-0.090956</td>\n",
       "      <td>1.000000</td>\n",
       "      <td>0.011506</td>\n",
       "      <td>0.000497</td>\n",
       "      <td>...</td>\n",
       "      <td>0.008282</td>\n",
       "      <td>-0.162764</td>\n",
       "      <td>0.071279</td>\n",
       "      <td>-0.076561</td>\n",
       "      <td>0.027469</td>\n",
       "      <td>-0.039095</td>\n",
       "      <td>0.127397</td>\n",
       "      <td>0.018426</td>\n",
       "      <td>0.004961</td>\n",
       "      <td>0.007798</td>\n",
       "    </tr>\n",
       "    <tr>\n",
       "      <th>studio</th>\n",
       "      <td>-0.015802</td>\n",
       "      <td>-0.007694</td>\n",
       "      <td>-0.020421</td>\n",
       "      <td>-0.022131</td>\n",
       "      <td>-0.000235</td>\n",
       "      <td>0.016861</td>\n",
       "      <td>-0.015087</td>\n",
       "      <td>0.011506</td>\n",
       "      <td>1.000000</td>\n",
       "      <td>-0.000400</td>\n",
       "      <td>...</td>\n",
       "      <td>-0.000924</td>\n",
       "      <td>-0.004426</td>\n",
       "      <td>-0.005287</td>\n",
       "      <td>0.000539</td>\n",
       "      <td>-0.001582</td>\n",
       "      <td>-0.011325</td>\n",
       "      <td>0.000766</td>\n",
       "      <td>-0.008076</td>\n",
       "      <td>-0.030266</td>\n",
       "      <td>-0.000757</td>\n",
       "    </tr>\n",
       "    <tr>\n",
       "      <th>open_plan</th>\n",
       "      <td>-0.012589</td>\n",
       "      <td>0.007529</td>\n",
       "      <td>0.004189</td>\n",
       "      <td>0.007146</td>\n",
       "      <td>0.005682</td>\n",
       "      <td>0.005291</td>\n",
       "      <td>0.006145</td>\n",
       "      <td>0.000497</td>\n",
       "      <td>-0.000400</td>\n",
       "      <td>1.000000</td>\n",
       "      <td>...</td>\n",
       "      <td>-0.003763</td>\n",
       "      <td>0.001206</td>\n",
       "      <td>-0.011185</td>\n",
       "      <td>0.004476</td>\n",
       "      <td>-0.009285</td>\n",
       "      <td>-0.001191</td>\n",
       "      <td>0.008607</td>\n",
       "      <td>-0.005384</td>\n",
       "      <td>-0.030842</td>\n",
       "      <td>-0.003223</td>\n",
       "    </tr>\n",
       "    <tr>\n",
       "      <th>kitchen_area</th>\n",
       "      <td>0.111266</td>\n",
       "      <td>0.498925</td>\n",
       "      <td>0.646538</td>\n",
       "      <td>0.311037</td>\n",
       "      <td>0.330207</td>\n",
       "      <td>0.132442</td>\n",
       "      <td>0.482903</td>\n",
       "      <td>0.112264</td>\n",
       "      <td>-0.022351</td>\n",
       "      <td>0.001225</td>\n",
       "      <td>...</td>\n",
       "      <td>-0.194308</td>\n",
       "      <td>0.098467</td>\n",
       "      <td>0.021840</td>\n",
       "      <td>0.148407</td>\n",
       "      <td>-0.097970</td>\n",
       "      <td>0.114331</td>\n",
       "      <td>0.382682</td>\n",
       "      <td>0.004694</td>\n",
       "      <td>-0.060080</td>\n",
       "      <td>-0.194624</td>\n",
       "    </tr>\n",
       "    <tr>\n",
       "      <th>balcony</th>\n",
       "      <td>0.049488</td>\n",
       "      <td>0.011245</td>\n",
       "      <td>0.014338</td>\n",
       "      <td>-0.008685</td>\n",
       "      <td>-0.042538</td>\n",
       "      <td>0.169545</td>\n",
       "      <td>-0.004865</td>\n",
       "      <td>0.167703</td>\n",
       "      <td>0.015458</td>\n",
       "      <td>0.003120</td>\n",
       "      <td>...</td>\n",
       "      <td>0.064628</td>\n",
       "      <td>-0.076751</td>\n",
       "      <td>0.032156</td>\n",
       "      <td>-0.039729</td>\n",
       "      <td>0.019703</td>\n",
       "      <td>-0.027384</td>\n",
       "      <td>0.022962</td>\n",
       "      <td>0.009361</td>\n",
       "      <td>0.004810</td>\n",
       "      <td>0.064858</td>\n",
       "    </tr>\n",
       "    <tr>\n",
       "      <th>airports_nearest</th>\n",
       "      <td>-0.002346</td>\n",
       "      <td>-0.028339</td>\n",
       "      <td>-0.034009</td>\n",
       "      <td>-0.067056</td>\n",
       "      <td>-0.084020</td>\n",
       "      <td>0.111182</td>\n",
       "      <td>-0.055468</td>\n",
       "      <td>0.074863</td>\n",
       "      <td>0.008555</td>\n",
       "      <td>-0.005960</td>\n",
       "      <td>...</td>\n",
       "      <td>0.273028</td>\n",
       "      <td>-0.000164</td>\n",
       "      <td>-0.069355</td>\n",
       "      <td>-0.049539</td>\n",
       "      <td>0.012294</td>\n",
       "      <td>-0.019689</td>\n",
       "      <td>-0.037763</td>\n",
       "      <td>0.008395</td>\n",
       "      <td>0.009155</td>\n",
       "      <td>0.273455</td>\n",
       "    </tr>\n",
       "    <tr>\n",
       "      <th>cityCenters_nearest</th>\n",
       "      <td>-0.048378</td>\n",
       "      <td>-0.212582</td>\n",
       "      <td>-0.235182</td>\n",
       "      <td>-0.188820</td>\n",
       "      <td>-0.298768</td>\n",
       "      <td>0.018381</td>\n",
       "      <td>-0.231320</td>\n",
       "      <td>0.008282</td>\n",
       "      <td>-0.000924</td>\n",
       "      <td>-0.003763</td>\n",
       "      <td>...</td>\n",
       "      <td>1.000000</td>\n",
       "      <td>-0.161508</td>\n",
       "      <td>-0.040780</td>\n",
       "      <td>-0.074718</td>\n",
       "      <td>0.029754</td>\n",
       "      <td>-0.061469</td>\n",
       "      <td>-0.317596</td>\n",
       "      <td>-0.008472</td>\n",
       "      <td>0.032503</td>\n",
       "      <td>0.999455</td>\n",
       "    </tr>\n",
       "    <tr>\n",
       "      <th>parks_around3000</th>\n",
       "      <td>0.021078</td>\n",
       "      <td>0.157072</td>\n",
       "      <td>0.166415</td>\n",
       "      <td>0.134767</td>\n",
       "      <td>0.228499</td>\n",
       "      <td>-0.250861</td>\n",
       "      <td>0.180208</td>\n",
       "      <td>-0.162764</td>\n",
       "      <td>-0.004426</td>\n",
       "      <td>0.001206</td>\n",
       "      <td>...</td>\n",
       "      <td>-0.161508</td>\n",
       "      <td>1.000000</td>\n",
       "      <td>-0.258866</td>\n",
       "      <td>0.305351</td>\n",
       "      <td>-0.169777</td>\n",
       "      <td>0.060284</td>\n",
       "      <td>0.186518</td>\n",
       "      <td>-0.003757</td>\n",
       "      <td>-0.039015</td>\n",
       "      <td>-0.162234</td>\n",
       "    </tr>\n",
       "    <tr>\n",
       "      <th>parks_nearest</th>\n",
       "      <td>-0.007348</td>\n",
       "      <td>-0.016456</td>\n",
       "      <td>-0.021178</td>\n",
       "      <td>-0.052725</td>\n",
       "      <td>-0.059906</td>\n",
       "      <td>0.095079</td>\n",
       "      <td>-0.049686</td>\n",
       "      <td>0.071279</td>\n",
       "      <td>-0.005287</td>\n",
       "      <td>-0.011185</td>\n",
       "      <td>...</td>\n",
       "      <td>-0.040780</td>\n",
       "      <td>-0.258866</td>\n",
       "      <td>1.000000</td>\n",
       "      <td>0.078664</td>\n",
       "      <td>-0.000841</td>\n",
       "      <td>0.024098</td>\n",
       "      <td>0.006362</td>\n",
       "      <td>0.018598</td>\n",
       "      <td>-0.020121</td>\n",
       "      <td>-0.040342</td>\n",
       "    </tr>\n",
       "    <tr>\n",
       "      <th>ponds_around3000</th>\n",
       "      <td>-0.010638</td>\n",
       "      <td>0.163669</td>\n",
       "      <td>0.164558</td>\n",
       "      <td>0.094600</td>\n",
       "      <td>0.193718</td>\n",
       "      <td>-0.123975</td>\n",
       "      <td>0.149067</td>\n",
       "      <td>-0.076561</td>\n",
       "      <td>0.000539</td>\n",
       "      <td>0.004476</td>\n",
       "      <td>...</td>\n",
       "      <td>-0.074718</td>\n",
       "      <td>0.305351</td>\n",
       "      <td>0.078664</td>\n",
       "      <td>1.000000</td>\n",
       "      <td>-0.341505</td>\n",
       "      <td>0.074496</td>\n",
       "      <td>0.191691</td>\n",
       "      <td>-0.008338</td>\n",
       "      <td>-0.039388</td>\n",
       "      <td>-0.076287</td>\n",
       "    </tr>\n",
       "    <tr>\n",
       "      <th>ponds_nearest</th>\n",
       "      <td>-0.002429</td>\n",
       "      <td>-0.086694</td>\n",
       "      <td>-0.100033</td>\n",
       "      <td>-0.058516</td>\n",
       "      <td>-0.118643</td>\n",
       "      <td>0.041602</td>\n",
       "      <td>-0.084449</td>\n",
       "      <td>0.027469</td>\n",
       "      <td>-0.001582</td>\n",
       "      <td>-0.009285</td>\n",
       "      <td>...</td>\n",
       "      <td>0.029754</td>\n",
       "      <td>-0.169777</td>\n",
       "      <td>-0.000841</td>\n",
       "      <td>-0.341505</td>\n",
       "      <td>1.000000</td>\n",
       "      <td>-0.078984</td>\n",
       "      <td>-0.105251</td>\n",
       "      <td>0.013450</td>\n",
       "      <td>0.038766</td>\n",
       "      <td>0.031892</td>\n",
       "    </tr>\n",
       "    <tr>\n",
       "      <th>days_exposition</th>\n",
       "      <td>-0.028202</td>\n",
       "      <td>0.084229</td>\n",
       "      <td>0.150881</td>\n",
       "      <td>0.124050</td>\n",
       "      <td>0.110269</td>\n",
       "      <td>-0.050751</td>\n",
       "      <td>0.146082</td>\n",
       "      <td>-0.039095</td>\n",
       "      <td>-0.011325</td>\n",
       "      <td>-0.001191</td>\n",
       "      <td>...</td>\n",
       "      <td>-0.061469</td>\n",
       "      <td>0.060284</td>\n",
       "      <td>0.024098</td>\n",
       "      <td>0.074496</td>\n",
       "      <td>-0.078984</td>\n",
       "      <td>1.000000</td>\n",
       "      <td>0.049051</td>\n",
       "      <td>-0.028859</td>\n",
       "      <td>-0.611799</td>\n",
       "      <td>-0.061461</td>\n",
       "    </tr>\n",
       "    <tr>\n",
       "      <th>price_of_sqrm</th>\n",
       "      <td>0.133783</td>\n",
       "      <td>0.750671</td>\n",
       "      <td>0.301556</td>\n",
       "      <td>0.056842</td>\n",
       "      <td>0.282277</td>\n",
       "      <td>0.147284</td>\n",
       "      <td>0.230019</td>\n",
       "      <td>0.127397</td>\n",
       "      <td>0.000766</td>\n",
       "      <td>0.008607</td>\n",
       "      <td>...</td>\n",
       "      <td>-0.317596</td>\n",
       "      <td>0.186518</td>\n",
       "      <td>0.006362</td>\n",
       "      <td>0.191691</td>\n",
       "      <td>-0.105251</td>\n",
       "      <td>0.049051</td>\n",
       "      <td>1.000000</td>\n",
       "      <td>-0.002890</td>\n",
       "      <td>0.008108</td>\n",
       "      <td>-0.318325</td>\n",
       "    </tr>\n",
       "    <tr>\n",
       "      <th>month</th>\n",
       "      <td>0.005364</td>\n",
       "      <td>0.000753</td>\n",
       "      <td>0.004983</td>\n",
       "      <td>-0.001707</td>\n",
       "      <td>-0.005522</td>\n",
       "      <td>0.015376</td>\n",
       "      <td>-0.000012</td>\n",
       "      <td>0.018426</td>\n",
       "      <td>-0.008076</td>\n",
       "      <td>-0.005384</td>\n",
       "      <td>...</td>\n",
       "      <td>-0.008472</td>\n",
       "      <td>-0.003757</td>\n",
       "      <td>0.018598</td>\n",
       "      <td>-0.008338</td>\n",
       "      <td>0.013450</td>\n",
       "      <td>-0.028859</td>\n",
       "      <td>-0.002890</td>\n",
       "      <td>1.000000</td>\n",
       "      <td>-0.268852</td>\n",
       "      <td>-0.008553</td>\n",
       "    </tr>\n",
       "    <tr>\n",
       "      <th>year</th>\n",
       "      <td>0.141759</td>\n",
       "      <td>-0.043833</td>\n",
       "      <td>-0.080262</td>\n",
       "      <td>-0.054313</td>\n",
       "      <td>-0.052094</td>\n",
       "      <td>0.007592</td>\n",
       "      <td>-0.074283</td>\n",
       "      <td>0.004961</td>\n",
       "      <td>-0.030266</td>\n",
       "      <td>-0.030842</td>\n",
       "      <td>...</td>\n",
       "      <td>0.032503</td>\n",
       "      <td>-0.039015</td>\n",
       "      <td>-0.020121</td>\n",
       "      <td>-0.039388</td>\n",
       "      <td>0.038766</td>\n",
       "      <td>-0.611799</td>\n",
       "      <td>0.008108</td>\n",
       "      <td>-0.268852</td>\n",
       "      <td>1.000000</td>\n",
       "      <td>0.032680</td>\n",
       "    </tr>\n",
       "    <tr>\n",
       "      <th>cityCenters_nearest_km</th>\n",
       "      <td>-0.047829</td>\n",
       "      <td>-0.212876</td>\n",
       "      <td>-0.235027</td>\n",
       "      <td>-0.188384</td>\n",
       "      <td>-0.299147</td>\n",
       "      <td>0.017732</td>\n",
       "      <td>-0.230999</td>\n",
       "      <td>0.007798</td>\n",
       "      <td>-0.000757</td>\n",
       "      <td>-0.003223</td>\n",
       "      <td>...</td>\n",
       "      <td>0.999455</td>\n",
       "      <td>-0.162234</td>\n",
       "      <td>-0.040342</td>\n",
       "      <td>-0.076287</td>\n",
       "      <td>0.031892</td>\n",
       "      <td>-0.061461</td>\n",
       "      <td>-0.318325</td>\n",
       "      <td>-0.008553</td>\n",
       "      <td>0.032680</td>\n",
       "      <td>1.000000</td>\n",
       "    </tr>\n",
       "  </tbody>\n",
       "</table>\n",
       "<p>23 rows × 23 columns</p>\n",
       "</div>"
      ],
      "text/plain": [
       "                        total_images  last_price  total_area     rooms  \\\n",
       "total_images                1.000000    0.107938    0.115390  0.095403   \n",
       "last_price                  0.107938    1.000000    0.642457  0.361555   \n",
       "total_area                  0.115390    0.642457    1.000000  0.761218   \n",
       "rooms                       0.095403    0.361555    0.761218  1.000000   \n",
       "ceiling_height              0.050240    0.275592    0.382403  0.251281   \n",
       "floors_total                0.013497   -0.008040   -0.072059 -0.219620   \n",
       "living_area                 0.104905    0.577227    0.943451  0.834512   \n",
       "floor                       0.033687    0.022696   -0.024786 -0.147340   \n",
       "studio                     -0.015802   -0.007694   -0.020421 -0.022131   \n",
       "open_plan                  -0.012589    0.007529    0.004189  0.007146   \n",
       "kitchen_area                0.111266    0.498925    0.646538  0.311037   \n",
       "balcony                     0.049488    0.011245    0.014338 -0.008685   \n",
       "airports_nearest           -0.002346   -0.028339   -0.034009 -0.067056   \n",
       "cityCenters_nearest        -0.048378   -0.212582   -0.235182 -0.188820   \n",
       "parks_around3000            0.021078    0.157072    0.166415  0.134767   \n",
       "parks_nearest              -0.007348   -0.016456   -0.021178 -0.052725   \n",
       "ponds_around3000           -0.010638    0.163669    0.164558  0.094600   \n",
       "ponds_nearest              -0.002429   -0.086694   -0.100033 -0.058516   \n",
       "days_exposition            -0.028202    0.084229    0.150881  0.124050   \n",
       "price_of_sqrm               0.133783    0.750671    0.301556  0.056842   \n",
       "month                       0.005364    0.000753    0.004983 -0.001707   \n",
       "year                        0.141759   -0.043833   -0.080262 -0.054313   \n",
       "cityCenters_nearest_km     -0.047829   -0.212876   -0.235027 -0.188384   \n",
       "\n",
       "                        ceiling_height  floors_total  living_area     floor  \\\n",
       "total_images                  0.050240      0.013497     0.104905  0.033687   \n",
       "last_price                    0.275592     -0.008040     0.577227  0.022696   \n",
       "total_area                    0.382403     -0.072059     0.943451 -0.024786   \n",
       "rooms                         0.251281     -0.219620     0.834512 -0.147340   \n",
       "ceiling_height                1.000000     -0.077223     0.361632 -0.045498   \n",
       "floors_total                 -0.077223      1.000000    -0.159030  0.679117   \n",
       "living_area                   0.361632     -0.159030     1.000000 -0.090956   \n",
       "floor                        -0.045498      0.679117    -0.090956  1.000000   \n",
       "studio                       -0.000235      0.016861    -0.015087  0.011506   \n",
       "open_plan                     0.005682      0.005291     0.006145  0.000497   \n",
       "kitchen_area                  0.330207      0.132442     0.482903  0.112264   \n",
       "balcony                      -0.042538      0.169545    -0.004865  0.167703   \n",
       "airports_nearest             -0.084020      0.111182    -0.055468  0.074863   \n",
       "cityCenters_nearest          -0.298768      0.018381    -0.231320  0.008282   \n",
       "parks_around3000              0.228499     -0.250861     0.180208 -0.162764   \n",
       "parks_nearest                -0.059906      0.095079    -0.049686  0.071279   \n",
       "ponds_around3000              0.193718     -0.123975     0.149067 -0.076561   \n",
       "ponds_nearest                -0.118643      0.041602    -0.084449  0.027469   \n",
       "days_exposition               0.110269     -0.050751     0.146082 -0.039095   \n",
       "price_of_sqrm                 0.282277      0.147284     0.230019  0.127397   \n",
       "month                        -0.005522      0.015376    -0.000012  0.018426   \n",
       "year                         -0.052094      0.007592    -0.074283  0.004961   \n",
       "cityCenters_nearest_km       -0.299147      0.017732    -0.230999  0.007798   \n",
       "\n",
       "                          studio  open_plan  ...  cityCenters_nearest  \\\n",
       "total_images           -0.015802  -0.012589  ...            -0.048378   \n",
       "last_price             -0.007694   0.007529  ...            -0.212582   \n",
       "total_area             -0.020421   0.004189  ...            -0.235182   \n",
       "rooms                  -0.022131   0.007146  ...            -0.188820   \n",
       "ceiling_height         -0.000235   0.005682  ...            -0.298768   \n",
       "floors_total            0.016861   0.005291  ...             0.018381   \n",
       "living_area            -0.015087   0.006145  ...            -0.231320   \n",
       "floor                   0.011506   0.000497  ...             0.008282   \n",
       "studio                  1.000000  -0.000400  ...            -0.000924   \n",
       "open_plan              -0.000400   1.000000  ...            -0.003763   \n",
       "kitchen_area           -0.022351   0.001225  ...            -0.194308   \n",
       "balcony                 0.015458   0.003120  ...             0.064628   \n",
       "airports_nearest        0.008555  -0.005960  ...             0.273028   \n",
       "cityCenters_nearest    -0.000924  -0.003763  ...             1.000000   \n",
       "parks_around3000       -0.004426   0.001206  ...            -0.161508   \n",
       "parks_nearest          -0.005287  -0.011185  ...            -0.040780   \n",
       "ponds_around3000        0.000539   0.004476  ...            -0.074718   \n",
       "ponds_nearest          -0.001582  -0.009285  ...             0.029754   \n",
       "days_exposition        -0.011325  -0.001191  ...            -0.061469   \n",
       "price_of_sqrm           0.000766   0.008607  ...            -0.317596   \n",
       "month                  -0.008076  -0.005384  ...            -0.008472   \n",
       "year                   -0.030266  -0.030842  ...             0.032503   \n",
       "cityCenters_nearest_km -0.000757  -0.003223  ...             0.999455   \n",
       "\n",
       "                        parks_around3000  parks_nearest  ponds_around3000  \\\n",
       "total_images                    0.021078      -0.007348         -0.010638   \n",
       "last_price                      0.157072      -0.016456          0.163669   \n",
       "total_area                      0.166415      -0.021178          0.164558   \n",
       "rooms                           0.134767      -0.052725          0.094600   \n",
       "ceiling_height                  0.228499      -0.059906          0.193718   \n",
       "floors_total                   -0.250861       0.095079         -0.123975   \n",
       "living_area                     0.180208      -0.049686          0.149067   \n",
       "floor                          -0.162764       0.071279         -0.076561   \n",
       "studio                         -0.004426      -0.005287          0.000539   \n",
       "open_plan                       0.001206      -0.011185          0.004476   \n",
       "kitchen_area                    0.098467       0.021840          0.148407   \n",
       "balcony                        -0.076751       0.032156         -0.039729   \n",
       "airports_nearest               -0.000164      -0.069355         -0.049539   \n",
       "cityCenters_nearest            -0.161508      -0.040780         -0.074718   \n",
       "parks_around3000                1.000000      -0.258866          0.305351   \n",
       "parks_nearest                  -0.258866       1.000000          0.078664   \n",
       "ponds_around3000                0.305351       0.078664          1.000000   \n",
       "ponds_nearest                  -0.169777      -0.000841         -0.341505   \n",
       "days_exposition                 0.060284       0.024098          0.074496   \n",
       "price_of_sqrm                   0.186518       0.006362          0.191691   \n",
       "month                          -0.003757       0.018598         -0.008338   \n",
       "year                           -0.039015      -0.020121         -0.039388   \n",
       "cityCenters_nearest_km         -0.162234      -0.040342         -0.076287   \n",
       "\n",
       "                        ponds_nearest  days_exposition  price_of_sqrm  \\\n",
       "total_images                -0.002429        -0.028202       0.133783   \n",
       "last_price                  -0.086694         0.084229       0.750671   \n",
       "total_area                  -0.100033         0.150881       0.301556   \n",
       "rooms                       -0.058516         0.124050       0.056842   \n",
       "ceiling_height              -0.118643         0.110269       0.282277   \n",
       "floors_total                 0.041602        -0.050751       0.147284   \n",
       "living_area                 -0.084449         0.146082       0.230019   \n",
       "floor                        0.027469        -0.039095       0.127397   \n",
       "studio                      -0.001582        -0.011325       0.000766   \n",
       "open_plan                   -0.009285        -0.001191       0.008607   \n",
       "kitchen_area                -0.097970         0.114331       0.382682   \n",
       "balcony                      0.019703        -0.027384       0.022962   \n",
       "airports_nearest             0.012294        -0.019689      -0.037763   \n",
       "cityCenters_nearest          0.029754        -0.061469      -0.317596   \n",
       "parks_around3000            -0.169777         0.060284       0.186518   \n",
       "parks_nearest               -0.000841         0.024098       0.006362   \n",
       "ponds_around3000            -0.341505         0.074496       0.191691   \n",
       "ponds_nearest                1.000000        -0.078984      -0.105251   \n",
       "days_exposition             -0.078984         1.000000       0.049051   \n",
       "price_of_sqrm               -0.105251         0.049051       1.000000   \n",
       "month                        0.013450        -0.028859      -0.002890   \n",
       "year                         0.038766        -0.611799       0.008108   \n",
       "cityCenters_nearest_km       0.031892        -0.061461      -0.318325   \n",
       "\n",
       "                           month      year  cityCenters_nearest_km  \n",
       "total_images            0.005364  0.141759               -0.047829  \n",
       "last_price              0.000753 -0.043833               -0.212876  \n",
       "total_area              0.004983 -0.080262               -0.235027  \n",
       "rooms                  -0.001707 -0.054313               -0.188384  \n",
       "ceiling_height         -0.005522 -0.052094               -0.299147  \n",
       "floors_total            0.015376  0.007592                0.017732  \n",
       "living_area            -0.000012 -0.074283               -0.230999  \n",
       "floor                   0.018426  0.004961                0.007798  \n",
       "studio                 -0.008076 -0.030266               -0.000757  \n",
       "open_plan              -0.005384 -0.030842               -0.003223  \n",
       "kitchen_area            0.004694 -0.060080               -0.194624  \n",
       "balcony                 0.009361  0.004810                0.064858  \n",
       "airports_nearest        0.008395  0.009155                0.273455  \n",
       "cityCenters_nearest    -0.008472  0.032503                0.999455  \n",
       "parks_around3000       -0.003757 -0.039015               -0.162234  \n",
       "parks_nearest           0.018598 -0.020121               -0.040342  \n",
       "ponds_around3000       -0.008338 -0.039388               -0.076287  \n",
       "ponds_nearest           0.013450  0.038766                0.031892  \n",
       "days_exposition        -0.028859 -0.611799               -0.061461  \n",
       "price_of_sqrm          -0.002890  0.008108               -0.318325  \n",
       "month                   1.000000 -0.268852               -0.008553  \n",
       "year                   -0.268852  1.000000                0.032680  \n",
       "cityCenters_nearest_km -0.008553  0.032680                1.000000  \n",
       "\n",
       "[23 rows x 23 columns]"
      ]
     },
     "execution_count": 38,
     "metadata": {},
     "output_type": "execute_result"
    }
   ],
   "source": [
    "\n",
    "data.corr()"
   ]
  },
  {
   "cell_type": "markdown",
   "metadata": {},
   "source": [
    "total_area : 0.642457\t\n",
    "rooms : 0.361555\n",
    "month :\t0.000753\t\n",
    "living_area : 0.577227\n",
    "year\t:  -0.043833\t\n",
    "Согласно коэффициенту кореляции можно сделать вывод, что кол-во комнат и общая площадь квартиры больше всего влияют на общую (полную) стоимость объекта."
   ]
  },
  {
   "cell_type": "markdown",
   "metadata": {},
   "source": [
    "Посчитайте среднюю цену одного квадратного метра в 10 населённых пунктах с наибольшим числом объявлений — постройте сводную таблицу с количеством объявлений и средней ценой квадратного метра для этих населенных пунктов. Выделите населённые пункты с самой высокой и низкой стоимостью квадратного метра."
   ]
  },
  {
   "cell_type": "code",
   "execution_count": 39,
   "metadata": {
    "scrolled": true
   },
   "outputs": [
    {
     "name": "stdout",
     "output_type": "stream",
     "text": [
      "                   median_price_of_sqrm  count_price_of_sqrm\n",
      "locality_name                                               \n",
      "Санкт-Петербург              104638.620                15599\n",
      "Мурино                        84801.380                  562\n",
      "Кудрово                       95348.840                  451\n",
      "поселок Шушары                76747.970                  436\n",
      "Всеволожск                    65789.470                  392\n",
      "Пушкин                       100000.000                  369\n",
      "Колпино                       74723.745                  338\n",
      "поселок Парголово             91917.590                  323\n",
      "Гатчина                       67796.610                  307\n",
      "Выборг                        58158.320                  237\n",
      "\n",
      "самая высокая стоимость квадратного метра                  median_price_of_sqrm  count_price_of_sqrm\n",
      "locality_name                                             \n",
      "Санкт-Петербург             104638.62                15599\n",
      "самая низкая стоимость квадратного метра                     median_price_of_sqrm  count_price_of_sqrm\n",
      "locality_name                                                \n",
      "деревня Старополье               11000.0                    3\n"
     ]
    }
   ],
   "source": [
    "pivot = data.pivot_table(index=['locality_name'], values=['price_of_sqrm'], aggfunc=['median','count'])\n",
    "pivot. columns = ['_'.join(str(s). strip () for s in col if s) for col in pivot. columns ]\n",
    "pivot = pivot.sort_values(by=['count_price_of_sqrm'], ascending=False)\n",
    "print(pivot.head(10)) \n",
    "print()\n",
    "maxp = pivot[pivot['median_price_of_sqrm'] == pivot['median_price_of_sqrm']. max()]\n",
    "print('самая высокая стоимость квадратного метра', maxp)\n",
    "minp = pivot[pivot['median_price_of_sqrm'] == pivot['median_price_of_sqrm']. min()]\n",
    "print('самая низкая стоимость квадратного метра', minp)"
   ]
  },
  {
   "cell_type": "markdown",
   "metadata": {},
   "source": [
    "Среди 10 населённых пунктов с наибольшим числом объявлений самую высокую стоимость квадкотного метра имеют Спб и Пушкин, самую низкую - Выборг и Всеволожск. Среди всех предстваленных для анализа населенных пунктов самую высокую стоимость имеет Спб, а самую низкую - деревня Ставрополье."
   ]
  },
  {
   "cell_type": "markdown",
   "metadata": {},
   "source": [
    "<div class=\"alert alert-success\">\n",
    "\n",
    "**✔️ Комментарий ревьюера ✔️**\n",
    "   \n",
    "   Верно\n",
    "\n",
    "</div>\n"
   ]
  },
  {
   "cell_type": "markdown",
   "metadata": {},
   "source": [
    "Ранее вы посчитали расстояние до центра в километрах. Теперь выделите квартиры в Санкт-Петербурге с помощью столбца locality_name и вычислите их среднюю стоимость на разном удалении от центра. Учитывайте каждый километр расстояния: узнайте среднюю цену квартир в одном километре от центра, в двух и так далее. Опишите, как стоимость объектов зависит от расстояния до центра города — постройте график изменения средней цены для каждого километра от центра Петербурга"
   ]
  },
  {
   "cell_type": "code",
   "execution_count": 40,
   "metadata": {},
   "outputs": [
    {
     "data": {
      "image/png": "[encoded data removed]",
      "text/plain": [
       "<Figure size 360x360 with 1 Axes>"
      ]
     },
     "metadata": {
      "needs_background": "light"
     },
     "output_type": "display_data"
    }
   ],
   "source": [
    "data_spb = data.query('locality_name == \"Санкт-Петербург\"')\n",
    "data_spb = data_spb.pivot_table(index = 'cityCenters_nearest_km', values = 'last_price', aggfunc = 'median').plot(grid=True, style = 'o', figsize = (5,5))\n"
   ]
  },
  {
   "cell_type": "markdown",
   "metadata": {},
   "source": [
    "Стоимость объектов меняется в зависимости от расположения, чем ближе расположена квартира от центра, тем выше цена, чем дальше, тем цена ниже. Так цена на квартиру в самом центре близится к 20 млн, а в 30 км от центра она не более 5 млн."
   ]
  },
  {
   "cell_type": "markdown",
   "metadata": {},
   "source": [
    "<div class=\"alert alert-success\">\n",
    "✔️ Комментарий ревьюера ✔️\n",
    "\n",
    "Верно. На графике после 7 км заметно, что цена меняется. Это возможный центр города.\n",
    "\n",
    "Если интересно, то самый дорогой по стоимости жилья район в Санкт-Петербурге риелторы назвали \"Золотой треугольник\". Дома \"Золотого треугольника\" находятся в пределах Невского проспекта, набережной реки Фонтанки и Дворцовой набережной.\n",
    "Для географической справки: https://zen.yandex.ru/media/id/5cb4ebcc0a51a300b5b1f60d/zolotoi-treugolnik-sanktpeterburga-chto-eto-i-gde-nahoditsia-5edf942db1204610073e88b2\n",
    "\n",
    "</div>"
   ]
  },
  {
   "cell_type": "code",
   "execution_count": 41,
   "metadata": {},
   "outputs": [
    {
     "name": "stdout",
     "output_type": "stream",
     "text": [
      "<class 'pandas.core.frame.DataFrame'>\n",
      "Int64Index: 23489 entries, 0 to 23698\n",
      "Data columns (total 28 columns):\n",
      " #   Column                  Non-Null Count  Dtype         \n",
      "---  ------                  --------------  -----         \n",
      " 0   total_images            23489 non-null  int64         \n",
      " 1   last_price              23489 non-null  int64         \n",
      " 2   total_area              23489 non-null  float64       \n",
      " 3   first_day_exposition    23489 non-null  datetime64[ns]\n",
      " 4   rooms                   23489 non-null  int64         \n",
      " 5   ceiling_height          23489 non-null  float64       \n",
      " 6   floors_total            23406 non-null  float64       \n",
      " 7   living_area             23489 non-null  float64       \n",
      " 8   floor                   23489 non-null  int64         \n",
      " 9   is_apartment            23489 non-null  object        \n",
      " 10  studio                  23489 non-null  bool          \n",
      " 11  open_plan               23489 non-null  bool          \n",
      " 12  kitchen_area            23489 non-null  float64       \n",
      " 13  balcony                 23489 non-null  int64         \n",
      " 14  locality_name           23440 non-null  object        \n",
      " 15  airports_nearest        18027 non-null  float64       \n",
      " 16  cityCenters_nearest     18050 non-null  float64       \n",
      " 17  parks_around3000        18051 non-null  float64       \n",
      " 18  parks_nearest           8046 non-null   float64       \n",
      " 19  ponds_around3000        18051 non-null  float64       \n",
      " 20  ponds_nearest           9032 non-null   float64       \n",
      " 21  days_exposition         20323 non-null  float64       \n",
      " 22  price_of_sqrm           23489 non-null  float64       \n",
      " 23  month                   23489 non-null  int64         \n",
      " 24  year                    23489 non-null  int64         \n",
      " 25  day                     23489 non-null  object        \n",
      " 26  floor_type              23489 non-null  object        \n",
      " 27  cityCenters_nearest_km  18050 non-null  float64       \n",
      "dtypes: bool(2), datetime64[ns](1), float64(14), int64(7), object(4)\n",
      "memory usage: 4.9+ MB\n"
     ]
    }
   ],
   "source": [
    "data.info()"
   ]
  },
  {
   "cell_type": "markdown",
   "metadata": {},
   "source": [
    "Я избавилась от 210 строк, что несильно исказило информацию."
   ]
  },
  {
   "cell_type": "markdown",
   "metadata": {
    "id": "h7VpzkIDAwb-"
   },
   "source": [
    "### Напишите общий вывод"
   ]
  },
  {
   "cell_type": "markdown",
   "metadata": {},
   "source": [
    "** В исходных данных присутствовало большое количество пропусков, в ходе проведения анализа было принято решение: \n",
    "- заполнить пропуски высоты потолков медианным значением, так как пропущенных значений было много\n",
    "- пропуски в жилой площади и площади кухни были запонены коэффициентом соотношения с общей площадью\n",
    "- прокуски в балконах и аппартаментах были заполнены 0, тк скорее всего люди не имея их не заполнили данные\n",
    "- также есть предположение, что информация о близости парков и прудов была утерена системой, тк кол-во пропусков совпадает\n",
    "\n",
    "** Был установлен корректный тип данных для времени и целочисленных значений\n",
    "** Были устранены некорректные типы данных в названиях населенных пунктов \n",
    "** С помощью графиков были удалены аномальные значения\n",
    "** Для дальнейшего анализа были добавлены новые столбцы \n",
    "** Были изучены основные параметры с помощью графиков, анализируя параметры я избавилась от аномальных значений, а также исправила ошибки пользователей в написании высоты потолков с помощью функций \n",
    "** Изучая скорость продаж квартир, я сделала вывод, что в среднем продажа занимает 3 месяца, считаю, что быстрыми можно назвать продажи до 1 месяца, а долгими более 7 месяцев.\n",
    "** Цена зависит от таких параметров, как \n",
    "- общая площадь; чем больше площадь, тем выше цена\n",
    "- жилая площадь; чем больше площадь, тем выше цена\n",
    "- площадь кухни; чем больше площадь, тем выше цена\n",
    "- количество комнат; чем больше комнат, тем выше цена\n",
    "- этаж, квартиры на первом этаже имеют самую низкую цену, затем идут квартиры на последнем этаже, и самую высокую цену имеют квартиры на других этажах\n",
    "- а также был замечен спад на цены квартир в 2014 году, тк был крицис, и тенденция к увеличению стоимости квартир, начиная с 2017 года \n",
    "\n",
    "** Среди 10 населённых пунктов с наибольшим числом объявлений самую высокую стоимость квадратного метра имеют Спб и Пушкин, самую низкую - Выборг и Всеволожск. Среди всех предстваленных для анализа населенных пунктов самую высокую стоимость имеет Спб, а самую низкую - деревня Ставрополье.\n",
    "** на цену влияет расположение квартиры, чем она ближе к центру, тем квартира дороже\n"
   ]
  },
  {
   "cell_type": "markdown",
   "metadata": {},
   "source": [
    "<div class=\"alert alert-success\">\n",
    "\n",
    "**✔️ Комментарий ревьюера ✔️**\n",
    "   \n",
    "   Дарья, проведен основательный и подробный анализ. Все наглядно - графики и гистограммы подтверждают обоснованные выводы. Учти мои замечания. Возможно, придется немного подправить выводы. Жду твой проект на повторное ревью. Успехов!\n",
    "\n",
    "</div>\n"
   ]
  },
  {
   "cell_type": "markdown",
   "metadata": {},
   "source": [
    "<div class=\"alert alert-success\">\n",
    "\n",
    "**✔️ Комментарий ревьюера v2✔️**\n",
    "   \n",
    "   Дарья, замечания устранены 👍. Уверен, мои советы пригодятся тебе в новых проектах. Успехов в обучении! 😉 \n",
    "\n",
    "</div>"
   ]
  },
  {
   "cell_type": "markdown",
   "metadata": {
    "id": "A90mc0BgAwb-"
   },
   "source": [
    "**Чек-лист готовности проекта**\n",
    "\n",
    "Поставьте 'x' в выполненных пунктах. Далее нажмите Shift+Enter."
   ]
  },
  {
   "cell_type": "markdown",
   "metadata": {
    "id": "ME3sTWm6Awb-"
   },
   "source": [
    "- [x]  Файл с данными открыт.\n",
    "- [x]  Файл с данными изучен: выведены первые строки, использован метод `info()`, построены гистограммы.\n",
    "- [x]  Найдены пропущенные значения.\n",
    "- [x]  Пропущенные значения заполнены там, где это возможно.\n",
    "- [x]  Объяснено, какие пропущенные значения обнаружены.\n",
    "- [x]  В каждом столбце установлен корректный тип данных.\n",
    "- [x]  Объяснено, в каких столбцах изменён тип данных и почему.\n",
    "- [x]  Устранены неявные дубликаты в названиях населённых пунктов.\n",
    "- [x]  Обработаны редкие и выбивающиеся значения (аномалии).\n",
    "- [x]  В таблицу добавлены новые параметры:\n",
    "       – цена одного квадратного метра;\n",
    "       – день публикации объявления (0 - понедельник, 1 - вторник и т. д.);\n",
    "       – месяц публикации объявления;\n",
    "       – год публикации объявления;\n",
    "       – тип этажа квартиры (значения — «первый», «последний», «другой»);\n",
    "       – расстояние до центра города в километрах.\n",
    "- [x]  Изучены и описаны параметры:\n",
    "        - общая площадь;\n",
    "        - жилая площадь;\n",
    "        - площадь кухни;\n",
    "        - цена объекта;\n",
    "        - количество комнат;\n",
    "        - высота потолков;\n",
    "        - тип этажа квартиры («первый», «последний», «другой»);\n",
    "        - общее количество этажей в доме;\n",
    "        - расстояние до центра города в метрах;\n",
    "        - расстояние до ближайшего парка.\n",
    "- [x]  Выполнено задание «Изучите, как быстро продавались квартиры (столбец `days_exposition`)»:\n",
    "    - построена гистограмма;\n",
    "    - рассчитаны среднее и медиана;\n",
    "    - описано, сколько обычно занимает продажа и указано, какие продажи можно считать быстрыми, а какие — необычно долгими.\n",
    "- [x]  Выполнено задание «Определите факторы, которые больше всего влияют на общую (полную) стоимость объекта». Построены графики, которые показывают зависимость цены от параметров:\n",
    "        - общая площадь;\n",
    "        - жилая площадь;\n",
    "        - площадь кухни;\n",
    "        - количество комнат;\n",
    "        - тип этажа, на котором расположена квартира (первый, последний, другой);\n",
    "        - дата размещения (день недели, месяц, год).\n",
    "- [x]  Выполнено задание «Посчитайте среднюю цену одного квадратного метра в 10 населённых пунктах с наибольшим числом объявлений»:\n",
    "    - выделены населённые пункты с самой высокой и низкой стоимостью квадратного метра.\n",
    "- [x]  Выполнено задание «Выделите квартиры в Санкт-Петербурге с помощью столбца `locality_name` и вычислите их среднюю стоимость на разном удалении от центра»:\n",
    "    -  учтён каждый километр расстояния, известны средние цены квартир в одном километре от центра, в двух и так далее;\n",
    "    -  описано, как стоимость объекта зависит от расстояния до центра города;\n",
    "    -  построен график изменения средней цены для каждого километра от центра Петербурга.\n",
    "- [x]  На каждом этапе сделаны промежуточные выводы.\n",
    "- [x]  В конце проекта сделан общий вывод."
   ]
  }
 ],
 "metadata": {
  "ExecuteTimeLog": [
   {
    "duration": 693,
    "start_time": "2024-04-18T05:44:17.468Z"
   },
   {
    "duration": 114,
    "start_time": "2024-04-18T05:44:33.083Z"
   },
   {
    "duration": 117,
    "start_time": "2024-04-18T05:46:21.859Z"
   },
   {
    "duration": 2616,
    "start_time": "2024-04-18T05:46:47.209Z"
   },
   {
    "duration": 2350,
    "start_time": "2024-04-18T06:01:47.515Z"
   },
   {
    "duration": 2427,
    "start_time": "2024-04-18T06:02:59.601Z"
   },
   {
    "duration": 2242,
    "start_time": "2024-04-18T06:03:18.831Z"
   },
   {
    "duration": 2393,
    "start_time": "2024-04-18T06:03:59.897Z"
   },
   {
    "duration": 2347,
    "start_time": "2024-04-18T06:07:16.219Z"
   },
   {
    "duration": 16,
    "start_time": "2024-04-18T06:10:22.350Z"
   },
   {
    "duration": 113,
    "start_time": "2024-04-18T06:54:06.322Z"
   },
   {
    "duration": 84,
    "start_time": "2024-04-18T06:54:10.924Z"
   },
   {
    "duration": 20,
    "start_time": "2024-04-18T06:54:17.132Z"
   },
   {
    "duration": 28,
    "start_time": "2024-04-18T06:55:06.090Z"
   },
   {
    "duration": 50,
    "start_time": "2024-04-18T07:17:22.607Z"
   },
   {
    "duration": 35,
    "start_time": "2024-04-18T07:29:37.876Z"
   },
   {
    "duration": 39,
    "start_time": "2024-04-18T07:31:38.529Z"
   },
   {
    "duration": 25,
    "start_time": "2024-04-18T07:32:34.076Z"
   },
   {
    "duration": 89,
    "start_time": "2024-04-18T07:35:53.401Z"
   },
   {
    "duration": 1327,
    "start_time": "2024-04-18T07:36:50.649Z"
   },
   {
    "duration": 1371,
    "start_time": "2024-04-18T07:37:13.812Z"
   },
   {
    "duration": 1442,
    "start_time": "2024-04-18T07:38:04.718Z"
   },
   {
    "duration": 25,
    "start_time": "2024-04-18T07:38:43.906Z"
   },
   {
    "duration": 27,
    "start_time": "2024-04-18T07:39:09.101Z"
   },
   {
    "duration": 1359,
    "start_time": "2024-04-18T07:39:44.284Z"
   },
   {
    "duration": 13,
    "start_time": "2024-04-18T09:11:09.566Z"
   },
   {
    "duration": 3129,
    "start_time": "2024-04-18T09:12:00.129Z"
   },
   {
    "duration": 12,
    "start_time": "2024-04-18T09:12:08.781Z"
   },
   {
    "duration": 28,
    "start_time": "2024-04-18T09:15:55.173Z"
   },
   {
    "duration": 22,
    "start_time": "2024-04-18T09:16:07.562Z"
   },
   {
    "duration": 14,
    "start_time": "2024-04-18T09:23:58.126Z"
   },
   {
    "duration": 12,
    "start_time": "2024-04-18T09:24:27.177Z"
   },
   {
    "duration": 12,
    "start_time": "2024-04-18T09:27:55.480Z"
   },
   {
    "duration": 5,
    "start_time": "2024-04-18T09:32:19.379Z"
   },
   {
    "duration": 5,
    "start_time": "2024-04-18T09:33:51.074Z"
   },
   {
    "duration": 6,
    "start_time": "2024-04-18T09:34:58.218Z"
   },
   {
    "duration": 7,
    "start_time": "2024-04-18T09:36:43.749Z"
   },
   {
    "duration": 101,
    "start_time": "2024-04-18T09:38:14.997Z"
   },
   {
    "duration": 20,
    "start_time": "2024-04-18T09:38:26.682Z"
   },
   {
    "duration": 15,
    "start_time": "2024-04-18T09:39:26.490Z"
   },
   {
    "duration": 3104,
    "start_time": "2024-04-18T09:43:07.677Z"
   },
   {
    "duration": 11,
    "start_time": "2024-04-18T09:43:40.210Z"
   },
   {
    "duration": 23,
    "start_time": "2024-04-18T09:44:22.549Z"
   },
   {
    "duration": 13,
    "start_time": "2024-04-18T09:44:29.180Z"
   },
   {
    "duration": 18,
    "start_time": "2024-04-18T09:44:38.465Z"
   },
   {
    "duration": 59,
    "start_time": "2024-04-18T09:44:53.010Z"
   },
   {
    "duration": 33,
    "start_time": "2024-04-18T09:47:58.601Z"
   },
   {
    "duration": 94,
    "start_time": "2024-04-18T09:49:24.448Z"
   },
   {
    "duration": 23,
    "start_time": "2024-04-18T09:50:04.030Z"
   },
   {
    "duration": 26,
    "start_time": "2024-04-18T09:50:57.714Z"
   },
   {
    "duration": 1453,
    "start_time": "2024-04-18T09:52:00.381Z"
   },
   {
    "duration": 25,
    "start_time": "2024-04-18T09:55:29.747Z"
   },
   {
    "duration": 1587,
    "start_time": "2024-04-18T09:57:33.980Z"
   },
   {
    "duration": 54,
    "start_time": "2024-04-18T09:57:50.364Z"
   },
   {
    "duration": 61,
    "start_time": "2024-04-18T09:59:02.651Z"
   },
   {
    "duration": 69,
    "start_time": "2024-04-18T10:01:38.666Z"
   },
   {
    "duration": 8,
    "start_time": "2024-04-18T10:05:52.117Z"
   },
   {
    "duration": 13,
    "start_time": "2024-04-18T10:26:20.847Z"
   },
   {
    "duration": 8,
    "start_time": "2024-04-18T10:26:29.056Z"
   },
   {
    "duration": 9,
    "start_time": "2024-04-18T10:26:56.122Z"
   },
   {
    "duration": 9,
    "start_time": "2024-04-18T10:27:12.294Z"
   },
   {
    "duration": 5,
    "start_time": "2024-04-18T10:27:22.816Z"
   },
   {
    "duration": 7,
    "start_time": "2024-04-18T10:27:26.343Z"
   },
   {
    "duration": 43,
    "start_time": "2024-04-18T10:29:45.081Z"
   },
   {
    "duration": 41,
    "start_time": "2024-04-18T10:30:11.343Z"
   },
   {
    "duration": 79,
    "start_time": "2024-04-18T10:31:54.903Z"
   },
   {
    "duration": 83,
    "start_time": "2024-04-18T10:33:11.387Z"
   },
   {
    "duration": 83,
    "start_time": "2024-04-18T10:34:22.586Z"
   },
   {
    "duration": 6,
    "start_time": "2024-04-18T10:34:35.049Z"
   },
   {
    "duration": 3068,
    "start_time": "2024-04-18T10:34:48.257Z"
   },
   {
    "duration": 10,
    "start_time": "2024-04-18T10:34:55.720Z"
   },
   {
    "duration": 31,
    "start_time": "2024-04-18T10:34:58.752Z"
   },
   {
    "duration": 14,
    "start_time": "2024-04-18T10:35:01.621Z"
   },
   {
    "duration": 24,
    "start_time": "2024-04-18T10:35:04.278Z"
   },
   {
    "duration": 43,
    "start_time": "2024-04-18T10:35:07.388Z"
   },
   {
    "duration": 74,
    "start_time": "2024-04-18T10:35:11.253Z"
   },
   {
    "duration": 5,
    "start_time": "2024-04-18T10:35:14.753Z"
   },
   {
    "duration": 86,
    "start_time": "2024-04-18T10:35:17.161Z"
   },
   {
    "duration": 17,
    "start_time": "2024-04-18T10:47:32.842Z"
   },
   {
    "duration": 22,
    "start_time": "2024-04-18T10:48:59.359Z"
   },
   {
    "duration": 19,
    "start_time": "2024-04-18T10:49:12.802Z"
   },
   {
    "duration": 84,
    "start_time": "2024-04-18T10:52:01.742Z"
   },
   {
    "duration": 2348,
    "start_time": "2024-04-18T10:54:12.860Z"
   },
   {
    "duration": 16,
    "start_time": "2024-04-18T10:54:19.710Z"
   },
   {
    "duration": 394,
    "start_time": "2024-04-18T10:55:11.334Z"
   },
   {
    "duration": 2287,
    "start_time": "2024-04-18T10:58:04.569Z"
   },
   {
    "duration": 354,
    "start_time": "2024-04-18T10:58:10.141Z"
   },
   {
    "duration": 1419,
    "start_time": "2024-04-18T11:02:21.646Z"
   },
   {
    "duration": 27,
    "start_time": "2024-04-18T11:03:00.296Z"
   },
   {
    "duration": 48,
    "start_time": "2024-04-18T11:04:12.129Z"
   },
   {
    "duration": 57,
    "start_time": "2024-04-18T11:06:54.374Z"
   },
   {
    "duration": 84,
    "start_time": "2024-04-18T11:07:12.339Z"
   },
   {
    "duration": 178,
    "start_time": "2024-04-18T11:08:26.862Z"
   },
   {
    "duration": 114,
    "start_time": "2024-04-18T11:09:38.010Z"
   },
   {
    "duration": 104,
    "start_time": "2024-04-18T11:12:20.227Z"
   },
   {
    "duration": 71,
    "start_time": "2024-04-18T11:12:31.671Z"
   },
   {
    "duration": 96,
    "start_time": "2024-04-18T11:15:50.492Z"
   },
   {
    "duration": 72,
    "start_time": "2024-04-18T11:17:59.837Z"
   },
   {
    "duration": 1712,
    "start_time": "2024-04-18T11:19:54.552Z"
   },
   {
    "duration": 65,
    "start_time": "2024-04-18T11:33:14.075Z"
   },
   {
    "duration": 3722,
    "start_time": "2024-04-18T11:33:28.808Z"
   },
   {
    "duration": 17,
    "start_time": "2024-04-18T11:33:35.526Z"
   },
   {
    "duration": 52,
    "start_time": "2024-04-18T11:33:38.887Z"
   },
   {
    "duration": 15,
    "start_time": "2024-04-18T11:33:41.947Z"
   },
   {
    "duration": 26,
    "start_time": "2024-04-18T11:33:44.626Z"
   },
   {
    "duration": 72,
    "start_time": "2024-04-18T11:33:47.320Z"
   },
   {
    "duration": 103,
    "start_time": "2024-04-18T11:33:50.813Z"
   },
   {
    "duration": 9,
    "start_time": "2024-04-18T11:33:53.492Z"
   },
   {
    "duration": 109,
    "start_time": "2024-04-18T11:33:55.295Z"
   },
   {
    "duration": 80,
    "start_time": "2024-04-18T11:33:57.522Z"
   },
   {
    "duration": 132,
    "start_time": "2024-04-18T11:34:49.611Z"
   },
   {
    "duration": 81,
    "start_time": "2024-04-18T11:35:07.216Z"
   },
   {
    "duration": 86,
    "start_time": "2024-04-18T11:39:19.032Z"
   },
   {
    "duration": 169,
    "start_time": "2024-04-18T11:40:05.367Z"
   },
   {
    "duration": 83,
    "start_time": "2024-04-18T11:40:39.970Z"
   },
   {
    "duration": 70,
    "start_time": "2024-04-18T11:40:52.697Z"
   },
   {
    "duration": 135,
    "start_time": "2024-04-18T11:41:07.614Z"
   },
   {
    "duration": 292,
    "start_time": "2024-04-18T11:44:18.293Z"
   },
   {
    "duration": 277,
    "start_time": "2024-04-18T11:45:09.750Z"
   },
   {
    "duration": 775,
    "start_time": "2024-04-18T11:49:26.924Z"
   },
   {
    "duration": 162,
    "start_time": "2024-04-18T11:49:34.109Z"
   },
   {
    "duration": 2758,
    "start_time": "2024-04-18T11:51:00.094Z"
   },
   {
    "duration": 168,
    "start_time": "2024-04-18T11:51:52.594Z"
   },
   {
    "duration": 360,
    "start_time": "2024-04-18T11:58:49.540Z"
   },
   {
    "duration": 51,
    "start_time": "2024-04-18T16:00:39.056Z"
   },
   {
    "duration": 3638,
    "start_time": "2024-04-18T16:00:44.762Z"
   },
   {
    "duration": 14,
    "start_time": "2024-04-18T16:00:51.576Z"
   },
   {
    "duration": 23,
    "start_time": "2024-04-18T16:00:54.250Z"
   },
   {
    "duration": 16,
    "start_time": "2024-04-18T16:00:57.614Z"
   },
   {
    "duration": 16,
    "start_time": "2024-04-18T16:00:59.793Z"
   },
   {
    "duration": 40,
    "start_time": "2024-04-18T16:01:02.577Z"
   },
   {
    "duration": 71,
    "start_time": "2024-04-18T16:01:06.292Z"
   },
   {
    "duration": 5,
    "start_time": "2024-04-18T16:01:09.307Z"
   },
   {
    "duration": 80,
    "start_time": "2024-04-18T16:01:10.418Z"
   },
   {
    "duration": 64,
    "start_time": "2024-04-18T16:01:12.767Z"
   },
   {
    "duration": 255,
    "start_time": "2024-04-18T16:01:16.594Z"
   },
   {
    "duration": 103,
    "start_time": "2024-04-18T16:03:42.245Z"
   },
   {
    "duration": 465,
    "start_time": "2024-04-18T16:03:47.652Z"
   },
   {
    "duration": 275,
    "start_time": "2024-04-18T16:04:49.474Z"
   },
   {
    "duration": 946,
    "start_time": "2024-04-18T16:06:20.796Z"
   },
   {
    "duration": 833,
    "start_time": "2024-04-18T16:06:28.071Z"
   },
   {
    "duration": 36,
    "start_time": "2024-04-18T16:07:25.809Z"
   },
   {
    "duration": 122,
    "start_time": "2024-04-18T16:07:34.491Z"
   },
   {
    "duration": 118,
    "start_time": "2024-04-18T16:07:52.038Z"
   },
   {
    "duration": 126,
    "start_time": "2024-04-18T16:08:18.451Z"
   },
   {
    "duration": 114,
    "start_time": "2024-04-18T16:10:27.827Z"
   },
   {
    "duration": 134,
    "start_time": "2024-04-18T16:10:39.192Z"
   },
   {
    "duration": 130,
    "start_time": "2024-04-18T16:10:50.624Z"
   },
   {
    "duration": 134,
    "start_time": "2024-04-18T16:11:03.435Z"
   },
   {
    "duration": 128,
    "start_time": "2024-04-18T16:11:09.679Z"
   },
   {
    "duration": 359,
    "start_time": "2024-04-18T16:16:24.348Z"
   },
   {
    "duration": 148,
    "start_time": "2024-04-18T16:19:23.315Z"
   },
   {
    "duration": 138,
    "start_time": "2024-04-18T16:19:30.661Z"
   },
   {
    "duration": 8,
    "start_time": "2024-04-18T16:21:55.475Z"
   },
   {
    "duration": 5,
    "start_time": "2024-04-18T16:22:21.381Z"
   },
   {
    "duration": 6,
    "start_time": "2024-04-18T16:30:02.415Z"
   },
   {
    "duration": 5,
    "start_time": "2024-04-18T16:30:21.100Z"
   },
   {
    "duration": 127,
    "start_time": "2024-04-18T16:30:38.705Z"
   },
   {
    "duration": 2942,
    "start_time": "2024-04-18T16:31:11.382Z"
   },
   {
    "duration": 10,
    "start_time": "2024-04-18T16:31:18.026Z"
   },
   {
    "duration": 22,
    "start_time": "2024-04-18T16:31:20.623Z"
   },
   {
    "duration": 14,
    "start_time": "2024-04-18T16:31:23.647Z"
   },
   {
    "duration": 12,
    "start_time": "2024-04-18T16:31:32.672Z"
   },
   {
    "duration": 22,
    "start_time": "2024-04-18T16:31:36.909Z"
   },
   {
    "duration": 51,
    "start_time": "2024-04-18T16:31:39.878Z"
   },
   {
    "duration": 68,
    "start_time": "2024-04-18T16:31:43.748Z"
   },
   {
    "duration": 5,
    "start_time": "2024-04-18T16:31:46.428Z"
   },
   {
    "duration": 81,
    "start_time": "2024-04-18T16:31:47.731Z"
   },
   {
    "duration": 70,
    "start_time": "2024-04-18T16:31:51.990Z"
   },
   {
    "duration": 146,
    "start_time": "2024-04-18T16:31:55.865Z"
   },
   {
    "duration": 6,
    "start_time": "2024-04-18T16:32:05.183Z"
   },
   {
    "duration": 8,
    "start_time": "2024-04-18T16:32:31.978Z"
   },
   {
    "duration": 6,
    "start_time": "2024-04-18T16:32:41.810Z"
   },
   {
    "duration": 84,
    "start_time": "2024-04-18T16:32:47.739Z"
   },
   {
    "duration": 78,
    "start_time": "2024-04-18T16:32:59.465Z"
   },
   {
    "duration": 89,
    "start_time": "2024-04-18T16:39:23.629Z"
   },
   {
    "duration": 239,
    "start_time": "2024-04-18T16:39:59.664Z"
   },
   {
    "duration": 8,
    "start_time": "2024-04-18T16:40:08.530Z"
   },
   {
    "duration": 21,
    "start_time": "2024-04-18T16:40:18.940Z"
   },
   {
    "duration": 19,
    "start_time": "2024-04-18T16:40:33.394Z"
   },
   {
    "duration": 80,
    "start_time": "2024-04-18T16:41:17.907Z"
   },
   {
    "duration": 22,
    "start_time": "2024-04-18T16:41:28.689Z"
   },
   {
    "duration": 10,
    "start_time": "2024-04-18T16:45:00.149Z"
   },
   {
    "duration": 10,
    "start_time": "2024-04-18T16:47:11.812Z"
   },
   {
    "duration": 10,
    "start_time": "2024-04-18T16:47:27.898Z"
   },
   {
    "duration": 13,
    "start_time": "2024-04-18T16:57:37.440Z"
   },
   {
    "duration": 8,
    "start_time": "2024-04-18T16:59:14.573Z"
   },
   {
    "duration": 9,
    "start_time": "2024-04-18T17:00:21.856Z"
   },
   {
    "duration": 8,
    "start_time": "2024-04-18T17:00:47.438Z"
   },
   {
    "duration": 11,
    "start_time": "2024-04-18T17:03:11.709Z"
   },
   {
    "duration": 10,
    "start_time": "2024-04-18T17:03:37.197Z"
   },
   {
    "duration": 7,
    "start_time": "2024-04-18T17:03:59.082Z"
   },
   {
    "duration": 7,
    "start_time": "2024-04-18T17:04:06.195Z"
   },
   {
    "duration": 9,
    "start_time": "2024-04-18T17:05:08.270Z"
   },
   {
    "duration": 2922,
    "start_time": "2024-04-18T17:06:23.294Z"
   },
   {
    "duration": 11,
    "start_time": "2024-04-18T17:06:26.217Z"
   },
   {
    "duration": 21,
    "start_time": "2024-04-18T17:06:27.739Z"
   },
   {
    "duration": 12,
    "start_time": "2024-04-18T17:06:30.867Z"
   },
   {
    "duration": 15,
    "start_time": "2024-04-18T17:06:32.629Z"
   },
   {
    "duration": 37,
    "start_time": "2024-04-18T17:06:35.195Z"
   },
   {
    "duration": 66,
    "start_time": "2024-04-18T17:06:38.498Z"
   },
   {
    "duration": 7,
    "start_time": "2024-04-18T17:06:41.229Z"
   },
   {
    "duration": 84,
    "start_time": "2024-04-18T17:06:42.831Z"
   },
   {
    "duration": 61,
    "start_time": "2024-04-18T17:06:44.972Z"
   },
   {
    "duration": 137,
    "start_time": "2024-04-18T17:06:47.732Z"
   },
   {
    "duration": 29,
    "start_time": "2024-04-18T17:06:52.782Z"
   },
   {
    "duration": 17,
    "start_time": "2024-04-18T17:07:06.266Z"
   },
   {
    "duration": 21,
    "start_time": "2024-04-18T17:07:14.592Z"
   },
   {
    "duration": 103,
    "start_time": "2024-04-18T17:11:31.090Z"
   },
   {
    "duration": 17,
    "start_time": "2024-04-18T17:12:02.358Z"
   },
   {
    "duration": 958,
    "start_time": "2024-04-18T17:13:16.240Z"
   },
   {
    "duration": 991,
    "start_time": "2024-04-18T17:16:05.138Z"
   },
   {
    "duration": 988,
    "start_time": "2024-04-18T17:16:35.833Z"
   },
   {
    "duration": 325,
    "start_time": "2024-04-18T17:35:25.490Z"
   },
   {
    "duration": 342,
    "start_time": "2024-04-18T17:35:30.878Z"
   },
   {
    "duration": 355,
    "start_time": "2024-04-18T17:35:43.059Z"
   },
   {
    "duration": 1021,
    "start_time": "2024-04-18T17:36:05.059Z"
   },
   {
    "duration": 330,
    "start_time": "2024-04-18T17:36:06.856Z"
   },
   {
    "duration": 2211,
    "start_time": "2024-04-18T17:37:08.434Z"
   },
   {
    "duration": 10,
    "start_time": "2024-04-18T17:37:11.879Z"
   },
   {
    "duration": 23,
    "start_time": "2024-04-18T17:37:14.270Z"
   },
   {
    "duration": 13,
    "start_time": "2024-04-18T17:37:16.743Z"
   },
   {
    "duration": 14,
    "start_time": "2024-04-18T17:37:19.070Z"
   },
   {
    "duration": 40,
    "start_time": "2024-04-18T17:37:21.393Z"
   },
   {
    "duration": 64,
    "start_time": "2024-04-18T17:37:25.194Z"
   },
   {
    "duration": 5,
    "start_time": "2024-04-18T17:37:28.122Z"
   },
   {
    "duration": 110,
    "start_time": "2024-04-18T17:37:30.016Z"
   },
   {
    "duration": 142,
    "start_time": "2024-04-18T17:37:32.081Z"
   },
   {
    "duration": 144,
    "start_time": "2024-04-18T17:37:35.212Z"
   },
   {
    "duration": 19,
    "start_time": "2024-04-18T17:37:38.314Z"
   },
   {
    "duration": 1023,
    "start_time": "2024-04-18T17:37:41.631Z"
   },
   {
    "duration": 270,
    "start_time": "2024-04-18T17:39:40.056Z"
   },
   {
    "duration": 240,
    "start_time": "2024-04-18T17:39:52.564Z"
   },
   {
    "duration": 94,
    "start_time": "2024-04-18T17:40:00.437Z"
   },
   {
    "duration": 19,
    "start_time": "2024-04-18T17:40:06.749Z"
   },
   {
    "duration": 17,
    "start_time": "2024-04-18T17:40:08.899Z"
   },
   {
    "duration": 2969,
    "start_time": "2024-04-18T17:41:28.495Z"
   },
   {
    "duration": 13,
    "start_time": "2024-04-18T17:41:34.610Z"
   },
   {
    "duration": 22,
    "start_time": "2024-04-18T17:41:37.418Z"
   },
   {
    "duration": 13,
    "start_time": "2024-04-18T17:41:40.403Z"
   },
   {
    "duration": 17,
    "start_time": "2024-04-18T17:41:42.649Z"
   },
   {
    "duration": 39,
    "start_time": "2024-04-18T17:41:45.144Z"
   },
   {
    "duration": 70,
    "start_time": "2024-04-18T17:41:48.587Z"
   },
   {
    "duration": 6,
    "start_time": "2024-04-18T17:41:51.427Z"
   },
   {
    "duration": 78,
    "start_time": "2024-04-18T17:41:52.676Z"
   },
   {
    "duration": 61,
    "start_time": "2024-04-18T17:41:54.775Z"
   },
   {
    "duration": 139,
    "start_time": "2024-04-18T17:41:57.671Z"
   },
   {
    "duration": 20,
    "start_time": "2024-04-18T17:42:00.860Z"
   },
   {
    "duration": 341,
    "start_time": "2024-04-18T17:42:03.404Z"
   },
   {
    "duration": 283,
    "start_time": "2024-04-18T17:43:16.604Z"
   },
   {
    "duration": 158,
    "start_time": "2024-04-18T17:55:13.086Z"
   },
   {
    "duration": 133,
    "start_time": "2024-04-18T17:55:22.815Z"
   },
   {
    "duration": 2150,
    "start_time": "2024-04-18T18:13:07.200Z"
   },
   {
    "duration": 3011,
    "start_time": "2024-04-18T18:13:27.333Z"
   },
   {
    "duration": 11,
    "start_time": "2024-04-18T18:13:33.779Z"
   },
   {
    "duration": 37,
    "start_time": "2024-04-18T18:13:36.675Z"
   },
   {
    "duration": 13,
    "start_time": "2024-04-18T18:13:39.136Z"
   },
   {
    "duration": 17,
    "start_time": "2024-04-18T18:13:41.874Z"
   },
   {
    "duration": 41,
    "start_time": "2024-04-18T18:13:44.038Z"
   },
   {
    "duration": 67,
    "start_time": "2024-04-18T18:13:47.371Z"
   },
   {
    "duration": 6,
    "start_time": "2024-04-18T18:13:50.256Z"
   },
   {
    "duration": 78,
    "start_time": "2024-04-18T18:13:52.241Z"
   },
   {
    "duration": 59,
    "start_time": "2024-04-18T18:13:54.080Z"
   },
   {
    "duration": 143,
    "start_time": "2024-04-18T18:13:57.226Z"
   },
   {
    "duration": 18,
    "start_time": "2024-04-18T18:14:02.076Z"
   },
   {
    "duration": 41,
    "start_time": "2024-04-18T18:14:12.375Z"
   },
   {
    "duration": 3,
    "start_time": "2024-04-18T18:17:20.104Z"
   },
   {
    "duration": 80,
    "start_time": "2024-04-18T18:17:28.217Z"
   },
   {
    "duration": 93,
    "start_time": "2024-04-18T18:17:46.483Z"
   },
   {
    "duration": 3,
    "start_time": "2024-04-18T18:18:07.582Z"
   },
   {
    "duration": 84,
    "start_time": "2024-04-18T18:18:12.541Z"
   },
   {
    "duration": 80,
    "start_time": "2024-04-18T18:18:17.183Z"
   },
   {
    "duration": 104,
    "start_time": "2024-04-18T18:20:08.970Z"
   },
   {
    "duration": 354,
    "start_time": "2024-04-18T18:20:38.303Z"
   },
   {
    "duration": 231,
    "start_time": "2024-04-18T18:21:55.986Z"
   },
   {
    "duration": 235,
    "start_time": "2024-04-18T18:23:52.742Z"
   },
   {
    "duration": 3142,
    "start_time": "2024-04-18T19:10:57.086Z"
   },
   {
    "duration": 17,
    "start_time": "2024-04-18T19:11:13.175Z"
   },
   {
    "duration": 26,
    "start_time": "2024-04-18T19:11:16.994Z"
   },
   {
    "duration": 15,
    "start_time": "2024-04-18T19:11:19.835Z"
   },
   {
    "duration": 14,
    "start_time": "2024-04-18T19:11:22.421Z"
   },
   {
    "duration": 41,
    "start_time": "2024-04-18T19:11:25.411Z"
   },
   {
    "duration": 79,
    "start_time": "2024-04-18T19:11:29.237Z"
   },
   {
    "duration": 6,
    "start_time": "2024-04-18T19:11:31.878Z"
   },
   {
    "duration": 111,
    "start_time": "2024-04-18T19:11:33.660Z"
   },
   {
    "duration": 61,
    "start_time": "2024-04-18T19:11:35.818Z"
   },
   {
    "duration": 143,
    "start_time": "2024-04-18T19:11:38.710Z"
   },
   {
    "duration": 21,
    "start_time": "2024-04-18T19:11:42.304Z"
   },
   {
    "duration": 47,
    "start_time": "2024-04-18T19:11:44.820Z"
   },
   {
    "duration": 453,
    "start_time": "2024-04-18T19:11:47.252Z"
   },
   {
    "duration": 122,
    "start_time": "2024-04-18T19:12:30.794Z"
   },
   {
    "duration": 19,
    "start_time": "2024-04-18T19:16:25.576Z"
   },
   {
    "duration": 136,
    "start_time": "2024-04-18T19:17:03.160Z"
   },
   {
    "duration": 129,
    "start_time": "2024-04-18T19:19:45.793Z"
   },
   {
    "duration": 17,
    "start_time": "2024-04-18T19:20:28.617Z"
   },
   {
    "duration": 19,
    "start_time": "2024-04-18T19:23:19.485Z"
   },
   {
    "duration": 135,
    "start_time": "2024-04-18T19:25:22.535Z"
   },
   {
    "duration": 130,
    "start_time": "2024-04-18T19:27:44.227Z"
   },
   {
    "duration": 16,
    "start_time": "2024-04-18T19:29:56.461Z"
   },
   {
    "duration": 15,
    "start_time": "2024-04-18T19:30:04.856Z"
   },
   {
    "duration": 16,
    "start_time": "2024-04-18T19:31:21.910Z"
   },
   {
    "duration": 15,
    "start_time": "2024-04-18T19:31:42.508Z"
   },
   {
    "duration": 14,
    "start_time": "2024-04-18T19:31:45.209Z"
   },
   {
    "duration": 2986,
    "start_time": "2024-04-18T19:32:05.446Z"
   },
   {
    "duration": 10,
    "start_time": "2024-04-18T19:32:10.752Z"
   },
   {
    "duration": 19,
    "start_time": "2024-04-18T19:32:19.259Z"
   },
   {
    "duration": 13,
    "start_time": "2024-04-18T19:32:24.126Z"
   },
   {
    "duration": 21,
    "start_time": "2024-04-18T19:32:26.968Z"
   },
   {
    "duration": 47,
    "start_time": "2024-04-18T19:32:30.053Z"
   },
   {
    "duration": 65,
    "start_time": "2024-04-18T19:32:37.843Z"
   },
   {
    "duration": 5,
    "start_time": "2024-04-18T19:32:43.455Z"
   },
   {
    "duration": 85,
    "start_time": "2024-04-18T19:32:45.354Z"
   },
   {
    "duration": 62,
    "start_time": "2024-04-18T19:32:49.276Z"
   },
   {
    "duration": 136,
    "start_time": "2024-04-18T19:32:55.160Z"
   },
   {
    "duration": 19,
    "start_time": "2024-04-18T19:33:01.695Z"
   },
   {
    "duration": 40,
    "start_time": "2024-04-18T19:33:07.412Z"
   },
   {
    "duration": 421,
    "start_time": "2024-04-18T19:33:10.177Z"
   },
   {
    "duration": 121,
    "start_time": "2024-04-18T19:33:14.342Z"
   },
   {
    "duration": 18,
    "start_time": "2024-04-18T19:33:18.593Z"
   },
   {
    "duration": 17,
    "start_time": "2024-04-18T19:33:29.677Z"
   },
   {
    "duration": 123,
    "start_time": "2024-04-18T19:33:39.585Z"
   },
   {
    "duration": 20,
    "start_time": "2024-04-18T19:33:45.993Z"
   },
   {
    "duration": 19,
    "start_time": "2024-04-18T19:33:50.592Z"
   },
   {
    "duration": 133,
    "start_time": "2024-04-18T19:33:59.511Z"
   },
   {
    "duration": 126,
    "start_time": "2024-04-18T19:34:05.645Z"
   },
   {
    "duration": 17,
    "start_time": "2024-04-18T19:34:20.321Z"
   },
   {
    "duration": 17,
    "start_time": "2024-04-18T19:34:36.550Z"
   },
   {
    "duration": 18,
    "start_time": "2024-04-18T19:34:39.272Z"
   },
   {
    "duration": 1630,
    "start_time": "2024-04-18T19:37:29.122Z"
   },
   {
    "duration": 83,
    "start_time": "2024-04-18T19:39:33.886Z"
   },
   {
    "duration": 83,
    "start_time": "2024-04-18T19:40:28.103Z"
   },
   {
    "duration": 262,
    "start_time": "2024-04-18T19:40:54.761Z"
   },
   {
    "duration": 127,
    "start_time": "2024-04-18T19:41:22.697Z"
   },
   {
    "duration": 92,
    "start_time": "2024-04-18T19:42:25.605Z"
   },
   {
    "duration": 16,
    "start_time": "2024-04-18T19:42:33.191Z"
   },
   {
    "duration": 13,
    "start_time": "2024-04-18T19:42:49.462Z"
   },
   {
    "duration": 14,
    "start_time": "2024-04-18T19:42:53.236Z"
   },
   {
    "duration": 19,
    "start_time": "2024-04-18T19:44:32.859Z"
   },
   {
    "duration": 23,
    "start_time": "2024-04-18T19:44:54.284Z"
   },
   {
    "duration": 13,
    "start_time": "2024-04-18T19:45:08.374Z"
   },
   {
    "duration": 1435,
    "start_time": "2024-04-18T19:45:16.778Z"
   },
   {
    "duration": 160,
    "start_time": "2024-04-18T19:45:50.376Z"
   },
   {
    "duration": 156,
    "start_time": "2024-04-18T19:46:05.254Z"
   },
   {
    "duration": 123,
    "start_time": "2024-04-18T19:47:45.343Z"
   },
   {
    "duration": 127,
    "start_time": "2024-04-18T19:50:01.845Z"
   },
   {
    "duration": 126,
    "start_time": "2024-04-18T19:50:24.176Z"
   },
   {
    "duration": 127,
    "start_time": "2024-04-18T19:52:17.977Z"
   },
   {
    "duration": 18,
    "start_time": "2024-04-18T19:53:54.525Z"
   },
   {
    "duration": 336,
    "start_time": "2024-04-18T19:55:46.725Z"
   },
   {
    "duration": 254,
    "start_time": "2024-04-18T19:57:46.343Z"
   },
   {
    "duration": 269,
    "start_time": "2024-04-18T20:01:47.765Z"
   },
   {
    "duration": 14,
    "start_time": "2024-04-18T20:11:02.343Z"
   },
   {
    "duration": 13,
    "start_time": "2024-04-18T20:11:23.855Z"
   },
   {
    "duration": 1506,
    "start_time": "2024-04-18T20:11:33.541Z"
   },
   {
    "duration": 1384,
    "start_time": "2024-04-18T20:12:35.056Z"
   },
   {
    "duration": 13,
    "start_time": "2024-04-18T20:13:56.267Z"
   },
   {
    "duration": 12,
    "start_time": "2024-04-18T20:14:27.092Z"
   },
   {
    "duration": 1434,
    "start_time": "2024-04-18T20:14:30.590Z"
   },
   {
    "duration": 354,
    "start_time": "2024-04-18T20:15:33.319Z"
   },
   {
    "duration": 217,
    "start_time": "2024-04-18T20:18:05.843Z"
   },
   {
    "duration": 18,
    "start_time": "2024-04-18T20:25:54.978Z"
   },
   {
    "duration": 10,
    "start_time": "2024-04-18T20:27:05.917Z"
   },
   {
    "duration": 190,
    "start_time": "2024-04-18T20:28:24.373Z"
   },
   {
    "duration": 343,
    "start_time": "2024-04-18T20:29:01.626Z"
   },
   {
    "duration": 392,
    "start_time": "2024-04-18T20:30:34.089Z"
   },
   {
    "duration": 10,
    "start_time": "2024-04-18T20:30:38.681Z"
   },
   {
    "duration": 25,
    "start_time": "2024-04-18T20:30:59.279Z"
   },
   {
    "duration": 2956,
    "start_time": "2024-04-18T20:33:01.976Z"
   },
   {
    "duration": 11,
    "start_time": "2024-04-18T20:33:07.762Z"
   },
   {
    "duration": 21,
    "start_time": "2024-04-18T20:33:18.707Z"
   },
   {
    "duration": 13,
    "start_time": "2024-04-18T20:33:28.245Z"
   },
   {
    "duration": 16,
    "start_time": "2024-04-18T20:33:31.154Z"
   },
   {
    "duration": 39,
    "start_time": "2024-04-18T20:33:34.136Z"
   },
   {
    "duration": 85,
    "start_time": "2024-04-18T20:33:37.769Z"
   },
   {
    "duration": 5,
    "start_time": "2024-04-18T20:33:41.054Z"
   },
   {
    "duration": 83,
    "start_time": "2024-04-18T20:33:42.688Z"
   },
   {
    "duration": 60,
    "start_time": "2024-04-18T20:33:45.522Z"
   },
   {
    "duration": 185,
    "start_time": "2024-04-18T20:33:48.786Z"
   },
   {
    "duration": 19,
    "start_time": "2024-04-18T20:33:52.839Z"
   },
   {
    "duration": 50,
    "start_time": "2024-04-18T20:33:55.058Z"
   },
   {
    "duration": 485,
    "start_time": "2024-04-18T20:33:57.239Z"
   },
   {
    "duration": 129,
    "start_time": "2024-04-18T20:34:00.655Z"
   },
   {
    "duration": 18,
    "start_time": "2024-04-18T20:34:03.430Z"
   },
   {
    "duration": 159,
    "start_time": "2024-04-18T20:34:05.838Z"
   },
   {
    "duration": 134,
    "start_time": "2024-04-18T20:34:08.389Z"
   },
   {
    "duration": 20,
    "start_time": "2024-04-18T20:34:10.937Z"
   },
   {
    "duration": 136,
    "start_time": "2024-04-18T20:34:13.157Z"
   },
   {
    "duration": 129,
    "start_time": "2024-04-18T20:34:15.617Z"
   },
   {
    "duration": 20,
    "start_time": "2024-04-18T20:34:18.306Z"
   },
   {
    "duration": 156,
    "start_time": "2024-04-18T20:34:22.986Z"
   },
   {
    "duration": 131,
    "start_time": "2024-04-18T20:34:25.763Z"
   },
   {
    "duration": 130,
    "start_time": "2024-04-18T20:34:28.607Z"
   },
   {
    "duration": 116,
    "start_time": "2024-04-18T20:34:31.898Z"
   },
   {
    "duration": 17,
    "start_time": "2024-04-18T20:34:39.055Z"
   },
   {
    "duration": 347,
    "start_time": "2024-04-18T20:34:43.168Z"
   },
   {
    "duration": 212,
    "start_time": "2024-04-18T20:34:46.407Z"
   },
   {
    "duration": 12,
    "start_time": "2024-04-18T20:34:51.387Z"
   },
   {
    "duration": 1610,
    "start_time": "2024-04-18T20:34:57.789Z"
   },
   {
    "duration": 1512,
    "start_time": "2024-04-18T20:35:06.837Z"
   },
   {
    "duration": 1402,
    "start_time": "2024-04-18T20:36:15.978Z"
   },
   {
    "duration": 1450,
    "start_time": "2024-04-18T20:36:33.782Z"
   },
   {
    "duration": 30,
    "start_time": "2024-04-18T20:38:29.039Z"
   },
   {
    "duration": 1546,
    "start_time": "2024-04-18T20:38:53.734Z"
   },
   {
    "duration": 26,
    "start_time": "2024-04-18T20:54:48.868Z"
   },
   {
    "duration": 110,
    "start_time": "2024-04-18T20:55:39.521Z"
   },
   {
    "duration": 84,
    "start_time": "2024-04-18T20:55:46.336Z"
   },
   {
    "duration": 183,
    "start_time": "2024-04-18T20:56:13.605Z"
   },
   {
    "duration": 178,
    "start_time": "2024-04-18T20:56:55.553Z"
   },
   {
    "duration": 173,
    "start_time": "2024-04-18T20:57:09.661Z"
   },
   {
    "duration": 182,
    "start_time": "2024-04-18T20:59:16.501Z"
   },
   {
    "duration": 164,
    "start_time": "2024-04-18T21:04:13.827Z"
   },
   {
    "duration": 247,
    "start_time": "2024-04-18T21:04:20.051Z"
   },
   {
    "duration": 142,
    "start_time": "2024-04-18T21:04:31.987Z"
   },
   {
    "duration": 150,
    "start_time": "2024-04-18T21:04:46.504Z"
   },
   {
    "duration": 150,
    "start_time": "2024-04-18T21:04:53.731Z"
   },
   {
    "duration": 168,
    "start_time": "2024-04-18T21:05:04.087Z"
   },
   {
    "duration": 142,
    "start_time": "2024-04-18T21:05:37.050Z"
   },
   {
    "duration": 182,
    "start_time": "2024-04-18T21:17:00.804Z"
   },
   {
    "duration": 208,
    "start_time": "2024-04-18T21:18:42.428Z"
   },
   {
    "duration": 70,
    "start_time": "2024-04-18T21:19:50.850Z"
   },
   {
    "duration": 15,
    "start_time": "2024-04-18T21:21:12.620Z"
   },
   {
    "duration": 29,
    "start_time": "2024-04-18T21:21:20.762Z"
   },
   {
    "duration": 48,
    "start_time": "2024-04-18T21:21:27.618Z"
   },
   {
    "duration": 45,
    "start_time": "2024-04-18T21:21:46.023Z"
   },
   {
    "duration": 63,
    "start_time": "2024-04-18T21:22:53.702Z"
   },
   {
    "duration": 6,
    "start_time": "2024-04-18T21:36:41.031Z"
   },
   {
    "duration": 8,
    "start_time": "2024-04-18T21:36:48.209Z"
   },
   {
    "duration": 20,
    "start_time": "2024-04-18T21:44:47.590Z"
   },
   {
    "duration": 14,
    "start_time": "2024-04-18T21:45:23.437Z"
   },
   {
    "duration": 14,
    "start_time": "2024-04-18T21:46:48.569Z"
   },
   {
    "duration": 29,
    "start_time": "2024-04-18T21:48:18.938Z"
   },
   {
    "duration": 17,
    "start_time": "2024-04-18T21:48:50.176Z"
   },
   {
    "duration": 23,
    "start_time": "2024-04-18T21:49:02.567Z"
   },
   {
    "duration": 24,
    "start_time": "2024-04-18T21:50:35.115Z"
   },
   {
    "duration": 8,
    "start_time": "2024-04-18T21:52:53.955Z"
   },
   {
    "duration": 24,
    "start_time": "2024-04-18T21:52:59.475Z"
   },
   {
    "duration": 34,
    "start_time": "2024-04-18T21:53:37.572Z"
   },
   {
    "duration": 24,
    "start_time": "2024-04-18T21:54:22.817Z"
   },
   {
    "duration": 28,
    "start_time": "2024-04-18T21:54:46.369Z"
   },
   {
    "duration": 22,
    "start_time": "2024-04-18T21:55:09.188Z"
   },
   {
    "duration": 28,
    "start_time": "2024-04-18T21:58:28.305Z"
   },
   {
    "duration": 23,
    "start_time": "2024-04-18T21:58:51.407Z"
   },
   {
    "duration": 26,
    "start_time": "2024-04-18T21:59:14.659Z"
   },
   {
    "duration": 25,
    "start_time": "2024-04-18T21:59:31.569Z"
   },
   {
    "duration": 14,
    "start_time": "2024-04-18T22:01:20.116Z"
   },
   {
    "duration": 17,
    "start_time": "2024-04-18T22:01:47.247Z"
   },
   {
    "duration": 35,
    "start_time": "2024-04-18T22:02:47.078Z"
   },
   {
    "duration": 25,
    "start_time": "2024-04-18T22:03:07.520Z"
   },
   {
    "duration": 24,
    "start_time": "2024-04-18T22:03:32.806Z"
   },
   {
    "duration": 21,
    "start_time": "2024-04-18T22:03:48.084Z"
   },
   {
    "duration": 19,
    "start_time": "2024-04-18T22:03:51.717Z"
   },
   {
    "duration": 27,
    "start_time": "2024-04-18T22:04:13.956Z"
   },
   {
    "duration": 24,
    "start_time": "2024-04-18T22:04:24.640Z"
   },
   {
    "duration": 26,
    "start_time": "2024-04-18T22:05:03.250Z"
   },
   {
    "duration": 23,
    "start_time": "2024-04-18T22:09:56.382Z"
   },
   {
    "duration": 19,
    "start_time": "2024-04-18T22:11:19.724Z"
   },
   {
    "duration": 19,
    "start_time": "2024-04-18T22:11:54.041Z"
   },
   {
    "duration": 12,
    "start_time": "2024-04-18T22:12:15.961Z"
   },
   {
    "duration": 15,
    "start_time": "2024-04-18T22:12:24.734Z"
   },
   {
    "duration": 21,
    "start_time": "2024-04-18T22:14:20.625Z"
   },
   {
    "duration": 23,
    "start_time": "2024-04-18T22:14:36.023Z"
   },
   {
    "duration": 26,
    "start_time": "2024-04-18T22:15:54.187Z"
   },
   {
    "duration": 24,
    "start_time": "2024-04-18T22:16:09.759Z"
   },
   {
    "duration": 22,
    "start_time": "2024-04-18T22:17:32.745Z"
   },
   {
    "duration": 1347,
    "start_time": "2024-04-18T22:17:55.358Z"
   },
   {
    "duration": 1311,
    "start_time": "2024-04-18T22:19:14.923Z"
   },
   {
    "duration": 4,
    "start_time": "2024-04-18T22:20:04.394Z"
   },
   {
    "duration": 1331,
    "start_time": "2024-04-18T22:20:23.157Z"
   },
   {
    "duration": 27,
    "start_time": "2024-04-18T22:22:57.109Z"
   },
   {
    "duration": 22,
    "start_time": "2024-04-18T22:23:31.428Z"
   },
   {
    "duration": 23,
    "start_time": "2024-04-18T22:23:46.511Z"
   },
   {
    "duration": 23,
    "start_time": "2024-04-18T22:24:51.348Z"
   },
   {
    "duration": 26,
    "start_time": "2024-04-18T22:25:31.810Z"
   },
   {
    "duration": 26,
    "start_time": "2024-04-18T22:25:45.158Z"
   },
   {
    "duration": 18,
    "start_time": "2024-04-18T22:34:11.674Z"
   },
   {
    "duration": 25,
    "start_time": "2024-04-18T22:36:42.040Z"
   },
   {
    "duration": 17,
    "start_time": "2024-04-18T22:36:51.499Z"
   },
   {
    "duration": 155,
    "start_time": "2024-04-18T22:37:59.041Z"
   },
   {
    "duration": 8,
    "start_time": "2024-04-18T22:54:50.343Z"
   },
   {
    "duration": 17,
    "start_time": "2024-04-18T22:55:36.745Z"
   },
   {
    "duration": 2236,
    "start_time": "2024-04-19T05:45:03.260Z"
   },
   {
    "duration": 8,
    "start_time": "2024-04-19T05:45:05.498Z"
   },
   {
    "duration": 62,
    "start_time": "2024-04-19T05:45:05.507Z"
   },
   {
    "duration": 31,
    "start_time": "2024-04-19T05:45:05.572Z"
   },
   {
    "duration": 46,
    "start_time": "2024-04-19T05:45:05.605Z"
   },
   {
    "duration": 48,
    "start_time": "2024-04-19T05:45:05.652Z"
   },
   {
    "duration": 68,
    "start_time": "2024-04-19T05:45:05.701Z"
   },
   {
    "duration": 3,
    "start_time": "2024-04-19T05:45:05.770Z"
   },
   {
    "duration": 74,
    "start_time": "2024-04-19T05:45:05.774Z"
   },
   {
    "duration": 46,
    "start_time": "2024-04-19T05:45:05.850Z"
   },
   {
    "duration": 119,
    "start_time": "2024-04-19T05:45:05.898Z"
   },
   {
    "duration": 15,
    "start_time": "2024-04-19T05:45:06.018Z"
   },
   {
    "duration": 38,
    "start_time": "2024-04-19T05:45:06.034Z"
   },
   {
    "duration": 343,
    "start_time": "2024-04-19T05:45:06.074Z"
   },
   {
    "duration": 97,
    "start_time": "2024-04-19T05:45:06.418Z"
   },
   {
    "duration": 13,
    "start_time": "2024-04-19T05:45:06.517Z"
   },
   {
    "duration": 116,
    "start_time": "2024-04-19T05:45:06.532Z"
   },
   {
    "duration": 102,
    "start_time": "2024-04-19T05:45:06.650Z"
   },
   {
    "duration": 16,
    "start_time": "2024-04-19T05:45:06.753Z"
   },
   {
    "duration": 119,
    "start_time": "2024-04-19T05:45:06.770Z"
   },
   {
    "duration": 107,
    "start_time": "2024-04-19T05:45:06.890Z"
   },
   {
    "duration": 13,
    "start_time": "2024-04-19T05:45:06.999Z"
   },
   {
    "duration": 139,
    "start_time": "2024-04-19T05:45:07.013Z"
   },
   {
    "duration": 101,
    "start_time": "2024-04-19T05:45:07.153Z"
   },
   {
    "duration": 103,
    "start_time": "2024-04-19T05:45:07.256Z"
   },
   {
    "duration": 97,
    "start_time": "2024-04-19T05:45:07.360Z"
   },
   {
    "duration": 12,
    "start_time": "2024-04-19T05:45:07.459Z"
   },
   {
    "duration": 238,
    "start_time": "2024-04-19T05:45:07.484Z"
   },
   {
    "duration": 162,
    "start_time": "2024-04-19T05:45:07.723Z"
   },
   {
    "duration": 132,
    "start_time": "2024-04-19T05:45:07.886Z"
   },
   {
    "duration": 154,
    "start_time": "2024-04-19T05:45:08.020Z"
   },
   {
    "duration": 134,
    "start_time": "2024-04-19T05:45:08.175Z"
   },
   {
    "duration": 116,
    "start_time": "2024-04-19T05:45:08.311Z"
   },
   {
    "duration": 119,
    "start_time": "2024-04-19T05:45:08.428Z"
   },
   {
    "duration": 125,
    "start_time": "2024-04-19T05:45:08.548Z"
   },
   {
    "duration": 126,
    "start_time": "2024-04-19T05:45:08.674Z"
   },
   {
    "duration": 129,
    "start_time": "2024-04-19T05:45:08.801Z"
   },
   {
    "duration": 63,
    "start_time": "2024-04-19T05:45:08.931Z"
   },
   {
    "duration": 20,
    "start_time": "2024-04-19T05:45:08.996Z"
   },
   {
    "duration": 128,
    "start_time": "2024-04-19T05:45:09.017Z"
   },
   {
    "duration": 13,
    "start_time": "2024-04-19T05:45:09.146Z"
   },
   {
    "duration": 56,
    "start_time": "2024-04-19T11:32:49.222Z"
   },
   {
    "duration": 3180,
    "start_time": "2024-04-19T11:33:07.051Z"
   },
   {
    "duration": 9,
    "start_time": "2024-04-19T11:33:17.510Z"
   },
   {
    "duration": 21,
    "start_time": "2024-04-19T11:33:20.875Z"
   },
   {
    "duration": 2666,
    "start_time": "2024-04-19T11:33:51.047Z"
   },
   {
    "duration": 3,
    "start_time": "2024-04-19T11:34:04.727Z"
   },
   {
    "duration": 50,
    "start_time": "2024-04-20T11:21:59.505Z"
   },
   {
    "duration": 3215,
    "start_time": "2024-04-20T11:22:05.673Z"
   },
   {
    "duration": 11,
    "start_time": "2024-04-20T11:22:12.933Z"
   },
   {
    "duration": 15,
    "start_time": "2024-04-20T11:22:15.029Z"
   },
   {
    "duration": 2869,
    "start_time": "2024-04-20T11:24:15.359Z"
   },
   {
    "duration": 9,
    "start_time": "2024-04-20T11:24:20.861Z"
   },
   {
    "duration": 20,
    "start_time": "2024-04-20T11:24:27.248Z"
   },
   {
    "duration": 12,
    "start_time": "2024-04-20T11:24:31.122Z"
   },
   {
    "duration": 16,
    "start_time": "2024-04-20T11:24:33.288Z"
   },
   {
    "duration": 38,
    "start_time": "2024-04-20T11:24:36.361Z"
   },
   {
    "duration": 75,
    "start_time": "2024-04-20T11:24:51.176Z"
   },
   {
    "duration": 5,
    "start_time": "2024-04-20T11:24:54.239Z"
   },
   {
    "duration": 80,
    "start_time": "2024-04-20T11:24:55.820Z"
   },
   {
    "duration": 60,
    "start_time": "2024-04-20T11:24:58.139Z"
   },
   {
    "duration": 143,
    "start_time": "2024-04-20T11:25:01.360Z"
   },
   {
    "duration": 18,
    "start_time": "2024-04-20T11:25:04.288Z"
   },
   {
    "duration": 42,
    "start_time": "2024-04-20T11:25:06.233Z"
   },
   {
    "duration": 410,
    "start_time": "2024-04-20T11:25:08.207Z"
   },
   {
    "duration": 117,
    "start_time": "2024-04-20T11:25:27.610Z"
   },
   {
    "duration": 17,
    "start_time": "2024-04-20T11:25:30.995Z"
   },
   {
    "duration": 137,
    "start_time": "2024-04-20T11:25:33.713Z"
   },
   {
    "duration": 123,
    "start_time": "2024-04-20T11:25:36.527Z"
   },
   {
    "duration": 19,
    "start_time": "2024-04-20T11:25:39.259Z"
   },
   {
    "duration": 142,
    "start_time": "2024-04-20T11:25:41.726Z"
   },
   {
    "duration": 124,
    "start_time": "2024-04-20T11:25:44.793Z"
   },
   {
    "duration": 17,
    "start_time": "2024-04-20T11:25:47.094Z"
   },
   {
    "duration": 138,
    "start_time": "2024-04-20T11:25:51.186Z"
   },
   {
    "duration": 131,
    "start_time": "2024-04-20T11:25:53.999Z"
   },
   {
    "duration": 129,
    "start_time": "2024-04-20T11:25:56.644Z"
   },
   {
    "duration": 16,
    "start_time": "2024-04-20T11:25:59.612Z"
   },
   {
    "duration": 17,
    "start_time": "2024-04-20T11:26:10.460Z"
   },
   {
    "duration": 138,
    "start_time": "2024-04-20T11:32:28.863Z"
   },
   {
    "duration": 130,
    "start_time": "2024-04-20T11:33:19.574Z"
   }
  ],
  "colab": {
   "provenance": []
  },
  "kernelspec": {
   "display_name": "Python 3 (ipykernel)",
   "language": "python",
   "name": "python3"
  },
  "language_info": {
   "codemirror_mode": {
    "name": "ipython",
    "version": 3
   },
   "file_extension": ".py",
   "mimetype": "text/x-python",
   "name": "python",
   "nbconvert_exporter": "python",
   "pygments_lexer": "ipython3",
   "version": "3.9.5"
  },
  "toc": {
   "base_numbering": 1,
   "nav_menu": {},
   "number_sections": true,
   "sideBar": true,
   "skip_h1_title": true,
   "title_cell": "Table of Contents",
   "title_sidebar": "Contents",
   "toc_cell": false,
   "toc_position": {},
   "toc_section_display": true,
   "toc_window_display": false
  }
 },
 "nbformat": 4,
 "nbformat_minor": 1
}
