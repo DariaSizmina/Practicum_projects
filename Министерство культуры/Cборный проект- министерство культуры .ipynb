{
 "cells": [
  {
   "cell_type": "markdown",
   "metadata": {},
   "source": [
    "<div class=\"alert alert-success\">\n",
    "<font size=\"5\", color = \"seagreen\"><b>✔️ Комментарий ревьюера в3</b></font>\n",
    "    <br /> \n",
    "    <font size=\"3\", color = \"black\">\n",
    "<br /> Привет, Дарья :) \n",
    "    \n",
    "Спасибо за работу на проекте, за все исправления и комментарии \n",
    "        \n",
    "        \n",
    "Подведем итоги, мы научились и повторили на проекте каким образом:\n",
    "\n",
    "+ читать тех. задание проекта\n",
    "+ исследовать неочищенные данные\n",
    "+ выдвигать гипотезы о пропусках данных и заполнять их значениями\n",
    "+ принимать решения об удалении некачественных данных\n",
    "+ находить аномалии в данных и отделять редкие значения\n",
    "+ соглашаться с наличием пропусков в данных и не забывать об их наличии при фильтрации\n",
    "+ строить информативные визуализации\n",
    "+ находить зависимости и распределения в данных \n",
    "+ формировать выводы\n",
    "        \n",
    "Навыки отработаны, проект принят \n",
    "\n",
    "<b>Поздравляю с успешно сданным проектом на факультете дата-аналитики Я.Практикум</b>\n",
    "\n",
    "<div class=\"alert alert-success\">\n",
    "    <font size=\"5\", color = \"seagreen\"><b>Успехов в дальнейшей учебе 🤝</b></font><br />\n",
    "    \n",
    "добавил пару подсказок и бонус\n",
    "<br />      \n",
    " "
   ]
  },
  {
   "cell_type": "markdown",
   "metadata": {
    "id": "sIfNaMOxgFyK"
   },
   "source": [
    "# Исследование данных о российском кинопрокате\n",
    "\n"
   ]
  },
  {
   "cell_type": "markdown",
   "metadata": {
    "id": "3bSlkCsbgFyL"
   },
   "source": [
    "### Шаг 1. Откройте файлы с данными и объедините их в один датафрейм. \n",
    "\n",
    "Объедините данные таким образом, чтобы все объекты из датасета `mkrf_movies` обязательно вошли в получившийся датафрейм. \n",
    "\n",
    "<div id=\"accordion\">\n",
    "    <div class=\"card\">\n",
    "        <div class=\"card-header\" id=\"headingThree\">\n",
    "            <button class=\"btn btn-link collapsed\" data-toggle=\"collapse\" data-target=\"#collapseHint_0\" aria-expanded=\"false\" aria-controls=\"collapseHint_0\">Подсказка</button>\n",
    "        </div>\n",
    "        <div id=\"collapseHint_0\" class=\"collapse\" aria-labelledby=\"headingThree\" data-parent=\"#accordion\">\n",
    "            <div class=\"card-body\">\n",
    "Обратите внимание на тип данных столбца, по которому будете соединять датафреймы. Тип данных этих столбцов должен быть одинаковым в обоих датафреймах.\n",
    "            </div>\n",
    "        </div>\n",
    "    </div>\n",
    "</div>"
   ]
  },
  {
   "cell_type": "markdown",
   "metadata": {},
   "source": [
    "<div class=\"alert alert-info\">\n",
    "<font size=\"4\", color = \"black\"><b>✍ Комментарий студента</b></font>\n",
    "    <br /> \n",
    "    <font size=\"3\", color = \"black\">\n",
    "<br /> Суть проекта такова: Заказчик этого исследования — Министерство культуры Российской Федерации. \n",
    "Был изучен рынок российского кинопроката и выявлены текущие тренды. Уделено внимание фильмам, которые получили государственную поддержку, выяснено насколько такие фильмы интересны зрителю, каким режиссерам стоит выделять средства.\n",
    "        Набор данных содержит информацию о прокатных удостоверениях, сборах и государственной поддержке фильмов, а также информацию с сайта КиноПоиск. В процессе работы выполнена переработка данных, объединены таблицы, удалены пропуски, исправлен тип данных. Проведен анализ фильмов с гос поддержкой, их окупаемости.        "
   ]
  },
  {
   "cell_type": "code",
   "execution_count": 1,
   "metadata": {
    "id": "dw87FlzMgFyM",
    "scrolled": true
   },
   "outputs": [],
   "source": [
    "import pandas as pd\n",
    "pd.options.display.float_format = '{:,.2f}'.format\n",
    "import matplotlib.pyplot as plt\n",
    "import numpy as np\n"
   ]
  },
  {
   "cell_type": "code",
   "execution_count": 2,
   "metadata": {
    "scrolled": true
   },
   "outputs": [
    {
     "data": {
      "text/html": [
       "<div>\n",
       "<style scoped>\n",
       "    .dataframe tbody tr th:only-of-type {\n",
       "        vertical-align: middle;\n",
       "    }\n",
       "\n",
       "    .dataframe tbody tr th {\n",
       "        vertical-align: top;\n",
       "    }\n",
       "\n",
       "    .dataframe thead th {\n",
       "        text-align: right;\n",
       "    }\n",
       "</style>\n",
       "<table border=\"1\" class=\"dataframe\">\n",
       "  <thead>\n",
       "    <tr style=\"text-align: right;\">\n",
       "      <th></th>\n",
       "      <th>title</th>\n",
       "      <th>puNumber</th>\n",
       "      <th>show_start_date</th>\n",
       "      <th>type</th>\n",
       "      <th>film_studio</th>\n",
       "      <th>production_country</th>\n",
       "      <th>director</th>\n",
       "      <th>producer</th>\n",
       "      <th>age_restriction</th>\n",
       "      <th>refundable_support</th>\n",
       "      <th>nonrefundable_support</th>\n",
       "      <th>budget</th>\n",
       "      <th>financing_source</th>\n",
       "      <th>ratings</th>\n",
       "      <th>genres</th>\n",
       "    </tr>\n",
       "  </thead>\n",
       "  <tbody>\n",
       "    <tr>\n",
       "      <th>0</th>\n",
       "      <td>Открытый простор</td>\n",
       "      <td>221048915</td>\n",
       "      <td>2015-11-27T12:00:00.000Z</td>\n",
       "      <td>Художественный</td>\n",
       "      <td>Тачстоун Пикчерз, Кобальт Пикчерз, Бикон Пикче...</td>\n",
       "      <td>США</td>\n",
       "      <td>Кевин Костнер</td>\n",
       "      <td>Дэвид Валдес, Кевин Костнер, Джейк Эбертс</td>\n",
       "      <td>«18+» - запрещено для детей</td>\n",
       "      <td>NaN</td>\n",
       "      <td>NaN</td>\n",
       "      <td>NaN</td>\n",
       "      <td>NaN</td>\n",
       "      <td>7.2</td>\n",
       "      <td>боевик,драма,мелодрама</td>\n",
       "    </tr>\n",
       "    <tr>\n",
       "      <th>1</th>\n",
       "      <td>Особо важное задание</td>\n",
       "      <td>111013716</td>\n",
       "      <td>2016-09-13T12:00:00.000Z</td>\n",
       "      <td>Художественный</td>\n",
       "      <td>Киностудия \"Мосфильм\"</td>\n",
       "      <td>СССР</td>\n",
       "      <td>Е.Матвеев</td>\n",
       "      <td>NaN</td>\n",
       "      <td>«6+» - для детей старше 6 лет</td>\n",
       "      <td>NaN</td>\n",
       "      <td>NaN</td>\n",
       "      <td>NaN</td>\n",
       "      <td>NaN</td>\n",
       "      <td>6.6</td>\n",
       "      <td>драма,военный</td>\n",
       "    </tr>\n",
       "    <tr>\n",
       "      <th>2</th>\n",
       "      <td>Особо опасен</td>\n",
       "      <td>221038416</td>\n",
       "      <td>2016-10-10T12:00:00.000Z</td>\n",
       "      <td>Художественный</td>\n",
       "      <td>Юниверсал Пикчерз, Кикстарт Продакшнз, Марк Пл...</td>\n",
       "      <td>США</td>\n",
       "      <td>Тимур Бекмамбетов</td>\n",
       "      <td>Джим Лемли, Джейсон Нетер, Марк Е.Платт, Яйн Смит</td>\n",
       "      <td>«18+» - запрещено для детей</td>\n",
       "      <td>NaN</td>\n",
       "      <td>NaN</td>\n",
       "      <td>NaN</td>\n",
       "      <td>NaN</td>\n",
       "      <td>6.8</td>\n",
       "      <td>фантастика,боевик,триллер</td>\n",
       "    </tr>\n",
       "    <tr>\n",
       "      <th>3</th>\n",
       "      <td>Особо опасен</td>\n",
       "      <td>221026916</td>\n",
       "      <td>2016-06-10T12:00:00.000Z</td>\n",
       "      <td>Художественный</td>\n",
       "      <td>Юниверсал Пикчерз, Кикстарт Продакшнз, Марк Пл...</td>\n",
       "      <td>США</td>\n",
       "      <td>Тимур Бекмамбетов</td>\n",
       "      <td>Джим Лемли, Джейсон Нетер, Марк Е.Платт, Яйн Смит</td>\n",
       "      <td>«18+» - запрещено для детей</td>\n",
       "      <td>NaN</td>\n",
       "      <td>NaN</td>\n",
       "      <td>NaN</td>\n",
       "      <td>NaN</td>\n",
       "      <td>6.8</td>\n",
       "      <td>фантастика,боевик,триллер</td>\n",
       "    </tr>\n",
       "    <tr>\n",
       "      <th>4</th>\n",
       "      <td>Особо опасен</td>\n",
       "      <td>221030815</td>\n",
       "      <td>2015-07-29T12:00:00.000Z</td>\n",
       "      <td>Художественный</td>\n",
       "      <td>Юниверсал Пикчерз, Кикстарт Продакшнз, Марк Пл...</td>\n",
       "      <td>США</td>\n",
       "      <td>Тимур Бекмамбетов</td>\n",
       "      <td>Джим Лемли, Джейсон Нетер, Марк Е.Платт, Яйн Смит</td>\n",
       "      <td>«18+» - запрещено для детей</td>\n",
       "      <td>NaN</td>\n",
       "      <td>NaN</td>\n",
       "      <td>NaN</td>\n",
       "      <td>NaN</td>\n",
       "      <td>6.8</td>\n",
       "      <td>фантастика,боевик,триллер</td>\n",
       "    </tr>\n",
       "  </tbody>\n",
       "</table>\n",
       "</div>"
      ],
      "text/plain": [
       "                  title   puNumber           show_start_date            type  \\\n",
       "0      Открытый простор  221048915  2015-11-27T12:00:00.000Z  Художественный   \n",
       "1  Особо важное задание  111013716  2016-09-13T12:00:00.000Z  Художественный   \n",
       "2          Особо опасен  221038416  2016-10-10T12:00:00.000Z  Художественный   \n",
       "3          Особо опасен  221026916  2016-06-10T12:00:00.000Z  Художественный   \n",
       "4          Особо опасен  221030815  2015-07-29T12:00:00.000Z  Художественный   \n",
       "\n",
       "                                         film_studio production_country  \\\n",
       "0  Тачстоун Пикчерз, Кобальт Пикчерз, Бикон Пикче...                США   \n",
       "1                              Киностудия \"Мосфильм\"               СССР   \n",
       "2  Юниверсал Пикчерз, Кикстарт Продакшнз, Марк Пл...                США   \n",
       "3  Юниверсал Пикчерз, Кикстарт Продакшнз, Марк Пл...                США   \n",
       "4  Юниверсал Пикчерз, Кикстарт Продакшнз, Марк Пл...                США   \n",
       "\n",
       "            director                                           producer  \\\n",
       "0      Кевин Костнер          Дэвид Валдес, Кевин Костнер, Джейк Эбертс   \n",
       "1          Е.Матвеев                                                NaN   \n",
       "2  Тимур Бекмамбетов  Джим Лемли, Джейсон Нетер, Марк Е.Платт, Яйн Смит   \n",
       "3  Тимур Бекмамбетов  Джим Лемли, Джейсон Нетер, Марк Е.Платт, Яйн Смит   \n",
       "4  Тимур Бекмамбетов  Джим Лемли, Джейсон Нетер, Марк Е.Платт, Яйн Смит   \n",
       "\n",
       "                 age_restriction  refundable_support  nonrefundable_support  \\\n",
       "0    «18+» - запрещено для детей                 NaN                    NaN   \n",
       "1  «6+» - для детей старше 6 лет                 NaN                    NaN   \n",
       "2    «18+» - запрещено для детей                 NaN                    NaN   \n",
       "3    «18+» - запрещено для детей                 NaN                    NaN   \n",
       "4    «18+» - запрещено для детей                 NaN                    NaN   \n",
       "\n",
       "   budget financing_source ratings                     genres  \n",
       "0     NaN              NaN     7.2     боевик,драма,мелодрама  \n",
       "1     NaN              NaN     6.6              драма,военный  \n",
       "2     NaN              NaN     6.8  фантастика,боевик,триллер  \n",
       "3     NaN              NaN     6.8  фантастика,боевик,триллер  \n",
       "4     NaN              NaN     6.8  фантастика,боевик,триллер  "
      ]
     },
     "metadata": {},
     "output_type": "display_data"
    },
    {
     "name": "stdout",
     "output_type": "stream",
     "text": [
      "<class 'pandas.core.frame.DataFrame'>\n",
      "RangeIndex: 7486 entries, 0 to 7485\n",
      "Data columns (total 15 columns):\n",
      " #   Column                 Non-Null Count  Dtype  \n",
      "---  ------                 --------------  -----  \n",
      " 0   title                  7486 non-null   object \n",
      " 1   puNumber               7486 non-null   object \n",
      " 2   show_start_date        7486 non-null   object \n",
      " 3   type                   7486 non-null   object \n",
      " 4   film_studio            7468 non-null   object \n",
      " 5   production_country     7484 non-null   object \n",
      " 6   director               7477 non-null   object \n",
      " 7   producer               6918 non-null   object \n",
      " 8   age_restriction        7486 non-null   object \n",
      " 9   refundable_support     332 non-null    float64\n",
      " 10  nonrefundable_support  332 non-null    float64\n",
      " 11  budget                 332 non-null    float64\n",
      " 12  financing_source       332 non-null    object \n",
      " 13  ratings                6519 non-null   object \n",
      " 14  genres                 6510 non-null   object \n",
      "dtypes: float64(3), object(12)\n",
      "memory usage: 877.4+ KB\n"
     ]
    }
   ],
   "source": [
    "data_1 = pd.read_csv('/datasets/mkrf_movies.csv') #первый датасет\n",
    "display(data_1.head())\n",
    "data_1.info() #смотрим тип данных столбцов"
   ]
  },
  {
   "cell_type": "code",
   "execution_count": 3,
   "metadata": {},
   "outputs": [
    {
     "data": {
      "text/html": [
       "<div>\n",
       "<style scoped>\n",
       "    .dataframe tbody tr th:only-of-type {\n",
       "        vertical-align: middle;\n",
       "    }\n",
       "\n",
       "    .dataframe tbody tr th {\n",
       "        vertical-align: top;\n",
       "    }\n",
       "\n",
       "    .dataframe thead th {\n",
       "        text-align: right;\n",
       "    }\n",
       "</style>\n",
       "<table border=\"1\" class=\"dataframe\">\n",
       "  <thead>\n",
       "    <tr style=\"text-align: right;\">\n",
       "      <th></th>\n",
       "      <th>puNumber</th>\n",
       "      <th>box_office</th>\n",
       "    </tr>\n",
       "  </thead>\n",
       "  <tbody>\n",
       "    <tr>\n",
       "      <th>0</th>\n",
       "      <td>111000113</td>\n",
       "      <td>2,450.00</td>\n",
       "    </tr>\n",
       "    <tr>\n",
       "      <th>1</th>\n",
       "      <td>111000115</td>\n",
       "      <td>61,040.00</td>\n",
       "    </tr>\n",
       "    <tr>\n",
       "      <th>2</th>\n",
       "      <td>111000116</td>\n",
       "      <td>153,030,013.40</td>\n",
       "    </tr>\n",
       "    <tr>\n",
       "      <th>3</th>\n",
       "      <td>111000117</td>\n",
       "      <td>12,260,956.00</td>\n",
       "    </tr>\n",
       "    <tr>\n",
       "      <th>4</th>\n",
       "      <td>111000118</td>\n",
       "      <td>163,684,057.79</td>\n",
       "    </tr>\n",
       "  </tbody>\n",
       "</table>\n",
       "</div>"
      ],
      "text/plain": [
       "    puNumber     box_office\n",
       "0  111000113       2,450.00\n",
       "1  111000115      61,040.00\n",
       "2  111000116 153,030,013.40\n",
       "3  111000117  12,260,956.00\n",
       "4  111000118 163,684,057.79"
      ]
     },
     "metadata": {},
     "output_type": "display_data"
    },
    {
     "name": "stdout",
     "output_type": "stream",
     "text": [
      "<class 'pandas.core.frame.DataFrame'>\n",
      "RangeIndex: 3158 entries, 0 to 3157\n",
      "Data columns (total 2 columns):\n",
      " #   Column      Non-Null Count  Dtype  \n",
      "---  ------      --------------  -----  \n",
      " 0   puNumber    3158 non-null   int64  \n",
      " 1   box_office  3158 non-null   float64\n",
      "dtypes: float64(1), int64(1)\n",
      "memory usage: 49.5 KB\n"
     ]
    }
   ],
   "source": [
    "data_2 = pd.read_csv('/datasets/mkrf_shows.csv') #второй датасет     \n",
    "display(data_2.head())\n",
    "data_2.info() #смотрим тип данных столбцов"
   ]
  },
  {
   "cell_type": "markdown",
   "metadata": {},
   "source": [
    "Объединять данные буду по столбцу 'puNumber', но для этого нужно изменить его формат в первом датасете."
   ]
  },
  {
   "cell_type": "code",
   "execution_count": 4,
   "metadata": {},
   "outputs": [
    {
     "data": {
      "text/plain": [
       "2"
      ]
     },
     "execution_count": 4,
     "metadata": {},
     "output_type": "execute_result"
    }
   ],
   "source": [
    "duplic1 = data_1['puNumber'].duplicated().sum()\n",
    "duplic1"
   ]
  },
  {
   "cell_type": "code",
   "execution_count": 5,
   "metadata": {},
   "outputs": [
    {
     "data": {
      "text/plain": [
       "2"
      ]
     },
     "execution_count": 5,
     "metadata": {},
     "output_type": "execute_result"
    }
   ],
   "source": [
    "duplic2 = data_1['puNumber'].duplicated().sum()\n",
    "duplic2"
   ]
  },
  {
   "cell_type": "code",
   "execution_count": 6,
   "metadata": {},
   "outputs": [
    {
     "data": {
      "text/html": [
       "<div>\n",
       "<style scoped>\n",
       "    .dataframe tbody tr th:only-of-type {\n",
       "        vertical-align: middle;\n",
       "    }\n",
       "\n",
       "    .dataframe tbody tr th {\n",
       "        vertical-align: top;\n",
       "    }\n",
       "\n",
       "    .dataframe thead th {\n",
       "        text-align: right;\n",
       "    }\n",
       "</style>\n",
       "<table border=\"1\" class=\"dataframe\">\n",
       "  <thead>\n",
       "    <tr style=\"text-align: right;\">\n",
       "      <th></th>\n",
       "      <th>title</th>\n",
       "      <th>puNumber</th>\n",
       "      <th>show_start_date</th>\n",
       "      <th>type</th>\n",
       "      <th>film_studio</th>\n",
       "      <th>production_country</th>\n",
       "      <th>director</th>\n",
       "      <th>producer</th>\n",
       "      <th>age_restriction</th>\n",
       "      <th>refundable_support</th>\n",
       "      <th>nonrefundable_support</th>\n",
       "      <th>budget</th>\n",
       "      <th>financing_source</th>\n",
       "      <th>ratings</th>\n",
       "      <th>genres</th>\n",
       "    </tr>\n",
       "  </thead>\n",
       "  <tbody>\n",
       "    <tr>\n",
       "      <th>804</th>\n",
       "      <td>Паранормальный Якутск</td>\n",
       "      <td>111004112</td>\n",
       "      <td>2012-08-24T12:00:00.000Z</td>\n",
       "      <td>Художественный</td>\n",
       "      <td>ИП Тимофеев К.П.</td>\n",
       "      <td>Россия</td>\n",
       "      <td>К.Тимофеев</td>\n",
       "      <td>NaN</td>\n",
       "      <td>«16+» - для детей старше 16 лет</td>\n",
       "      <td>NaN</td>\n",
       "      <td>NaN</td>\n",
       "      <td>NaN</td>\n",
       "      <td>NaN</td>\n",
       "      <td>NaN</td>\n",
       "      <td>NaN</td>\n",
       "    </tr>\n",
       "    <tr>\n",
       "      <th>1797</th>\n",
       "      <td>Курбан-роман. (История с жертвой)</td>\n",
       "      <td>нет</td>\n",
       "      <td>2014-05-15T12:00:00.000Z</td>\n",
       "      <td>Художественный</td>\n",
       "      <td>ФОНД \"ИННОВАЦИЯ\"</td>\n",
       "      <td>Россия</td>\n",
       "      <td>С.Юзеев</td>\n",
       "      <td>М.Галицкая</td>\n",
       "      <td>«12+» - для детей старше 12 лет</td>\n",
       "      <td>NaN</td>\n",
       "      <td>NaN</td>\n",
       "      <td>NaN</td>\n",
       "      <td>NaN</td>\n",
       "      <td>NaN</td>\n",
       "      <td>NaN</td>\n",
       "    </tr>\n",
       "  </tbody>\n",
       "</table>\n",
       "</div>"
      ],
      "text/plain": [
       "                                  title    puNumber           show_start_date  \\\n",
       "804               Паранормальный Якутск   111004112  2012-08-24T12:00:00.000Z   \n",
       "1797  Курбан-роман. (История с жертвой)         нет  2014-05-15T12:00:00.000Z   \n",
       "\n",
       "                type       film_studio production_country    director  \\\n",
       "804   Художественный  ИП Тимофеев К.П.             Россия  К.Тимофеев   \n",
       "1797  Художественный  ФОНД \"ИННОВАЦИЯ\"             Россия     С.Юзеев   \n",
       "\n",
       "        producer                  age_restriction  refundable_support  \\\n",
       "804          NaN  «16+» - для детей старше 16 лет                 NaN   \n",
       "1797  М.Галицкая  «12+» - для детей старше 12 лет                 NaN   \n",
       "\n",
       "      nonrefundable_support  budget financing_source ratings genres  \n",
       "804                     NaN     NaN              NaN     NaN    NaN  \n",
       "1797                    NaN     NaN              NaN     NaN    NaN  "
      ]
     },
     "execution_count": 6,
     "metadata": {},
     "output_type": "execute_result"
    }
   ],
   "source": [
    "data_1[~data_1['puNumber'].str.isdigit()]"
   ]
  },
  {
   "cell_type": "code",
   "execution_count": 7,
   "metadata": {},
   "outputs": [
    {
     "data": {
      "text/html": [
       "<div>\n",
       "<style scoped>\n",
       "    .dataframe tbody tr th:only-of-type {\n",
       "        vertical-align: middle;\n",
       "    }\n",
       "\n",
       "    .dataframe tbody tr th {\n",
       "        vertical-align: top;\n",
       "    }\n",
       "\n",
       "    .dataframe thead th {\n",
       "        text-align: right;\n",
       "    }\n",
       "</style>\n",
       "<table border=\"1\" class=\"dataframe\">\n",
       "  <thead>\n",
       "    <tr style=\"text-align: right;\">\n",
       "      <th></th>\n",
       "      <th>title</th>\n",
       "      <th>puNumber</th>\n",
       "      <th>show_start_date</th>\n",
       "      <th>type</th>\n",
       "      <th>film_studio</th>\n",
       "      <th>production_country</th>\n",
       "      <th>director</th>\n",
       "      <th>producer</th>\n",
       "      <th>age_restriction</th>\n",
       "      <th>refundable_support</th>\n",
       "      <th>nonrefundable_support</th>\n",
       "      <th>budget</th>\n",
       "      <th>financing_source</th>\n",
       "      <th>ratings</th>\n",
       "      <th>genres</th>\n",
       "    </tr>\n",
       "  </thead>\n",
       "  <tbody>\n",
       "  </tbody>\n",
       "</table>\n",
       "</div>"
      ],
      "text/plain": [
       "Empty DataFrame\n",
       "Columns: [title, puNumber, show_start_date, type, film_studio, production_country, director, producer, age_restriction, refundable_support, nonrefundable_support, budget, financing_source, ratings, genres]\n",
       "Index: []"
      ]
     },
     "execution_count": 7,
     "metadata": {},
     "output_type": "execute_result"
    }
   ],
   "source": [
    "data_1.loc[804, 'puNumber'] = '111004112' \n",
    "data_1.loc[1797, 'puNumber'] = '0'\n",
    "data_1[~data_1['puNumber'].str.isdigit()]"
   ]
  },
  {
   "cell_type": "markdown",
   "metadata": {},
   "source": [
    "Заменяю значения числами."
   ]
  },
  {
   "cell_type": "code",
   "execution_count": 8,
   "metadata": {},
   "outputs": [
    {
     "name": "stdout",
     "output_type": "stream",
     "text": [
      "<class 'pandas.core.frame.DataFrame'>\n",
      "RangeIndex: 7486 entries, 0 to 7485\n",
      "Data columns (total 15 columns):\n",
      " #   Column                 Non-Null Count  Dtype  \n",
      "---  ------                 --------------  -----  \n",
      " 0   title                  7486 non-null   object \n",
      " 1   puNumber               7486 non-null   int64  \n",
      " 2   show_start_date        7486 non-null   object \n",
      " 3   type                   7486 non-null   object \n",
      " 4   film_studio            7468 non-null   object \n",
      " 5   production_country     7484 non-null   object \n",
      " 6   director               7477 non-null   object \n",
      " 7   producer               6918 non-null   object \n",
      " 8   age_restriction        7486 non-null   object \n",
      " 9   refundable_support     332 non-null    float64\n",
      " 10  nonrefundable_support  332 non-null    float64\n",
      " 11  budget                 332 non-null    float64\n",
      " 12  financing_source       332 non-null    object \n",
      " 13  ratings                6519 non-null   object \n",
      " 14  genres                 6510 non-null   object \n",
      "dtypes: float64(3), int64(1), object(11)\n",
      "memory usage: 877.4+ KB\n"
     ]
    }
   ],
   "source": [
    "data_1['puNumber'] = data_1['puNumber'].astype('int')\n",
    "data_1.info()"
   ]
  },
  {
   "cell_type": "markdown",
   "metadata": {},
   "source": [
    "Теперь у обоих столбцов тип int и можно объединять данные."
   ]
  },
  {
   "cell_type": "code",
   "execution_count": 9,
   "metadata": {
    "scrolled": true
   },
   "outputs": [
    {
     "data": {
      "text/html": [
       "<div>\n",
       "<style scoped>\n",
       "    .dataframe tbody tr th:only-of-type {\n",
       "        vertical-align: middle;\n",
       "    }\n",
       "\n",
       "    .dataframe tbody tr th {\n",
       "        vertical-align: top;\n",
       "    }\n",
       "\n",
       "    .dataframe thead th {\n",
       "        text-align: right;\n",
       "    }\n",
       "</style>\n",
       "<table border=\"1\" class=\"dataframe\">\n",
       "  <thead>\n",
       "    <tr style=\"text-align: right;\">\n",
       "      <th></th>\n",
       "      <th>title</th>\n",
       "      <th>puNumber</th>\n",
       "      <th>show_start_date</th>\n",
       "      <th>type</th>\n",
       "      <th>film_studio</th>\n",
       "      <th>production_country</th>\n",
       "      <th>director</th>\n",
       "      <th>producer</th>\n",
       "      <th>age_restriction</th>\n",
       "      <th>refundable_support</th>\n",
       "      <th>nonrefundable_support</th>\n",
       "      <th>budget</th>\n",
       "      <th>financing_source</th>\n",
       "      <th>ratings</th>\n",
       "      <th>genres</th>\n",
       "      <th>box_office</th>\n",
       "    </tr>\n",
       "  </thead>\n",
       "  <tbody>\n",
       "    <tr>\n",
       "      <th>0</th>\n",
       "      <td>Открытый простор</td>\n",
       "      <td>221048915</td>\n",
       "      <td>2015-11-27T12:00:00.000Z</td>\n",
       "      <td>Художественный</td>\n",
       "      <td>Тачстоун Пикчерз, Кобальт Пикчерз, Бикон Пикче...</td>\n",
       "      <td>США</td>\n",
       "      <td>Кевин Костнер</td>\n",
       "      <td>Дэвид Валдес, Кевин Костнер, Джейк Эбертс</td>\n",
       "      <td>«18+» - запрещено для детей</td>\n",
       "      <td>NaN</td>\n",
       "      <td>NaN</td>\n",
       "      <td>NaN</td>\n",
       "      <td>NaN</td>\n",
       "      <td>7.2</td>\n",
       "      <td>боевик,драма,мелодрама</td>\n",
       "      <td>NaN</td>\n",
       "    </tr>\n",
       "    <tr>\n",
       "      <th>1</th>\n",
       "      <td>Особо важное задание</td>\n",
       "      <td>111013716</td>\n",
       "      <td>2016-09-13T12:00:00.000Z</td>\n",
       "      <td>Художественный</td>\n",
       "      <td>Киностудия \"Мосфильм\"</td>\n",
       "      <td>СССР</td>\n",
       "      <td>Е.Матвеев</td>\n",
       "      <td>NaN</td>\n",
       "      <td>«6+» - для детей старше 6 лет</td>\n",
       "      <td>NaN</td>\n",
       "      <td>NaN</td>\n",
       "      <td>NaN</td>\n",
       "      <td>NaN</td>\n",
       "      <td>6.6</td>\n",
       "      <td>драма,военный</td>\n",
       "      <td>NaN</td>\n",
       "    </tr>\n",
       "    <tr>\n",
       "      <th>2</th>\n",
       "      <td>Особо опасен</td>\n",
       "      <td>221038416</td>\n",
       "      <td>2016-10-10T12:00:00.000Z</td>\n",
       "      <td>Художественный</td>\n",
       "      <td>Юниверсал Пикчерз, Кикстарт Продакшнз, Марк Пл...</td>\n",
       "      <td>США</td>\n",
       "      <td>Тимур Бекмамбетов</td>\n",
       "      <td>Джим Лемли, Джейсон Нетер, Марк Е.Платт, Яйн Смит</td>\n",
       "      <td>«18+» - запрещено для детей</td>\n",
       "      <td>NaN</td>\n",
       "      <td>NaN</td>\n",
       "      <td>NaN</td>\n",
       "      <td>NaN</td>\n",
       "      <td>6.8</td>\n",
       "      <td>фантастика,боевик,триллер</td>\n",
       "      <td>NaN</td>\n",
       "    </tr>\n",
       "    <tr>\n",
       "      <th>3</th>\n",
       "      <td>Особо опасен</td>\n",
       "      <td>221026916</td>\n",
       "      <td>2016-06-10T12:00:00.000Z</td>\n",
       "      <td>Художественный</td>\n",
       "      <td>Юниверсал Пикчерз, Кикстарт Продакшнз, Марк Пл...</td>\n",
       "      <td>США</td>\n",
       "      <td>Тимур Бекмамбетов</td>\n",
       "      <td>Джим Лемли, Джейсон Нетер, Марк Е.Платт, Яйн Смит</td>\n",
       "      <td>«18+» - запрещено для детей</td>\n",
       "      <td>NaN</td>\n",
       "      <td>NaN</td>\n",
       "      <td>NaN</td>\n",
       "      <td>NaN</td>\n",
       "      <td>6.8</td>\n",
       "      <td>фантастика,боевик,триллер</td>\n",
       "      <td>NaN</td>\n",
       "    </tr>\n",
       "    <tr>\n",
       "      <th>4</th>\n",
       "      <td>Особо опасен</td>\n",
       "      <td>221030815</td>\n",
       "      <td>2015-07-29T12:00:00.000Z</td>\n",
       "      <td>Художественный</td>\n",
       "      <td>Юниверсал Пикчерз, Кикстарт Продакшнз, Марк Пл...</td>\n",
       "      <td>США</td>\n",
       "      <td>Тимур Бекмамбетов</td>\n",
       "      <td>Джим Лемли, Джейсон Нетер, Марк Е.Платт, Яйн Смит</td>\n",
       "      <td>«18+» - запрещено для детей</td>\n",
       "      <td>NaN</td>\n",
       "      <td>NaN</td>\n",
       "      <td>NaN</td>\n",
       "      <td>NaN</td>\n",
       "      <td>6.8</td>\n",
       "      <td>фантастика,боевик,триллер</td>\n",
       "      <td>NaN</td>\n",
       "    </tr>\n",
       "  </tbody>\n",
       "</table>\n",
       "</div>"
      ],
      "text/plain": [
       "                  title   puNumber           show_start_date            type  \\\n",
       "0      Открытый простор  221048915  2015-11-27T12:00:00.000Z  Художественный   \n",
       "1  Особо важное задание  111013716  2016-09-13T12:00:00.000Z  Художественный   \n",
       "2          Особо опасен  221038416  2016-10-10T12:00:00.000Z  Художественный   \n",
       "3          Особо опасен  221026916  2016-06-10T12:00:00.000Z  Художественный   \n",
       "4          Особо опасен  221030815  2015-07-29T12:00:00.000Z  Художественный   \n",
       "\n",
       "                                         film_studio production_country  \\\n",
       "0  Тачстоун Пикчерз, Кобальт Пикчерз, Бикон Пикче...                США   \n",
       "1                              Киностудия \"Мосфильм\"               СССР   \n",
       "2  Юниверсал Пикчерз, Кикстарт Продакшнз, Марк Пл...                США   \n",
       "3  Юниверсал Пикчерз, Кикстарт Продакшнз, Марк Пл...                США   \n",
       "4  Юниверсал Пикчерз, Кикстарт Продакшнз, Марк Пл...                США   \n",
       "\n",
       "            director                                           producer  \\\n",
       "0      Кевин Костнер          Дэвид Валдес, Кевин Костнер, Джейк Эбертс   \n",
       "1          Е.Матвеев                                                NaN   \n",
       "2  Тимур Бекмамбетов  Джим Лемли, Джейсон Нетер, Марк Е.Платт, Яйн Смит   \n",
       "3  Тимур Бекмамбетов  Джим Лемли, Джейсон Нетер, Марк Е.Платт, Яйн Смит   \n",
       "4  Тимур Бекмамбетов  Джим Лемли, Джейсон Нетер, Марк Е.Платт, Яйн Смит   \n",
       "\n",
       "                 age_restriction  refundable_support  nonrefundable_support  \\\n",
       "0    «18+» - запрещено для детей                 NaN                    NaN   \n",
       "1  «6+» - для детей старше 6 лет                 NaN                    NaN   \n",
       "2    «18+» - запрещено для детей                 NaN                    NaN   \n",
       "3    «18+» - запрещено для детей                 NaN                    NaN   \n",
       "4    «18+» - запрещено для детей                 NaN                    NaN   \n",
       "\n",
       "   budget financing_source ratings                     genres  box_office  \n",
       "0     NaN              NaN     7.2     боевик,драма,мелодрама         NaN  \n",
       "1     NaN              NaN     6.6              драма,военный         NaN  \n",
       "2     NaN              NaN     6.8  фантастика,боевик,триллер         NaN  \n",
       "3     NaN              NaN     6.8  фантастика,боевик,триллер         NaN  \n",
       "4     NaN              NaN     6.8  фантастика,боевик,триллер         NaN  "
      ]
     },
     "execution_count": 9,
     "metadata": {},
     "output_type": "execute_result"
    }
   ],
   "source": [
    "data = data_1.merge(data_2, on='puNumber', how='outer')\n",
    "data.head()"
   ]
  },
  {
   "cell_type": "code",
   "execution_count": 10,
   "metadata": {},
   "outputs": [
    {
     "data": {
      "text/html": [
       "<div>\n",
       "<style scoped>\n",
       "    .dataframe tbody tr th:only-of-type {\n",
       "        vertical-align: middle;\n",
       "    }\n",
       "\n",
       "    .dataframe tbody tr th {\n",
       "        vertical-align: top;\n",
       "    }\n",
       "\n",
       "    .dataframe thead th {\n",
       "        text-align: right;\n",
       "    }\n",
       "</style>\n",
       "<table border=\"1\" class=\"dataframe\">\n",
       "  <thead>\n",
       "    <tr style=\"text-align: right;\">\n",
       "      <th></th>\n",
       "      <th>title</th>\n",
       "      <th>pu_number</th>\n",
       "      <th>show_start_date</th>\n",
       "      <th>type</th>\n",
       "      <th>film_studio</th>\n",
       "      <th>production_country</th>\n",
       "      <th>director</th>\n",
       "      <th>producer</th>\n",
       "      <th>age_restriction</th>\n",
       "      <th>refundable_support</th>\n",
       "      <th>nonrefundable_support</th>\n",
       "      <th>budget</th>\n",
       "      <th>financing_source</th>\n",
       "      <th>ratings</th>\n",
       "      <th>genres</th>\n",
       "      <th>box_office</th>\n",
       "    </tr>\n",
       "  </thead>\n",
       "  <tbody>\n",
       "    <tr>\n",
       "      <th>0</th>\n",
       "      <td>Открытый простор</td>\n",
       "      <td>221048915</td>\n",
       "      <td>2015-11-27T12:00:00.000Z</td>\n",
       "      <td>Художественный</td>\n",
       "      <td>Тачстоун Пикчерз, Кобальт Пикчерз, Бикон Пикче...</td>\n",
       "      <td>США</td>\n",
       "      <td>Кевин Костнер</td>\n",
       "      <td>Дэвид Валдес, Кевин Костнер, Джейк Эбертс</td>\n",
       "      <td>«18+» - запрещено для детей</td>\n",
       "      <td>NaN</td>\n",
       "      <td>NaN</td>\n",
       "      <td>NaN</td>\n",
       "      <td>NaN</td>\n",
       "      <td>7.2</td>\n",
       "      <td>боевик,драма,мелодрама</td>\n",
       "      <td>NaN</td>\n",
       "    </tr>\n",
       "  </tbody>\n",
       "</table>\n",
       "</div>"
      ],
      "text/plain": [
       "              title  pu_number           show_start_date            type  \\\n",
       "0  Открытый простор  221048915  2015-11-27T12:00:00.000Z  Художественный   \n",
       "\n",
       "                                         film_studio production_country  \\\n",
       "0  Тачстоун Пикчерз, Кобальт Пикчерз, Бикон Пикче...                США   \n",
       "\n",
       "        director                                   producer  \\\n",
       "0  Кевин Костнер  Дэвид Валдес, Кевин Костнер, Джейк Эбертс   \n",
       "\n",
       "               age_restriction  refundable_support  nonrefundable_support  \\\n",
       "0  «18+» - запрещено для детей                 NaN                    NaN   \n",
       "\n",
       "   budget financing_source ratings                  genres  box_office  \n",
       "0     NaN              NaN     7.2  боевик,драма,мелодрама         NaN  "
      ]
     },
     "execution_count": 10,
     "metadata": {},
     "output_type": "execute_result"
    }
   ],
   "source": [
    "data = data.rename(columns={'puNumber': 'pu_number'})\n",
    "data.head(1)"
   ]
  },
  {
   "cell_type": "markdown",
   "metadata": {},
   "source": [
    "Проверим все ли данные попали в новую таблицу, сравним количество строк."
   ]
  },
  {
   "cell_type": "code",
   "execution_count": 11,
   "metadata": {},
   "outputs": [
    {
     "name": "stdout",
     "output_type": "stream",
     "text": [
      "Количество строк в 1 таблице: 7486\n",
      "Количество строк во 2 таблице: 3158\n",
      "Количество строк в общей таблице: 7486\n"
     ]
    }
   ],
   "source": [
    "shape1 = data_1.shape \n",
    "shape2 = data_2.shape \n",
    "shape1_2 = data.shape\n",
    "print('Количество строк в 1 таблице:', shape1[0])\n",
    "print('Количество строк во 2 таблице:', shape2[0])\n",
    "print('Количество строк в общей таблице:', shape1_2[0])"
   ]
  },
  {
   "cell_type": "markdown",
   "metadata": {},
   "source": [
    "Все объекты из датасета mkrf_movies вошли в получившийся датафрейм."
   ]
  },
  {
   "cell_type": "markdown",
   "metadata": {
    "id": "KLDGpPG0gFyM"
   },
   "source": [
    "### Шаг 2. Предобработка данных"
   ]
  },
  {
   "cell_type": "markdown",
   "metadata": {
    "id": "ssWwKXsxgFyO"
   },
   "source": [
    "#### Шаг 2.1. Проверьте типы данных\n",
    "\n",
    "- Проверьте типы данных в датафрейме и преобразуйте их там, где это необходимо."
   ]
  },
  {
   "cell_type": "code",
   "execution_count": 12,
   "metadata": {
    "id": "kVGSplJOgFyO",
    "scrolled": true
   },
   "outputs": [
    {
     "name": "stdout",
     "output_type": "stream",
     "text": [
      "<class 'pandas.core.frame.DataFrame'>\n",
      "Int64Index: 7486 entries, 0 to 7485\n",
      "Data columns (total 16 columns):\n",
      " #   Column                 Non-Null Count  Dtype  \n",
      "---  ------                 --------------  -----  \n",
      " 0   title                  7486 non-null   object \n",
      " 1   pu_number              7486 non-null   int64  \n",
      " 2   show_start_date        7486 non-null   object \n",
      " 3   type                   7486 non-null   object \n",
      " 4   film_studio            7468 non-null   object \n",
      " 5   production_country     7484 non-null   object \n",
      " 6   director               7477 non-null   object \n",
      " 7   producer               6918 non-null   object \n",
      " 8   age_restriction        7486 non-null   object \n",
      " 9   refundable_support     332 non-null    float64\n",
      " 10  nonrefundable_support  332 non-null    float64\n",
      " 11  budget                 332 non-null    float64\n",
      " 12  financing_source       332 non-null    object \n",
      " 13  ratings                6519 non-null   object \n",
      " 14  genres                 6510 non-null   object \n",
      " 15  box_office             3158 non-null   float64\n",
      "dtypes: float64(4), int64(1), object(11)\n",
      "memory usage: 994.2+ KB\n"
     ]
    }
   ],
   "source": [
    "data.info()"
   ]
  },
  {
   "cell_type": "markdown",
   "metadata": {},
   "source": [
    "Необходимо перевести дату в тип данных — datetime, а также рейтинг в формат float64."
   ]
  },
  {
   "cell_type": "code",
   "execution_count": 13,
   "metadata": {},
   "outputs": [
    {
     "name": "stdout",
     "output_type": "stream",
     "text": [
      "<class 'pandas.core.frame.DataFrame'>\n",
      "Int64Index: 7486 entries, 0 to 7485\n",
      "Data columns (total 16 columns):\n",
      " #   Column                 Non-Null Count  Dtype              \n",
      "---  ------                 --------------  -----              \n",
      " 0   title                  7486 non-null   object             \n",
      " 1   pu_number              7486 non-null   int64              \n",
      " 2   show_start_date        7486 non-null   datetime64[ns, UTC]\n",
      " 3   type                   7486 non-null   object             \n",
      " 4   film_studio            7468 non-null   object             \n",
      " 5   production_country     7484 non-null   object             \n",
      " 6   director               7477 non-null   object             \n",
      " 7   producer               6918 non-null   object             \n",
      " 8   age_restriction        7486 non-null   object             \n",
      " 9   refundable_support     332 non-null    float64            \n",
      " 10  nonrefundable_support  332 non-null    float64            \n",
      " 11  budget                 332 non-null    float64            \n",
      " 12  financing_source       332 non-null    object             \n",
      " 13  ratings                6519 non-null   object             \n",
      " 14  genres                 6510 non-null   object             \n",
      " 15  box_office             3158 non-null   float64            \n",
      "dtypes: datetime64[ns, UTC](1), float64(4), int64(1), object(10)\n",
      "memory usage: 994.2+ KB\n"
     ]
    }
   ],
   "source": [
    "data['show_start_date'] = pd.to_datetime(data['show_start_date'], format='%Y-%m-%dT%H:%M:%S')\n",
    "data.info()"
   ]
  },
  {
   "cell_type": "code",
   "execution_count": 14,
   "metadata": {},
   "outputs": [
    {
     "data": {
      "text/plain": [
       "0   2015-11-27 12:00:00+00:00\n",
       "1   2016-09-13 12:00:00+00:00\n",
       "Name: show_start_date, dtype: datetime64[ns, UTC]"
      ]
     },
     "execution_count": 14,
     "metadata": {},
     "output_type": "execute_result"
    }
   ],
   "source": [
    "# check\n",
    "data['show_start_date'][:2]"
   ]
  },
  {
   "cell_type": "code",
   "execution_count": 15,
   "metadata": {},
   "outputs": [
    {
     "data": {
      "text/plain": [
       "array(['7.2', '6.6', '6.8', '7.7', '8.3', '8.0', '7.8', '8.1', '7.1',\n",
       "       '6.0', '7.4', '5.8', '8.7', '6.3', '6.9', '5.0', '4.3', '7.3',\n",
       "       '7.0', '6.4', nan, '8.2', '7.5', '6.7', '7.9', '5.9', '6.2', '5.6',\n",
       "       '6.5', '2.4', '7.6', '6.1', '8.6', '8.5', '8.8', '5.5', '5.1',\n",
       "       '5.7', '5.4', '99%', '4.4', '4.5', '5.3', '4.1', '8.4', '2.6',\n",
       "       '3.8', '4.6', '4.8', '4.0', '3.0', '1.6', '4.2', '5.2', '4.7',\n",
       "       '4.9', '3.9', '2.7', '3.3', '2.9', '28%', '3.7', '1.4', '3.1',\n",
       "       '97%', '3.5', '3.2', '2.8', '1.5', '2.1', '2.5', '9.2', '3.4',\n",
       "       '1.1', '3.6', '83%', '64%', '91%', '94%', '62%', '79%', '90%',\n",
       "       '19%', '88%', '1.0', '89%', '1.3', '1.9', '1.8', '1.2', '1.7',\n",
       "       '9.0', '98%', '8.9', '9.1'], dtype=object)"
      ]
     },
     "execution_count": 15,
     "metadata": {},
     "output_type": "execute_result"
    }
   ],
   "source": [
    "data['ratings'].unique()"
   ]
  },
  {
   "cell_type": "markdown",
   "metadata": {},
   "source": [
    "В данных есть рейтинг в процентах, переведём проценты в доли."
   ]
  },
  {
   "cell_type": "code",
   "execution_count": 16,
   "metadata": {},
   "outputs": [
    {
     "name": "stdout",
     "output_type": "stream",
     "text": [
      "<class 'pandas.core.frame.DataFrame'>\n",
      "Int64Index: 7486 entries, 0 to 7485\n",
      "Data columns (total 16 columns):\n",
      " #   Column                 Non-Null Count  Dtype              \n",
      "---  ------                 --------------  -----              \n",
      " 0   title                  7486 non-null   object             \n",
      " 1   pu_number              7486 non-null   int64              \n",
      " 2   show_start_date        7486 non-null   datetime64[ns, UTC]\n",
      " 3   type                   7486 non-null   object             \n",
      " 4   film_studio            7468 non-null   object             \n",
      " 5   production_country     7484 non-null   object             \n",
      " 6   director               7477 non-null   object             \n",
      " 7   producer               6918 non-null   object             \n",
      " 8   age_restriction        7486 non-null   object             \n",
      " 9   refundable_support     332 non-null    float64            \n",
      " 10  nonrefundable_support  332 non-null    float64            \n",
      " 11  budget                 332 non-null    float64            \n",
      " 12  financing_source       332 non-null    object             \n",
      " 13  ratings                6519 non-null   float64            \n",
      " 14  genres                 6510 non-null   object             \n",
      " 15  box_office             3158 non-null   float64            \n",
      "dtypes: datetime64[ns, UTC](1), float64(5), int64(1), object(9)\n",
      "memory usage: 1.2+ MB\n"
     ]
    }
   ],
   "source": [
    "perc_raitings = data[data['ratings'].str.contains('[^0-9.]').fillna(False)]\n",
    "data.loc[perc_raitings.index, 'ratings'] = perc_raitings['ratings'].str[0] + '.' + perc_raitings['ratings'].str[1]\n",
    "data['ratings'] = data['ratings'].astype('float')\n",
    "data.info()"
   ]
  },
  {
   "cell_type": "markdown",
   "metadata": {},
   "source": [
    "Дата была переведена в datetime, а также рейтинг в формат float64."
   ]
  },
  {
   "cell_type": "markdown",
   "metadata": {
    "id": "i0MOLbF-gFyP"
   },
   "source": [
    "#### Шаг 2.2. Изучите пропуски в датафрейме\n",
    "\n",
    "- Объясните, почему заполнили пропуски определённым образом или почему не стали этого делать."
   ]
  },
  {
   "cell_type": "code",
   "execution_count": 17,
   "metadata": {
    "scrolled": true
   },
   "outputs": [
    {
     "data": {
      "text/plain": [
       "title                       0\n",
       "pu_number                   0\n",
       "show_start_date             0\n",
       "type                        0\n",
       "film_studio                18\n",
       "production_country          2\n",
       "director                    9\n",
       "producer                  568\n",
       "age_restriction             0\n",
       "refundable_support       7154\n",
       "nonrefundable_support    7154\n",
       "budget                   7154\n",
       "financing_source         7154\n",
       "ratings                   967\n",
       "genres                    976\n",
       "box_office               4328\n",
       "dtype: int64"
      ]
     },
     "execution_count": 17,
     "metadata": {},
     "output_type": "execute_result"
    }
   ],
   "source": [
    "data.isna().sum()"
   ]
  },
  {
   "cell_type": "markdown",
   "metadata": {
    "id": "8MJD_lkngFyP"
   },
   "source": [
    "Пропуски присутствуют в следующих столбцах: \n",
    "+студия-производитель - пропусков не так много, считаю их можно заполнить значением \"unknown\".\n",
    "+режиссёр - пропропусков не так много, считаю их можно заполнить значением \"unknown\".\n",
    "+страна-производитель - всего 2 пропуска, считаю их можно заполнить значением \"unknown\".\n",
    "+продюссер - пропусков много, не вижу возможности их заполнить.\n",
    "+во всех столбцах, связанных с финансированием данных очень мало, не считаю возможным заполять эти пропуски.\n",
    "+пропуски в рейтинге и жанре также не нужно заполнять.\n",
    "+сборы в рублях демонстрируют показ только в российских кинотетрах, поэтому возникли пропуски, их также не нужно заполнять."
   ]
  },
  {
   "cell_type": "code",
   "execution_count": 18,
   "metadata": {},
   "outputs": [],
   "source": [
    "# check\n",
    "# пропущенные значения бары\n",
    "\n",
    "def pass_value_barh(dfg):\n",
    "    try:\n",
    "        (\n",
    "            (dfg.isna().mean()*100)\n",
    "            .to_frame()\n",
    "            .rename(columns = {0:'space'})\n",
    "            .query('space > 0')\n",
    "            .sort_values(by = 'space', ascending = True)\n",
    "            .plot(kind = 'barh', figsize = (19,6), rot = -5, legend = False, fontsize = 16)\n",
    "            .set_title('Пример' + \"\\n\", fontsize = 22, color = 'SteelBlue')    \n",
    "        );    \n",
    "    except:\n",
    "        print('пропусков не осталось :) или произошла ошибка в первой части функции ')"
   ]
  },
  {
   "cell_type": "code",
   "execution_count": 20,
   "metadata": {},
   "outputs": [
    {
     "data": {
      "text/plain": [
       "title                       0\n",
       "pu_number                   0\n",
       "show_start_date             0\n",
       "type                        0\n",
       "film_studio                 0\n",
       "production_country          0\n",
       "director                    0\n",
       "producer                  568\n",
       "age_restriction             0\n",
       "refundable_support       7154\n",
       "nonrefundable_support    7154\n",
       "budget                   7154\n",
       "financing_source         7154\n",
       "ratings                   967\n",
       "genres                    976\n",
       "box_office               4328\n",
       "dtype: int64"
      ]
     },
     "execution_count": 20,
     "metadata": {},
     "output_type": "execute_result"
    }
   ],
   "source": [
    "data['film_studio'] = data['film_studio'].fillna('unknown')\n",
    "data['production_country'] = data['production_country'].fillna('unknown')\n",
    "data['director'] = data['director'].fillna('unknown')\n",
    "data.isna().sum()"
   ]
  },
  {
   "cell_type": "markdown",
   "metadata": {
    "id": "4c6k1t9ygFyQ"
   },
   "source": [
    "#### Шаг 2.3. Изучите дубликаты в датафрейме\n",
    "- Проверьте, есть ли в данных дубликаты. Опишите причины, которые могли повлиять на появление дублей."
   ]
  },
  {
   "cell_type": "code",
   "execution_count": 21,
   "metadata": {
    "id": "aKck8RIdgFyQ"
   },
   "outputs": [
    {
     "data": {
      "text/plain": [
       "0"
      ]
     },
     "execution_count": 21,
     "metadata": {},
     "output_type": "execute_result"
    }
   ],
   "source": [
    "data.duplicated().sum()"
   ]
  },
  {
   "cell_type": "markdown",
   "metadata": {},
   "source": [
    "Повторяющихся строк нет."
   ]
  },
  {
   "cell_type": "code",
   "execution_count": 22,
   "metadata": {
    "scrolled": true
   },
   "outputs": [
    {
     "name": "stdout",
     "output_type": "stream",
     "text": [
      "714\n"
     ]
    },
    {
     "data": {
      "text/plain": [
       "array(['Открытый простор', 'Особо важное задание', 'Особо опасен', ...,\n",
       "       'Щенячий патруль: Скорей спешим на помощь!',\n",
       "       'Машины песенки. Серия \"Испанские мотивы\"',\n",
       "       'Машины песенки. Серия \"Когда цветут кактусы\"'], dtype=object)"
      ]
     },
     "execution_count": 22,
     "metadata": {},
     "output_type": "execute_result"
    }
   ],
   "source": [
    "print(data['title'].duplicated().sum())\n",
    "data['title'].unique()"
   ]
  },
  {
   "cell_type": "code",
   "execution_count": 23,
   "metadata": {},
   "outputs": [
    {
     "data": {
      "text/plain": [
       "[221026916,\n",
       " 221030815,\n",
       " 221004616,\n",
       " 221035716,\n",
       " 221001815,\n",
       " 121009103,\n",
       " 224026712,\n",
       " 221031312,\n",
       " 221053212,\n",
       " 221012912,\n",
       " 221032812,\n",
       " 221055912,\n",
       " 221078012,\n",
       " 121013912,\n",
       " 221053712,\n",
       " 221077812,\n",
       " 121015316,\n",
       " 121013712,\n",
       " 121002312,\n",
       " 221032912,\n",
       " 221055612,\n",
       " 224025412,\n",
       " 221027212,\n",
       " 121010412,\n",
       " 224031012,\n",
       " 221067214,\n",
       " 121004912,\n",
       " 221037312,\n",
       " 221053612,\n",
       " 221077512,\n",
       " 221046912,\n",
       " 221011512,\n",
       " 121011012,\n",
       " 121010312,\n",
       " 221057912,\n",
       " 121011612,\n",
       " 121012812,\n",
       " 121002212,\n",
       " 224015912,\n",
       " 224018712,\n",
       " 221000912,\n",
       " 121004312,\n",
       " 221023112,\n",
       " 221009812,\n",
       " 221053312,\n",
       " 221055312,\n",
       " 221006317,\n",
       " 121007212,\n",
       " 121007512,\n",
       " 221055412,\n",
       " 121004612,\n",
       " 224004312,\n",
       " 124001613,\n",
       " 221030813,\n",
       " 221049013,\n",
       " 121034112,\n",
       " 221011413,\n",
       " 121025812,\n",
       " 221064312,\n",
       " 121015216,\n",
       " 121033712,\n",
       " 121018212,\n",
       " 121030412,\n",
       " 221035112,\n",
       " 221066412,\n",
       " 126004514,\n",
       " 224024613,\n",
       " 224033013,\n",
       " 121007813,\n",
       " 121004813,\n",
       " 221007513,\n",
       " 121005313,\n",
       " 221008013,\n",
       " 121009813,\n",
       " 221034413,\n",
       " 121011413,\n",
       " 131000212,\n",
       " 221006817,\n",
       " 121028612,\n",
       " 126001013,\n",
       " 126002412,\n",
       " 121015112,\n",
       " 221077912,\n",
       " 121015312,\n",
       " 121033212,\n",
       " 121001213,\n",
       " 121015812,\n",
       " 221067312,\n",
       " 124001912,\n",
       " 221020013,\n",
       " 224030612,\n",
       " 121023412,\n",
       " 221005817,\n",
       " 224024112,\n",
       " 121010214,\n",
       " 121026413,\n",
       " 121025713,\n",
       " 221035513,\n",
       " 121005414,\n",
       " 121005614,\n",
       " 121005714,\n",
       " 121000514,\n",
       " 221011614,\n",
       " 221051414,\n",
       " 221003714,\n",
       " 221003814,\n",
       " 121031213,\n",
       " 221006417,\n",
       " 126004813,\n",
       " 221013214,\n",
       " 221071914,\n",
       " 221001214,\n",
       " 121008214,\n",
       " 121024113,\n",
       " 221012414,\n",
       " 121012114,\n",
       " 121012514,\n",
       " 221070514,\n",
       " 221027314,\n",
       " 224006114,\n",
       " 121020813,\n",
       " 121032413,\n",
       " 221034113,\n",
       " 221051314,\n",
       " 221011914,\n",
       " 221048013,\n",
       " 121030213,\n",
       " 121029713,\n",
       " 224021813,\n",
       " 221007117,\n",
       " 221000614,\n",
       " 121023613,\n",
       " 221048314,\n",
       " 126004714,\n",
       " 221071714,\n",
       " 121016914,\n",
       " 121018214,\n",
       " 221070614,\n",
       " 121018314,\n",
       " 121014814,\n",
       " 221008414,\n",
       " 126003316,\n",
       " 221004114,\n",
       " 221013314,\n",
       " 221070414,\n",
       " 121022314,\n",
       " 121000815,\n",
       " 221027214,\n",
       " 221034514,\n",
       " 121014314,\n",
       " 221036114,\n",
       " 221070314,\n",
       " 121017114,\n",
       " 121024114,\n",
       " 121014114,\n",
       " 221070114,\n",
       " 121025814,\n",
       " 221025414,\n",
       " 121025914,\n",
       " 121019714,\n",
       " 221000415,\n",
       " 221020915,\n",
       " 221055314,\n",
       " 224013414,\n",
       " 221051514,\n",
       " 221048714,\n",
       " 221014716,\n",
       " 221014916,\n",
       " 221015116,\n",
       " 221025116,\n",
       " 221014616,\n",
       " 121016615,\n",
       " 221026915,\n",
       " 221052414,\n",
       " 221015316,\n",
       " 221015216,\n",
       " 221025216,\n",
       " 121006715,\n",
       " 121006815,\n",
       " 221025916,\n",
       " 114001116,\n",
       " 221025016,\n",
       " 221025716,\n",
       " 221040515,\n",
       " 221025416,\n",
       " 221025616,\n",
       " 221025516,\n",
       " 121031416,\n",
       " 121003210,\n",
       " 221023211,\n",
       " 221083510,\n",
       " 221084010,\n",
       " 221058010,\n",
       " 221029211,\n",
       " 121001010,\n",
       " 221011910,\n",
       " 221049410,\n",
       " 221067810,\n",
       " 221068010,\n",
       " 221068610,\n",
       " 121009910,\n",
       " 121009410,\n",
       " 121003010,\n",
       " 124001210,\n",
       " 221007410,\n",
       " 221007510,\n",
       " 211006210,\n",
       " 121003410,\n",
       " 221103810,\n",
       " 121019710,\n",
       " 121002210,\n",
       " 221004110,\n",
       " 221004010,\n",
       " 221003910,\n",
       " 122000510,\n",
       " 221055310,\n",
       " 221055510,\n",
       " 221061910,\n",
       " 121018610,\n",
       " 221102610,\n",
       " 221097810,\n",
       " 221097910,\n",
       " 221097710,\n",
       " 221079010,\n",
       " 221065110,\n",
       " 221138010,\n",
       " 221138110,\n",
       " 221138310,\n",
       " 221139010,\n",
       " 221135310,\n",
       " 221135410,\n",
       " 221136210,\n",
       " 121013610,\n",
       " 221065810,\n",
       " 221065510,\n",
       " 221065610,\n",
       " 221030610,\n",
       " 221031210,\n",
       " 221028310,\n",
       " 221097410,\n",
       " 221097610,\n",
       " 221056910,\n",
       " 111008310,\n",
       " 221105110,\n",
       " 121008810,\n",
       " 211022510,\n",
       " 221080010,\n",
       " 221079910,\n",
       " 121018110,\n",
       " 226000110,\n",
       " 121001410,\n",
       " 221070910,\n",
       " 221050610,\n",
       " 221060010,\n",
       " 211115510,\n",
       " 221115710,\n",
       " 121019910,\n",
       " 121020010,\n",
       " 221103310,\n",
       " 223013710,\n",
       " 121005210,\n",
       " 221046510,\n",
       " 121006110,\n",
       " 121011510,\n",
       " 121011810,\n",
       " 121011910,\n",
       " 221084310,\n",
       " 221084410,\n",
       " 221009610,\n",
       " 221134110,\n",
       " 221134210,\n",
       " 221134310,\n",
       " 221134410,\n",
       " 221134510,\n",
       " 221134610,\n",
       " 221134710,\n",
       " 121002510,\n",
       " 121003110,\n",
       " 121006510,\n",
       " 221046210,\n",
       " 211018910,\n",
       " 224024910,\n",
       " 221144110,\n",
       " 221144310,\n",
       " 221139210,\n",
       " 221139310,\n",
       " 221141210,\n",
       " 221141410,\n",
       " 221141710,\n",
       " 221142010,\n",
       " 221142110,\n",
       " 221142310,\n",
       " 221142410,\n",
       " 221145010,\n",
       " 221144910,\n",
       " 221144810,\n",
       " 221144610,\n",
       " 221146210,\n",
       " 221146010,\n",
       " 221145910,\n",
       " 121002110,\n",
       " 221149810,\n",
       " 221150510,\n",
       " 221150810,\n",
       " 221150710,\n",
       " 221151710,\n",
       " 221150610,\n",
       " 221156410,\n",
       " 221156910,\n",
       " 221157110,\n",
       " 221157210,\n",
       " 221157410,\n",
       " 221157910,\n",
       " 221158310,\n",
       " 221158610,\n",
       " 221159310,\n",
       " 221160410,\n",
       " 221160510,\n",
       " 221160910,\n",
       " 221161010,\n",
       " 221161110,\n",
       " 221161310,\n",
       " 221161510,\n",
       " 221161610,\n",
       " 221161710,\n",
       " 221164910,\n",
       " 221152110,\n",
       " 221152610,\n",
       " 221152710,\n",
       " 221152810,\n",
       " 221154310,\n",
       " 221154310,\n",
       " 221155110,\n",
       " 221155510,\n",
       " 221155610,\n",
       " 221155710,\n",
       " 221164610,\n",
       " 221122110,\n",
       " 221122210,\n",
       " 221122310,\n",
       " 221122410,\n",
       " 121023710,\n",
       " 211029210,\n",
       " 121004410,\n",
       " 121005710,\n",
       " 221034010,\n",
       " 221035410,\n",
       " 221056610,\n",
       " 221056710,\n",
       " 221082210,\n",
       " 221116210,\n",
       " 221126710,\n",
       " 221116110,\n",
       " 221126610,\n",
       " 221126910,\n",
       " 221126810,\n",
       " 224022910,\n",
       " 221175810,\n",
       " 221175910,\n",
       " 221176010,\n",
       " 221176310,\n",
       " 224028210,\n",
       " 221173910,\n",
       " 121004110,\n",
       " 121004910,\n",
       " 121005310,\n",
       " 121004610,\n",
       " 224011510,\n",
       " 221072610,\n",
       " 221072810,\n",
       " 221008711,\n",
       " 221009111,\n",
       " 221009711,\n",
       " 221010011,\n",
       " 221011011,\n",
       " 221014111,\n",
       " 221014211,\n",
       " 221015211,\n",
       " 121000411,\n",
       " 221017011,\n",
       " 221017111,\n",
       " 221015511,\n",
       " 221016411,\n",
       " 221016311,\n",
       " 221015611,\n",
       " 221002511,\n",
       " 221002611,\n",
       " 221002811,\n",
       " 221003311,\n",
       " 221018811,\n",
       " 221020211,\n",
       " 121008611,\n",
       " 121009811,\n",
       " 221001311,\n",
       " 221002311,\n",
       " 221002011,\n",
       " 221001611,\n",
       " 221001411,\n",
       " 221034211,\n",
       " 224000311,\n",
       " 221034011,\n",
       " 221051811,\n",
       " 221062411,\n",
       " 224007711,\n",
       " 221097111,\n",
       " 121018511,\n",
       " 221037311,\n",
       " 221037411,\n",
       " 224008311,\n",
       " 221037211,\n",
       " 221044811,\n",
       " 221045411,\n",
       " 121023011,\n",
       " 221044511,\n",
       " 221049411,\n",
       " 221049511,\n",
       " 221049611,\n",
       " 221072611,\n",
       " 121008811,\n",
       " 121024711,\n",
       " 221085711,\n",
       " 221098611,\n",
       " 221098811,\n",
       " 224017311,\n",
       " 221044611,\n",
       " 121020011,\n",
       " 121019911,\n",
       " 121020111,\n",
       " 221118111,\n",
       " 221118611,\n",
       " 221057911,\n",
       " 221057711,\n",
       " 221057811,\n",
       " 221068911,\n",
       " 221069011,\n",
       " 221069111,\n",
       " 221069211,\n",
       " 221066510,\n",
       " 221066910,\n",
       " 221067210,\n",
       " 221066810,\n",
       " 221081410,\n",
       " 221054410,\n",
       " 221054210,\n",
       " 221066410,\n",
       " 221067010,\n",
       " 121009311,\n",
       " 121013111,\n",
       " 121017511,\n",
       " 121015311,\n",
       " 221102711,\n",
       " 221092511,\n",
       " 121020311,\n",
       " 221107311,\n",
       " 221072711,\n",
       " 221085811,\n",
       " 221104311,\n",
       " 221082011,\n",
       " 221082111,\n",
       " 221082311,\n",
       " 221082411,\n",
       " 221082511,\n",
       " 221082611,\n",
       " 224013111,\n",
       " 121019811,\n",
       " 121018711,\n",
       " 121021511,\n",
       " 221063411,\n",
       " 121010011,\n",
       " 221099511,\n",
       " 221099411,\n",
       " 221099611,\n",
       " 221051611,\n",
       " 221051711,\n",
       " 121006211,\n",
       " 121005511,\n",
       " 121007811,\n",
       " 121013311,\n",
       " 121010611,\n",
       " 221102311,\n",
       " 221102211,\n",
       " 121023711,\n",
       " 121022211,\n",
       " 121020711,\n",
       " 221119211,\n",
       " 221119311,\n",
       " 221119511,\n",
       " 121024611,\n",
       " 121025211,\n",
       " 231001111,\n",
       " 221108011,\n",
       " 121004111,\n",
       " 121023211,\n",
       " 121023911,\n",
       " 223017611,\n",
       " 221003111,\n",
       " 221003011,\n",
       " 121020811,\n",
       " 126002811,\n",
       " 221086210,\n",
       " 224015810,\n",
       " 221090210,\n",
       " 221090310,\n",
       " 221080610,\n",
       " 221081310,\n",
       " 221085310,\n",
       " 221088510,\n",
       " 221081110,\n",
       " 221086110,\n",
       " 221114511,\n",
       " 221114611,\n",
       " 221114711,\n",
       " 221114811,\n",
       " 121023511,\n",
       " 221088810,\n",
       " 221088410,\n",
       " 221088710,\n",
       " 221116710,\n",
       " 221090410,\n",
       " 221115910,\n",
       " 221116010,\n",
       " 221116911,\n",
       " 121025011,\n",
       " 221053111,\n",
       " 221099811,\n",
       " 221099711,\n",
       " 221103611,\n",
       " 221117511,\n",
       " 211037617,\n",
       " 121002418,\n",
       " 211019118,\n",
       " 111008418,\n",
       " 112002818,\n",
       " 111016418,\n",
       " 112008518,\n",
       " 111018318,\n",
       " 126001918,\n",
       " 121023518,\n",
       " 111021318,\n",
       " 112011918,\n",
       " 111022718,\n",
       " 111024818,\n",
       " 111001819,\n",
       " 121000219,\n",
       " 114001219,\n",
       " 126000419,\n",
       " 111003519,\n",
       " 121006719,\n",
       " 121006919,\n",
       " 126001119,\n",
       " 124002419,\n",
       " 112003919,\n",
       " 111007519,\n",
       " 121010019,\n",
       " 111009719,\n",
       " 124004719,\n",
       " 124004919,\n",
       " 121018319,\n",
       " 121021519,\n",
       " 124005419,\n",
       " 121023319,\n",
       " 124007119,\n",
       " 124007319,\n",
       " 124007419,\n",
       " 124007619,\n",
       " 126003719,\n",
       " 121028619,\n",
       " 121029119,\n",
       " 121030019,\n",
       " 111019319,\n",
       " 121035119,\n",
       " 121036919]"
      ]
     },
     "execution_count": 23,
     "metadata": {},
     "output_type": "execute_result"
    }
   ],
   "source": [
    "data_films = data[data.duplicated(['title'])]\n",
    "data_films = data_films.loc[data_films['budget'].isnull()]\n",
    "data_films = data_films.loc[data_films['box_office'].isnull()]\n",
    "num_films = data_films['pu_number'].tolist()\n",
    "\n",
    "num_films"
   ]
  },
  {
   "cell_type": "code",
   "execution_count": 24,
   "metadata": {},
   "outputs": [
    {
     "name": "stdout",
     "output_type": "stream",
     "text": [
      "<class 'pandas.core.frame.DataFrame'>\n",
      "Int64Index: 6913 entries, 0 to 7485\n",
      "Data columns (total 16 columns):\n",
      " #   Column                 Non-Null Count  Dtype              \n",
      "---  ------                 --------------  -----              \n",
      " 0   title                  6913 non-null   object             \n",
      " 1   pu_number              6913 non-null   int64              \n",
      " 2   show_start_date        6913 non-null   datetime64[ns, UTC]\n",
      " 3   type                   6913 non-null   object             \n",
      " 4   film_studio            6913 non-null   object             \n",
      " 5   production_country     6913 non-null   object             \n",
      " 6   director               6913 non-null   object             \n",
      " 7   producer               6354 non-null   object             \n",
      " 8   age_restriction        6913 non-null   object             \n",
      " 9   refundable_support     332 non-null    float64            \n",
      " 10  nonrefundable_support  332 non-null    float64            \n",
      " 11  budget                 332 non-null    float64            \n",
      " 12  financing_source       332 non-null    object             \n",
      " 13  ratings                5955 non-null   float64            \n",
      " 14  genres                 5946 non-null   object             \n",
      " 15  box_office             3158 non-null   float64            \n",
      "dtypes: datetime64[ns, UTC](1), float64(5), int64(1), object(9)\n",
      "memory usage: 918.1+ KB\n"
     ]
    }
   ],
   "source": [
    "data = data.query('pu_number != @num_films')\n",
    "data.info()\n"
   ]
  },
  {
   "cell_type": "code",
   "execution_count": 25,
   "metadata": {},
   "outputs": [
    {
     "data": {
      "text/html": [
       "<div>\n",
       "<style scoped>\n",
       "    .dataframe tbody tr th:only-of-type {\n",
       "        vertical-align: middle;\n",
       "    }\n",
       "\n",
       "    .dataframe tbody tr th {\n",
       "        vertical-align: top;\n",
       "    }\n",
       "\n",
       "    .dataframe thead th {\n",
       "        text-align: right;\n",
       "    }\n",
       "</style>\n",
       "<table border=\"1\" class=\"dataframe\">\n",
       "  <thead>\n",
       "    <tr style=\"text-align: right;\">\n",
       "      <th></th>\n",
       "      <th>title</th>\n",
       "      <th>show_start_date</th>\n",
       "      <th>director</th>\n",
       "      <th>refundable_support</th>\n",
       "      <th>nonrefundable_support</th>\n",
       "      <th>budget</th>\n",
       "      <th>ratings</th>\n",
       "      <th>genres</th>\n",
       "      <th>box_office</th>\n",
       "    </tr>\n",
       "  </thead>\n",
       "  <tbody>\n",
       "    <tr>\n",
       "      <th>3130</th>\n",
       "      <td>13 часов: Тайные солдаты Бенгази</td>\n",
       "      <td>2016-01-15 12:00:00+00:00</td>\n",
       "      <td>Майкл Бэй</td>\n",
       "      <td>NaN</td>\n",
       "      <td>NaN</td>\n",
       "      <td>NaN</td>\n",
       "      <td>6.70</td>\n",
       "      <td>боевик,триллер,драма</td>\n",
       "      <td>18,439,240.55</td>\n",
       "    </tr>\n",
       "    <tr>\n",
       "      <th>3129</th>\n",
       "      <td>13 часов: Тайные солдаты Бенгази</td>\n",
       "      <td>2016-04-19 12:00:00+00:00</td>\n",
       "      <td>Майкл Бэй</td>\n",
       "      <td>NaN</td>\n",
       "      <td>NaN</td>\n",
       "      <td>NaN</td>\n",
       "      <td>6.70</td>\n",
       "      <td>боевик,триллер,драма</td>\n",
       "      <td>NaN</td>\n",
       "    </tr>\n",
       "    <tr>\n",
       "      <th>1494</th>\n",
       "      <td>13-й район: Кирпичные особняки</td>\n",
       "      <td>2014-04-25 12:00:00+00:00</td>\n",
       "      <td>Камиль Деламарр</td>\n",
       "      <td>NaN</td>\n",
       "      <td>NaN</td>\n",
       "      <td>NaN</td>\n",
       "      <td>5.50</td>\n",
       "      <td>боевик,криминал</td>\n",
       "      <td>750.00</td>\n",
       "    </tr>\n",
       "    <tr>\n",
       "      <th>1493</th>\n",
       "      <td>13-й район: Кирпичные особняки</td>\n",
       "      <td>2014-08-20 12:00:00+00:00</td>\n",
       "      <td>Камиль Деламарр</td>\n",
       "      <td>NaN</td>\n",
       "      <td>NaN</td>\n",
       "      <td>NaN</td>\n",
       "      <td>5.50</td>\n",
       "      <td>боевик,криминал</td>\n",
       "      <td>NaN</td>\n",
       "    </tr>\n",
       "    <tr>\n",
       "      <th>3893</th>\n",
       "      <td>Аватар_</td>\n",
       "      <td>2010-07-15 12:00:00+00:00</td>\n",
       "      <td>Джеймс Кэмерон</td>\n",
       "      <td>NaN</td>\n",
       "      <td>NaN</td>\n",
       "      <td>NaN</td>\n",
       "      <td>7.90</td>\n",
       "      <td>фантастика,боевик,драма</td>\n",
       "      <td>NaN</td>\n",
       "    </tr>\n",
       "    <tr>\n",
       "      <th>...</th>\n",
       "      <td>...</td>\n",
       "      <td>...</td>\n",
       "      <td>...</td>\n",
       "      <td>...</td>\n",
       "      <td>...</td>\n",
       "      <td>...</td>\n",
       "      <td>...</td>\n",
       "      <td>...</td>\n",
       "      <td>...</td>\n",
       "    </tr>\n",
       "    <tr>\n",
       "      <th>3028</th>\n",
       "      <td>Эдди \"Орёл\"</td>\n",
       "      <td>2016-03-23 12:00:00+00:00</td>\n",
       "      <td>Декстер Флетчер</td>\n",
       "      <td>NaN</td>\n",
       "      <td>NaN</td>\n",
       "      <td>NaN</td>\n",
       "      <td>5.70</td>\n",
       "      <td>ужасы,комедия,музыка</td>\n",
       "      <td>27,200,398.96</td>\n",
       "    </tr>\n",
       "    <tr>\n",
       "      <th>3175</th>\n",
       "      <td>Элвин и бурундуки: Грандиозное бурундуключение</td>\n",
       "      <td>2015-12-30 12:00:00+00:00</td>\n",
       "      <td>Уолт Бекер</td>\n",
       "      <td>NaN</td>\n",
       "      <td>NaN</td>\n",
       "      <td>NaN</td>\n",
       "      <td>5.80</td>\n",
       "      <td>семейный,комедия,музыка</td>\n",
       "      <td>216,000,243.90</td>\n",
       "    </tr>\n",
       "    <tr>\n",
       "      <th>3174</th>\n",
       "      <td>Элвин и бурундуки: Грандиозное бурундуключение</td>\n",
       "      <td>2016-03-29 12:00:00+00:00</td>\n",
       "      <td>Уолт Бекер</td>\n",
       "      <td>NaN</td>\n",
       "      <td>NaN</td>\n",
       "      <td>NaN</td>\n",
       "      <td>5.80</td>\n",
       "      <td>семейный,комедия,музыка</td>\n",
       "      <td>NaN</td>\n",
       "    </tr>\n",
       "    <tr>\n",
       "      <th>1812</th>\n",
       "      <td>Этим утром в Нью-Йорке</td>\n",
       "      <td>2014-05-21 12:00:00+00:00</td>\n",
       "      <td>Фил Олден Робинсон</td>\n",
       "      <td>NaN</td>\n",
       "      <td>NaN</td>\n",
       "      <td>NaN</td>\n",
       "      <td>6.20</td>\n",
       "      <td>драма,комедия</td>\n",
       "      <td>360.00</td>\n",
       "    </tr>\n",
       "    <tr>\n",
       "      <th>1811</th>\n",
       "      <td>Этим утром в Нью-Йорке</td>\n",
       "      <td>2014-08-20 12:00:00+00:00</td>\n",
       "      <td>Фил Олден Робинсон</td>\n",
       "      <td>NaN</td>\n",
       "      <td>NaN</td>\n",
       "      <td>NaN</td>\n",
       "      <td>6.20</td>\n",
       "      <td>драма,комедия</td>\n",
       "      <td>1,090.00</td>\n",
       "    </tr>\n",
       "  </tbody>\n",
       "</table>\n",
       "<p>262 rows × 9 columns</p>\n",
       "</div>"
      ],
      "text/plain": [
       "                                               title  \\\n",
       "3130                13 часов: Тайные солдаты Бенгази   \n",
       "3129                13 часов: Тайные солдаты Бенгази   \n",
       "1494                  13-й район: Кирпичные особняки   \n",
       "1493                  13-й район: Кирпичные особняки   \n",
       "3893                                         Аватар_   \n",
       "...                                              ...   \n",
       "3028                                     Эдди \"Орёл\"   \n",
       "3175  Элвин и бурундуки: Грандиозное бурундуключение   \n",
       "3174  Элвин и бурундуки: Грандиозное бурундуключение   \n",
       "1812                          Этим утром в Нью-Йорке   \n",
       "1811                          Этим утром в Нью-Йорке   \n",
       "\n",
       "               show_start_date            director  refundable_support  \\\n",
       "3130 2016-01-15 12:00:00+00:00           Майкл Бэй                 NaN   \n",
       "3129 2016-04-19 12:00:00+00:00           Майкл Бэй                 NaN   \n",
       "1494 2014-04-25 12:00:00+00:00     Камиль Деламарр                 NaN   \n",
       "1493 2014-08-20 12:00:00+00:00     Камиль Деламарр                 NaN   \n",
       "3893 2010-07-15 12:00:00+00:00      Джеймс Кэмерон                 NaN   \n",
       "...                        ...                 ...                 ...   \n",
       "3028 2016-03-23 12:00:00+00:00     Декстер Флетчер                 NaN   \n",
       "3175 2015-12-30 12:00:00+00:00          Уолт Бекер                 NaN   \n",
       "3174 2016-03-29 12:00:00+00:00          Уолт Бекер                 NaN   \n",
       "1812 2014-05-21 12:00:00+00:00  Фил Олден Робинсон                 NaN   \n",
       "1811 2014-08-20 12:00:00+00:00  Фил Олден Робинсон                 NaN   \n",
       "\n",
       "      nonrefundable_support  budget  ratings                   genres  \\\n",
       "3130                    NaN     NaN     6.70     боевик,триллер,драма   \n",
       "3129                    NaN     NaN     6.70     боевик,триллер,драма   \n",
       "1494                    NaN     NaN     5.50          боевик,криминал   \n",
       "1493                    NaN     NaN     5.50          боевик,криминал   \n",
       "3893                    NaN     NaN     7.90  фантастика,боевик,драма   \n",
       "...                     ...     ...      ...                      ...   \n",
       "3028                    NaN     NaN     5.70     ужасы,комедия,музыка   \n",
       "3175                    NaN     NaN     5.80  семейный,комедия,музыка   \n",
       "3174                    NaN     NaN     5.80  семейный,комедия,музыка   \n",
       "1812                    NaN     NaN     6.20            драма,комедия   \n",
       "1811                    NaN     NaN     6.20            драма,комедия   \n",
       "\n",
       "         box_office  \n",
       "3130  18,439,240.55  \n",
       "3129            NaN  \n",
       "1494         750.00  \n",
       "1493            NaN  \n",
       "3893            NaN  \n",
       "...             ...  \n",
       "3028  27,200,398.96  \n",
       "3175 216,000,243.90  \n",
       "3174            NaN  \n",
       "1812         360.00  \n",
       "1811       1,090.00  \n",
       "\n",
       "[262 rows x 9 columns]"
      ]
     },
     "execution_count": 25,
     "metadata": {},
     "output_type": "execute_result"
    }
   ],
   "source": [
    "# check\n",
    "data[data.duplicated(subset=['title', 'director'], keep=False)==True].sort_values('title')[['title', \n",
    "    'show_start_date','director', 'refundable_support', 'nonrefundable_support', 'budget',\n",
    "         'ratings', 'genres', 'box_office']]"
   ]
  },
  {
   "cell_type": "markdown",
   "metadata": {},
   "source": [
    "Одинаковые названия фильмов вполне объяснимы, так как их могли показывать в разных прокатах, под разной лицензией."
   ]
  },
  {
   "cell_type": "code",
   "execution_count": 26,
   "metadata": {},
   "outputs": [
    {
     "name": "stdout",
     "output_type": "stream",
     "text": [
      "0\n"
     ]
    },
    {
     "data": {
      "text/html": [
       "<div>\n",
       "<style scoped>\n",
       "    .dataframe tbody tr th:only-of-type {\n",
       "        vertical-align: middle;\n",
       "    }\n",
       "\n",
       "    .dataframe tbody tr th {\n",
       "        vertical-align: top;\n",
       "    }\n",
       "\n",
       "    .dataframe thead th {\n",
       "        text-align: right;\n",
       "    }\n",
       "</style>\n",
       "<table border=\"1\" class=\"dataframe\">\n",
       "  <thead>\n",
       "    <tr style=\"text-align: right;\">\n",
       "      <th></th>\n",
       "      <th>title</th>\n",
       "      <th>pu_number</th>\n",
       "      <th>show_start_date</th>\n",
       "      <th>type</th>\n",
       "      <th>film_studio</th>\n",
       "      <th>production_country</th>\n",
       "      <th>director</th>\n",
       "      <th>producer</th>\n",
       "      <th>age_restriction</th>\n",
       "      <th>refundable_support</th>\n",
       "      <th>nonrefundable_support</th>\n",
       "      <th>budget</th>\n",
       "      <th>financing_source</th>\n",
       "      <th>ratings</th>\n",
       "      <th>genres</th>\n",
       "      <th>box_office</th>\n",
       "    </tr>\n",
       "  </thead>\n",
       "  <tbody>\n",
       "  </tbody>\n",
       "</table>\n",
       "</div>"
      ],
      "text/plain": [
       "Empty DataFrame\n",
       "Columns: [title, pu_number, show_start_date, type, film_studio, production_country, director, producer, age_restriction, refundable_support, nonrefundable_support, budget, financing_source, ratings, genres, box_office]\n",
       "Index: []"
      ]
     },
     "execution_count": 26,
     "metadata": {},
     "output_type": "execute_result"
    }
   ],
   "source": [
    "print(data['pu_number'].duplicated().sum())\n",
    "data.loc[data['pu_number'].duplicated(keep=False)]"
   ]
  },
  {
   "cell_type": "markdown",
   "metadata": {},
   "source": [
    "Номер прокатного удостоверения должен быть индивидуальный, поэтому ошибка скорее всего вызвана человеческим фактором."
   ]
  },
  {
   "cell_type": "markdown",
   "metadata": {},
   "source": [
    "show_start_date - дата премьеры фильма может быть одинаковой."
   ]
  },
  {
   "cell_type": "code",
   "execution_count": 27,
   "metadata": {},
   "outputs": [
    {
     "name": "stdout",
     "output_type": "stream",
     "text": [
      "6905\n"
     ]
    },
    {
     "data": {
      "text/plain": [
       "array(['Художественный', 'Анимационный', 'Прочие', 'Документальный',\n",
       "       'Научно-популярный', ' Художественный', ' Анимационный',\n",
       "       'Музыкально-развлекательный'], dtype=object)"
      ]
     },
     "execution_count": 27,
     "metadata": {},
     "output_type": "execute_result"
    }
   ],
   "source": [
    "print(data['type'].duplicated().sum())\n",
    "data['type'].unique()"
   ]
  },
  {
   "cell_type": "markdown",
   "metadata": {},
   "source": [
    "Разные фильмы могут быть одного жанра, поэтому повторения логичны.\n",
    "Видны пробелы в названии типа фильма, устраним неявные дубликаты."
   ]
  },
  {
   "cell_type": "code",
   "execution_count": 28,
   "metadata": {},
   "outputs": [
    {
     "data": {
      "text/plain": [
       "array(['Художественный', 'Анимационный', 'Прочие', 'Документальный',\n",
       "       'Научно-популярный', 'Музыкально-развлекательный'], dtype=object)"
      ]
     },
     "execution_count": 28,
     "metadata": {},
     "output_type": "execute_result"
    }
   ],
   "source": [
    "data['type'] = data['type'].str.strip()\n",
    "data['type'].unique()"
   ]
  },
  {
   "cell_type": "code",
   "execution_count": 29,
   "metadata": {},
   "outputs": [
    {
     "name": "stdout",
     "output_type": "stream",
     "text": [
      "1455\n",
      "['Тачстоун Пикчерз, Кобальт Пикчерз, Бикон Пикчерз, Тиг Продакшнз'\n",
      " 'Киностудия \"Мосфильм\"'\n",
      " 'Юниверсал Пикчерз, Кикстарт Продакшнз, Марк Платт Продакшнз, Рилейтивити Медиа, Спайгласс Интертейнмент, Стилкин Филмз, Топ Кау Продакшнз'\n",
      " ...\n",
      " 'Дэниел Гродник Продакшнз, Вандерфилм Медиа Корпорэйшн, Импринт Интертейнмент, Вор Хорс Интертейнмент, Пимиента '\n",
      " 'Никелодеон Анимейшн Студиос, Спин Мастер'\n",
      " 'Анимаккорд Лтд., ООО Студия \"АНИМАККОРД\"']\n",
      "5458\n",
      "944\n",
      "4795\n"
     ]
    },
    {
     "data": {
      "text/plain": [
       "5319"
      ]
     },
     "execution_count": 29,
     "metadata": {},
     "output_type": "execute_result"
    }
   ],
   "source": [
    "print(data['film_studio'].duplicated().sum())\n",
    "print(data['film_studio'].unique())\n",
    "print(len(data['film_studio'].unique()))\n",
    "print(len(data['production_country'].unique()))\n",
    "print(len(data['director'].unique()))\n",
    "len(data['producer'].unique())"
   ]
  },
  {
   "cell_type": "code",
   "execution_count": 30,
   "metadata": {},
   "outputs": [
    {
     "name": "stdout",
     "output_type": "stream",
     "text": [
      "5430\n",
      "927\n",
      "4784\n"
     ]
    },
    {
     "data": {
      "text/plain": [
       "5303"
      ]
     },
     "execution_count": 30,
     "metadata": {},
     "output_type": "execute_result"
    }
   ],
   "source": [
    "for column in ['director', 'producer', 'film_studio', 'production_country', 'genres']:\n",
    "    \n",
    "    data[column] = data[column].dropna().apply(lambda x: ', '.join([x.strip() for x in x.split(',')]))\n",
    "print(len(data['film_studio'].unique()))\n",
    "print(len(data['production_country'].unique()))\n",
    "print(len(data['director'].unique()))\n",
    "len(data['producer'].unique()) "
   ]
  },
  {
   "cell_type": "markdown",
   "metadata": {},
   "source": [
    "Название студии, режиссера, страны производства и продюссера может совпадать.\n",
    "Я предположила, что неявные дубликаты могли возникнуть во время перечисления, кто-то ставит пробел после запятой, а кто-то нет, поэтому я убрала пробелы, и, действительно, уникальных значений стало меньше.\n"
   ]
  },
  {
   "cell_type": "code",
   "execution_count": 31,
   "metadata": {},
   "outputs": [
    {
     "name": "stdout",
     "output_type": "stream",
     "text": [
      "['«18+» - запрещено для детей' '«6+» - для детей старше 6 лет'\n",
      " '«12+» - для детей старше 12 лет' '«16+» - для детей старше 16 лет'\n",
      " '«0+» - для любой зрительской аудитории']\n"
     ]
    }
   ],
   "source": [
    "print(data['age_restriction'].unique())"
   ]
  },
  {
   "cell_type": "markdown",
   "metadata": {},
   "source": [
    "Данные по возрастной категории корректны."
   ]
  },
  {
   "cell_type": "code",
   "execution_count": 32,
   "metadata": {},
   "outputs": [
    {
     "data": {
      "text/plain": [
       "array([nan, 'Министерство культуры', 'Фонд кино',\n",
       "       'Министерство культуры, Фонд кино'], dtype=object)"
      ]
     },
     "execution_count": 32,
     "metadata": {},
     "output_type": "execute_result"
    }
   ],
   "source": [
    "data['financing_source'].unique()"
   ]
  },
  {
   "cell_type": "markdown",
   "metadata": {},
   "source": [
    "Данные по источникам финасирования тоже считаю корректными."
   ]
  },
  {
   "cell_type": "markdown",
   "metadata": {
    "id": "52fOPrEBgFyQ"
   },
   "source": [
    "#### Шаг 2.4. Изучите категориальные значения\n",
    "\n",
    "- Посмотрите, какая общая проблема встречается почти во всех категориальных столбцах;\n",
    "- Исправьте проблемные значения в поле `type`.\n",
    "\n",
    "<div id=\"accordion\">\n",
    "    <div class=\"card\">\n",
    "        <div class=\"card-header\" id=\"headingThree\">\n",
    "            <button class=\"btn btn-link collapsed\" data-toggle=\"collapse\" data-target=\"#collapseHint_1\" aria-expanded=\"false\" aria-controls=\"collapseHint_1\">Подсказка</button>\n",
    "        </div>\n",
    "        <div id=\"collapseHint_1\" class=\"collapse\" aria-labelledby=\"headingThree\" data-parent=\"#accordion\">\n",
    "            <div class=\"card-body\">\n",
    "В поле <code>type</code> есть несколько значений, у которых появился пробел в начале строки. Самый простой способ их «починить» -- использовать метод <a href=\"https://pandas.pydata.org/docs/reference/api/pandas.Series.str.strip.html#pandas.Series.str.strip\">.str.strip</a>. Этот метод удаляет все пробелы, которые встречаются в начале и в конце строки. Применяют его таким образом:<br>\n",
    "<code>df['type'].str.strip()</code>\n",
    "            </div>\n",
    "        </div>\n",
    "    </div>\n",
    "</div>"
   ]
  },
  {
   "cell_type": "markdown",
   "metadata": {
    "id": "PnXKIVdFgFyR"
   },
   "source": [
    "Сделала в предыдущем пункте."
   ]
  },
  {
   "cell_type": "markdown",
   "metadata": {
    "id": "XFSN5lrEgFyR"
   },
   "source": [
    "#### Шаг 2.5. Проверьте количественные значения\n",
    "\n",
    "- Проверьте, обнаружились ли в таких столбцах подозрительные данные. Как с такими данными лучше поступить?\n",
    "\n",
    "<div id=\"accordion\">\n",
    "    <div class=\"card\">\n",
    "        <div class=\"card-header\" id=\"headingThree\">\n",
    "            <button class=\"btn btn-link collapsed\" data-toggle=\"collapse\" data-target=\"#collapseHint_budget\" aria-expanded=\"false\" aria-controls=\"collapseHint_budget\">Подсказка</button>\n",
    "        </div>\n",
    "        <div id=\"collapseHint_budget\" class=\"collapse\" aria-labelledby=\"headingThree\" data-parent=\"#accordion\">\n",
    "            <div class=\"card-body\">\n",
    "Обратите внимание на описание столбца <code>budget</code>. Как этот столбец соотносится с двумя другими: <code>refundable_support</code> и <code>nonrefundable_support</code>?\n",
    "            </div>\n",
    "        </div>\n",
    "    </div>\n",
    "</div>"
   ]
  },
  {
   "cell_type": "code",
   "execution_count": 33,
   "metadata": {
    "id": "YbzClBxagFyS",
    "scrolled": true
   },
   "outputs": [
    {
     "data": {
      "text/html": [
       "<div>\n",
       "<style scoped>\n",
       "    .dataframe tbody tr th:only-of-type {\n",
       "        vertical-align: middle;\n",
       "    }\n",
       "\n",
       "    .dataframe tbody tr th {\n",
       "        vertical-align: top;\n",
       "    }\n",
       "\n",
       "    .dataframe thead th {\n",
       "        text-align: right;\n",
       "    }\n",
       "</style>\n",
       "<table border=\"1\" class=\"dataframe\">\n",
       "  <thead>\n",
       "    <tr style=\"text-align: right;\">\n",
       "      <th></th>\n",
       "      <th>title</th>\n",
       "      <th>pu_number</th>\n",
       "      <th>show_start_date</th>\n",
       "      <th>type</th>\n",
       "      <th>film_studio</th>\n",
       "      <th>production_country</th>\n",
       "      <th>director</th>\n",
       "      <th>producer</th>\n",
       "      <th>age_restriction</th>\n",
       "      <th>refundable_support</th>\n",
       "      <th>nonrefundable_support</th>\n",
       "      <th>budget</th>\n",
       "      <th>financing_source</th>\n",
       "      <th>ratings</th>\n",
       "      <th>genres</th>\n",
       "      <th>box_office</th>\n",
       "    </tr>\n",
       "  </thead>\n",
       "  <tbody>\n",
       "    <tr>\n",
       "      <th>2053</th>\n",
       "      <td>14+</td>\n",
       "      <td>111023614</td>\n",
       "      <td>2014-12-19 12:00:00+00:00</td>\n",
       "      <td>Художественный</td>\n",
       "      <td>ООО Киностудия  \"Сентябрь\"</td>\n",
       "      <td>Россия</td>\n",
       "      <td>А.Зайцев</td>\n",
       "      <td>О.Гранина, А.Зайцев</td>\n",
       "      <td>«16+» - для детей старше 16 лет</td>\n",
       "      <td>0.00</td>\n",
       "      <td>23,000,000.00</td>\n",
       "      <td>0.00</td>\n",
       "      <td>Министерство культуры, Фонд кино</td>\n",
       "      <td>6.60</td>\n",
       "      <td>мелодрама</td>\n",
       "      <td>10,234,016.10</td>\n",
       "    </tr>\n",
       "    <tr>\n",
       "      <th>2058</th>\n",
       "      <td>Дуxless 2</td>\n",
       "      <td>111000415</td>\n",
       "      <td>2015-01-26 12:00:00+00:00</td>\n",
       "      <td>Художественный</td>\n",
       "      <td>ООО \"Киностудия \"Слово\", ООО \"Арт Пикчерс Студия\"</td>\n",
       "      <td>Россия</td>\n",
       "      <td>Р.Прыгунов</td>\n",
       "      <td>П.Ануров, Ф.Бондарчук, Д.Рудовский</td>\n",
       "      <td>«16+» - для детей старше 16 лет</td>\n",
       "      <td>0.00</td>\n",
       "      <td>75,000,000.00</td>\n",
       "      <td>0.00</td>\n",
       "      <td>Фонд кино</td>\n",
       "      <td>6.60</td>\n",
       "      <td>драма</td>\n",
       "      <td>446,163,511.00</td>\n",
       "    </tr>\n",
       "    <tr>\n",
       "      <th>2472</th>\n",
       "      <td>Воин (2015)</td>\n",
       "      <td>111017315</td>\n",
       "      <td>2015-09-28 12:00:00+00:00</td>\n",
       "      <td>Художественный</td>\n",
       "      <td>ООО \"Форпост Продакшн\", ООО \"Арт Пикчерс Студия\"</td>\n",
       "      <td>Россия</td>\n",
       "      <td>А.Андрианов</td>\n",
       "      <td>ООО \"Арт Пикчерс Студия\"</td>\n",
       "      <td>«12+» - для детей старше 12 лет</td>\n",
       "      <td>10,000,000.00</td>\n",
       "      <td>70,000,000.00</td>\n",
       "      <td>0.00</td>\n",
       "      <td>Фонд кино</td>\n",
       "      <td>7.80</td>\n",
       "      <td>боевик, драма, криминал</td>\n",
       "      <td>196,572,438.40</td>\n",
       "    </tr>\n",
       "    <tr>\n",
       "      <th>2532</th>\n",
       "      <td>Бармен.</td>\n",
       "      <td>111009615</td>\n",
       "      <td>2015-05-26 12:00:00+00:00</td>\n",
       "      <td>Художественный</td>\n",
       "      <td>АО \"ВайТ Медиа\", ООО \"Арт Пикчерс Студия\"</td>\n",
       "      <td>Россия</td>\n",
       "      <td>Д.Штурманова</td>\n",
       "      <td>Т.Вайнштейн</td>\n",
       "      <td>«16+» - для детей старше 16 лет</td>\n",
       "      <td>20,000,000.00</td>\n",
       "      <td>0.00</td>\n",
       "      <td>0.00</td>\n",
       "      <td>Фонд кино</td>\n",
       "      <td>6.20</td>\n",
       "      <td>комедия, фэнтези</td>\n",
       "      <td>67,418,974.80</td>\n",
       "    </tr>\n",
       "    <tr>\n",
       "      <th>2615</th>\n",
       "      <td>Савва. Сердце воина</td>\n",
       "      <td>114001715</td>\n",
       "      <td>2015-07-21 12:00:00+00:00</td>\n",
       "      <td>Анимационный</td>\n",
       "      <td>ООО \"Глюкоза Продакшн\", ООО \"Арт Пикчерс Студия\"</td>\n",
       "      <td>Россия</td>\n",
       "      <td>М.Фадеев</td>\n",
       "      <td>А.Чистяков</td>\n",
       "      <td>«6+» - для детей старше 6 лет</td>\n",
       "      <td>60,000,000.00</td>\n",
       "      <td>100,000,000.00</td>\n",
       "      <td>0.00</td>\n",
       "      <td>Фонд кино</td>\n",
       "      <td>4.60</td>\n",
       "      <td>мультфильм, приключения, фэнтези</td>\n",
       "      <td>184,487,551.40</td>\n",
       "    </tr>\n",
       "    <tr>\n",
       "      <th>2684</th>\n",
       "      <td>Тряпичный союз</td>\n",
       "      <td>111010215</td>\n",
       "      <td>2015-06-08 12:00:00+00:00</td>\n",
       "      <td>Художественный</td>\n",
       "      <td>ООО \"Кинокомпания \"КОКТЕБЕЛЬ\"</td>\n",
       "      <td>Россия</td>\n",
       "      <td>М.Местецкий</td>\n",
       "      <td>Р.Борисевич, А.Кушаев</td>\n",
       "      <td>«18+» - запрещено для детей</td>\n",
       "      <td>0.00</td>\n",
       "      <td>59,000,000.00</td>\n",
       "      <td>0.00</td>\n",
       "      <td>Фонд кино</td>\n",
       "      <td>6.30</td>\n",
       "      <td>комедия, драма</td>\n",
       "      <td>1,957,738.51</td>\n",
       "    </tr>\n",
       "    <tr>\n",
       "      <th>2788</th>\n",
       "      <td>Срочно выйду замуж</td>\n",
       "      <td>111017115</td>\n",
       "      <td>2015-09-30 12:00:00+00:00</td>\n",
       "      <td>Художественный</td>\n",
       "      <td>АО \"ВайТ Медиа\", ООО \"Арт Пикчерс Студия\"</td>\n",
       "      <td>Россия</td>\n",
       "      <td>С Чекалов</td>\n",
       "      <td>Ф.Бондарчук, Т.Вайнштейн, Д.Рудовский</td>\n",
       "      <td>«16+» - для детей старше 16 лет</td>\n",
       "      <td>0.00</td>\n",
       "      <td>35,000,000.00</td>\n",
       "      <td>0.00</td>\n",
       "      <td>Фонд кино</td>\n",
       "      <td>5.10</td>\n",
       "      <td>комедия, мелодрама</td>\n",
       "      <td>72,937,783.20</td>\n",
       "    </tr>\n",
       "    <tr>\n",
       "      <th>2874</th>\n",
       "      <td>Помню - не помню!</td>\n",
       "      <td>111004916</td>\n",
       "      <td>2016-03-01 12:00:00+00:00</td>\n",
       "      <td>Художественный</td>\n",
       "      <td>ООО \"КиноФирма\"</td>\n",
       "      <td>Россия</td>\n",
       "      <td>В.Ровенский</td>\n",
       "      <td>ООО \"КиноФирма\"</td>\n",
       "      <td>«12+» - для детей старше 12 лет</td>\n",
       "      <td>0.00</td>\n",
       "      <td>6,000,000.00</td>\n",
       "      <td>0.00</td>\n",
       "      <td>Министерство культуры</td>\n",
       "      <td>4.30</td>\n",
       "      <td>комедия</td>\n",
       "      <td>15,362,931.43</td>\n",
       "    </tr>\n",
       "    <tr>\n",
       "      <th>3047</th>\n",
       "      <td>Любовь с ограничениями</td>\n",
       "      <td>111008216</td>\n",
       "      <td>2016-04-29 12:00:00+00:00</td>\n",
       "      <td>Художественный</td>\n",
       "      <td>АО \"ВайТ Медиа\", ООО \"Арт Пикчерс Студия\"</td>\n",
       "      <td>Россия</td>\n",
       "      <td>Д.Тюрин</td>\n",
       "      <td>Ф.Бондарчук, Т.Вайнштейн, Д.Рудовский</td>\n",
       "      <td>«16+» - для детей старше 16 лет</td>\n",
       "      <td>19,000,000.00</td>\n",
       "      <td>51,000,000.00</td>\n",
       "      <td>0.00</td>\n",
       "      <td>Фонд кино</td>\n",
       "      <td>6.30</td>\n",
       "      <td>комедия, мелодрама</td>\n",
       "      <td>70,299,052.00</td>\n",
       "    </tr>\n",
       "    <tr>\n",
       "      <th>3565</th>\n",
       "      <td>Притяжение (2016)</td>\n",
       "      <td>111018116</td>\n",
       "      <td>2016-12-16 12:00:00+00:00</td>\n",
       "      <td>Художественный</td>\n",
       "      <td>ООО \"Водород 2011\", ООО \"Арт Пикчерс Студия\"</td>\n",
       "      <td>Россия</td>\n",
       "      <td>Ф.Бондарчук</td>\n",
       "      <td>ООО \"Арт Пикчерс Студия\"</td>\n",
       "      <td>«12+» - для детей старше 12 лет</td>\n",
       "      <td>0.00</td>\n",
       "      <td>250,000,000.00</td>\n",
       "      <td>0.00</td>\n",
       "      <td>Фонд кино</td>\n",
       "      <td>5.60</td>\n",
       "      <td>фантастика</td>\n",
       "      <td>1,038,321,489.00</td>\n",
       "    </tr>\n",
       "    <tr>\n",
       "      <th>3675</th>\n",
       "      <td>Чудо-юдо</td>\n",
       "      <td>114001817</td>\n",
       "      <td>2017-06-27 12:00:00+00:00</td>\n",
       "      <td>Анимационный</td>\n",
       "      <td>ООО \"КиноФирма\"</td>\n",
       "      <td>Россия</td>\n",
       "      <td>А.Лукичев</td>\n",
       "      <td>ООО \"КиноФирма\"</td>\n",
       "      <td>«6+» - для детей старше 6 лет</td>\n",
       "      <td>20,000,000.00</td>\n",
       "      <td>20,000,000.00</td>\n",
       "      <td>0.00</td>\n",
       "      <td>Фонд кино</td>\n",
       "      <td>5.20</td>\n",
       "      <td>мультфильм, фэнтези, семейный</td>\n",
       "      <td>55,108,014.76</td>\n",
       "    </tr>\n",
       "    <tr>\n",
       "      <th>3739</th>\n",
       "      <td>Мифы</td>\n",
       "      <td>111004317</td>\n",
       "      <td>2017-06-07 12:00:00+00:00</td>\n",
       "      <td>Художественный</td>\n",
       "      <td>ООО \"ХАЙПФИЛМ\", ООО \"Арт Пикчерс Студия\"</td>\n",
       "      <td>Россия</td>\n",
       "      <td>А.Молочников</td>\n",
       "      <td>Ф.Бондарчук, Д.Рудовский, И.Стюарт, М.Османн, ...</td>\n",
       "      <td>«16+» - для детей старше 16 лет</td>\n",
       "      <td>25,000,000.00</td>\n",
       "      <td>20,000,000.00</td>\n",
       "      <td>0.00</td>\n",
       "      <td>Фонд кино</td>\n",
       "      <td>4.80</td>\n",
       "      <td>комедия</td>\n",
       "      <td>50,451,949.00</td>\n",
       "    </tr>\n",
       "    <tr>\n",
       "      <th>5673</th>\n",
       "      <td>Селфи</td>\n",
       "      <td>111012117</td>\n",
       "      <td>2018-02-01 12:00:00+00:00</td>\n",
       "      <td>Художественный</td>\n",
       "      <td>ООО \"Киностудия \"Слово\", ООО \"Арт Пикчерс Студия\"</td>\n",
       "      <td>Россия</td>\n",
       "      <td>Н.Хомерики</td>\n",
       "      <td>П.Ануров, Ф.Бондарчук, Д.Рудовский</td>\n",
       "      <td>«16+» - для детей старше 16 лет</td>\n",
       "      <td>20,000,000.00</td>\n",
       "      <td>40,000,000.00</td>\n",
       "      <td>0.00</td>\n",
       "      <td>Фонд кино</td>\n",
       "      <td>5.80</td>\n",
       "      <td>триллер, драма</td>\n",
       "      <td>225,196,400.03</td>\n",
       "    </tr>\n",
       "    <tr>\n",
       "      <th>5806</th>\n",
       "      <td>Два хвоста</td>\n",
       "      <td>114001018</td>\n",
       "      <td>2018-05-31 12:00:00+00:00</td>\n",
       "      <td>Анимационный</td>\n",
       "      <td>ООО \"ЛИЦЕНЗИОННЫЕ БРЕНДЫ\"</td>\n",
       "      <td>Россия</td>\n",
       "      <td>В.Ровенский, Н.Лопато, В.Азеев</td>\n",
       "      <td>ООО \"ЛИЦЕНЗИОННЫЕ БРЕНДЫ\"</td>\n",
       "      <td>«6+» - для детей старше 6 лет</td>\n",
       "      <td>10,000,000.00</td>\n",
       "      <td>60,000,000.00</td>\n",
       "      <td>0.00</td>\n",
       "      <td>Фонд кино</td>\n",
       "      <td>5.00</td>\n",
       "      <td>мультфильм, детский</td>\n",
       "      <td>106,514,301.03</td>\n",
       "    </tr>\n",
       "    <tr>\n",
       "      <th>6008</th>\n",
       "      <td>Принцесса и дракон</td>\n",
       "      <td>114003018</td>\n",
       "      <td>2018-08-23 12:00:00+00:00</td>\n",
       "      <td>Анимационный</td>\n",
       "      <td>ООО \"ЛИЦЕНЗИОННЫЕ БРЕНДЫ\"</td>\n",
       "      <td>Россия</td>\n",
       "      <td>М.Нефедова</td>\n",
       "      <td>ООО \"ЛИЦЕНЗИОННЫЕ БРЕНДЫ\"</td>\n",
       "      <td>«6+» - для детей старше 6 лет</td>\n",
       "      <td>40,000,000.00</td>\n",
       "      <td>40,000,000.00</td>\n",
       "      <td>0.00</td>\n",
       "      <td>Фонд кино</td>\n",
       "      <td>5.20</td>\n",
       "      <td>мультфильм, фэнтези, детский</td>\n",
       "      <td>83,366,328.66</td>\n",
       "    </tr>\n",
       "    <tr>\n",
       "      <th>6323</th>\n",
       "      <td>Баба Яга</td>\n",
       "      <td>114006518</td>\n",
       "      <td>2018-11-08 12:00:00+00:00</td>\n",
       "      <td>Анимационный</td>\n",
       "      <td>ООО \"Арт Пикчерс Студия\"</td>\n",
       "      <td>Россия</td>\n",
       "      <td>В.Саков</td>\n",
       "      <td>ООО \"Арт Пикчерс Студия\", ООО \"КРИЭЙТИВ АНИМЭЙ...</td>\n",
       "      <td>«6+» - для детей старше 6 лет</td>\n",
       "      <td>0.00</td>\n",
       "      <td>138,969,465.00</td>\n",
       "      <td>0.00</td>\n",
       "      <td>Фонд кино</td>\n",
       "      <td>NaN</td>\n",
       "      <td>NaN</td>\n",
       "      <td>1,334,699.40</td>\n",
       "    </tr>\n",
       "    <tr>\n",
       "      <th>6823</th>\n",
       "      <td>Большое путешествие</td>\n",
       "      <td>114002419</td>\n",
       "      <td>2019-04-20 12:00:00+00:00</td>\n",
       "      <td>Анимационный</td>\n",
       "      <td>ООО \"ЛИЦЕНЗИОННЫЕ БРЕНДЫ\"</td>\n",
       "      <td>Россия</td>\n",
       "      <td>Н.Лопато, В.Ровенский</td>\n",
       "      <td>ООО \"ЛИЦЕНЗИОННЫЕ БРЕНДЫ\"</td>\n",
       "      <td>«6+» - для детей старше 6 лет</td>\n",
       "      <td>60,000,000.00</td>\n",
       "      <td>120,000,000.00</td>\n",
       "      <td>0.00</td>\n",
       "      <td>Фонд кино</td>\n",
       "      <td>6.20</td>\n",
       "      <td>мультфильм, комедия, приключения</td>\n",
       "      <td>147,606,826.51</td>\n",
       "    </tr>\n",
       "  </tbody>\n",
       "</table>\n",
       "</div>"
      ],
      "text/plain": [
       "                       title  pu_number           show_start_date  \\\n",
       "2053                     14+  111023614 2014-12-19 12:00:00+00:00   \n",
       "2058               Дуxless 2  111000415 2015-01-26 12:00:00+00:00   \n",
       "2472             Воин (2015)  111017315 2015-09-28 12:00:00+00:00   \n",
       "2532                 Бармен.  111009615 2015-05-26 12:00:00+00:00   \n",
       "2615     Савва. Сердце воина  114001715 2015-07-21 12:00:00+00:00   \n",
       "2684          Тряпичный союз  111010215 2015-06-08 12:00:00+00:00   \n",
       "2788      Срочно выйду замуж  111017115 2015-09-30 12:00:00+00:00   \n",
       "2874       Помню - не помню!  111004916 2016-03-01 12:00:00+00:00   \n",
       "3047  Любовь с ограничениями  111008216 2016-04-29 12:00:00+00:00   \n",
       "3565       Притяжение (2016)  111018116 2016-12-16 12:00:00+00:00   \n",
       "3675                Чудо-юдо  114001817 2017-06-27 12:00:00+00:00   \n",
       "3739                    Мифы  111004317 2017-06-07 12:00:00+00:00   \n",
       "5673                   Селфи  111012117 2018-02-01 12:00:00+00:00   \n",
       "5806              Два хвоста  114001018 2018-05-31 12:00:00+00:00   \n",
       "6008      Принцесса и дракон  114003018 2018-08-23 12:00:00+00:00   \n",
       "6323                Баба Яга  114006518 2018-11-08 12:00:00+00:00   \n",
       "6823     Большое путешествие  114002419 2019-04-20 12:00:00+00:00   \n",
       "\n",
       "                type                                        film_studio  \\\n",
       "2053  Художественный                         ООО Киностудия  \"Сентябрь\"   \n",
       "2058  Художественный  ООО \"Киностудия \"Слово\", ООО \"Арт Пикчерс Студия\"   \n",
       "2472  Художественный   ООО \"Форпост Продакшн\", ООО \"Арт Пикчерс Студия\"   \n",
       "2532  Художественный          АО \"ВайТ Медиа\", ООО \"Арт Пикчерс Студия\"   \n",
       "2615    Анимационный   ООО \"Глюкоза Продакшн\", ООО \"Арт Пикчерс Студия\"   \n",
       "2684  Художественный                      ООО \"Кинокомпания \"КОКТЕБЕЛЬ\"   \n",
       "2788  Художественный          АО \"ВайТ Медиа\", ООО \"Арт Пикчерс Студия\"   \n",
       "2874  Художественный                                    ООО \"КиноФирма\"   \n",
       "3047  Художественный          АО \"ВайТ Медиа\", ООО \"Арт Пикчерс Студия\"   \n",
       "3565  Художественный       ООО \"Водород 2011\", ООО \"Арт Пикчерс Студия\"   \n",
       "3675    Анимационный                                    ООО \"КиноФирма\"   \n",
       "3739  Художественный           ООО \"ХАЙПФИЛМ\", ООО \"Арт Пикчерс Студия\"   \n",
       "5673  Художественный  ООО \"Киностудия \"Слово\", ООО \"Арт Пикчерс Студия\"   \n",
       "5806    Анимационный                          ООО \"ЛИЦЕНЗИОННЫЕ БРЕНДЫ\"   \n",
       "6008    Анимационный                          ООО \"ЛИЦЕНЗИОННЫЕ БРЕНДЫ\"   \n",
       "6323    Анимационный                           ООО \"Арт Пикчерс Студия\"   \n",
       "6823    Анимационный                          ООО \"ЛИЦЕНЗИОННЫЕ БРЕНДЫ\"   \n",
       "\n",
       "     production_country                        director  \\\n",
       "2053             Россия                        А.Зайцев   \n",
       "2058             Россия                      Р.Прыгунов   \n",
       "2472             Россия                     А.Андрианов   \n",
       "2532             Россия                    Д.Штурманова   \n",
       "2615             Россия                        М.Фадеев   \n",
       "2684             Россия                     М.Местецкий   \n",
       "2788             Россия                       С Чекалов   \n",
       "2874             Россия                     В.Ровенский   \n",
       "3047             Россия                         Д.Тюрин   \n",
       "3565             Россия                     Ф.Бондарчук   \n",
       "3675             Россия                       А.Лукичев   \n",
       "3739             Россия                    А.Молочников   \n",
       "5673             Россия                      Н.Хомерики   \n",
       "5806             Россия  В.Ровенский, Н.Лопато, В.Азеев   \n",
       "6008             Россия                      М.Нефедова   \n",
       "6323             Россия                         В.Саков   \n",
       "6823             Россия           Н.Лопато, В.Ровенский   \n",
       "\n",
       "                                               producer  \\\n",
       "2053                                О.Гранина, А.Зайцев   \n",
       "2058                 П.Ануров, Ф.Бондарчук, Д.Рудовский   \n",
       "2472                           ООО \"Арт Пикчерс Студия\"   \n",
       "2532                                        Т.Вайнштейн   \n",
       "2615                                         А.Чистяков   \n",
       "2684                              Р.Борисевич, А.Кушаев   \n",
       "2788              Ф.Бондарчук, Т.Вайнштейн, Д.Рудовский   \n",
       "2874                                    ООО \"КиноФирма\"   \n",
       "3047              Ф.Бондарчук, Т.Вайнштейн, Д.Рудовский   \n",
       "3565                           ООО \"Арт Пикчерс Студия\"   \n",
       "3675                                    ООО \"КиноФирма\"   \n",
       "3739  Ф.Бондарчук, Д.Рудовский, И.Стюарт, М.Османн, ...   \n",
       "5673                 П.Ануров, Ф.Бондарчук, Д.Рудовский   \n",
       "5806                          ООО \"ЛИЦЕНЗИОННЫЕ БРЕНДЫ\"   \n",
       "6008                          ООО \"ЛИЦЕНЗИОННЫЕ БРЕНДЫ\"   \n",
       "6323  ООО \"Арт Пикчерс Студия\", ООО \"КРИЭЙТИВ АНИМЭЙ...   \n",
       "6823                          ООО \"ЛИЦЕНЗИОННЫЕ БРЕНДЫ\"   \n",
       "\n",
       "                      age_restriction  refundable_support  \\\n",
       "2053  «16+» - для детей старше 16 лет                0.00   \n",
       "2058  «16+» - для детей старше 16 лет                0.00   \n",
       "2472  «12+» - для детей старше 12 лет       10,000,000.00   \n",
       "2532  «16+» - для детей старше 16 лет       20,000,000.00   \n",
       "2615    «6+» - для детей старше 6 лет       60,000,000.00   \n",
       "2684      «18+» - запрещено для детей                0.00   \n",
       "2788  «16+» - для детей старше 16 лет                0.00   \n",
       "2874  «12+» - для детей старше 12 лет                0.00   \n",
       "3047  «16+» - для детей старше 16 лет       19,000,000.00   \n",
       "3565  «12+» - для детей старше 12 лет                0.00   \n",
       "3675    «6+» - для детей старше 6 лет       20,000,000.00   \n",
       "3739  «16+» - для детей старше 16 лет       25,000,000.00   \n",
       "5673  «16+» - для детей старше 16 лет       20,000,000.00   \n",
       "5806    «6+» - для детей старше 6 лет       10,000,000.00   \n",
       "6008    «6+» - для детей старше 6 лет       40,000,000.00   \n",
       "6323    «6+» - для детей старше 6 лет                0.00   \n",
       "6823    «6+» - для детей старше 6 лет       60,000,000.00   \n",
       "\n",
       "      nonrefundable_support  budget                  financing_source  \\\n",
       "2053          23,000,000.00    0.00  Министерство культуры, Фонд кино   \n",
       "2058          75,000,000.00    0.00                         Фонд кино   \n",
       "2472          70,000,000.00    0.00                         Фонд кино   \n",
       "2532                   0.00    0.00                         Фонд кино   \n",
       "2615         100,000,000.00    0.00                         Фонд кино   \n",
       "2684          59,000,000.00    0.00                         Фонд кино   \n",
       "2788          35,000,000.00    0.00                         Фонд кино   \n",
       "2874           6,000,000.00    0.00             Министерство культуры   \n",
       "3047          51,000,000.00    0.00                         Фонд кино   \n",
       "3565         250,000,000.00    0.00                         Фонд кино   \n",
       "3675          20,000,000.00    0.00                         Фонд кино   \n",
       "3739          20,000,000.00    0.00                         Фонд кино   \n",
       "5673          40,000,000.00    0.00                         Фонд кино   \n",
       "5806          60,000,000.00    0.00                         Фонд кино   \n",
       "6008          40,000,000.00    0.00                         Фонд кино   \n",
       "6323         138,969,465.00    0.00                         Фонд кино   \n",
       "6823         120,000,000.00    0.00                         Фонд кино   \n",
       "\n",
       "      ratings                            genres       box_office  \n",
       "2053     6.60                         мелодрама    10,234,016.10  \n",
       "2058     6.60                             драма   446,163,511.00  \n",
       "2472     7.80           боевик, драма, криминал   196,572,438.40  \n",
       "2532     6.20                  комедия, фэнтези    67,418,974.80  \n",
       "2615     4.60  мультфильм, приключения, фэнтези   184,487,551.40  \n",
       "2684     6.30                    комедия, драма     1,957,738.51  \n",
       "2788     5.10                комедия, мелодрама    72,937,783.20  \n",
       "2874     4.30                           комедия    15,362,931.43  \n",
       "3047     6.30                комедия, мелодрама    70,299,052.00  \n",
       "3565     5.60                        фантастика 1,038,321,489.00  \n",
       "3675     5.20     мультфильм, фэнтези, семейный    55,108,014.76  \n",
       "3739     4.80                           комедия    50,451,949.00  \n",
       "5673     5.80                    триллер, драма   225,196,400.03  \n",
       "5806     5.00               мультфильм, детский   106,514,301.03  \n",
       "6008     5.20      мультфильм, фэнтези, детский    83,366,328.66  \n",
       "6323      NaN                               NaN     1,334,699.40  \n",
       "6823     6.20  мультфильм, комедия, приключения   147,606,826.51  "
      ]
     },
     "execution_count": 33,
     "metadata": {},
     "output_type": "execute_result"
    }
   ],
   "source": [
    "strange_budget = data[data['budget'] < data['refundable_support'] + data['nonrefundable_support']]\n",
    "strange_budget"
   ]
  },
  {
   "cell_type": "markdown",
   "metadata": {},
   "source": [
    "Существуют строки, к которых бюджет равен 0, не смотря на то, что у фильма есть гос. поддержка.\n",
    "Следует заполнить эти подозрительные данные, заполню их суммой известной гос. поддержки, деленную на среднюю долю гос. поддержки по всем фильмам. "
   ]
  },
  {
   "cell_type": "code",
   "execution_count": 34,
   "metadata": {
    "scrolled": false
   },
   "outputs": [
    {
     "name": "stdout",
     "output_type": "stream",
     "text": [
      "Empty DataFrame\n",
      "Columns: [title, pu_number, show_start_date, type, film_studio, production_country, director, producer, age_restriction, refundable_support, nonrefundable_support, budget, financing_source, ratings, genres, box_office]\n",
      "Index: []\n",
      "<class 'pandas.core.frame.DataFrame'>\n",
      "Int64Index: 6913 entries, 0 to 7485\n",
      "Data columns (total 16 columns):\n",
      " #   Column                 Non-Null Count  Dtype              \n",
      "---  ------                 --------------  -----              \n",
      " 0   title                  6913 non-null   object             \n",
      " 1   pu_number              6913 non-null   int64              \n",
      " 2   show_start_date        6913 non-null   datetime64[ns, UTC]\n",
      " 3   type                   6913 non-null   object             \n",
      " 4   film_studio            6913 non-null   object             \n",
      " 5   production_country     6913 non-null   object             \n",
      " 6   director               6913 non-null   object             \n",
      " 7   producer               6354 non-null   object             \n",
      " 8   age_restriction        6913 non-null   object             \n",
      " 9   refundable_support     332 non-null    float64            \n",
      " 10  nonrefundable_support  332 non-null    float64            \n",
      " 11  budget                 332 non-null    float64            \n",
      " 12  financing_source       332 non-null    object             \n",
      " 13  ratings                5955 non-null   float64            \n",
      " 14  genres                 5946 non-null   object             \n",
      " 15  box_office             3158 non-null   float64            \n",
      "dtypes: datetime64[ns, UTC](1), float64(5), int64(1), object(9)\n",
      "memory usage: 1.1+ MB\n"
     ]
    }
   ],
   "source": [
    "budget_share = (data['refundable_support'].sum() + data['nonrefundable_support'].sum())/ data['budget'].sum()  \n",
    "\n",
    "data.loc[strange_budget.index, 'budget'] = (data.loc[strange_budget.index, 'refundable_support'] + \\\n",
    "data.loc[strange_budget.index, 'nonrefundable_support']) / budget_share\n",
    "strange_budget = data[data['budget'] < data['refundable_support'] + data['nonrefundable_support']]\n",
    "print(strange_budget)\n",
    "data.info()"
   ]
  },
  {
   "cell_type": "code",
   "execution_count": 35,
   "metadata": {},
   "outputs": [
    {
     "name": "stdout",
     "output_type": "stream",
     "text": [
      "count           3,158.00\n",
      "mean       76,478,696.16\n",
      "std       240,353,122.82\n",
      "min                 0.00\n",
      "25%            86,239.00\n",
      "50%         2,327,987.55\n",
      "75%        23,979,671.02\n",
      "max     3,073,568,690.79\n",
      "Name: box_office, dtype: float64\n"
     ]
    },
    {
     "data": {
      "text/plain": [
       "<AxesSubplot:>"
      ]
     },
     "execution_count": 35,
     "metadata": {},
     "output_type": "execute_result"
    },
    {
     "data": {
      "image/png": "[encoded data removed]",
      "text/plain": [
       "<Figure size 432x288 with 1 Axes>"
      ]
     },
     "metadata": {
      "needs_background": "light"
     },
     "output_type": "display_data"
    }
   ],
   "source": [
    "print(data['box_office'].describe())\n",
    "\n",
    "\n",
    "data.boxplot(column='box_office')\n"
   ]
  },
  {
   "cell_type": "markdown",
   "metadata": {
    "id": "Eu6oWp2CgFyS"
   },
   "source": [
    "#### Шаг 2.6. Добавьте новые столбцы\n",
    "\n",
    "\n",
    "\n"
   ]
  },
  {
   "cell_type": "markdown",
   "metadata": {
    "id": "7GgW-UpAgFyS"
   },
   "source": [
    "- Создайте столбец с информацией о годе проката. Выделите год из даты премьеры фильма."
   ]
  },
  {
   "cell_type": "code",
   "execution_count": 37,
   "metadata": {
    "id": "I-yd1DkWgFyT",
    "scrolled": true
   },
   "outputs": [
    {
     "data": {
      "text/html": [
       "<div>\n",
       "<style scoped>\n",
       "    .dataframe tbody tr th:only-of-type {\n",
       "        vertical-align: middle;\n",
       "    }\n",
       "\n",
       "    .dataframe tbody tr th {\n",
       "        vertical-align: top;\n",
       "    }\n",
       "\n",
       "    .dataframe thead th {\n",
       "        text-align: right;\n",
       "    }\n",
       "</style>\n",
       "<table border=\"1\" class=\"dataframe\">\n",
       "  <thead>\n",
       "    <tr style=\"text-align: right;\">\n",
       "      <th></th>\n",
       "      <th>title</th>\n",
       "      <th>pu_number</th>\n",
       "      <th>show_start_date</th>\n",
       "      <th>type</th>\n",
       "      <th>film_studio</th>\n",
       "      <th>production_country</th>\n",
       "      <th>director</th>\n",
       "      <th>producer</th>\n",
       "      <th>age_restriction</th>\n",
       "      <th>refundable_support</th>\n",
       "      <th>nonrefundable_support</th>\n",
       "      <th>budget</th>\n",
       "      <th>financing_source</th>\n",
       "      <th>ratings</th>\n",
       "      <th>genres</th>\n",
       "      <th>box_office</th>\n",
       "      <th>year_show</th>\n",
       "    </tr>\n",
       "  </thead>\n",
       "  <tbody>\n",
       "    <tr>\n",
       "      <th>0</th>\n",
       "      <td>Открытый простор</td>\n",
       "      <td>221048915</td>\n",
       "      <td>2015-11-27 12:00:00+00:00</td>\n",
       "      <td>Художественный</td>\n",
       "      <td>Тачстоун Пикчерз, Кобальт Пикчерз, Бикон Пикче...</td>\n",
       "      <td>США</td>\n",
       "      <td>Кевин Костнер</td>\n",
       "      <td>Дэвид Валдес, Кевин Костнер, Джейк Эбертс</td>\n",
       "      <td>«18+» - запрещено для детей</td>\n",
       "      <td>NaN</td>\n",
       "      <td>NaN</td>\n",
       "      <td>NaN</td>\n",
       "      <td>NaN</td>\n",
       "      <td>7.20</td>\n",
       "      <td>боевик, драма, мелодрама</td>\n",
       "      <td>NaN</td>\n",
       "      <td>2015</td>\n",
       "    </tr>\n",
       "    <tr>\n",
       "      <th>1</th>\n",
       "      <td>Особо важное задание</td>\n",
       "      <td>111013716</td>\n",
       "      <td>2016-09-13 12:00:00+00:00</td>\n",
       "      <td>Художественный</td>\n",
       "      <td>Киностудия \"Мосфильм\"</td>\n",
       "      <td>СССР</td>\n",
       "      <td>Е.Матвеев</td>\n",
       "      <td>NaN</td>\n",
       "      <td>«6+» - для детей старше 6 лет</td>\n",
       "      <td>NaN</td>\n",
       "      <td>NaN</td>\n",
       "      <td>NaN</td>\n",
       "      <td>NaN</td>\n",
       "      <td>6.60</td>\n",
       "      <td>драма, военный</td>\n",
       "      <td>NaN</td>\n",
       "      <td>2016</td>\n",
       "    </tr>\n",
       "    <tr>\n",
       "      <th>2</th>\n",
       "      <td>Особо опасен</td>\n",
       "      <td>221038416</td>\n",
       "      <td>2016-10-10 12:00:00+00:00</td>\n",
       "      <td>Художественный</td>\n",
       "      <td>Юниверсал Пикчерз, Кикстарт Продакшнз, Марк Пл...</td>\n",
       "      <td>США</td>\n",
       "      <td>Тимур Бекмамбетов</td>\n",
       "      <td>Джим Лемли, Джейсон Нетер, Марк Е.Платт, Яйн Смит</td>\n",
       "      <td>«18+» - запрещено для детей</td>\n",
       "      <td>NaN</td>\n",
       "      <td>NaN</td>\n",
       "      <td>NaN</td>\n",
       "      <td>NaN</td>\n",
       "      <td>6.80</td>\n",
       "      <td>фантастика, боевик, триллер</td>\n",
       "      <td>NaN</td>\n",
       "      <td>2016</td>\n",
       "    </tr>\n",
       "    <tr>\n",
       "      <th>5</th>\n",
       "      <td>Остановился поезд</td>\n",
       "      <td>111013816</td>\n",
       "      <td>2016-09-13 12:00:00+00:00</td>\n",
       "      <td>Художественный</td>\n",
       "      <td>Киностудия \"Мосфильм\"</td>\n",
       "      <td>СССР</td>\n",
       "      <td>В.Абдрашитов</td>\n",
       "      <td>NaN</td>\n",
       "      <td>«6+» - для детей старше 6 лет</td>\n",
       "      <td>NaN</td>\n",
       "      <td>NaN</td>\n",
       "      <td>NaN</td>\n",
       "      <td>NaN</td>\n",
       "      <td>7.70</td>\n",
       "      <td>драма</td>\n",
       "      <td>NaN</td>\n",
       "      <td>2016</td>\n",
       "    </tr>\n",
       "    <tr>\n",
       "      <th>6</th>\n",
       "      <td>Любовь и голуби</td>\n",
       "      <td>111007013</td>\n",
       "      <td>2013-10-18 12:00:00+00:00</td>\n",
       "      <td>Художественный</td>\n",
       "      <td>Киностудия \"Мосфильм\"</td>\n",
       "      <td>СССР</td>\n",
       "      <td>В.Меньшов</td>\n",
       "      <td>NaN</td>\n",
       "      <td>«12+» - для детей старше 12 лет</td>\n",
       "      <td>NaN</td>\n",
       "      <td>NaN</td>\n",
       "      <td>NaN</td>\n",
       "      <td>NaN</td>\n",
       "      <td>8.30</td>\n",
       "      <td>мелодрама, комедия</td>\n",
       "      <td>2,700.00</td>\n",
       "      <td>2013</td>\n",
       "    </tr>\n",
       "  </tbody>\n",
       "</table>\n",
       "</div>"
      ],
      "text/plain": [
       "                  title  pu_number           show_start_date            type  \\\n",
       "0      Открытый простор  221048915 2015-11-27 12:00:00+00:00  Художественный   \n",
       "1  Особо важное задание  111013716 2016-09-13 12:00:00+00:00  Художественный   \n",
       "2          Особо опасен  221038416 2016-10-10 12:00:00+00:00  Художественный   \n",
       "5     Остановился поезд  111013816 2016-09-13 12:00:00+00:00  Художественный   \n",
       "6       Любовь и голуби  111007013 2013-10-18 12:00:00+00:00  Художественный   \n",
       "\n",
       "                                         film_studio production_country  \\\n",
       "0  Тачстоун Пикчерз, Кобальт Пикчерз, Бикон Пикче...                США   \n",
       "1                              Киностудия \"Мосфильм\"               СССР   \n",
       "2  Юниверсал Пикчерз, Кикстарт Продакшнз, Марк Пл...                США   \n",
       "5                              Киностудия \"Мосфильм\"               СССР   \n",
       "6                              Киностудия \"Мосфильм\"               СССР   \n",
       "\n",
       "            director                                           producer  \\\n",
       "0      Кевин Костнер          Дэвид Валдес, Кевин Костнер, Джейк Эбертс   \n",
       "1          Е.Матвеев                                                NaN   \n",
       "2  Тимур Бекмамбетов  Джим Лемли, Джейсон Нетер, Марк Е.Платт, Яйн Смит   \n",
       "5       В.Абдрашитов                                                NaN   \n",
       "6          В.Меньшов                                                NaN   \n",
       "\n",
       "                   age_restriction  refundable_support  nonrefundable_support  \\\n",
       "0      «18+» - запрещено для детей                 NaN                    NaN   \n",
       "1    «6+» - для детей старше 6 лет                 NaN                    NaN   \n",
       "2      «18+» - запрещено для детей                 NaN                    NaN   \n",
       "5    «6+» - для детей старше 6 лет                 NaN                    NaN   \n",
       "6  «12+» - для детей старше 12 лет                 NaN                    NaN   \n",
       "\n",
       "   budget financing_source  ratings                       genres  box_office  \\\n",
       "0     NaN              NaN     7.20     боевик, драма, мелодрама         NaN   \n",
       "1     NaN              NaN     6.60               драма, военный         NaN   \n",
       "2     NaN              NaN     6.80  фантастика, боевик, триллер         NaN   \n",
       "5     NaN              NaN     7.70                        драма         NaN   \n",
       "6     NaN              NaN     8.30           мелодрама, комедия    2,700.00   \n",
       "\n",
       "   year_show  \n",
       "0       2015  \n",
       "1       2016  \n",
       "2       2016  \n",
       "5       2016  \n",
       "6       2013  "
      ]
     },
     "execution_count": 37,
     "metadata": {},
     "output_type": "execute_result"
    }
   ],
   "source": [
    "data['show_start_date'] = pd.to_datetime( \n",
    "    data['show_start_date'], format='%Y-%m-%dT%H:%M:%S'\n",
    ")\n",
    "data['year_show'] = pd.DatetimeIndex(data['show_start_date']).year\n",
    "data.head()"
   ]
  },
  {
   "cell_type": "markdown",
   "metadata": {
    "id": "nFTDLDYOgFyT"
   },
   "source": [
    "- Создайте два столбца: с именем и фамилией главного режиссёра и основным жанром фильма. В столбцы войдут первые значения из списка режиссёров и жанров соответственно.\n",
    "\n",
    "<div id=\"accordion\">\n",
    "    <div class=\"card\">\n",
    "        <div class=\"card-header\" id=\"headingThree\">\n",
    "            <button class=\"btn btn-link collapsed\" data-toggle=\"collapse\" data-target=\"#collapseHint_2\" aria-expanded=\"false\" aria-controls=\"collapseHint_2\">Подсказка</button>\n",
    "        </div>\n",
    "        <div id=\"collapseHint_2\" class=\"collapse\" aria-labelledby=\"headingThree\" data-parent=\"#accordion\">\n",
    "            <div class=\"card-body\">\n",
    "Чтобы создать такие столбцы, лучше всего использовать собственную функцию. Эту функцию можно применить к двум столбцам сразу. \n",
    "            </div>\n",
    "        </div>\n",
    "    </div>\n",
    "</div>"
   ]
  },
  {
   "cell_type": "code",
   "execution_count": 38,
   "metadata": {
    "id": "LSbRZKbMgFyU",
    "scrolled": true
   },
   "outputs": [
    {
     "name": "stdout",
     "output_type": "stream",
     "text": [
      "                  title  pu_number           show_start_date            type  \\\n",
      "0      Открытый простор  221048915 2015-11-27 12:00:00+00:00  Художественный   \n",
      "1  Особо важное задание  111013716 2016-09-13 12:00:00+00:00  Художественный   \n",
      "2          Особо опасен  221038416 2016-10-10 12:00:00+00:00  Художественный   \n",
      "5     Остановился поезд  111013816 2016-09-13 12:00:00+00:00  Художественный   \n",
      "6       Любовь и голуби  111007013 2013-10-18 12:00:00+00:00  Художественный   \n",
      "\n",
      "                                         film_studio production_country  \\\n",
      "0  Тачстоун Пикчерз, Кобальт Пикчерз, Бикон Пикче...                США   \n",
      "1                              Киностудия \"Мосфильм\"               СССР   \n",
      "2  Юниверсал Пикчерз, Кикстарт Продакшнз, Марк Пл...                США   \n",
      "5                              Киностудия \"Мосфильм\"               СССР   \n",
      "6                              Киностудия \"Мосфильм\"               СССР   \n",
      "\n",
      "            director                                           producer  \\\n",
      "0      Кевин Костнер          Дэвид Валдес, Кевин Костнер, Джейк Эбертс   \n",
      "1          Е.Матвеев                                                NaN   \n",
      "2  Тимур Бекмамбетов  Джим Лемли, Джейсон Нетер, Марк Е.Платт, Яйн Смит   \n",
      "5       В.Абдрашитов                                                NaN   \n",
      "6          В.Меньшов                                                NaN   \n",
      "\n",
      "                   age_restriction  refundable_support  nonrefundable_support  \\\n",
      "0      «18+» - запрещено для детей                 NaN                    NaN   \n",
      "1    «6+» - для детей старше 6 лет                 NaN                    NaN   \n",
      "2      «18+» - запрещено для детей                 NaN                    NaN   \n",
      "5    «6+» - для детей старше 6 лет                 NaN                    NaN   \n",
      "6  «12+» - для детей старше 12 лет                 NaN                    NaN   \n",
      "\n",
      "   budget financing_source  ratings                       genres  box_office  \\\n",
      "0     NaN              NaN     7.20     боевик, драма, мелодрама         NaN   \n",
      "1     NaN              NaN     6.60               драма, военный         NaN   \n",
      "2     NaN              NaN     6.80  фантастика, боевик, триллер         NaN   \n",
      "5     NaN              NaN     7.70                        драма         NaN   \n",
      "6     NaN              NaN     8.30           мелодрама, комедия    2,700.00   \n",
      "\n",
      "   year_show      main_director  \n",
      "0       2015      Кевин Костнер  \n",
      "1       2016          Е.Матвеев  \n",
      "2       2016  Тимур Бекмамбетов  \n",
      "5       2016       В.Абдрашитов  \n",
      "6       2013          В.Меньшов  \n"
     ]
    }
   ],
   "source": [
    "\n",
    "def main_col(column, sep=','):\n",
    "    column1 = column.split(sep=sep)\n",
    "    return column1[0]\n",
    "    \n",
    "data['main_director'] = data['director'].apply(main_col)\n",
    "\n",
    "print(data.head())"
   ]
  },
  {
   "cell_type": "code",
   "execution_count": 40,
   "metadata": {
    "scrolled": true
   },
   "outputs": [],
   "source": [
    "# data['main_genre'] = data['genres'].apply(main_col)\n",
    "\n",
    "# check\n",
    "data['main_genre'] = data['genres'].dropna().apply(main_col)"
   ]
  },
  {
   "cell_type": "markdown",
   "metadata": {
    "id": "1FsCXHwdgFyU"
   },
   "source": [
    "- Посчитайте, какую долю от общего бюджета фильма составляет государственная поддержка."
   ]
  },
  {
   "cell_type": "code",
   "execution_count": 41,
   "metadata": {},
   "outputs": [
    {
     "data": {
      "text/html": [
       "<div>\n",
       "<style scoped>\n",
       "    .dataframe tbody tr th:only-of-type {\n",
       "        vertical-align: middle;\n",
       "    }\n",
       "\n",
       "    .dataframe tbody tr th {\n",
       "        vertical-align: top;\n",
       "    }\n",
       "\n",
       "    .dataframe thead th {\n",
       "        text-align: right;\n",
       "    }\n",
       "</style>\n",
       "<table border=\"1\" class=\"dataframe\">\n",
       "  <thead>\n",
       "    <tr style=\"text-align: right;\">\n",
       "      <th></th>\n",
       "      <th>title</th>\n",
       "      <th>pu_number</th>\n",
       "      <th>show_start_date</th>\n",
       "      <th>type</th>\n",
       "      <th>film_studio</th>\n",
       "      <th>production_country</th>\n",
       "      <th>director</th>\n",
       "      <th>producer</th>\n",
       "      <th>age_restriction</th>\n",
       "      <th>refundable_support</th>\n",
       "      <th>nonrefundable_support</th>\n",
       "      <th>budget</th>\n",
       "      <th>financing_source</th>\n",
       "      <th>ratings</th>\n",
       "      <th>genres</th>\n",
       "      <th>box_office</th>\n",
       "      <th>year_show</th>\n",
       "      <th>main_director</th>\n",
       "      <th>main_genre</th>\n",
       "      <th>dol_gos</th>\n",
       "    </tr>\n",
       "  </thead>\n",
       "  <tbody>\n",
       "    <tr>\n",
       "      <th>7481</th>\n",
       "      <td>Сад художника: Американский импрессионизм</td>\n",
       "      <td>126008019</td>\n",
       "      <td>2019-12-23 12:00:00+00:00</td>\n",
       "      <td>Прочие</td>\n",
       "      <td>Севен Артс Продакшнз</td>\n",
       "      <td>Великобритания</td>\n",
       "      <td>Фил Грабски</td>\n",
       "      <td>Фил Грабски</td>\n",
       "      <td>«12+» - для детей старше 12 лет</td>\n",
       "      <td>NaN</td>\n",
       "      <td>NaN</td>\n",
       "      <td>NaN</td>\n",
       "      <td>NaN</td>\n",
       "      <td>NaN</td>\n",
       "      <td>NaN</td>\n",
       "      <td>NaN</td>\n",
       "      <td>2019</td>\n",
       "      <td>Фил Грабски</td>\n",
       "      <td>NaN</td>\n",
       "      <td>NaN</td>\n",
       "    </tr>\n",
       "    <tr>\n",
       "      <th>7482</th>\n",
       "      <td>Звериная ярость</td>\n",
       "      <td>121037819</td>\n",
       "      <td>2019-12-24 12:00:00+00:00</td>\n",
       "      <td>Художественный</td>\n",
       "      <td>Дэниел Гродник Продакшнз, Вандерфилм Медиа Кор...</td>\n",
       "      <td>США</td>\n",
       "      <td>Ник Пауэлл</td>\n",
       "      <td>Джефф Боулер, Дэниэл Гродник, Луильо Руис, Брэ...</td>\n",
       "      <td>«16+» - для детей старше 16 лет</td>\n",
       "      <td>NaN</td>\n",
       "      <td>NaN</td>\n",
       "      <td>NaN</td>\n",
       "      <td>NaN</td>\n",
       "      <td>5.40</td>\n",
       "      <td>боевик, триллер</td>\n",
       "      <td>NaN</td>\n",
       "      <td>2019</td>\n",
       "      <td>Ник Пауэлл</td>\n",
       "      <td>боевик</td>\n",
       "      <td>NaN</td>\n",
       "    </tr>\n",
       "    <tr>\n",
       "      <th>7483</th>\n",
       "      <td>Щенячий патруль: Скорей спешим на помощь!</td>\n",
       "      <td>124010819</td>\n",
       "      <td>2019-12-28 12:00:00+00:00</td>\n",
       "      <td>Художественный</td>\n",
       "      <td>Никелодеон Анимейшн Студиос, Спин Мастер</td>\n",
       "      <td>США - Канада</td>\n",
       "      <td>Чарльз Е.Бастьен</td>\n",
       "      <td>Дженнифер Додж</td>\n",
       "      <td>«0+» - для любой зрительской аудитории</td>\n",
       "      <td>NaN</td>\n",
       "      <td>NaN</td>\n",
       "      <td>NaN</td>\n",
       "      <td>NaN</td>\n",
       "      <td>NaN</td>\n",
       "      <td>NaN</td>\n",
       "      <td>NaN</td>\n",
       "      <td>2019</td>\n",
       "      <td>Чарльз Е.Бастьен</td>\n",
       "      <td>NaN</td>\n",
       "      <td>NaN</td>\n",
       "    </tr>\n",
       "    <tr>\n",
       "      <th>7484</th>\n",
       "      <td>Машины песенки. Серия \"Испанские мотивы\"</td>\n",
       "      <td>124010619</td>\n",
       "      <td>2019-12-30 12:00:00+00:00</td>\n",
       "      <td>Анимационный</td>\n",
       "      <td>Анимаккорд Лтд., ООО Студия \"АНИМАККОРД\"</td>\n",
       "      <td>Республика Кипр, Россия</td>\n",
       "      <td>А.Беляев</td>\n",
       "      <td>Д.Ловейко</td>\n",
       "      <td>«0+» - для любой зрительской аудитории</td>\n",
       "      <td>NaN</td>\n",
       "      <td>NaN</td>\n",
       "      <td>NaN</td>\n",
       "      <td>NaN</td>\n",
       "      <td>NaN</td>\n",
       "      <td>NaN</td>\n",
       "      <td>NaN</td>\n",
       "      <td>2019</td>\n",
       "      <td>А.Беляев</td>\n",
       "      <td>NaN</td>\n",
       "      <td>NaN</td>\n",
       "    </tr>\n",
       "    <tr>\n",
       "      <th>7485</th>\n",
       "      <td>Машины песенки. Серия \"Когда цветут кактусы\"</td>\n",
       "      <td>124010719</td>\n",
       "      <td>2019-12-30 12:00:00+00:00</td>\n",
       "      <td>Анимационный</td>\n",
       "      <td>Анимаккорд Лтд., ООО Студия \"АНИМАККОРД\"</td>\n",
       "      <td>Республика Кипр, Россия</td>\n",
       "      <td>И.Трусов</td>\n",
       "      <td>Д.Ловейко</td>\n",
       "      <td>«0+» - для любой зрительской аудитории</td>\n",
       "      <td>NaN</td>\n",
       "      <td>NaN</td>\n",
       "      <td>NaN</td>\n",
       "      <td>NaN</td>\n",
       "      <td>6.30</td>\n",
       "      <td>комедия, вестерн</td>\n",
       "      <td>NaN</td>\n",
       "      <td>2019</td>\n",
       "      <td>И.Трусов</td>\n",
       "      <td>комедия</td>\n",
       "      <td>NaN</td>\n",
       "    </tr>\n",
       "  </tbody>\n",
       "</table>\n",
       "</div>"
      ],
      "text/plain": [
       "                                             title  pu_number  \\\n",
       "7481     Сад художника: Американский импрессионизм  126008019   \n",
       "7482                               Звериная ярость  121037819   \n",
       "7483     Щенячий патруль: Скорей спешим на помощь!  124010819   \n",
       "7484      Машины песенки. Серия \"Испанские мотивы\"  124010619   \n",
       "7485  Машины песенки. Серия \"Когда цветут кактусы\"  124010719   \n",
       "\n",
       "               show_start_date            type  \\\n",
       "7481 2019-12-23 12:00:00+00:00          Прочие   \n",
       "7482 2019-12-24 12:00:00+00:00  Художественный   \n",
       "7483 2019-12-28 12:00:00+00:00  Художественный   \n",
       "7484 2019-12-30 12:00:00+00:00    Анимационный   \n",
       "7485 2019-12-30 12:00:00+00:00    Анимационный   \n",
       "\n",
       "                                            film_studio  \\\n",
       "7481                               Севен Артс Продакшнз   \n",
       "7482  Дэниел Гродник Продакшнз, Вандерфилм Медиа Кор...   \n",
       "7483           Никелодеон Анимейшн Студиос, Спин Мастер   \n",
       "7484           Анимаккорд Лтд., ООО Студия \"АНИМАККОРД\"   \n",
       "7485           Анимаккорд Лтд., ООО Студия \"АНИМАККОРД\"   \n",
       "\n",
       "           production_country          director  \\\n",
       "7481           Великобритания       Фил Грабски   \n",
       "7482                      США        Ник Пауэлл   \n",
       "7483             США - Канада  Чарльз Е.Бастьен   \n",
       "7484  Республика Кипр, Россия          А.Беляев   \n",
       "7485  Республика Кипр, Россия          И.Трусов   \n",
       "\n",
       "                                               producer  \\\n",
       "7481                                        Фил Грабски   \n",
       "7482  Джефф Боулер, Дэниэл Гродник, Луильо Руис, Брэ...   \n",
       "7483                                     Дженнифер Додж   \n",
       "7484                                          Д.Ловейко   \n",
       "7485                                          Д.Ловейко   \n",
       "\n",
       "                             age_restriction  refundable_support  \\\n",
       "7481         «12+» - для детей старше 12 лет                 NaN   \n",
       "7482         «16+» - для детей старше 16 лет                 NaN   \n",
       "7483  «0+» - для любой зрительской аудитории                 NaN   \n",
       "7484  «0+» - для любой зрительской аудитории                 NaN   \n",
       "7485  «0+» - для любой зрительской аудитории                 NaN   \n",
       "\n",
       "      nonrefundable_support  budget financing_source  ratings  \\\n",
       "7481                    NaN     NaN              NaN      NaN   \n",
       "7482                    NaN     NaN              NaN     5.40   \n",
       "7483                    NaN     NaN              NaN      NaN   \n",
       "7484                    NaN     NaN              NaN      NaN   \n",
       "7485                    NaN     NaN              NaN     6.30   \n",
       "\n",
       "                genres  box_office  year_show     main_director main_genre  \\\n",
       "7481               NaN         NaN       2019       Фил Грабски        NaN   \n",
       "7482   боевик, триллер         NaN       2019        Ник Пауэлл     боевик   \n",
       "7483               NaN         NaN       2019  Чарльз Е.Бастьен        NaN   \n",
       "7484               NaN         NaN       2019          А.Беляев        NaN   \n",
       "7485  комедия, вестерн         NaN       2019          И.Трусов    комедия   \n",
       "\n",
       "      dol_gos  \n",
       "7481      NaN  \n",
       "7482      NaN  \n",
       "7483      NaN  \n",
       "7484      NaN  \n",
       "7485      NaN  "
      ]
     },
     "execution_count": 41,
     "metadata": {},
     "output_type": "execute_result"
    }
   ],
   "source": [
    "data['dol_gos'] = (data['refundable_support'] + data['nonrefundable_support'])/data['budget']\n",
    "data.tail()"
   ]
  },
  {
   "cell_type": "code",
   "execution_count": 42,
   "metadata": {},
   "outputs": [
    {
     "data": {
      "text/plain": [
       "0.515381005753175"
      ]
     },
     "execution_count": 42,
     "metadata": {},
     "output_type": "execute_result"
    }
   ],
   "source": [
    "budget_share_new = data['dol_gos'].dropna().sum()/data['dol_gos'].dropna().count()\n",
    "budget_share_new "
   ]
  },
  {
   "cell_type": "code",
   "execution_count": 43,
   "metadata": {
    "id": "LV6qFuZLgFyV"
   },
   "outputs": [
    {
     "data": {
      "text/plain": [
       "0.4474037191739332"
      ]
     },
     "execution_count": 43,
     "metadata": {},
     "output_type": "execute_result"
    }
   ],
   "source": [
    "budget_share1 = (data['refundable_support'].sum() + data['nonrefundable_support'].sum())/ data['budget'].sum() \n",
    "budget_share1"
   ]
  },
  {
   "cell_type": "markdown",
   "metadata": {
    "id": "6t4EukPLgFyV"
   },
   "source": [
    "### Шаг 3. Проведите исследовательский анализ данных\n"
   ]
  },
  {
   "cell_type": "markdown",
   "metadata": {
    "id": "vAH8WCzugFyV"
   },
   "source": [
    "- Посмотрите, сколько фильмов выходило в прокат каждый год. Обратите внимание, что данные о прокате в кинотеатрах известны не для всех фильмов. Посчитайте, какую долю составляют фильмы с указанной информацией о прокате в кинотеатрах. Проанализируйте, как эта доля менялась по годам. Сделайте вывод о том, какой период полнее всего представлен в данных."
   ]
  },
  {
   "cell_type": "code",
   "execution_count": 44,
   "metadata": {
    "id": "ABeV47y7gFyW",
    "scrolled": false
   },
   "outputs": [
    {
     "name": "stdout",
     "output_type": "stream",
     "text": [
      "               count\n",
      "          box_office\n",
      "year_show           \n",
      "2010             105\n",
      "2011             109\n",
      "2012             128\n",
      "2013             184\n",
      "2014             279\n",
      "2015             465\n",
      "2016             526\n",
      "2017             357\n",
      "2018             475\n",
      "2019             530\n"
     ]
    },
    {
     "data": {
      "text/plain": [
       "<AxesSubplot:title={'center':'Количество фильмов за год'}, xlabel='Года', ylabel='Количество фильмов'>"
      ]
     },
     "execution_count": 44,
     "metadata": {},
     "output_type": "execute_result"
    },
    {
     "data": {
      "image/png": "[encoded data removed]",
      "text/plain": [
       "<Figure size 576x576 with 1 Axes>"
      ]
     },
     "metadata": {
      "needs_background": "light"
     },
     "output_type": "display_data"
    }
   ],
   "source": [
    "stat_data = data.pivot_table(index='year_show', values='box_office', aggfunc=['count'])\n",
    "print(stat_data)                            \n",
    "stat_data.plot(y = 'count', kind='bar', figsize=(8, 8), title = 'Количество фильмов за год', xlabel = 'Года', \\\n",
    "ylabel ='Количество фильмов')\n"
   ]
  },
  {
   "cell_type": "markdown",
   "metadata": {},
   "source": [
    "Количество фильмов в покате с каждым годом увеличивается, однако в 2017 году произощел спад. Возможно такой рост вызван недостоточным количеством данных в начале исследуемого периода, проверим. "
   ]
  },
  {
   "cell_type": "code",
   "execution_count": 45,
   "metadata": {
    "scrolled": false
   },
   "outputs": [
    {
     "name": "stdout",
     "output_type": "stream",
     "text": [
      "<class 'pandas.core.frame.DataFrame'>\n",
      "Int64Index: 6913 entries, 0 to 7485\n",
      "Data columns (total 20 columns):\n",
      " #   Column                 Non-Null Count  Dtype              \n",
      "---  ------                 --------------  -----              \n",
      " 0   title                  6913 non-null   object             \n",
      " 1   pu_number              6913 non-null   int64              \n",
      " 2   show_start_date        6913 non-null   datetime64[ns, UTC]\n",
      " 3   type                   6913 non-null   object             \n",
      " 4   film_studio            6913 non-null   object             \n",
      " 5   production_country     6913 non-null   object             \n",
      " 6   director               6913 non-null   object             \n",
      " 7   producer               6354 non-null   object             \n",
      " 8   age_restriction        6913 non-null   object             \n",
      " 9   refundable_support     332 non-null    float64            \n",
      " 10  nonrefundable_support  332 non-null    float64            \n",
      " 11  budget                 332 non-null    float64            \n",
      " 12  financing_source       332 non-null    object             \n",
      " 13  ratings                5955 non-null   float64            \n",
      " 14  genres                 5946 non-null   object             \n",
      " 15  box_office             3158 non-null   float64            \n",
      " 16  year_show              6913 non-null   int64              \n",
      " 17  main_director          6913 non-null   object             \n",
      " 18  main_genre             5946 non-null   object             \n",
      " 19  dol_gos                332 non-null    float64            \n",
      "dtypes: datetime64[ns, UTC](1), float64(6), int64(2), object(11)\n",
      "memory usage: 1.4+ MB\n"
     ]
    }
   ],
   "source": [
    "data.info()"
   ]
  },
  {
   "cell_type": "code",
   "execution_count": 46,
   "metadata": {},
   "outputs": [
    {
     "name": "stdout",
     "output_type": "stream",
     "text": [
      "Доля фильмов с указанной информацией о прокате: 0.42185412770504943\n"
     ]
    }
   ],
   "source": [
    "dol = 3158/shape1_2[0]\n",
    "print('Доля фильмов с указанной информацией о прокате:', dol)"
   ]
  },
  {
   "cell_type": "code",
   "execution_count": 47,
   "metadata": {
    "scrolled": false
   },
   "outputs": [
    {
     "name": "stdout",
     "output_type": "stream",
     "text": [
      "           count_title  count_box_office  title_box_office\n",
      "year_show                                                 \n",
      "2010               778               105              0.13\n",
      "2011               488               109              0.22\n",
      "2012               529               128              0.24\n",
      "2013               598               184              0.31\n",
      "2014               752               279              0.37\n",
      "2015               695               465              0.67\n",
      "2016               796               526              0.66\n",
      "2017               499               357              0.72\n",
      "2018               878               475              0.54\n",
      "2019               900               530              0.59\n"
     ]
    },
    {
     "data": {
      "text/plain": [
       "<AxesSubplot:title={'center':'Доля фильмов с информацией о прокате'}, xlabel='Года', ylabel='Доля фильмов'>"
      ]
     },
     "execution_count": 47,
     "metadata": {},
     "output_type": "execute_result"
    },
    {
     "data": {
      "image/png": "[encoded data removed]",
      "text/plain": [
       "<Figure size 576x576 with 1 Axes>"
      ]
     },
     "metadata": {
      "needs_background": "light"
     },
     "output_type": "display_data"
    }
   ],
   "source": [
    "stat_data1 = data.pivot_table(index='year_show', values='title', aggfunc=['count'])\n",
    "stat_data2 = data.pivot_table(index='year_show', values='box_office', aggfunc=['count'])\n",
    "data_new = stat_data1.merge(stat_data2, on='year_show', how='outer')\n",
    "data_new. columns = ['_'.join(str(s). strip () for s in col if s) for col in data_new. columns ]\n",
    "data_new['title_box_office'] = data_new['count_box_office']/data_new['count_title']\n",
    "print(data_new)\n",
    "data_new.plot(y = 'title_box_office', kind='bar', figsize=(8, 8), title = 'Доля фильмов с информацией о прокате',\n",
    "xlabel = 'Года', ylabel ='Доля фильмов')"
   ]
  },
  {
   "cell_type": "markdown",
   "metadata": {},
   "source": [
    "Доля получаемой информации о фильмах в прокате действительно увеличивается с каждым годом, в 2010 году она была невероятно мала (0,1), в 2017 году она достигла своего пика - 07, с 2015 по 2019 она держится на уровне 0,5 - 0,7."
   ]
  },
  {
   "cell_type": "markdown",
   "metadata": {
    "id": "BEOdcIrIgFyW"
   },
   "source": [
    "- Изучите, как менялась динамика проката по годам. В каком году сумма сборов была минимальной? А максимальной?"
   ]
  },
  {
   "cell_type": "code",
   "execution_count": 48,
   "metadata": {
    "id": "tfEhofYvgFyX"
   },
   "outputs": [
    {
     "name": "stdout",
     "output_type": "stream",
     "text": [
      "                        sum\n",
      "                 box_office\n",
      "year_show                  \n",
      "2010           2,428,654.00\n",
      "2011          14,102,765.00\n",
      "2012           6,955,423.00\n",
      "2013          29,799,706.20\n",
      "2014       7,444,951,859.20\n",
      "2015      39,497,365,196.40\n",
      "2016      47,866,299,741.91\n",
      "2017      48,563,707,217.51\n",
      "2018      49,668,403,134.32\n",
      "2019      48,425,708,779.59\n"
     ]
    },
    {
     "data": {
      "text/plain": [
       "<AxesSubplot:title={'center':'сумма сборов по годам'}, xlabel='Года', ylabel='Сумма сборов'>"
      ]
     },
     "execution_count": 48,
     "metadata": {},
     "output_type": "execute_result"
    },
    {
     "data": {
      "image/png": "[encoded data removed]",
      "text/plain": [
       "<Figure size 576x576 with 1 Axes>"
      ]
     },
     "metadata": {
      "needs_background": "light"
     },
     "output_type": "display_data"
    }
   ],
   "source": [
    "box_office_sum = data.pivot_table(index='year_show', values='box_office', aggfunc=['sum'])\n",
    "print(box_office_sum)                            \n",
    "box_office_sum.plot(title='сумма сборов по годам', y = 'sum', kind='bar', figsize=(8, 8),\n",
    "xlabel = 'Года', ylabel ='Сумма сборов')"
   ]
  },
  {
   "cell_type": "markdown",
   "metadata": {},
   "source": [
    "C 2010 по 2013 сумма сборов мала, возможно это вызвано недостаточным количеством данных, с 2016 по 2019 сумма сборов стабильно высокая, максимальная сумма сборов была в 2018 году, минимальная - в 2011. "
   ]
  },
  {
   "cell_type": "markdown",
   "metadata": {
    "id": "G-7qS-N-gFyY"
   },
   "source": [
    "- С помощью сводной таблицы посчитайте среднюю и медианную сумму сборов для каждого года."
   ]
  },
  {
   "cell_type": "code",
   "execution_count": 49,
   "metadata": {
    "id": "jmp-rgg9gFyY"
   },
   "outputs": [
    {
     "name": "stdout",
     "output_type": "stream",
     "text": [
      "                    mean       median\n",
      "              box_office   box_office\n",
      "year_show                            \n",
      "2010           23,130.04     1,700.00\n",
      "2011          129,383.17     3,000.00\n",
      "2012           54,339.24     5,660.00\n",
      "2013          161,954.92     3,522.50\n",
      "2014       26,684,415.27    18,160.00\n",
      "2015       84,940,570.31 4,920,933.00\n",
      "2016       91,000,569.85 3,846,679.41\n",
      "2017      136,032,793.33 9,968,340.00\n",
      "2018      104,565,059.23 8,891,102.21\n",
      "2019       91,369,261.85 4,627,798.34\n"
     ]
    },
    {
     "data": {
      "text/plain": [
       "<AxesSubplot:title={'center':'медиана и среднее сборов по годам'}, xlabel='Года', ylabel='Значение медианы и среднего'>"
      ]
     },
     "execution_count": 49,
     "metadata": {},
     "output_type": "execute_result"
    },
    {
     "data": {
      "image/png": "[encoded data removed]",
      "text/plain": [
       "<Figure size 360x360 with 1 Axes>"
      ]
     },
     "metadata": {
      "needs_background": "light"
     },
     "output_type": "display_data"
    }
   ],
   "source": [
    "box_office_sum = data.pivot_table(index='year_show', values='box_office', aggfunc=['mean','median'])\n",
    "print(box_office_sum)\n",
    "box_office_sum.plot(title='медиана и среднее сборов по годам', grid=True, style = 'o', figsize = (5,5), \\\n",
    "xlabel = 'Года', ylabel ='Значение медианы и среднего')\n"
   ]
  },
  {
   "cell_type": "markdown",
   "metadata": {},
   "source": [
    "<div class=\"alert alert-info\">\n",
    "<font size=\"4\", color = \"black\"><b>✍ Комментарий студента</b></font>\n",
    "    <br /> \n",
    "    <font size=\"3\", color = \"black\">\n",
    "<br />\n",
    "Я предполагаю, что среднее значение и медиана различаются, так как встречаются значения, которые сильно выделяются среди большинства (слишком большие или маленькие), поэтому медиана характеризует данные более корректно, так как в отличие от среднего не реагирует на редкие, выделяющиеся значения.  "
   ]
  },
  {
   "cell_type": "markdown",
   "metadata": {
    "id": "Ok89WFwJgFyZ"
   },
   "source": [
    "- Определите, влияет ли возрастное ограничение аудитории («6+», «12+», «16+», «18+» и т. д.) на сборы фильма в прокате в период с 2015 по 2019 год? Фильмы с каким возрастным ограничением собрали больше всего денег в прокате? Меняется ли картина в зависимости от года? Если да, предположите, с чем это может быть связано."
   ]
  },
  {
   "cell_type": "code",
   "execution_count": 50,
   "metadata": {},
   "outputs": [],
   "source": [
    "def fv(s, sep = ','):\n",
    "    vl = s.split(sep = sep)\n",
    "    return vl[0]\n",
    "data['age_restriction'] = data['age_restriction']. apply(lambda x: fv(x, sep='-'))"
   ]
  },
  {
   "cell_type": "code",
   "execution_count": 51,
   "metadata": {
    "id": "jsSbEqfjgFya",
    "scrolled": true
   },
   "outputs": [
    {
     "name": "stdout",
     "output_type": "stream",
     "text": [
      "                           sum                                      \\\n",
      "age_restriction          «0+»             «12+»             «16+»    \n",
      "year_show                                                            \n",
      "2010              1,887,611.00        120,146.00        366,512.00   \n",
      "2011             13,499,871.00        219,891.00        381,513.00   \n",
      "2012              2,266,483.00        108,734.00      3,254,216.00   \n",
      "2013              2,710,302.50     20,910,336.50        658,069.60   \n",
      "2014            375,562,258.20  2,584,782,324.00    544,280,086.70   \n",
      "2015            379,054,578.37 13,616,082,008.91 11,368,120,870.27   \n",
      "2016            150,228,848.67 12,204,446,524.39 16,664,548,541.74   \n",
      "2017            229,598,930.00  7,851,427,660.67 18,745,042,900.06   \n",
      "2018             32,449,002.11 14,267,291,660.69 16,503,602,346.96   \n",
      "2019             17,746,066.82 12,680,198,773.67 12,753,418,984.60   \n",
      "\n",
      "                                                     \n",
      "age_restriction            «18+»              «6+»   \n",
      "year_show                                            \n",
      "2010                    54,385.00               NaN  \n",
      "2011                     1,040.00            450.00  \n",
      "2012                   182,580.00      1,143,410.00  \n",
      "2013                 5,161,245.60        359,752.00  \n",
      "2014             2,209,712,746.90  1,730,614,443.40  \n",
      "2015             5,432,308,367.44  8,701,799,371.41  \n",
      "2016             6,793,929,818.87 12,053,146,008.24  \n",
      "2017             9,651,495,581.02 12,086,142,145.76  \n",
      "2018             8,760,085,501.15 10,104,974,623.41  \n",
      "2019            10,121,796,303.64 12,852,548,650.86  \n"
     ]
    },
    {
     "data": {
      "text/plain": [
       "<matplotlib.legend.Legend at 0x7f708fd558e0>"
      ]
     },
     "execution_count": 51,
     "metadata": {},
     "output_type": "execute_result"
    },
    {
     "data": {
      "image/png": "[encoded data removed]",
      "text/plain": [
       "<Figure size 720x576 with 1 Axes>"
      ]
     },
     "metadata": {
      "needs_background": "light"
     },
     "output_type": "display_data"
    }
   ],
   "source": [
    "\n",
    "age = data.pivot_table(index='year_show', columns='age_restriction', values='box_office', aggfunc=['sum'])\n",
    "print(age)\n",
    "age.plot(title='сумма сборов по возрастным категориям', kind='line', xlim=[2015, 2019], figsize=(10, 8), \\\n",
    "         xlabel = 'Года', ylabel ='Сумма сборов').legend(bbox_to_anchor=(1.05, 1), loc='upper left')"
   ]
  },
  {
   "cell_type": "markdown",
   "metadata": {},
   "source": [
    "Возрастное ограничение влияет на сборы фильма в прокате, так мы можем увидеть, что категория 0+ не пользуется популярностью, а фильмы 16+ смотрят чаще и сборы данная категория получает самые крупные. В зависимости от года видны изменения на графике, категория 0+ стабильно получает мало, однако 12+ пошла на спад к 2017 году, а затем снова возросла. Категория 16+ наоборот собрала больше всего в 2017 году, а затем виден спад. Возможно, данные скачки вызваны интересом возрастных групп к определенным фильмам, к 2019 году фильмы 6+, 12+ и 16+ сравлялись по сборам."
   ]
  },
  {
   "cell_type": "code",
   "execution_count": 52,
   "metadata": {
    "scrolled": true
   },
   "outputs": [
    {
     "name": "stdout",
     "output_type": "stream",
     "text": [
      "                     count\n",
      "                box_office\n",
      "age_restriction           \n",
      "«0+»                   248\n",
      "«12+»                  547\n",
      "«16+»                 1093\n",
      "«18+»                  880\n",
      "«6+»                   390\n"
     ]
    },
    {
     "data": {
      "text/plain": [
       "<AxesSubplot:title={'center':'Средние продажи'}, xlabel='Возрастная категория', ylabel='Кол-во продаж'>"
      ]
     },
     "execution_count": 52,
     "metadata": {},
     "output_type": "execute_result"
    },
    {
     "data": {
      "image/png": "[encoded data removed]",
      "text/plain": [
       "<Figure size 576x576 with 1 Axes>"
      ]
     },
     "metadata": {
      "needs_background": "light"
     },
     "output_type": "display_data"
    }
   ],
   "source": [
    "age_box = data.pivot_table(index='age_restriction', values='box_office', aggfunc=['count'])\n",
    "print(age_box)\n",
    "age_box.plot(title='Средние продажи', y = 'count', kind='bar', figsize=(8, 8),\n",
    "xlabel = 'Возрастная категория', ylabel ='Кол-во продаж')\n",
    "#age_title = data.pivot_table(index='age_restriction', values='title', aggfunc=['count'])\n",
    "#print(age_title)\n"
   ]
  },
  {
   "cell_type": "code",
   "execution_count": 53,
   "metadata": {},
   "outputs": [
    {
     "data": {
      "text/html": [
       "<div>\n",
       "<style scoped>\n",
       "    .dataframe tbody tr th:only-of-type {\n",
       "        vertical-align: middle;\n",
       "    }\n",
       "\n",
       "    .dataframe tbody tr th {\n",
       "        vertical-align: top;\n",
       "    }\n",
       "\n",
       "    .dataframe thead tr th {\n",
       "        text-align: left;\n",
       "    }\n",
       "\n",
       "    .dataframe thead tr:last-of-type th {\n",
       "        text-align: right;\n",
       "    }\n",
       "</style>\n",
       "<table border=\"1\" class=\"dataframe\">\n",
       "  <thead>\n",
       "    <tr>\n",
       "      <th></th>\n",
       "      <th colspan=\"5\" halign=\"left\">mean</th>\n",
       "    </tr>\n",
       "    <tr>\n",
       "      <th>age_restriction</th>\n",
       "      <th>«0+»</th>\n",
       "      <th>«12+»</th>\n",
       "      <th>«16+»</th>\n",
       "      <th>«18+»</th>\n",
       "      <th>«6+»</th>\n",
       "    </tr>\n",
       "    <tr>\n",
       "      <th>year_show</th>\n",
       "      <th></th>\n",
       "      <th></th>\n",
       "      <th></th>\n",
       "      <th></th>\n",
       "      <th></th>\n",
       "    </tr>\n",
       "  </thead>\n",
       "  <tbody>\n",
       "    <tr>\n",
       "      <th>2010</th>\n",
       "      <td>85,800.50</td>\n",
       "      <td>7,067.41</td>\n",
       "      <td>6,319.17</td>\n",
       "      <td>6,798.12</td>\n",
       "      <td>NaN</td>\n",
       "    </tr>\n",
       "    <tr>\n",
       "      <th>2011</th>\n",
       "      <td>449,995.70</td>\n",
       "      <td>9,995.05</td>\n",
       "      <td>7,065.06</td>\n",
       "      <td>520.00</td>\n",
       "      <td>450.00</td>\n",
       "    </tr>\n",
       "    <tr>\n",
       "      <th>2012</th>\n",
       "      <td>75,549.43</td>\n",
       "      <td>6,795.88</td>\n",
       "      <td>66,412.57</td>\n",
       "      <td>10,740.00</td>\n",
       "      <td>71,463.12</td>\n",
       "    </tr>\n",
       "    <tr>\n",
       "      <th>2013</th>\n",
       "      <td>73,251.42</td>\n",
       "      <td>348,505.61</td>\n",
       "      <td>14,623.77</td>\n",
       "      <td>322,577.85</td>\n",
       "      <td>13,836.62</td>\n",
       "    </tr>\n",
       "    <tr>\n",
       "      <th>2014</th>\n",
       "      <td>9,883,217.32</td>\n",
       "      <td>30,771,218.14</td>\n",
       "      <td>6,637,562.03</td>\n",
       "      <td>49,104,727.71</td>\n",
       "      <td>57,687,148.11</td>\n",
       "    </tr>\n",
       "    <tr>\n",
       "      <th>2015</th>\n",
       "      <td>9,719,348.16</td>\n",
       "      <td>186,521,671.35</td>\n",
       "      <td>67,667,386.13</td>\n",
       "      <td>41,153,851.27</td>\n",
       "      <td>164,184,893.80</td>\n",
       "    </tr>\n",
       "    <tr>\n",
       "      <th>2016</th>\n",
       "      <td>3,664,118.26</td>\n",
       "      <td>148,834,713.71</td>\n",
       "      <td>91,563,453.53</td>\n",
       "      <td>44,992,912.71</td>\n",
       "      <td>172,187,800.12</td>\n",
       "    </tr>\n",
       "    <tr>\n",
       "      <th>2017</th>\n",
       "      <td>76,532,976.67</td>\n",
       "      <td>191,498,235.63</td>\n",
       "      <td>154,917,709.92</td>\n",
       "      <td>65,656,432.52</td>\n",
       "      <td>268,580,936.57</td>\n",
       "    </tr>\n",
       "    <tr>\n",
       "      <th>2018</th>\n",
       "      <td>6,489,800.42</td>\n",
       "      <td>212,944,651.65</td>\n",
       "      <td>105,792,322.74</td>\n",
       "      <td>48,939,025.15</td>\n",
       "      <td>148,602,567.99</td>\n",
       "    </tr>\n",
       "    <tr>\n",
       "      <th>2019</th>\n",
       "      <td>5,915,355.61</td>\n",
       "      <td>149,178,809.10</td>\n",
       "      <td>71,648,421.26</td>\n",
       "      <td>55,310,362.31</td>\n",
       "      <td>158,673,440.13</td>\n",
       "    </tr>\n",
       "  </tbody>\n",
       "</table>\n",
       "</div>"
      ],
      "text/plain": [
       "                         mean                                              \\\n",
       "age_restriction         «0+»          «12+»          «16+»         «18+»    \n",
       "year_show                                                                   \n",
       "2010                85,800.50       7,067.41       6,319.17      6,798.12   \n",
       "2011               449,995.70       9,995.05       7,065.06        520.00   \n",
       "2012                75,549.43       6,795.88      66,412.57     10,740.00   \n",
       "2013                73,251.42     348,505.61      14,623.77    322,577.85   \n",
       "2014             9,883,217.32  30,771,218.14   6,637,562.03 49,104,727.71   \n",
       "2015             9,719,348.16 186,521,671.35  67,667,386.13 41,153,851.27   \n",
       "2016             3,664,118.26 148,834,713.71  91,563,453.53 44,992,912.71   \n",
       "2017            76,532,976.67 191,498,235.63 154,917,709.92 65,656,432.52   \n",
       "2018             6,489,800.42 212,944,651.65 105,792,322.74 48,939,025.15   \n",
       "2019             5,915,355.61 149,178,809.10  71,648,421.26 55,310,362.31   \n",
       "\n",
       "                                \n",
       "age_restriction          «6+»   \n",
       "year_show                       \n",
       "2010                       NaN  \n",
       "2011                    450.00  \n",
       "2012                 71,463.12  \n",
       "2013                 13,836.62  \n",
       "2014             57,687,148.11  \n",
       "2015            164,184,893.80  \n",
       "2016            172,187,800.12  \n",
       "2017            268,580,936.57  \n",
       "2018            148,602,567.99  \n",
       "2019            158,673,440.13  "
      ]
     },
     "metadata": {},
     "output_type": "display_data"
    },
    {
     "data": {
      "text/plain": [
       "<matplotlib.legend.Legend at 0x7f708fc41910>"
      ]
     },
     "execution_count": 53,
     "metadata": {},
     "output_type": "execute_result"
    },
    {
     "data": {
      "image/png": "[encoded data removed]",
      "text/plain": [
       "<Figure size 720x576 with 1 Axes>"
      ]
     },
     "metadata": {
      "needs_background": "light"
     },
     "output_type": "display_data"
    }
   ],
   "source": [
    "age_mean = data.pivot_table(index='year_show', columns='age_restriction', values='box_office', aggfunc=['mean'])\n",
    "display(age_mean)\n",
    "age_mean.plot(title='средняя сумма сборов по возрастным категориям', kind='line', xlim=[2015, 2019], figsize=(10, 8), \\\n",
    "         xlabel = 'Года', ylabel ='Сумма сборов').legend(bbox_to_anchor=(1.05, 1), loc='upper left')"
   ]
  },
  {
   "cell_type": "markdown",
   "metadata": {},
   "source": [
    "<div class=\"alert alert-info\">\n",
    "<font size=\"4\", color = \"black\"><b>✍ Комментарий студента</b></font>\n",
    "    <br /> \n",
    "    <font size=\"3\", color = \"black\">\n",
    "<br /> Исходя из среднего значения, можно заметить, что возрастное ограничение влияет на сборы фильма в прокате, фильмы 6+ и 12+ имеют наибольший успех, фильмы 0+ смотрят реже всего и они получают наименьшие сборы, фильмы 16+ и 18+ имеют средние показатели. Пик по сборам для всех категорий произошел в 2017 году, возможно данный скачок связан с заинтересованностью людей к кино. \n"
   ]
  },
  {
   "cell_type": "code",
   "execution_count": 54,
   "metadata": {
    "scrolled": false
   },
   "outputs": [
    {
     "data": {
      "text/html": [
       "<div>\n",
       "<style scoped>\n",
       "    .dataframe tbody tr th:only-of-type {\n",
       "        vertical-align: middle;\n",
       "    }\n",
       "\n",
       "    .dataframe tbody tr th {\n",
       "        vertical-align: top;\n",
       "    }\n",
       "\n",
       "    .dataframe thead tr th {\n",
       "        text-align: left;\n",
       "    }\n",
       "\n",
       "    .dataframe thead tr:last-of-type th {\n",
       "        text-align: right;\n",
       "    }\n",
       "</style>\n",
       "<table border=\"1\" class=\"dataframe\">\n",
       "  <thead>\n",
       "    <tr>\n",
       "      <th></th>\n",
       "      <th colspan=\"5\" halign=\"left\">sum</th>\n",
       "    </tr>\n",
       "    <tr>\n",
       "      <th>age_restriction</th>\n",
       "      <th>«0+»</th>\n",
       "      <th>«12+»</th>\n",
       "      <th>«16+»</th>\n",
       "      <th>«18+»</th>\n",
       "      <th>«6+»</th>\n",
       "    </tr>\n",
       "    <tr>\n",
       "      <th>year_show</th>\n",
       "      <th></th>\n",
       "      <th></th>\n",
       "      <th></th>\n",
       "      <th></th>\n",
       "      <th></th>\n",
       "    </tr>\n",
       "  </thead>\n",
       "  <tbody>\n",
       "    <tr>\n",
       "      <th>2010</th>\n",
       "      <td>1,887,611.00</td>\n",
       "      <td>120,146.00</td>\n",
       "      <td>366,512.00</td>\n",
       "      <td>54,385.00</td>\n",
       "      <td>NaN</td>\n",
       "    </tr>\n",
       "    <tr>\n",
       "      <th>2011</th>\n",
       "      <td>13,499,871.00</td>\n",
       "      <td>219,891.00</td>\n",
       "      <td>381,513.00</td>\n",
       "      <td>1,040.00</td>\n",
       "      <td>450.00</td>\n",
       "    </tr>\n",
       "    <tr>\n",
       "      <th>2012</th>\n",
       "      <td>2,266,483.00</td>\n",
       "      <td>108,734.00</td>\n",
       "      <td>3,254,216.00</td>\n",
       "      <td>182,580.00</td>\n",
       "      <td>1,143,410.00</td>\n",
       "    </tr>\n",
       "    <tr>\n",
       "      <th>2013</th>\n",
       "      <td>2,710,302.50</td>\n",
       "      <td>20,910,336.50</td>\n",
       "      <td>658,069.60</td>\n",
       "      <td>5,161,245.60</td>\n",
       "      <td>359,752.00</td>\n",
       "    </tr>\n",
       "    <tr>\n",
       "      <th>2014</th>\n",
       "      <td>375,562,258.20</td>\n",
       "      <td>2,584,782,324.00</td>\n",
       "      <td>544,280,086.70</td>\n",
       "      <td>2,209,712,746.90</td>\n",
       "      <td>1,730,614,443.40</td>\n",
       "    </tr>\n",
       "    <tr>\n",
       "      <th>2015</th>\n",
       "      <td>379,054,578.37</td>\n",
       "      <td>13,616,082,008.91</td>\n",
       "      <td>11,368,120,870.27</td>\n",
       "      <td>5,432,308,367.44</td>\n",
       "      <td>8,701,799,371.41</td>\n",
       "    </tr>\n",
       "    <tr>\n",
       "      <th>2016</th>\n",
       "      <td>150,228,848.67</td>\n",
       "      <td>12,204,446,524.39</td>\n",
       "      <td>16,664,548,541.74</td>\n",
       "      <td>6,793,929,818.87</td>\n",
       "      <td>12,053,146,008.24</td>\n",
       "    </tr>\n",
       "    <tr>\n",
       "      <th>2017</th>\n",
       "      <td>229,598,930.00</td>\n",
       "      <td>7,851,427,660.67</td>\n",
       "      <td>18,745,042,900.06</td>\n",
       "      <td>9,651,495,581.02</td>\n",
       "      <td>12,086,142,145.76</td>\n",
       "    </tr>\n",
       "    <tr>\n",
       "      <th>2018</th>\n",
       "      <td>32,449,002.11</td>\n",
       "      <td>14,267,291,660.69</td>\n",
       "      <td>16,503,602,346.96</td>\n",
       "      <td>8,760,085,501.15</td>\n",
       "      <td>10,104,974,623.41</td>\n",
       "    </tr>\n",
       "    <tr>\n",
       "      <th>2019</th>\n",
       "      <td>17,746,066.82</td>\n",
       "      <td>12,680,198,773.67</td>\n",
       "      <td>12,753,418,984.60</td>\n",
       "      <td>10,121,796,303.64</td>\n",
       "      <td>12,852,548,650.86</td>\n",
       "    </tr>\n",
       "  </tbody>\n",
       "</table>\n",
       "</div>"
      ],
      "text/plain": [
       "                           sum                                      \\\n",
       "age_restriction          «0+»             «12+»             «16+»    \n",
       "year_show                                                            \n",
       "2010              1,887,611.00        120,146.00        366,512.00   \n",
       "2011             13,499,871.00        219,891.00        381,513.00   \n",
       "2012              2,266,483.00        108,734.00      3,254,216.00   \n",
       "2013              2,710,302.50     20,910,336.50        658,069.60   \n",
       "2014            375,562,258.20  2,584,782,324.00    544,280,086.70   \n",
       "2015            379,054,578.37 13,616,082,008.91 11,368,120,870.27   \n",
       "2016            150,228,848.67 12,204,446,524.39 16,664,548,541.74   \n",
       "2017            229,598,930.00  7,851,427,660.67 18,745,042,900.06   \n",
       "2018             32,449,002.11 14,267,291,660.69 16,503,602,346.96   \n",
       "2019             17,746,066.82 12,680,198,773.67 12,753,418,984.60   \n",
       "\n",
       "                                                     \n",
       "age_restriction            «18+»              «6+»   \n",
       "year_show                                            \n",
       "2010                    54,385.00               NaN  \n",
       "2011                     1,040.00            450.00  \n",
       "2012                   182,580.00      1,143,410.00  \n",
       "2013                 5,161,245.60        359,752.00  \n",
       "2014             2,209,712,746.90  1,730,614,443.40  \n",
       "2015             5,432,308,367.44  8,701,799,371.41  \n",
       "2016             6,793,929,818.87 12,053,146,008.24  \n",
       "2017             9,651,495,581.02 12,086,142,145.76  \n",
       "2018             8,760,085,501.15 10,104,974,623.41  \n",
       "2019            10,121,796,303.64 12,852,548,650.86  "
      ]
     },
     "execution_count": 54,
     "metadata": {},
     "output_type": "execute_result"
    }
   ],
   "source": [
    "# check\n",
    "# суммарные продажи\n",
    "\n",
    "data.pivot_table(index='year_show', columns='age_restriction', values='box_office', aggfunc=['sum'])"
   ]
  },
  {
   "cell_type": "markdown",
   "metadata": {
    "id": "l_Kg6Ku4gFya"
   },
   "source": [
    "### Шаг 4. Исследуйте фильмы, которые получили государственную поддержку\n",
    "\n",
    "На этом этапе нет конкретных инструкций и заданий — поищите интересные закономерности в данных. Посмотрите, сколько выделяют средств на поддержку кино. Проверьте, хорошо ли окупаются такие фильмы, какой у них рейтинг."
   ]
  },
  {
   "cell_type": "code",
   "execution_count": 55,
   "metadata": {
    "id": "W9QKpjUdgFyb"
   },
   "outputs": [
    {
     "data": {
      "text/plain": [
       "20200688312.0"
      ]
     },
     "execution_count": 55,
     "metadata": {},
     "output_type": "execute_result"
    }
   ],
   "source": [
    "gos_money = data['nonrefundable_support'].sum()+ data['refundable_support'].sum()\n",
    "gos_money"
   ]
  },
  {
   "cell_type": "code",
   "execution_count": 56,
   "metadata": {},
   "outputs": [
    {
     "name": "stdout",
     "output_type": "stream",
     "text": [
      "<class 'pandas.core.frame.DataFrame'>\n",
      "Int64Index: 332 entries, 1281 to 7478\n",
      "Data columns (total 20 columns):\n",
      " #   Column                 Non-Null Count  Dtype              \n",
      "---  ------                 --------------  -----              \n",
      " 0   title                  332 non-null    object             \n",
      " 1   pu_number              332 non-null    int64              \n",
      " 2   show_start_date        332 non-null    datetime64[ns, UTC]\n",
      " 3   type                   332 non-null    object             \n",
      " 4   film_studio            332 non-null    object             \n",
      " 5   production_country     332 non-null    object             \n",
      " 6   director               332 non-null    object             \n",
      " 7   producer               330 non-null    object             \n",
      " 8   age_restriction        332 non-null    object             \n",
      " 9   refundable_support     332 non-null    float64            \n",
      " 10  nonrefundable_support  332 non-null    float64            \n",
      " 11  budget                 332 non-null    float64            \n",
      " 12  financing_source       332 non-null    object             \n",
      " 13  ratings                316 non-null    float64            \n",
      " 14  genres                 316 non-null    object             \n",
      " 15  box_office             318 non-null    float64            \n",
      " 16  year_show              332 non-null    int64              \n",
      " 17  main_director          332 non-null    object             \n",
      " 18  main_genre             316 non-null    object             \n",
      " 19  dol_gos                332 non-null    float64            \n",
      "dtypes: datetime64[ns, UTC](1), float64(6), int64(2), object(11)\n",
      "memory usage: 54.5+ KB\n"
     ]
    }
   ],
   "source": [
    "data_budget = data.dropna(subset=['budget'])\n",
    "\n",
    "data_budget.info()"
   ]
  },
  {
   "cell_type": "code",
   "execution_count": 57,
   "metadata": {},
   "outputs": [
    {
     "data": {
      "text/html": [
       "<div>\n",
       "<style scoped>\n",
       "    .dataframe tbody tr th:only-of-type {\n",
       "        vertical-align: middle;\n",
       "    }\n",
       "\n",
       "    .dataframe tbody tr th {\n",
       "        vertical-align: top;\n",
       "    }\n",
       "\n",
       "    .dataframe thead tr th {\n",
       "        text-align: left;\n",
       "    }\n",
       "\n",
       "    .dataframe thead tr:last-of-type th {\n",
       "        text-align: right;\n",
       "    }\n",
       "</style>\n",
       "<table border=\"1\" class=\"dataframe\">\n",
       "  <thead>\n",
       "    <tr>\n",
       "      <th></th>\n",
       "      <th colspan=\"4\" halign=\"left\">sum</th>\n",
       "    </tr>\n",
       "    <tr>\n",
       "      <th></th>\n",
       "      <th>box_office</th>\n",
       "      <th>budget</th>\n",
       "      <th>nonrefundable_support</th>\n",
       "      <th>refundable_support</th>\n",
       "    </tr>\n",
       "    <tr>\n",
       "      <th>year_show</th>\n",
       "      <th></th>\n",
       "      <th></th>\n",
       "      <th></th>\n",
       "      <th></th>\n",
       "    </tr>\n",
       "  </thead>\n",
       "  <tbody>\n",
       "    <tr>\n",
       "      <th>2013</th>\n",
       "      <td>20,322,385.10</td>\n",
       "      <td>255,435,390.00</td>\n",
       "      <td>134,347,945.00</td>\n",
       "      <td>0.00</td>\n",
       "    </tr>\n",
       "    <tr>\n",
       "      <th>2014</th>\n",
       "      <td>1,017,422,166.60</td>\n",
       "      <td>1,327,578,496.52</td>\n",
       "      <td>501,002,299.00</td>\n",
       "      <td>71,000,000.00</td>\n",
       "    </tr>\n",
       "    <tr>\n",
       "      <th>2015</th>\n",
       "      <td>5,785,285,418.14</td>\n",
       "      <td>8,206,721,515.71</td>\n",
       "      <td>3,019,088,340.00</td>\n",
       "      <td>637,153,119.00</td>\n",
       "    </tr>\n",
       "    <tr>\n",
       "      <th>2016</th>\n",
       "      <td>6,081,707,839.10</td>\n",
       "      <td>7,910,618,861.38</td>\n",
       "      <td>3,381,655,482.00</td>\n",
       "      <td>921,500,000.00</td>\n",
       "    </tr>\n",
       "    <tr>\n",
       "      <th>2017</th>\n",
       "      <td>10,865,075,300.96</td>\n",
       "      <td>7,149,910,204.92</td>\n",
       "      <td>2,464,624,781.00</td>\n",
       "      <td>719,346,881.00</td>\n",
       "    </tr>\n",
       "    <tr>\n",
       "      <th>2018</th>\n",
       "      <td>9,934,069,010.25</td>\n",
       "      <td>7,381,400,611.27</td>\n",
       "      <td>2,784,969,465.00</td>\n",
       "      <td>662,000,000.00</td>\n",
       "    </tr>\n",
       "    <tr>\n",
       "      <th>2019</th>\n",
       "      <td>8,409,627,454.63</td>\n",
       "      <td>12,919,252,193.07</td>\n",
       "      <td>3,976,000,000.00</td>\n",
       "      <td>928,000,000.00</td>\n",
       "    </tr>\n",
       "  </tbody>\n",
       "</table>\n",
       "</div>"
      ],
      "text/plain": [
       "                        sum                                          \\\n",
       "                 box_office            budget nonrefundable_support   \n",
       "year_show                                                             \n",
       "2013          20,322,385.10    255,435,390.00        134,347,945.00   \n",
       "2014       1,017,422,166.60  1,327,578,496.52        501,002,299.00   \n",
       "2015       5,785,285,418.14  8,206,721,515.71      3,019,088,340.00   \n",
       "2016       6,081,707,839.10  7,910,618,861.38      3,381,655,482.00   \n",
       "2017      10,865,075,300.96  7,149,910,204.92      2,464,624,781.00   \n",
       "2018       9,934,069,010.25  7,381,400,611.27      2,784,969,465.00   \n",
       "2019       8,409,627,454.63 12,919,252,193.07      3,976,000,000.00   \n",
       "\n",
       "                              \n",
       "          refundable_support  \n",
       "year_show                     \n",
       "2013                    0.00  \n",
       "2014           71,000,000.00  \n",
       "2015          637,153,119.00  \n",
       "2016          921,500,000.00  \n",
       "2017          719,346,881.00  \n",
       "2018          662,000,000.00  \n",
       "2019          928,000,000.00  "
      ]
     },
     "execution_count": 57,
     "metadata": {},
     "output_type": "execute_result"
    },
    {
     "data": {
      "image/png": "[encoded data removed]",
      "text/plain": [
       "<Figure size 720x504 with 1 Axes>"
      ]
     },
     "metadata": {
      "needs_background": "light"
     },
     "output_type": "display_data"
    }
   ],
   "source": [
    "budget = data_budget.pivot_table(index = 'year_show', values = ['box_office', 'budget', 'nonrefundable_support', \\\n",
    "'refundable_support'], aggfunc = ['sum'])\n",
    "budget.plot(kind = 'bar', title = 'Бюджет фильмов и кассовые сборы', xlabel = 'Год', ylabel = 'Сумма', \\\n",
    "figsize = (10,7)). legend (['Кассовые сборы', 'Общий бюджет','Невозвр. гос. поддержка', 'Возвр. гос. поддержка'])\n",
    "budget"
   ]
  },
  {
   "cell_type": "markdown",
   "metadata": {},
   "source": [
    "Как можно заметить из графика, фильмы, имеющие гос. поддержку окупаются крайне редко, чаще их общий бюджет превышает кассовые сборы и не позволяет выплатить возвратную гос. поддержку, большинство фильмов не окупились в 13, 14, 15, 16 и 19 годах.\n",
    "Строит избирательнее выдавать средства на развитие фильмов в России. "
   ]
  },
  {
   "cell_type": "code",
   "execution_count": 58,
   "metadata": {},
   "outputs": [
    {
     "data": {
      "text/html": [
       "<div>\n",
       "<style scoped>\n",
       "    .dataframe tbody tr th:only-of-type {\n",
       "        vertical-align: middle;\n",
       "    }\n",
       "\n",
       "    .dataframe tbody tr th {\n",
       "        vertical-align: top;\n",
       "    }\n",
       "\n",
       "    .dataframe thead tr th {\n",
       "        text-align: left;\n",
       "    }\n",
       "</style>\n",
       "<table border=\"1\" class=\"dataframe\">\n",
       "  <thead>\n",
       "    <tr>\n",
       "      <th></th>\n",
       "      <th>count</th>\n",
       "    </tr>\n",
       "    <tr>\n",
       "      <th></th>\n",
       "      <th>title</th>\n",
       "    </tr>\n",
       "  </thead>\n",
       "  <tbody>\n",
       "    <tr>\n",
       "      <th>count</th>\n",
       "      <td>55.00</td>\n",
       "    </tr>\n",
       "    <tr>\n",
       "      <th>mean</th>\n",
       "      <td>5.75</td>\n",
       "    </tr>\n",
       "    <tr>\n",
       "      <th>std</th>\n",
       "      <td>4.90</td>\n",
       "    </tr>\n",
       "    <tr>\n",
       "      <th>min</th>\n",
       "      <td>1.00</td>\n",
       "    </tr>\n",
       "    <tr>\n",
       "      <th>25%</th>\n",
       "      <td>2.00</td>\n",
       "    </tr>\n",
       "    <tr>\n",
       "      <th>50%</th>\n",
       "      <td>4.00</td>\n",
       "    </tr>\n",
       "    <tr>\n",
       "      <th>75%</th>\n",
       "      <td>8.00</td>\n",
       "    </tr>\n",
       "    <tr>\n",
       "      <th>max</th>\n",
       "      <td>23.00</td>\n",
       "    </tr>\n",
       "  </tbody>\n",
       "</table>\n",
       "</div>"
      ],
      "text/plain": [
       "      count\n",
       "      title\n",
       "count 55.00\n",
       "mean   5.75\n",
       "std    4.90\n",
       "min    1.00\n",
       "25%    2.00\n",
       "50%    4.00\n",
       "75%    8.00\n",
       "max   23.00"
      ]
     },
     "execution_count": 58,
     "metadata": {},
     "output_type": "execute_result"
    },
    {
     "data": {
      "image/png": "[encoded data removed]",
      "text/plain": [
       "<Figure size 720x504 with 1 Axes>"
      ]
     },
     "metadata": {
      "needs_background": "light"
     },
     "output_type": "display_data"
    }
   ],
   "source": [
    "budget = data_budget.pivot_table(index = 'ratings', values = ['title'], aggfunc = ['count'])\n",
    "budget.plot(kind = 'bar', figsize = (10,7))\n",
    "budget.describe()\n"
   ]
  },
  {
   "cell_type": "markdown",
   "metadata": {},
   "source": [
    "Фильмы, имеющие гос. поддержку, получают не очень хороший рейтинг, в среднем от 5 до 7, рейтинг выше 8 фильм получает крайне редко, чаще всего фильмы получают рейтинг 6,2. Это подтверждает гипотезу о том, что государство часто финасирует некачественные фильмы. "
   ]
  },
  {
   "cell_type": "markdown",
   "metadata": {},
   "source": [
    "Посмотрим на какие фильмы чаще всего выделяются гос. средства."
   ]
  },
  {
   "cell_type": "code",
   "execution_count": 59,
   "metadata": {},
   "outputs": [
    {
     "data": {
      "text/html": [
       "<div>\n",
       "<style scoped>\n",
       "    .dataframe tbody tr th:only-of-type {\n",
       "        vertical-align: middle;\n",
       "    }\n",
       "\n",
       "    .dataframe tbody tr th {\n",
       "        vertical-align: top;\n",
       "    }\n",
       "\n",
       "    .dataframe thead tr th {\n",
       "        text-align: left;\n",
       "    }\n",
       "</style>\n",
       "<table border=\"1\" class=\"dataframe\">\n",
       "  <thead>\n",
       "    <tr>\n",
       "      <th></th>\n",
       "      <th>count</th>\n",
       "    </tr>\n",
       "    <tr>\n",
       "      <th></th>\n",
       "      <th>title</th>\n",
       "    </tr>\n",
       "  </thead>\n",
       "  <tbody>\n",
       "    <tr>\n",
       "      <th>count</th>\n",
       "      <td>5.00</td>\n",
       "    </tr>\n",
       "    <tr>\n",
       "      <th>mean</th>\n",
       "      <td>66.40</td>\n",
       "    </tr>\n",
       "    <tr>\n",
       "      <th>std</th>\n",
       "      <td>49.72</td>\n",
       "    </tr>\n",
       "    <tr>\n",
       "      <th>min</th>\n",
       "      <td>8.00</td>\n",
       "    </tr>\n",
       "    <tr>\n",
       "      <th>25%</th>\n",
       "      <td>28.00</td>\n",
       "    </tr>\n",
       "    <tr>\n",
       "      <th>50%</th>\n",
       "      <td>65.00</td>\n",
       "    </tr>\n",
       "    <tr>\n",
       "      <th>75%</th>\n",
       "      <td>106.00</td>\n",
       "    </tr>\n",
       "    <tr>\n",
       "      <th>max</th>\n",
       "      <td>125.00</td>\n",
       "    </tr>\n",
       "  </tbody>\n",
       "</table>\n",
       "</div>"
      ],
      "text/plain": [
       "       count\n",
       "       title\n",
       "count   5.00\n",
       "mean   66.40\n",
       "std    49.72\n",
       "min     8.00\n",
       "25%    28.00\n",
       "50%    65.00\n",
       "75%   106.00\n",
       "max   125.00"
      ]
     },
     "execution_count": 59,
     "metadata": {},
     "output_type": "execute_result"
    },
    {
     "data": {
      "image/png": "[encoded data removed]",
      "text/plain": [
       "<Figure size 720x504 with 1 Axes>"
      ]
     },
     "metadata": {
      "needs_background": "light"
     },
     "output_type": "display_data"
    }
   ],
   "source": [
    "budget = data_budget.pivot_table(index = 'age_restriction', values = ['title'], aggfunc = ['count'])\n",
    "budget.plot(kind = 'bar', figsize = (10,7))\n",
    "budget.describe()\n"
   ]
  },
  {
   "cell_type": "markdown",
   "metadata": {},
   "source": [
    "Гос. поддержку чаще получают фильмы 16+ и 12+, значит государтво ориентировано скорее на подрастающее поколение, нежели на детей. \n",
    "(я хотела расписать распределение средств по жанрам, но не понимаю, что с кодом не так)"
   ]
  },
  {
   "cell_type": "code",
   "execution_count": 60,
   "metadata": {},
   "outputs": [
    {
     "data": {
      "text/plain": [
       "<AxesSubplot:xlabel='main_genre'>"
      ]
     },
     "execution_count": 60,
     "metadata": {},
     "output_type": "execute_result"
    },
    {
     "data": {
      "image/png": "[encoded data removed]",
      "text/plain": [
       "<Figure size 720x504 with 1 Axes>"
      ]
     },
     "metadata": {
      "needs_background": "light"
     },
     "output_type": "display_data"
    }
   ],
   "source": [
    "genres_money = data_budget.pivot_table(index = 'main_genre', values = ['title'], aggfunc = ['count'])\n",
    "genres_money.plot(kind = 'bar', figsize = (10,7))"
   ]
  },
  {
   "cell_type": "markdown",
   "metadata": {},
   "source": [
    "<div class=\"alert alert-info\">\n",
    "<font size=\"4\", color = \"black\"><b>✍ Комментарий студента</b></font>\n",
    "    <br /> \n",
    "    <font size=\"3\", color = \"black\">\n",
    "<br /> Чаще всего государство выделяет средства на драмы и комедии, далее идут мультфильмы."
   ]
  },
  {
   "cell_type": "code",
   "execution_count": 61,
   "metadata": {},
   "outputs": [
    {
     "data": {
      "text/plain": [
       "<matplotlib.legend.Legend at 0x7f708f83a160>"
      ]
     },
     "execution_count": 61,
     "metadata": {},
     "output_type": "execute_result"
    },
    {
     "data": {
      "image/png": "[encoded data removed]",
      "text/plain": [
       "<Figure size 720x504 with 1 Axes>"
      ]
     },
     "metadata": {
      "needs_background": "light"
     },
     "output_type": "display_data"
    }
   ],
   "source": [
    "data_top = data_budget.pivot_table(index = 'main_director', values = ['box_office', 'budget', 'nonrefundable_support', \\\n",
    "'refundable_support'], aggfunc = ['sum'])\n",
    "data_top. columns = ['_'.join(str(s). strip () for s in col if s) for col in data_top. columns ]\n",
    "data_top = data_top.sort_values(by=['sum_box_office'], ascending=False)\n",
    "data_top = data_top[0:10]\n",
    "data_top.plot(kind = 'bar', title = 'ТОП-10 успешных режиссеров', xlabel = 'Год', ylabel = 'Сумма', \\\n",
    "figsize = (10,7)). legend (['Кассовые сборы', 'Общий бюджет','Невозвр. гос. поддержка', 'Возвр. гос. поддержка'])\n"
   ]
  },
  {
   "cell_type": "code",
   "execution_count": 62,
   "metadata": {
    "scrolled": true
   },
   "outputs": [
    {
     "data": {
      "text/html": [
       "<div>\n",
       "<style scoped>\n",
       "    .dataframe tbody tr th:only-of-type {\n",
       "        vertical-align: middle;\n",
       "    }\n",
       "\n",
       "    .dataframe tbody tr th {\n",
       "        vertical-align: top;\n",
       "    }\n",
       "\n",
       "    .dataframe thead th {\n",
       "        text-align: right;\n",
       "    }\n",
       "</style>\n",
       "<table border=\"1\" class=\"dataframe\">\n",
       "  <thead>\n",
       "    <tr style=\"text-align: right;\">\n",
       "      <th></th>\n",
       "      <th>box_office</th>\n",
       "      <th>budget</th>\n",
       "      <th>nonrefundable_support</th>\n",
       "      <th>refundable_support</th>\n",
       "    </tr>\n",
       "    <tr>\n",
       "      <th>main_director</th>\n",
       "      <th></th>\n",
       "      <th></th>\n",
       "      <th></th>\n",
       "      <th></th>\n",
       "    </tr>\n",
       "  </thead>\n",
       "  <tbody>\n",
       "    <tr>\n",
       "      <th>А.Мегердичев</th>\n",
       "      <td>2,779,686,144.00</td>\n",
       "      <td>590,192,191.00</td>\n",
       "      <td>400,000,000.00</td>\n",
       "      <td>0.00</td>\n",
       "    </tr>\n",
       "    <tr>\n",
       "      <th>А.Сидоров</th>\n",
       "      <td>2,271,754,004.52</td>\n",
       "      <td>563,784,717.00</td>\n",
       "      <td>120,000,000.00</td>\n",
       "      <td>60,000,000.00</td>\n",
       "    </tr>\n",
       "    <tr>\n",
       "      <th>О.Трофим</th>\n",
       "      <td>1,445,731,797.89</td>\n",
       "      <td>148,585,222.00</td>\n",
       "      <td>60,000,000.00</td>\n",
       "      <td>25,000,000.00</td>\n",
       "    </tr>\n",
       "    <tr>\n",
       "      <th>Н.Лебедев</th>\n",
       "      <td>1,402,255,390.00</td>\n",
       "      <td>635,283,867.00</td>\n",
       "      <td>392,104,482.00</td>\n",
       "      <td>50,000,000.00</td>\n",
       "    </tr>\n",
       "    <tr>\n",
       "      <th>К.Шипенко</th>\n",
       "      <td>1,275,924,072.60</td>\n",
       "      <td>234,976,889.33</td>\n",
       "      <td>95,666,666.67</td>\n",
       "      <td>8,333,333.33</td>\n",
       "    </tr>\n",
       "    <tr>\n",
       "      <th>Ф.Бондарчук</th>\n",
       "      <td>1,038,321,489.00</td>\n",
       "      <td>733,378,877.83</td>\n",
       "      <td>325,000,000.00</td>\n",
       "      <td>50,000,000.00</td>\n",
       "    </tr>\n",
       "    <tr>\n",
       "      <th>Д.Козловский</th>\n",
       "      <td>820,528,005.21</td>\n",
       "      <td>390,191,139.00</td>\n",
       "      <td>260,000,000.00</td>\n",
       "      <td>0.00</td>\n",
       "    </tr>\n",
       "    <tr>\n",
       "      <th>К.Феоктистов</th>\n",
       "      <td>759,226,773.00</td>\n",
       "      <td>174,464,395.00</td>\n",
       "      <td>0.00</td>\n",
       "      <td>50,000,000.00</td>\n",
       "    </tr>\n",
       "    <tr>\n",
       "      <th>А.Кравчук</th>\n",
       "      <td>717,703,185.53</td>\n",
       "      <td>980,000,000.00</td>\n",
       "      <td>400,000,000.00</td>\n",
       "      <td>100,000,000.00</td>\n",
       "    </tr>\n",
       "    <tr>\n",
       "      <th>Д.Киселев</th>\n",
       "      <td>699,891,656.00</td>\n",
       "      <td>351,411,949.50</td>\n",
       "      <td>112,500,000.00</td>\n",
       "      <td>62,500,000.00</td>\n",
       "    </tr>\n",
       "  </tbody>\n",
       "</table>\n",
       "</div>"
      ],
      "text/plain": [
       "                    box_office         budget  nonrefundable_support  \\\n",
       "main_director                                                          \n",
       "А.Мегердичев  2,779,686,144.00 590,192,191.00         400,000,000.00   \n",
       "А.Сидоров     2,271,754,004.52 563,784,717.00         120,000,000.00   \n",
       "О.Трофим      1,445,731,797.89 148,585,222.00          60,000,000.00   \n",
       "Н.Лебедев     1,402,255,390.00 635,283,867.00         392,104,482.00   \n",
       "К.Шипенко     1,275,924,072.60 234,976,889.33          95,666,666.67   \n",
       "Ф.Бондарчук   1,038,321,489.00 733,378,877.83         325,000,000.00   \n",
       "Д.Козловский    820,528,005.21 390,191,139.00         260,000,000.00   \n",
       "К.Феоктистов    759,226,773.00 174,464,395.00                   0.00   \n",
       "А.Кравчук       717,703,185.53 980,000,000.00         400,000,000.00   \n",
       "Д.Киселев       699,891,656.00 351,411,949.50         112,500,000.00   \n",
       "\n",
       "               refundable_support  \n",
       "main_director                      \n",
       "А.Мегердичев                 0.00  \n",
       "А.Сидоров           60,000,000.00  \n",
       "О.Трофим            25,000,000.00  \n",
       "Н.Лебедев           50,000,000.00  \n",
       "К.Шипенко            8,333,333.33  \n",
       "Ф.Бондарчук         50,000,000.00  \n",
       "Д.Козловский                 0.00  \n",
       "К.Феоктистов        50,000,000.00  \n",
       "А.Кравчук          100,000,000.00  \n",
       "Д.Киселев           62,500,000.00  "
      ]
     },
     "execution_count": 62,
     "metadata": {},
     "output_type": "execute_result"
    }
   ],
   "source": [
    "# check\n",
    "data_budget.pivot_table(index = 'main_director', values = ['box_office', 'budget', 'nonrefundable_support', \\\n",
    "'refundable_support'], aggfunc = 'mean').sort_values(by=['box_office'], ascending=False)[:10]"
   ]
  },
  {
   "cell_type": "markdown",
   "metadata": {
    "id": "V2gYwMcPgFyd"
   },
   "source": [
    "### Шаг 5. Напишите общий вывод"
   ]
  },
  {
   "cell_type": "markdown",
   "metadata": {
    "id": "AYRg3dzXgFye"
   },
   "source": []
  },
  {
   "cell_type": "markdown",
   "metadata": {},
   "source": [
    "В ходе работы я проделала следующие шаги и сделала определенные выводы:\n",
    "- я объединила 2 таблицы по столбцу 'номер прокатного удостоверения'.\n",
    "- изменила тип данных в дате и рейтинге для точного анализа в дальнейшем.\n",
    "- заполнила недостающие пропуски в таблице.\n",
    "- выявила и устранила неявные дубликаты, связанные с лишними пробелами, их причина - человеческий фактор. \n",
    "- добавила необходимые столбцы.\n",
    "- сделала вывод о том, что доля получаемой информации о фильмах в прокате действительно увеличивается с каждым годом, в 2010 году она была невероятно мала (0,1), в 2017 году она достигла своего пика - 07, с 2015 по 2019 она держится на уровне 0,5 - 0,7.\n",
    "- сумма сборов и количество фильмов увеличивается в период с 2010 по 2019.\n",
    "- Исходя из среднего значения, можно заметить, что возрастное ограничение влияет на сборы фильма в прокате, фильмы 6+ и 12+ имеют наибольший успех, фильмы 0+ смотрят реже всего и они получают наименьшие сборы, фильмы 16+ и 18+ имеют средние показатели. Пик по сборам для всех категорий произошел в 2017 году, возможно данный скачок связан с заинтересованностью людей к кино. \n",
    "- фильмы, имеющие гос. поддержку окупаются крайне редко, чаще их общий бюджет превышает кассовые сборы и не позволяет выплатить возвратную гос. поддержку, большинство фильмов не окупились в 13, 14, 15, 16 и 19 годах. Строит избирательнее выдавать средства на развитие фильмов в России.\n",
    "- фильмы, имеющие гос. поддержку, получают не очень хороший рейтинг, в среднем от 5 до 7, рейтинг выше 8 фильм получает крайне редко, чаще всего фильмы получают рейтинг 6,2. Это подтверждает гипотезу о том, что государство часто финасирует некачественные фильмы.\n",
    "- гос. поддержку чаще получают фильмы 16+ и 12+, значит государтво ориентировано скорее на подрастающее поколение, нежели на детей.\n",
    "- представила топ-10 успешных режиссеров, которым рекомендую выделять гос. поддержку (Шипенко, Мегердичев, Дьяченко и другие)"
   ]
  }
 ],
 "metadata": {
  "ExecuteTimeLog": [
   {
    "duration": 537,
    "start_time": "2021-07-07T10:12:08.634Z"
   },
   {
    "duration": 206,
    "start_time": "2021-07-07T10:12:30.191Z"
   },
   {
    "duration": 227,
    "start_time": "2021-07-07T10:12:33.078Z"
   },
   {
    "duration": 153,
    "start_time": "2021-07-07T10:13:42.146Z"
   },
   {
    "duration": 233,
    "start_time": "2021-07-07T10:30:09.252Z"
   },
   {
    "duration": 19,
    "start_time": "2021-07-07T10:30:15.577Z"
   },
   {
    "duration": 18,
    "start_time": "2021-07-07T10:30:57.348Z"
   },
   {
    "duration": 19,
    "start_time": "2021-07-07T10:31:17.452Z"
   },
   {
    "duration": 21,
    "start_time": "2021-07-07T10:31:32.227Z"
   },
   {
    "duration": 27,
    "start_time": "2021-07-07T10:32:06.588Z"
   },
   {
    "duration": 23,
    "start_time": "2021-07-07T10:32:43.645Z"
   },
   {
    "duration": 24,
    "start_time": "2021-07-07T10:33:06.948Z"
   },
   {
    "duration": 7,
    "start_time": "2021-07-07T10:33:28.558Z"
   },
   {
    "duration": 23,
    "start_time": "2021-07-07T10:33:43.761Z"
   },
   {
    "duration": 28,
    "start_time": "2021-07-07T10:34:13.466Z"
   },
   {
    "duration": 23,
    "start_time": "2021-07-07T10:35:56.187Z"
   },
   {
    "duration": 6,
    "start_time": "2021-07-07T10:36:48.182Z"
   },
   {
    "duration": 14,
    "start_time": "2021-07-07T10:37:49.641Z"
   },
   {
    "duration": 6,
    "start_time": "2021-07-07T10:38:06.694Z"
   },
   {
    "duration": 6,
    "start_time": "2021-07-07T10:38:13.493Z"
   },
   {
    "duration": 19,
    "start_time": "2021-07-07T10:38:44.056Z"
   },
   {
    "duration": 186,
    "start_time": "2021-07-07T10:48:35.618Z"
   },
   {
    "duration": 24,
    "start_time": "2021-07-07T10:48:51.498Z"
   },
   {
    "duration": 20,
    "start_time": "2021-07-07T10:48:59.415Z"
   },
   {
    "duration": 20,
    "start_time": "2021-07-07T10:53:02.195Z"
   },
   {
    "duration": 188,
    "start_time": "2021-07-07T10:54:40.486Z"
   },
   {
    "duration": 115,
    "start_time": "2021-07-07T10:54:52.552Z"
   },
   {
    "duration": 214,
    "start_time": "2021-07-07T10:54:56.354Z"
   },
   {
    "duration": 47,
    "start_time": "2021-07-07T10:54:58.282Z"
   },
   {
    "duration": 217,
    "start_time": "2021-07-07T10:59:16.075Z"
   },
   {
    "duration": 51,
    "start_time": "2021-07-07T10:59:16.243Z"
   },
   {
    "duration": 578,
    "start_time": "2021-07-07T10:59:18.774Z"
   },
   {
    "duration": 161,
    "start_time": "2021-07-07T10:59:21.238Z"
   },
   {
    "duration": 59,
    "start_time": "2021-07-07T10:59:21.453Z"
   },
   {
    "duration": 3,
    "start_time": "2021-07-07T11:02:10.786Z"
   },
   {
    "duration": 13,
    "start_time": "2021-07-07T11:07:07.722Z"
   },
   {
    "duration": 26,
    "start_time": "2021-07-07T11:07:17.958Z"
   },
   {
    "duration": 22,
    "start_time": "2021-07-07T11:08:17.939Z"
   },
   {
    "duration": 212,
    "start_time": "2021-07-07T11:08:19.665Z"
   },
   {
    "duration": 21,
    "start_time": "2021-07-07T11:08:29.945Z"
   },
   {
    "duration": 31,
    "start_time": "2021-07-07T11:08:38.899Z"
   },
   {
    "duration": 23,
    "start_time": "2021-07-07T11:08:54.527Z"
   },
   {
    "duration": 8,
    "start_time": "2021-07-07T11:18:55.974Z"
   },
   {
    "duration": 7,
    "start_time": "2021-07-07T11:19:03.639Z"
   },
   {
    "duration": 7,
    "start_time": "2021-07-07T11:19:06.444Z"
   },
   {
    "duration": 578,
    "start_time": "2021-07-07T12:09:59.576Z"
   },
   {
    "duration": 195,
    "start_time": "2021-07-07T12:10:00.156Z"
   },
   {
    "duration": 115,
    "start_time": "2021-07-07T12:10:00.353Z"
   },
   {
    "duration": 3,
    "start_time": "2021-07-07T12:10:00.470Z"
   },
   {
    "duration": 32,
    "start_time": "2021-07-07T12:10:00.474Z"
   },
   {
    "duration": 23,
    "start_time": "2021-07-07T12:10:00.508Z"
   },
   {
    "duration": 19,
    "start_time": "2021-07-07T12:10:00.533Z"
   },
   {
    "duration": 44,
    "start_time": "2021-07-07T12:10:00.553Z"
   },
   {
    "duration": 7,
    "start_time": "2021-07-07T12:10:00.600Z"
   },
   {
    "duration": 7,
    "start_time": "2021-07-07T12:19:45.761Z"
   },
   {
    "duration": 21,
    "start_time": "2021-07-07T12:21:35.482Z"
   },
   {
    "duration": 21,
    "start_time": "2021-07-07T12:29:23.569Z"
   },
   {
    "duration": 525,
    "start_time": "2021-07-07T12:29:44.542Z"
   },
   {
    "duration": 214,
    "start_time": "2021-07-07T12:29:45.069Z"
   },
   {
    "duration": 92,
    "start_time": "2021-07-07T12:29:45.285Z"
   },
   {
    "duration": 3,
    "start_time": "2021-07-07T12:29:45.379Z"
   },
   {
    "duration": 28,
    "start_time": "2021-07-07T12:29:45.384Z"
   },
   {
    "duration": 23,
    "start_time": "2021-07-07T12:29:45.413Z"
   },
   {
    "duration": 21,
    "start_time": "2021-07-07T12:29:45.437Z"
   },
   {
    "duration": 41,
    "start_time": "2021-07-07T12:29:45.460Z"
   },
   {
    "duration": 7,
    "start_time": "2021-07-07T12:29:45.502Z"
   },
   {
    "duration": 20,
    "start_time": "2021-07-07T12:29:45.511Z"
   },
   {
    "duration": 12,
    "start_time": "2021-07-07T12:34:02.800Z"
   },
   {
    "duration": 7,
    "start_time": "2021-07-07T12:35:10.479Z"
   },
   {
    "duration": 8,
    "start_time": "2021-07-07T12:35:22.440Z"
   },
   {
    "duration": 6,
    "start_time": "2021-07-07T12:35:35.649Z"
   },
   {
    "duration": 6,
    "start_time": "2021-07-07T12:35:43.107Z"
   },
   {
    "duration": 22,
    "start_time": "2021-07-07T12:38:03.029Z"
   },
   {
    "duration": 10,
    "start_time": "2021-07-07T12:38:06.592Z"
   },
   {
    "duration": 563,
    "start_time": "2021-07-07T12:38:46.493Z"
   },
   {
    "duration": 265,
    "start_time": "2021-07-07T12:38:47.058Z"
   },
   {
    "duration": 94,
    "start_time": "2021-07-07T12:38:47.325Z"
   },
   {
    "duration": 3,
    "start_time": "2021-07-07T12:38:47.422Z"
   },
   {
    "duration": 30,
    "start_time": "2021-07-07T12:38:47.427Z"
   },
   {
    "duration": 16,
    "start_time": "2021-07-07T12:38:53.305Z"
   },
   {
    "duration": 10,
    "start_time": "2021-07-07T12:38:53.499Z"
   },
   {
    "duration": 8,
    "start_time": "2021-07-07T12:39:48.161Z"
   },
   {
    "duration": 27,
    "start_time": "2021-07-07T12:41:17.629Z"
   },
   {
    "duration": 17,
    "start_time": "2021-07-07T12:41:17.867Z"
   },
   {
    "duration": 21,
    "start_time": "2021-07-07T12:41:19.310Z"
   },
   {
    "duration": 7,
    "start_time": "2021-07-07T12:41:19.544Z"
   },
   {
    "duration": 20,
    "start_time": "2021-07-07T12:41:20.504Z"
   },
   {
    "duration": 554,
    "start_time": "2021-07-07T12:56:23.696Z"
   },
   {
    "duration": 200,
    "start_time": "2021-07-07T12:56:25.234Z"
   },
   {
    "duration": 119,
    "start_time": "2021-07-07T12:56:25.480Z"
   },
   {
    "duration": 4,
    "start_time": "2021-07-07T12:56:25.762Z"
   },
   {
    "duration": 26,
    "start_time": "2021-07-07T12:56:27.172Z"
   },
   {
    "duration": 12,
    "start_time": "2021-07-07T12:56:29.051Z"
   },
   {
    "duration": 10,
    "start_time": "2021-07-07T12:56:29.291Z"
   },
   {
    "duration": 8,
    "start_time": "2021-07-07T12:56:29.623Z"
   },
   {
    "duration": 28,
    "start_time": "2021-07-07T12:56:32.137Z"
   },
   {
    "duration": 19,
    "start_time": "2021-07-07T12:56:39.785Z"
   },
   {
    "duration": 20,
    "start_time": "2021-07-07T12:56:44.297Z"
   },
   {
    "duration": 7,
    "start_time": "2021-07-07T12:56:45.392Z"
   },
   {
    "duration": 23,
    "start_time": "2021-07-07T12:56:46.615Z"
   },
   {
    "duration": 4,
    "start_time": "2021-07-07T12:57:06.625Z"
   },
   {
    "duration": 32,
    "start_time": "2021-07-07T12:57:36.690Z"
   },
   {
    "duration": 18,
    "start_time": "2021-07-07T12:58:00.149Z"
   },
   {
    "duration": 15,
    "start_time": "2021-07-07T12:59:16.793Z"
   },
   {
    "duration": 7,
    "start_time": "2021-07-07T13:19:22.624Z"
   },
   {
    "duration": 6,
    "start_time": "2021-07-07T14:17:33.527Z"
   },
   {
    "duration": 9,
    "start_time": "2021-07-07T14:17:48.409Z"
   },
   {
    "duration": 8,
    "start_time": "2021-07-07T14:20:13.060Z"
   },
   {
    "duration": 8,
    "start_time": "2021-07-07T14:20:37.957Z"
   },
   {
    "duration": 8,
    "start_time": "2021-07-07T14:20:47.470Z"
   },
   {
    "duration": 9,
    "start_time": "2021-07-07T14:20:54.503Z"
   },
   {
    "duration": 10,
    "start_time": "2021-07-07T14:28:57.763Z"
   },
   {
    "duration": 3,
    "start_time": "2021-07-07T14:30:23.377Z"
   },
   {
    "duration": 3,
    "start_time": "2021-07-07T14:30:36.489Z"
   },
   {
    "duration": 103,
    "start_time": "2021-07-07T14:30:52.351Z"
   },
   {
    "duration": 8,
    "start_time": "2021-07-07T14:30:54.763Z"
   },
   {
    "duration": 8,
    "start_time": "2021-07-07T14:31:29.301Z"
   },
   {
    "duration": 13,
    "start_time": "2021-07-07T14:31:44.516Z"
   },
   {
    "duration": 7,
    "start_time": "2021-07-07T14:33:10.972Z"
   },
   {
    "duration": 11,
    "start_time": "2021-07-07T14:33:27.780Z"
   },
   {
    "duration": 8,
    "start_time": "2021-07-07T14:34:44.588Z"
   },
   {
    "duration": 57,
    "start_time": "2021-07-07T14:35:59.042Z"
   },
   {
    "duration": 3,
    "start_time": "2021-07-07T14:36:28.168Z"
   },
   {
    "duration": 5,
    "start_time": "2021-07-07T14:36:46.254Z"
   },
   {
    "duration": 4,
    "start_time": "2021-07-07T14:36:52.714Z"
   },
   {
    "duration": 3,
    "start_time": "2021-07-07T14:36:56.612Z"
   },
   {
    "duration": 4,
    "start_time": "2021-07-07T14:36:57.049Z"
   },
   {
    "duration": 3,
    "start_time": "2021-07-07T14:39:21.214Z"
   },
   {
    "duration": 7,
    "start_time": "2021-07-07T14:39:52.406Z"
   },
   {
    "duration": 11,
    "start_time": "2021-07-07T14:39:58.576Z"
   },
   {
    "duration": 9,
    "start_time": "2021-07-07T14:40:26.301Z"
   },
   {
    "duration": 10,
    "start_time": "2021-07-07T14:40:31.704Z"
   },
   {
    "duration": 11,
    "start_time": "2021-07-07T14:40:36.249Z"
   },
   {
    "duration": 10,
    "start_time": "2021-07-07T14:40:39.783Z"
   },
   {
    "duration": 9,
    "start_time": "2021-07-07T14:40:48.558Z"
   },
   {
    "duration": 10,
    "start_time": "2021-07-07T14:40:57.143Z"
   },
   {
    "duration": 9,
    "start_time": "2021-07-07T14:41:06.074Z"
   },
   {
    "duration": 4324,
    "start_time": "2021-07-07T14:41:22.004Z"
   },
   {
    "duration": 11,
    "start_time": "2021-07-07T14:41:33.392Z"
   },
   {
    "duration": 9,
    "start_time": "2021-07-07T14:41:39.288Z"
   },
   {
    "duration": 569,
    "start_time": "2021-07-07T14:42:14.387Z"
   },
   {
    "duration": 197,
    "start_time": "2021-07-07T14:42:14.959Z"
   },
   {
    "duration": 84,
    "start_time": "2021-07-07T14:42:16.052Z"
   },
   {
    "duration": 4,
    "start_time": "2021-07-07T14:42:16.900Z"
   },
   {
    "duration": 27,
    "start_time": "2021-07-07T14:42:19.898Z"
   },
   {
    "duration": 12,
    "start_time": "2021-07-07T14:42:21.577Z"
   },
   {
    "duration": 9,
    "start_time": "2021-07-07T14:42:21.813Z"
   },
   {
    "duration": 9,
    "start_time": "2021-07-07T14:42:22.569Z"
   },
   {
    "duration": 29,
    "start_time": "2021-07-07T14:42:25.837Z"
   },
   {
    "duration": 20,
    "start_time": "2021-07-07T14:42:27.003Z"
   },
   {
    "duration": 21,
    "start_time": "2021-07-07T14:42:28.767Z"
   },
   {
    "duration": 7,
    "start_time": "2021-07-07T14:42:29.838Z"
   },
   {
    "duration": 4,
    "start_time": "2021-07-07T14:43:25.493Z"
   },
   {
    "duration": 7,
    "start_time": "2021-07-07T14:43:26.573Z"
   },
   {
    "duration": 10,
    "start_time": "2021-07-07T14:43:31.639Z"
   },
   {
    "duration": 9,
    "start_time": "2021-07-07T14:43:32.046Z"
   },
   {
    "duration": 10,
    "start_time": "2021-07-07T14:43:33.301Z"
   },
   {
    "duration": 12,
    "start_time": "2021-07-07T14:43:33.658Z"
   },
   {
    "duration": 8,
    "start_time": "2021-07-07T14:43:34.552Z"
   },
   {
    "duration": 9,
    "start_time": "2021-07-07T14:43:35.058Z"
   },
   {
    "duration": 12,
    "start_time": "2021-07-07T14:43:35.914Z"
   },
   {
    "duration": 17,
    "start_time": "2021-07-07T14:45:34.368Z"
   },
   {
    "duration": 512,
    "start_time": "2021-07-07T14:51:58.236Z"
   },
   {
    "duration": 223,
    "start_time": "2021-07-07T14:51:58.750Z"
   },
   {
    "duration": 93,
    "start_time": "2021-07-07T14:51:58.977Z"
   },
   {
    "duration": 4,
    "start_time": "2021-07-07T14:51:59.071Z"
   },
   {
    "duration": 37,
    "start_time": "2021-07-07T14:51:59.077Z"
   },
   {
    "duration": 18,
    "start_time": "2021-07-07T14:51:59.116Z"
   },
   {
    "duration": 10,
    "start_time": "2021-07-07T14:51:59.137Z"
   },
   {
    "duration": 8,
    "start_time": "2021-07-07T14:51:59.149Z"
   },
   {
    "duration": 54,
    "start_time": "2021-07-07T14:51:59.158Z"
   },
   {
    "duration": 18,
    "start_time": "2021-07-07T14:51:59.213Z"
   },
   {
    "duration": 22,
    "start_time": "2021-07-07T14:51:59.232Z"
   },
   {
    "duration": 36,
    "start_time": "2021-07-07T14:51:59.255Z"
   },
   {
    "duration": 7,
    "start_time": "2021-07-07T14:51:59.293Z"
   },
   {
    "duration": 10,
    "start_time": "2021-07-07T14:51:59.302Z"
   },
   {
    "duration": 9,
    "start_time": "2021-07-07T14:51:59.313Z"
   },
   {
    "duration": 11,
    "start_time": "2021-07-07T14:51:59.324Z"
   },
   {
    "duration": 8,
    "start_time": "2021-07-07T14:51:59.337Z"
   },
   {
    "duration": 46,
    "start_time": "2021-07-07T14:51:59.347Z"
   },
   {
    "duration": 22,
    "start_time": "2021-07-07T14:51:59.395Z"
   },
   {
    "duration": 24,
    "start_time": "2021-07-07T14:57:32.911Z"
   },
   {
    "duration": 7,
    "start_time": "2021-07-07T14:58:22.070Z"
   },
   {
    "duration": 4,
    "start_time": "2021-07-07T14:59:11.239Z"
   },
   {
    "duration": 25,
    "start_time": "2021-07-07T15:07:22.208Z"
   },
   {
    "duration": 16,
    "start_time": "2021-07-07T15:08:25.560Z"
   },
   {
    "duration": 15,
    "start_time": "2021-07-07T15:08:40.647Z"
   },
   {
    "duration": 14,
    "start_time": "2021-07-07T15:08:46.669Z"
   },
   {
    "duration": 533,
    "start_time": "2021-07-07T15:18:07.440Z"
   },
   {
    "duration": 173,
    "start_time": "2021-07-07T15:18:07.974Z"
   },
   {
    "duration": 84,
    "start_time": "2021-07-07T15:18:08.149Z"
   },
   {
    "duration": 3,
    "start_time": "2021-07-07T15:18:08.235Z"
   },
   {
    "duration": 30,
    "start_time": "2021-07-07T15:18:08.240Z"
   },
   {
    "duration": 22,
    "start_time": "2021-07-07T15:18:08.272Z"
   },
   {
    "duration": 11,
    "start_time": "2021-07-07T15:18:08.295Z"
   },
   {
    "duration": 11,
    "start_time": "2021-07-07T15:18:08.309Z"
   },
   {
    "duration": 40,
    "start_time": "2021-07-07T15:18:08.322Z"
   },
   {
    "duration": 42,
    "start_time": "2021-07-07T15:18:08.364Z"
   },
   {
    "duration": 22,
    "start_time": "2021-07-07T15:18:08.408Z"
   },
   {
    "duration": 5,
    "start_time": "2021-07-07T15:18:08.432Z"
   },
   {
    "duration": 13,
    "start_time": "2021-07-07T15:18:08.439Z"
   },
   {
    "duration": 9,
    "start_time": "2021-07-07T15:18:08.454Z"
   },
   {
    "duration": 32,
    "start_time": "2021-07-07T15:18:08.465Z"
   },
   {
    "duration": 10,
    "start_time": "2021-07-07T15:18:08.501Z"
   },
   {
    "duration": 7,
    "start_time": "2021-07-07T15:18:08.513Z"
   },
   {
    "duration": 11,
    "start_time": "2021-07-07T15:18:08.521Z"
   },
   {
    "duration": 17,
    "start_time": "2021-07-07T15:18:08.534Z"
   },
   {
    "duration": 44,
    "start_time": "2021-07-07T15:18:08.553Z"
   },
   {
    "duration": 22,
    "start_time": "2021-07-07T15:18:08.599Z"
   },
   {
    "duration": 61,
    "start_time": "2021-07-07T15:18:08.622Z"
   },
   {
    "duration": 7,
    "start_time": "2021-07-07T15:18:39.457Z"
   },
   {
    "duration": 5,
    "start_time": "2021-07-07T16:05:17.020Z"
   },
   {
    "duration": 5,
    "start_time": "2021-07-07T16:51:28.794Z"
   },
   {
    "duration": 546,
    "start_time": "2021-07-07T16:52:26.306Z"
   },
   {
    "duration": 203,
    "start_time": "2021-07-07T16:52:27.523Z"
   },
   {
    "duration": 85,
    "start_time": "2021-07-07T16:52:27.736Z"
   },
   {
    "duration": 4,
    "start_time": "2021-07-07T16:52:27.899Z"
   },
   {
    "duration": 25,
    "start_time": "2021-07-07T16:52:28.674Z"
   },
   {
    "duration": 8,
    "start_time": "2021-07-07T16:52:32.956Z"
   },
   {
    "duration": 18,
    "start_time": "2021-07-07T16:52:35.616Z"
   },
   {
    "duration": 6,
    "start_time": "2021-07-07T16:52:36.913Z"
   },
   {
    "duration": 11,
    "start_time": "2021-07-07T16:52:40.258Z"
   },
   {
    "duration": 10,
    "start_time": "2021-07-07T16:52:46.251Z"
   },
   {
    "duration": 8,
    "start_time": "2021-07-07T16:52:47.182Z"
   },
   {
    "duration": 27,
    "start_time": "2021-07-07T16:53:20.391Z"
   },
   {
    "duration": 20,
    "start_time": "2021-07-07T16:53:22.022Z"
   },
   {
    "duration": 23,
    "start_time": "2021-07-07T16:53:23.690Z"
   },
   {
    "duration": 8,
    "start_time": "2021-07-07T16:53:24.261Z"
   },
   {
    "duration": 4,
    "start_time": "2021-07-07T16:53:38.733Z"
   },
   {
    "duration": 7,
    "start_time": "2021-07-07T16:53:40.445Z"
   },
   {
    "duration": 11,
    "start_time": "2021-07-07T16:53:41.348Z"
   },
   {
    "duration": 13,
    "start_time": "2021-07-07T16:53:45.250Z"
   },
   {
    "duration": 12,
    "start_time": "2021-07-07T16:53:45.467Z"
   },
   {
    "duration": 4,
    "start_time": "2021-07-07T16:55:32.704Z"
   },
   {
    "duration": 12,
    "start_time": "2021-07-07T16:55:49.012Z"
   },
   {
    "duration": 18,
    "start_time": "2021-07-07T16:55:49.547Z"
   },
   {
    "duration": 611,
    "start_time": "2021-07-07T16:58:35.156Z"
   },
   {
    "duration": 200,
    "start_time": "2021-07-07T16:58:35.770Z"
   },
   {
    "duration": 86,
    "start_time": "2021-07-07T16:58:35.972Z"
   },
   {
    "duration": 3,
    "start_time": "2021-07-07T16:58:36.060Z"
   },
   {
    "duration": 27,
    "start_time": "2021-07-07T16:58:36.065Z"
   },
   {
    "duration": 8,
    "start_time": "2021-07-07T16:58:36.094Z"
   },
   {
    "duration": 17,
    "start_time": "2021-07-07T16:58:36.103Z"
   },
   {
    "duration": 5,
    "start_time": "2021-07-07T16:58:36.123Z"
   },
   {
    "duration": 11,
    "start_time": "2021-07-07T16:58:36.130Z"
   },
   {
    "duration": 7,
    "start_time": "2021-07-07T16:58:36.143Z"
   },
   {
    "duration": 37,
    "start_time": "2021-07-07T16:58:36.152Z"
   },
   {
    "duration": 27,
    "start_time": "2021-07-07T16:58:36.191Z"
   },
   {
    "duration": 19,
    "start_time": "2021-07-07T16:58:36.219Z"
   },
   {
    "duration": 49,
    "start_time": "2021-07-07T16:58:36.240Z"
   },
   {
    "duration": 6,
    "start_time": "2021-07-07T16:58:36.291Z"
   },
   {
    "duration": 3,
    "start_time": "2021-07-07T16:58:36.299Z"
   },
   {
    "duration": 13,
    "start_time": "2021-07-07T16:58:36.304Z"
   },
   {
    "duration": 10,
    "start_time": "2021-07-07T16:58:36.319Z"
   },
   {
    "duration": 10,
    "start_time": "2021-07-07T16:58:36.331Z"
   },
   {
    "duration": 44,
    "start_time": "2021-07-07T16:58:36.343Z"
   },
   {
    "duration": 4,
    "start_time": "2021-07-07T16:58:36.388Z"
   },
   {
    "duration": 13,
    "start_time": "2021-07-07T16:58:36.394Z"
   },
   {
    "duration": 16,
    "start_time": "2021-07-07T16:58:36.410Z"
   },
   {
    "duration": 8,
    "start_time": "2021-07-07T17:02:31.629Z"
   },
   {
    "duration": 8,
    "start_time": "2021-07-07T17:02:34.308Z"
   },
   {
    "duration": 6,
    "start_time": "2021-07-07T17:05:13.483Z"
   },
   {
    "duration": 17,
    "start_time": "2021-07-07T17:05:20.606Z"
   },
   {
    "duration": 7,
    "start_time": "2021-07-07T17:05:34.638Z"
   },
   {
    "duration": 3,
    "start_time": "2021-07-07T17:06:31.883Z"
   },
   {
    "duration": 570,
    "start_time": "2021-07-07T17:06:37.165Z"
   },
   {
    "duration": 174,
    "start_time": "2021-07-07T17:06:37.737Z"
   },
   {
    "duration": 47,
    "start_time": "2021-07-07T17:06:37.913Z"
   },
   {
    "duration": 3,
    "start_time": "2021-07-07T17:06:37.962Z"
   },
   {
    "duration": 27,
    "start_time": "2021-07-07T17:06:37.967Z"
   },
   {
    "duration": 7,
    "start_time": "2021-07-07T17:06:37.996Z"
   },
   {
    "duration": 16,
    "start_time": "2021-07-07T17:06:38.005Z"
   },
   {
    "duration": 6,
    "start_time": "2021-07-07T17:06:38.024Z"
   },
   {
    "duration": 12,
    "start_time": "2021-07-07T17:06:38.031Z"
   },
   {
    "duration": 41,
    "start_time": "2021-07-07T17:06:38.045Z"
   },
   {
    "duration": 8,
    "start_time": "2021-07-07T17:06:38.088Z"
   },
   {
    "duration": 26,
    "start_time": "2021-07-07T17:06:38.098Z"
   },
   {
    "duration": 17,
    "start_time": "2021-07-07T17:06:38.126Z"
   },
   {
    "duration": 43,
    "start_time": "2021-07-07T17:06:38.144Z"
   },
   {
    "duration": 6,
    "start_time": "2021-07-07T17:06:38.188Z"
   },
   {
    "duration": 5,
    "start_time": "2021-07-07T17:06:38.195Z"
   },
   {
    "duration": 9,
    "start_time": "2021-07-07T17:06:38.201Z"
   },
   {
    "duration": 12,
    "start_time": "2021-07-07T17:06:38.212Z"
   },
   {
    "duration": 11,
    "start_time": "2021-07-07T17:06:38.226Z"
   },
   {
    "duration": 47,
    "start_time": "2021-07-07T17:06:38.239Z"
   },
   {
    "duration": 4,
    "start_time": "2021-07-07T17:06:38.288Z"
   },
   {
    "duration": 13,
    "start_time": "2021-07-07T17:06:38.293Z"
   },
   {
    "duration": 5,
    "start_time": "2021-07-07T17:06:38.309Z"
   },
   {
    "duration": 18,
    "start_time": "2021-07-07T17:06:38.325Z"
   },
   {
    "duration": 20,
    "start_time": "2021-07-07T17:07:02.805Z"
   },
   {
    "duration": 19,
    "start_time": "2021-07-07T17:07:08.527Z"
   },
   {
    "duration": 19,
    "start_time": "2021-07-07T17:07:12.758Z"
   },
   {
    "duration": 22,
    "start_time": "2021-07-07T17:07:17.497Z"
   },
   {
    "duration": 19,
    "start_time": "2021-07-07T17:07:19.645Z"
   },
   {
    "duration": 10,
    "start_time": "2021-07-07T17:07:34.239Z"
   },
   {
    "duration": 17,
    "start_time": "2021-07-07T17:07:54.144Z"
   },
   {
    "duration": 14,
    "start_time": "2021-07-07T17:08:14.357Z"
   },
   {
    "duration": 616,
    "start_time": "2021-07-07T17:08:45.254Z"
   },
   {
    "duration": 178,
    "start_time": "2021-07-07T17:08:45.872Z"
   },
   {
    "duration": 60,
    "start_time": "2021-07-07T17:08:46.054Z"
   },
   {
    "duration": 3,
    "start_time": "2021-07-07T17:08:46.116Z"
   },
   {
    "duration": 26,
    "start_time": "2021-07-07T17:08:46.121Z"
   },
   {
    "duration": 7,
    "start_time": "2021-07-07T17:08:46.149Z"
   },
   {
    "duration": 17,
    "start_time": "2021-07-07T17:08:46.158Z"
   },
   {
    "duration": 14,
    "start_time": "2021-07-07T17:08:46.176Z"
   },
   {
    "duration": 17,
    "start_time": "2021-07-07T17:08:46.193Z"
   },
   {
    "duration": 9,
    "start_time": "2021-07-07T17:08:46.211Z"
   },
   {
    "duration": 21,
    "start_time": "2021-07-07T17:08:46.221Z"
   },
   {
    "duration": 49,
    "start_time": "2021-07-07T17:08:46.244Z"
   },
   {
    "duration": 24,
    "start_time": "2021-07-07T17:08:46.295Z"
   },
   {
    "duration": 22,
    "start_time": "2021-07-07T17:08:46.321Z"
   },
   {
    "duration": 6,
    "start_time": "2021-07-07T17:08:46.345Z"
   },
   {
    "duration": 5,
    "start_time": "2021-07-07T17:08:46.353Z"
   },
   {
    "duration": 13,
    "start_time": "2021-07-07T17:08:46.386Z"
   },
   {
    "duration": 12,
    "start_time": "2021-07-07T17:08:46.402Z"
   },
   {
    "duration": 10,
    "start_time": "2021-07-07T17:08:46.415Z"
   },
   {
    "duration": 7,
    "start_time": "2021-07-07T17:08:46.427Z"
   },
   {
    "duration": 8,
    "start_time": "2021-07-07T17:08:46.435Z"
   },
   {
    "duration": 68,
    "start_time": "2021-07-07T17:08:46.446Z"
   },
   {
    "duration": 13,
    "start_time": "2021-07-07T17:08:46.516Z"
   },
   {
    "duration": 78,
    "start_time": "2021-07-07T17:08:46.530Z"
   },
   {
    "duration": 40,
    "start_time": "2021-07-07T17:09:08.185Z"
   },
   {
    "duration": 16,
    "start_time": "2021-07-07T17:09:19.324Z"
   },
   {
    "duration": 21,
    "start_time": "2021-07-07T17:09:23.290Z"
   },
   {
    "duration": 13,
    "start_time": "2021-07-07T17:09:54.812Z"
   },
   {
    "duration": 13,
    "start_time": "2021-07-07T17:10:02.039Z"
   },
   {
    "duration": 10,
    "start_time": "2021-07-07T17:10:29.632Z"
   },
   {
    "duration": 13,
    "start_time": "2021-07-07T17:10:52.372Z"
   },
   {
    "duration": 13,
    "start_time": "2021-07-07T17:11:17.270Z"
   },
   {
    "duration": 13,
    "start_time": "2021-07-07T17:14:59.284Z"
   },
   {
    "duration": 547,
    "start_time": "2021-07-07T17:18:52.403Z"
   },
   {
    "duration": 163,
    "start_time": "2021-07-07T17:18:52.952Z"
   },
   {
    "duration": 44,
    "start_time": "2021-07-07T17:18:53.117Z"
   },
   {
    "duration": 3,
    "start_time": "2021-07-07T17:18:53.162Z"
   },
   {
    "duration": 26,
    "start_time": "2021-07-07T17:18:53.167Z"
   },
   {
    "duration": 6,
    "start_time": "2021-07-07T17:18:53.195Z"
   },
   {
    "duration": 15,
    "start_time": "2021-07-07T17:18:53.203Z"
   },
   {
    "duration": 5,
    "start_time": "2021-07-07T17:18:53.220Z"
   },
   {
    "duration": 11,
    "start_time": "2021-07-07T17:18:53.228Z"
   },
   {
    "duration": 9,
    "start_time": "2021-07-07T17:18:53.241Z"
   },
   {
    "duration": 41,
    "start_time": "2021-07-07T17:18:53.252Z"
   },
   {
    "duration": 33,
    "start_time": "2021-07-07T17:18:53.295Z"
   },
   {
    "duration": 19,
    "start_time": "2021-07-07T17:18:53.330Z"
   },
   {
    "duration": 49,
    "start_time": "2021-07-07T17:18:53.350Z"
   },
   {
    "duration": 5,
    "start_time": "2021-07-07T17:18:53.401Z"
   },
   {
    "duration": 5,
    "start_time": "2021-07-07T17:18:53.408Z"
   },
   {
    "duration": 11,
    "start_time": "2021-07-07T17:18:53.414Z"
   },
   {
    "duration": 9,
    "start_time": "2021-07-07T17:18:53.427Z"
   },
   {
    "duration": 10,
    "start_time": "2021-07-07T17:18:53.437Z"
   },
   {
    "duration": 39,
    "start_time": "2021-07-07T17:18:53.448Z"
   },
   {
    "duration": 26,
    "start_time": "2021-07-07T17:18:55.799Z"
   },
   {
    "duration": 598,
    "start_time": "2021-07-07T17:20:17.862Z"
   },
   {
    "duration": 161,
    "start_time": "2021-07-07T17:20:18.462Z"
   },
   {
    "duration": 45,
    "start_time": "2021-07-07T17:20:18.626Z"
   },
   {
    "duration": 4,
    "start_time": "2021-07-07T17:20:18.673Z"
   },
   {
    "duration": 38,
    "start_time": "2021-07-07T17:20:26.877Z"
   },
   {
    "duration": 7,
    "start_time": "2021-07-07T17:20:37.405Z"
   },
   {
    "duration": 19,
    "start_time": "2021-07-07T17:20:51.534Z"
   },
   {
    "duration": 5,
    "start_time": "2021-07-07T17:20:57.228Z"
   },
   {
    "duration": 7,
    "start_time": "2021-07-07T17:21:08.235Z"
   },
   {
    "duration": 19,
    "start_time": "2021-07-07T17:21:42.158Z"
   },
   {
    "duration": 14,
    "start_time": "2021-07-07T17:21:50.225Z"
   },
   {
    "duration": 22,
    "start_time": "2021-07-07T17:22:54.104Z"
   },
   {
    "duration": 5,
    "start_time": "2021-07-07T17:22:56.371Z"
   },
   {
    "duration": 14,
    "start_time": "2021-07-07T17:22:58.316Z"
   },
   {
    "duration": 5,
    "start_time": "2021-07-07T17:22:58.493Z"
   },
   {
    "duration": 35,
    "start_time": "2021-07-07T17:22:59.666Z"
   },
   {
    "duration": 6,
    "start_time": "2021-07-07T17:23:02.410Z"
   },
   {
    "duration": 611,
    "start_time": "2021-07-07T17:24:59.664Z"
   },
   {
    "duration": 178,
    "start_time": "2021-07-07T17:25:01.945Z"
   },
   {
    "duration": 47,
    "start_time": "2021-07-07T17:25:02.125Z"
   },
   {
    "duration": 2,
    "start_time": "2021-07-07T17:25:07.903Z"
   },
   {
    "duration": 254,
    "start_time": "2021-07-07T17:25:08.232Z"
   },
   {
    "duration": 182,
    "start_time": "2021-07-07T17:25:08.671Z"
   },
   {
    "duration": 6,
    "start_time": "2021-07-07T17:25:13.104Z"
   },
   {
    "duration": 36,
    "start_time": "2021-07-07T17:25:13.662Z"
   },
   {
    "duration": 7,
    "start_time": "2021-07-07T17:25:14.528Z"
   },
   {
    "duration": 24,
    "start_time": "2021-07-07T17:25:27.982Z"
   },
   {
    "duration": 3,
    "start_time": "2021-07-07T17:25:48.982Z"
   },
   {
    "duration": 165,
    "start_time": "2021-07-07T17:25:48.987Z"
   },
   {
    "duration": 50,
    "start_time": "2021-07-07T17:25:49.154Z"
   },
   {
    "duration": 4,
    "start_time": "2021-07-07T17:25:49.206Z"
   },
   {
    "duration": 26,
    "start_time": "2021-07-07T17:25:49.212Z"
   },
   {
    "duration": 7,
    "start_time": "2021-07-07T17:25:49.240Z"
   },
   {
    "duration": 16,
    "start_time": "2021-07-07T17:25:49.249Z"
   },
   {
    "duration": 22,
    "start_time": "2021-07-07T17:25:49.266Z"
   },
   {
    "duration": 16,
    "start_time": "2021-07-07T17:25:49.291Z"
   },
   {
    "duration": 9,
    "start_time": "2021-07-07T17:25:49.309Z"
   },
   {
    "duration": 7,
    "start_time": "2021-07-07T17:25:49.319Z"
   },
   {
    "duration": 28,
    "start_time": "2021-07-07T17:25:49.328Z"
   },
   {
    "duration": 44,
    "start_time": "2021-07-07T17:25:49.357Z"
   },
   {
    "duration": 22,
    "start_time": "2021-07-07T17:25:49.403Z"
   },
   {
    "duration": 7,
    "start_time": "2021-07-07T17:25:49.427Z"
   },
   {
    "duration": 3,
    "start_time": "2021-07-07T17:25:49.436Z"
   },
   {
    "duration": 44,
    "start_time": "2021-07-07T17:25:49.441Z"
   },
   {
    "duration": 12,
    "start_time": "2021-07-07T17:25:49.488Z"
   },
   {
    "duration": 13,
    "start_time": "2021-07-07T17:25:49.502Z"
   },
   {
    "duration": 10,
    "start_time": "2021-07-07T17:25:49.516Z"
   },
   {
    "duration": 62,
    "start_time": "2021-07-07T17:25:49.527Z"
   },
   {
    "duration": 26,
    "start_time": "2021-07-07T17:26:51.809Z"
   },
   {
    "duration": 26,
    "start_time": "2021-07-07T17:26:55.759Z"
   },
   {
    "duration": 26,
    "start_time": "2021-07-07T17:27:04.501Z"
   },
   {
    "duration": 25,
    "start_time": "2021-07-07T17:28:24.859Z"
   },
   {
    "duration": 21,
    "start_time": "2021-07-07T17:28:55.250Z"
   },
   {
    "duration": 21,
    "start_time": "2021-07-07T17:28:58.885Z"
   },
   {
    "duration": 7,
    "start_time": "2021-07-07T17:45:40.972Z"
   },
   {
    "duration": 13,
    "start_time": "2021-07-07T17:45:42.529Z"
   },
   {
    "duration": 27,
    "start_time": "2021-07-07T17:45:51.026Z"
   },
   {
    "duration": 518,
    "start_time": "2021-07-07T17:46:15.532Z"
   },
   {
    "duration": 235,
    "start_time": "2021-07-07T17:46:16.053Z"
   },
   {
    "duration": 80,
    "start_time": "2021-07-07T17:46:16.292Z"
   },
   {
    "duration": 5,
    "start_time": "2021-07-07T17:46:16.373Z"
   },
   {
    "duration": 26,
    "start_time": "2021-07-07T17:46:16.380Z"
   },
   {
    "duration": 7,
    "start_time": "2021-07-07T17:46:16.408Z"
   },
   {
    "duration": 16,
    "start_time": "2021-07-07T17:46:16.418Z"
   },
   {
    "duration": 5,
    "start_time": "2021-07-07T17:46:16.436Z"
   },
   {
    "duration": 13,
    "start_time": "2021-07-07T17:46:16.442Z"
   },
   {
    "duration": 35,
    "start_time": "2021-07-07T17:46:16.456Z"
   },
   {
    "duration": 8,
    "start_time": "2021-07-07T17:46:16.493Z"
   },
   {
    "duration": 28,
    "start_time": "2021-07-07T17:46:16.502Z"
   },
   {
    "duration": 17,
    "start_time": "2021-07-07T17:46:16.532Z"
   },
   {
    "duration": 44,
    "start_time": "2021-07-07T17:46:16.551Z"
   },
   {
    "duration": 6,
    "start_time": "2021-07-07T17:46:16.597Z"
   },
   {
    "duration": 4,
    "start_time": "2021-07-07T17:46:16.605Z"
   },
   {
    "duration": 9,
    "start_time": "2021-07-07T17:46:16.610Z"
   },
   {
    "duration": 9,
    "start_time": "2021-07-07T17:46:16.621Z"
   },
   {
    "duration": 10,
    "start_time": "2021-07-07T17:46:16.632Z"
   },
   {
    "duration": 43,
    "start_time": "2021-07-07T17:46:16.644Z"
   },
   {
    "duration": 26,
    "start_time": "2021-07-07T17:46:16.689Z"
   },
   {
    "duration": 19,
    "start_time": "2021-07-07T17:46:16.718Z"
   },
   {
    "duration": 8,
    "start_time": "2021-07-07T17:46:16.738Z"
   },
   {
    "duration": 43,
    "start_time": "2021-07-07T17:46:16.747Z"
   },
   {
    "duration": 19,
    "start_time": "2021-07-07T17:46:16.791Z"
   },
   {
    "duration": 9,
    "start_time": "2021-07-07T17:46:16.812Z"
   },
   {
    "duration": 60,
    "start_time": "2021-07-07T17:46:16.822Z"
   },
   {
    "duration": -8,
    "start_time": "2021-07-07T17:46:16.892Z"
   },
   {
    "duration": 12,
    "start_time": "2021-07-07T17:48:47.707Z"
   },
   {
    "duration": 553,
    "start_time": "2021-07-07T18:10:09.350Z"
   },
   {
    "duration": 230,
    "start_time": "2021-07-07T18:10:09.905Z"
   },
   {
    "duration": 97,
    "start_time": "2021-07-07T18:10:10.137Z"
   },
   {
    "duration": 5,
    "start_time": "2021-07-07T18:10:10.236Z"
   },
   {
    "duration": 29,
    "start_time": "2021-07-07T18:10:10.242Z"
   },
   {
    "duration": 7,
    "start_time": "2021-07-07T18:10:10.272Z"
   },
   {
    "duration": 15,
    "start_time": "2021-07-07T18:10:10.281Z"
   },
   {
    "duration": 4,
    "start_time": "2021-07-07T18:10:10.299Z"
   },
   {
    "duration": 14,
    "start_time": "2021-07-07T18:10:10.305Z"
   },
   {
    "duration": 8,
    "start_time": "2021-07-07T18:10:10.321Z"
   },
   {
    "duration": 8,
    "start_time": "2021-07-07T18:10:10.331Z"
   },
   {
    "duration": 56,
    "start_time": "2021-07-07T18:10:10.341Z"
   },
   {
    "duration": 19,
    "start_time": "2021-07-07T18:10:10.399Z"
   },
   {
    "duration": 23,
    "start_time": "2021-07-07T18:10:10.419Z"
   },
   {
    "duration": 6,
    "start_time": "2021-07-07T18:10:10.444Z"
   },
   {
    "duration": 9,
    "start_time": "2021-07-07T18:10:10.451Z"
   },
   {
    "duration": 30,
    "start_time": "2021-07-07T18:10:10.462Z"
   },
   {
    "duration": 9,
    "start_time": "2021-07-07T18:10:10.494Z"
   },
   {
    "duration": 14,
    "start_time": "2021-07-07T18:10:10.505Z"
   },
   {
    "duration": 7,
    "start_time": "2021-07-07T18:10:10.521Z"
   },
   {
    "duration": 26,
    "start_time": "2021-07-07T18:10:10.530Z"
   },
   {
    "duration": 44,
    "start_time": "2021-07-07T18:10:10.558Z"
   },
   {
    "duration": 7,
    "start_time": "2021-07-07T18:10:10.605Z"
   },
   {
    "duration": 11,
    "start_time": "2021-07-07T18:10:10.614Z"
   },
   {
    "duration": 19,
    "start_time": "2021-07-07T18:10:10.626Z"
   },
   {
    "duration": 44,
    "start_time": "2021-07-07T18:10:10.646Z"
   },
   {
    "duration": 516,
    "start_time": "2021-07-07T18:14:00.826Z"
   },
   {
    "duration": 230,
    "start_time": "2021-07-07T18:14:01.344Z"
   },
   {
    "duration": 105,
    "start_time": "2021-07-07T18:14:01.576Z"
   },
   {
    "duration": 5,
    "start_time": "2021-07-07T18:14:01.683Z"
   },
   {
    "duration": 46,
    "start_time": "2021-07-07T18:14:01.690Z"
   },
   {
    "duration": 7,
    "start_time": "2021-07-07T18:14:01.738Z"
   },
   {
    "duration": 20,
    "start_time": "2021-07-07T18:14:01.747Z"
   },
   {
    "duration": 16,
    "start_time": "2021-07-07T18:14:01.769Z"
   },
   {
    "duration": 14,
    "start_time": "2021-07-07T18:14:01.787Z"
   },
   {
    "duration": 15,
    "start_time": "2021-07-07T18:14:01.803Z"
   },
   {
    "duration": 12,
    "start_time": "2021-07-07T18:14:01.820Z"
   },
   {
    "duration": 35,
    "start_time": "2021-07-07T18:14:01.833Z"
   },
   {
    "duration": 31,
    "start_time": "2021-07-07T18:14:01.869Z"
   },
   {
    "duration": 37,
    "start_time": "2021-07-07T18:14:01.902Z"
   },
   {
    "duration": 8,
    "start_time": "2021-07-07T18:14:01.942Z"
   },
   {
    "duration": 16,
    "start_time": "2021-07-07T18:14:01.952Z"
   },
   {
    "duration": 13,
    "start_time": "2021-07-07T18:14:01.970Z"
   },
   {
    "duration": 32,
    "start_time": "2021-07-07T18:14:01.985Z"
   },
   {
    "duration": 11,
    "start_time": "2021-07-07T18:14:02.019Z"
   },
   {
    "duration": 22,
    "start_time": "2021-07-07T18:14:02.031Z"
   },
   {
    "duration": 27,
    "start_time": "2021-07-07T18:14:02.055Z"
   },
   {
    "duration": 18,
    "start_time": "2021-07-07T18:14:02.084Z"
   },
   {
    "duration": 18,
    "start_time": "2021-07-07T18:14:02.106Z"
   },
   {
    "duration": 11,
    "start_time": "2021-07-07T18:14:02.126Z"
   },
   {
    "duration": 21,
    "start_time": "2021-07-07T18:14:02.138Z"
   },
   {
    "duration": 32,
    "start_time": "2021-07-07T18:14:02.161Z"
   },
   {
    "duration": 28,
    "start_time": "2021-07-07T18:14:44.295Z"
   },
   {
    "duration": 6,
    "start_time": "2021-07-07T18:15:05.834Z"
   },
   {
    "duration": 511,
    "start_time": "2021-07-07T18:15:41.541Z"
   },
   {
    "duration": 183,
    "start_time": "2021-07-07T18:15:42.054Z"
   },
   {
    "duration": 50,
    "start_time": "2021-07-07T18:15:42.239Z"
   },
   {
    "duration": 5,
    "start_time": "2021-07-07T18:15:42.291Z"
   },
   {
    "duration": 48,
    "start_time": "2021-07-07T18:15:42.297Z"
   },
   {
    "duration": 8,
    "start_time": "2021-07-07T18:15:42.346Z"
   },
   {
    "duration": 17,
    "start_time": "2021-07-07T18:15:42.356Z"
   },
   {
    "duration": 15,
    "start_time": "2021-07-07T18:15:42.375Z"
   },
   {
    "duration": 12,
    "start_time": "2021-07-07T18:15:42.392Z"
   },
   {
    "duration": 7,
    "start_time": "2021-07-07T18:15:42.406Z"
   },
   {
    "duration": 7,
    "start_time": "2021-07-07T18:15:42.415Z"
   },
   {
    "duration": 29,
    "start_time": "2021-07-07T18:15:42.423Z"
   },
   {
    "duration": 43,
    "start_time": "2021-07-07T18:15:42.453Z"
   },
   {
    "duration": 18,
    "start_time": "2021-07-07T18:15:42.497Z"
   },
   {
    "duration": 6,
    "start_time": "2021-07-07T18:15:42.516Z"
   },
   {
    "duration": 3,
    "start_time": "2021-07-07T18:15:42.523Z"
   },
   {
    "duration": 18,
    "start_time": "2021-07-07T18:15:42.528Z"
   },
   {
    "duration": 10,
    "start_time": "2021-07-07T18:15:42.547Z"
   },
   {
    "duration": 36,
    "start_time": "2021-07-07T18:15:42.559Z"
   },
   {
    "duration": 8,
    "start_time": "2021-07-07T18:15:42.597Z"
   },
   {
    "duration": 28,
    "start_time": "2021-07-07T18:15:42.606Z"
   },
   {
    "duration": 52,
    "start_time": "2021-07-07T18:15:42.635Z"
   },
   {
    "duration": 7,
    "start_time": "2021-07-07T18:15:42.690Z"
   },
   {
    "duration": 10,
    "start_time": "2021-07-07T18:15:42.699Z"
   },
   {
    "duration": 19,
    "start_time": "2021-07-07T18:15:42.711Z"
   },
   {
    "duration": 9,
    "start_time": "2021-07-07T18:15:42.732Z"
   },
   {
    "duration": 5,
    "start_time": "2021-07-07T18:15:42.743Z"
   },
   {
    "duration": 1450,
    "start_time": "2021-07-07T18:15:51.984Z"
   },
   {
    "duration": 161,
    "start_time": "2021-07-07T18:15:53.435Z"
   },
   {
    "duration": 124,
    "start_time": "2021-07-07T18:15:53.598Z"
   },
   {
    "duration": 5,
    "start_time": "2021-07-07T18:15:53.724Z"
   },
   {
    "duration": 34,
    "start_time": "2021-07-07T18:15:53.730Z"
   },
   {
    "duration": 7,
    "start_time": "2021-07-07T18:15:53.765Z"
   },
   {
    "duration": 15,
    "start_time": "2021-07-07T18:15:53.773Z"
   },
   {
    "duration": 5,
    "start_time": "2021-07-07T18:15:53.791Z"
   },
   {
    "duration": 19,
    "start_time": "2021-07-07T18:15:53.798Z"
   },
   {
    "duration": 9,
    "start_time": "2021-07-07T18:15:53.818Z"
   },
   {
    "duration": 19,
    "start_time": "2021-07-07T18:15:53.828Z"
   },
   {
    "duration": 27,
    "start_time": "2021-07-07T18:15:53.848Z"
   },
   {
    "duration": 16,
    "start_time": "2021-07-07T18:15:53.884Z"
   },
   {
    "duration": 29,
    "start_time": "2021-07-07T18:15:53.901Z"
   },
   {
    "duration": 5,
    "start_time": "2021-07-07T18:15:53.932Z"
   },
   {
    "duration": 15,
    "start_time": "2021-07-07T18:15:53.939Z"
   },
   {
    "duration": 13,
    "start_time": "2021-07-07T18:15:53.956Z"
   },
   {
    "duration": 20,
    "start_time": "2021-07-07T18:15:53.971Z"
   },
   {
    "duration": 14,
    "start_time": "2021-07-07T18:15:53.992Z"
   },
   {
    "duration": 9,
    "start_time": "2021-07-07T18:15:54.009Z"
   },
   {
    "duration": 28,
    "start_time": "2021-07-07T18:15:54.020Z"
   },
   {
    "duration": 50,
    "start_time": "2021-07-07T18:15:54.051Z"
   },
   {
    "duration": 8,
    "start_time": "2021-07-07T18:15:54.105Z"
   },
   {
    "duration": 11,
    "start_time": "2021-07-07T18:15:54.115Z"
   },
   {
    "duration": 20,
    "start_time": "2021-07-07T18:15:54.128Z"
   },
   {
    "duration": 13,
    "start_time": "2021-07-07T18:15:54.184Z"
   },
   {
    "duration": 7,
    "start_time": "2021-07-07T18:15:54.199Z"
   },
   {
    "duration": 7,
    "start_time": "2021-07-07T18:17:08.042Z"
   },
   {
    "duration": 8,
    "start_time": "2021-07-07T18:17:21.008Z"
   },
   {
    "duration": 7,
    "start_time": "2021-07-07T18:17:29.003Z"
   },
   {
    "duration": 8,
    "start_time": "2021-07-07T18:17:32.492Z"
   },
   {
    "duration": 9,
    "start_time": "2021-07-07T18:17:41.758Z"
   },
   {
    "duration": 255,
    "start_time": "2021-07-07T18:20:20.897Z"
   },
   {
    "duration": 173,
    "start_time": "2021-07-07T18:20:26.636Z"
   },
   {
    "duration": 7,
    "start_time": "2021-07-07T18:21:47.164Z"
   },
   {
    "duration": 254,
    "start_time": "2021-07-07T18:23:08.703Z"
   },
   {
    "duration": 21,
    "start_time": "2021-07-07T18:23:22.506Z"
   },
   {
    "duration": 315,
    "start_time": "2021-07-07T18:25:54.801Z"
   },
   {
    "duration": 34,
    "start_time": "2021-07-07T18:26:51.817Z"
   },
   {
    "duration": 327,
    "start_time": "2021-07-07T18:26:56.147Z"
   },
   {
    "duration": 342,
    "start_time": "2021-07-07T18:27:15.887Z"
   },
   {
    "duration": 302,
    "start_time": "2021-07-07T18:28:18.569Z"
   },
   {
    "duration": 226,
    "start_time": "2021-07-07T18:29:20.879Z"
   },
   {
    "duration": 207,
    "start_time": "2021-07-07T18:29:58.114Z"
   },
   {
    "duration": 140,
    "start_time": "2021-07-07T18:32:04.372Z"
   },
   {
    "duration": 158,
    "start_time": "2021-07-07T18:32:32.508Z"
   },
   {
    "duration": 145,
    "start_time": "2021-07-07T18:32:41.365Z"
   },
   {
    "duration": 132,
    "start_time": "2021-07-07T18:32:45.199Z"
   },
   {
    "duration": 11,
    "start_time": "2021-07-07T18:35:24.679Z"
   },
   {
    "duration": 268,
    "start_time": "2021-07-07T18:36:16.145Z"
   },
   {
    "duration": 227,
    "start_time": "2021-07-07T18:37:04.918Z"
   },
   {
    "duration": 3,
    "start_time": "2021-07-07T18:37:33.012Z"
   },
   {
    "duration": 671,
    "start_time": "2021-07-07T18:37:38.295Z"
   },
   {
    "duration": 54,
    "start_time": "2021-07-07T18:37:53.406Z"
   },
   {
    "duration": 631,
    "start_time": "2021-07-07T18:37:56.463Z"
   },
   {
    "duration": 19,
    "start_time": "2021-07-07T18:39:40.535Z"
   },
   {
    "duration": 20,
    "start_time": "2021-07-07T18:40:12.236Z"
   },
   {
    "duration": 633,
    "start_time": "2021-07-07T18:42:00.398Z"
   },
   {
    "duration": 218,
    "start_time": "2021-07-07T18:42:01.033Z"
   },
   {
    "duration": 49,
    "start_time": "2021-07-07T18:42:01.253Z"
   },
   {
    "duration": 5,
    "start_time": "2021-07-07T18:42:01.303Z"
   },
   {
    "duration": 27,
    "start_time": "2021-07-07T18:42:01.310Z"
   },
   {
    "duration": 8,
    "start_time": "2021-07-07T18:42:01.339Z"
   },
   {
    "duration": 20,
    "start_time": "2021-07-07T18:42:01.348Z"
   },
   {
    "duration": 6,
    "start_time": "2021-07-07T18:42:01.386Z"
   },
   {
    "duration": 16,
    "start_time": "2021-07-07T18:42:01.394Z"
   },
   {
    "duration": 9,
    "start_time": "2021-07-07T18:42:01.411Z"
   },
   {
    "duration": 11,
    "start_time": "2021-07-07T18:42:01.421Z"
   },
   {
    "duration": 31,
    "start_time": "2021-07-07T18:42:01.434Z"
   },
   {
    "duration": 18,
    "start_time": "2021-07-07T18:42:01.485Z"
   },
   {
    "duration": 23,
    "start_time": "2021-07-07T18:42:01.505Z"
   },
   {
    "duration": 6,
    "start_time": "2021-07-07T18:42:01.530Z"
   },
   {
    "duration": 10,
    "start_time": "2021-07-07T18:42:01.538Z"
   },
   {
    "duration": 13,
    "start_time": "2021-07-07T18:42:01.550Z"
   },
   {
    "duration": 24,
    "start_time": "2021-07-07T18:42:01.564Z"
   },
   {
    "duration": 20,
    "start_time": "2021-07-07T18:42:01.590Z"
   },
   {
    "duration": 8,
    "start_time": "2021-07-07T18:42:01.611Z"
   },
   {
    "duration": 31,
    "start_time": "2021-07-07T18:42:01.620Z"
   },
   {
    "duration": 39,
    "start_time": "2021-07-07T18:42:01.653Z"
   },
   {
    "duration": 8,
    "start_time": "2021-07-07T18:42:01.696Z"
   },
   {
    "duration": 13,
    "start_time": "2021-07-07T18:42:01.705Z"
   },
   {
    "duration": 20,
    "start_time": "2021-07-07T18:42:01.720Z"
   },
   {
    "duration": 12,
    "start_time": "2021-07-07T18:42:01.741Z"
   },
   {
    "duration": 35,
    "start_time": "2021-07-07T18:42:01.755Z"
   },
   {
    "duration": 14,
    "start_time": "2021-07-07T18:42:01.792Z"
   },
   {
    "duration": 188,
    "start_time": "2021-07-07T18:42:01.808Z"
   },
   {
    "duration": 19,
    "start_time": "2021-07-07T18:42:01.998Z"
   },
   {
    "duration": 175,
    "start_time": "2021-07-07T18:42:02.019Z"
   },
   {
    "duration": 134,
    "start_time": "2021-07-07T18:42:02.196Z"
   },
   {
    "duration": 10,
    "start_time": "2021-07-07T18:42:02.331Z"
   },
   {
    "duration": 19,
    "start_time": "2021-07-07T18:42:02.343Z"
   },
   {
    "duration": 628,
    "start_time": "2021-07-07T18:46:30.701Z"
   },
   {
    "duration": 183,
    "start_time": "2021-07-07T18:46:31.331Z"
   },
   {
    "duration": 48,
    "start_time": "2021-07-07T18:46:31.516Z"
   },
   {
    "duration": 5,
    "start_time": "2021-07-07T18:46:31.566Z"
   },
   {
    "duration": 28,
    "start_time": "2021-07-07T18:46:31.572Z"
   },
   {
    "duration": 8,
    "start_time": "2021-07-07T18:46:31.602Z"
   },
   {
    "duration": 19,
    "start_time": "2021-07-07T18:46:31.611Z"
   },
   {
    "duration": 6,
    "start_time": "2021-07-07T18:46:31.633Z"
   },
   {
    "duration": 17,
    "start_time": "2021-07-07T18:46:31.642Z"
   },
   {
    "duration": 10,
    "start_time": "2021-07-07T18:46:31.684Z"
   },
   {
    "duration": 9,
    "start_time": "2021-07-07T18:46:31.695Z"
   },
   {
    "duration": 28,
    "start_time": "2021-07-07T18:46:31.705Z"
   },
   {
    "duration": 18,
    "start_time": "2021-07-07T18:46:31.735Z"
   },
   {
    "duration": 48,
    "start_time": "2021-07-07T18:46:31.755Z"
   },
   {
    "duration": 6,
    "start_time": "2021-07-07T18:46:31.804Z"
   },
   {
    "duration": 4,
    "start_time": "2021-07-07T18:46:31.812Z"
   },
   {
    "duration": 9,
    "start_time": "2021-07-07T18:46:31.817Z"
   },
   {
    "duration": 10,
    "start_time": "2021-07-07T18:46:31.827Z"
   },
   {
    "duration": 12,
    "start_time": "2021-07-07T18:46:31.838Z"
   },
   {
    "duration": 39,
    "start_time": "2021-07-07T18:46:31.851Z"
   },
   {
    "duration": 24,
    "start_time": "2021-07-07T18:46:31.892Z"
   },
   {
    "duration": 15,
    "start_time": "2021-07-07T18:46:31.918Z"
   },
   {
    "duration": 7,
    "start_time": "2021-07-07T18:46:31.936Z"
   },
   {
    "duration": 8,
    "start_time": "2021-07-07T18:46:31.944Z"
   },
   {
    "duration": 19,
    "start_time": "2021-07-07T18:46:31.984Z"
   },
   {
    "duration": 10,
    "start_time": "2021-07-07T18:46:32.004Z"
   },
   {
    "duration": 5,
    "start_time": "2021-07-07T18:46:32.016Z"
   },
   {
    "duration": 9,
    "start_time": "2021-07-07T18:46:32.023Z"
   },
   {
    "duration": 199,
    "start_time": "2021-07-07T18:46:32.033Z"
   },
   {
    "duration": 19,
    "start_time": "2021-07-07T18:46:32.234Z"
   },
   {
    "duration": 159,
    "start_time": "2021-07-07T18:46:32.255Z"
   },
   {
    "duration": 134,
    "start_time": "2021-07-07T18:46:32.416Z"
   },
   {
    "duration": 10,
    "start_time": "2021-07-07T18:46:32.552Z"
   },
   {
    "duration": 34,
    "start_time": "2021-07-07T18:46:32.563Z"
   },
   {
    "duration": 1039,
    "start_time": "2021-07-08T08:41:09.419Z"
   },
   {
    "duration": 333,
    "start_time": "2021-07-08T08:41:10.459Z"
   },
   {
    "duration": 173,
    "start_time": "2021-07-08T08:41:10.794Z"
   },
   {
    "duration": 5,
    "start_time": "2021-07-08T08:41:10.968Z"
   },
   {
    "duration": 25,
    "start_time": "2021-07-08T08:41:10.975Z"
   },
   {
    "duration": 9,
    "start_time": "2021-07-08T08:41:11.002Z"
   },
   {
    "duration": 18,
    "start_time": "2021-07-08T08:41:11.013Z"
   },
   {
    "duration": 6,
    "start_time": "2021-07-08T08:41:11.033Z"
   },
   {
    "duration": 44,
    "start_time": "2021-07-08T08:41:11.042Z"
   },
   {
    "duration": 10,
    "start_time": "2021-07-08T08:41:11.088Z"
   },
   {
    "duration": 9,
    "start_time": "2021-07-08T08:41:11.100Z"
   },
   {
    "duration": 27,
    "start_time": "2021-07-08T08:41:11.111Z"
   },
   {
    "duration": 46,
    "start_time": "2021-07-08T08:41:11.140Z"
   },
   {
    "duration": 17,
    "start_time": "2021-07-08T08:41:11.187Z"
   },
   {
    "duration": 6,
    "start_time": "2021-07-08T08:41:11.206Z"
   },
   {
    "duration": 5,
    "start_time": "2021-07-08T08:41:11.213Z"
   },
   {
    "duration": 10,
    "start_time": "2021-07-08T08:41:11.219Z"
   },
   {
    "duration": 9,
    "start_time": "2021-07-08T08:41:11.230Z"
   },
   {
    "duration": 45,
    "start_time": "2021-07-08T08:41:11.241Z"
   },
   {
    "duration": 7,
    "start_time": "2021-07-08T08:41:11.287Z"
   },
   {
    "duration": 24,
    "start_time": "2021-07-08T08:41:11.296Z"
   },
   {
    "duration": 16,
    "start_time": "2021-07-08T08:41:11.322Z"
   },
   {
    "duration": 7,
    "start_time": "2021-07-08T08:41:11.341Z"
   },
   {
    "duration": 41,
    "start_time": "2021-07-08T08:41:11.349Z"
   },
   {
    "duration": 17,
    "start_time": "2021-07-08T08:41:11.391Z"
   },
   {
    "duration": 9,
    "start_time": "2021-07-08T08:41:11.410Z"
   },
   {
    "duration": 5,
    "start_time": "2021-07-08T08:41:11.421Z"
   },
   {
    "duration": 6,
    "start_time": "2021-07-08T08:41:11.428Z"
   },
   {
    "duration": 198,
    "start_time": "2021-07-08T08:41:11.435Z"
   },
   {
    "duration": 18,
    "start_time": "2021-07-08T08:41:11.635Z"
   },
   {
    "duration": 155,
    "start_time": "2021-07-08T08:41:11.655Z"
   },
   {
    "duration": 138,
    "start_time": "2021-07-08T08:41:11.811Z"
   },
   {
    "duration": 10,
    "start_time": "2021-07-08T08:41:11.950Z"
   },
   {
    "duration": 29,
    "start_time": "2021-07-08T08:41:11.961Z"
   },
   {
    "duration": 171,
    "start_time": "2021-07-08T08:47:44.522Z"
   },
   {
    "duration": 124,
    "start_time": "2021-07-08T08:47:46.872Z"
   },
   {
    "duration": 191,
    "start_time": "2021-07-08T08:47:58.148Z"
   },
   {
    "duration": 191,
    "start_time": "2021-07-08T08:48:07.412Z"
   },
   {
    "duration": 261,
    "start_time": "2021-07-08T08:48:10.385Z"
   },
   {
    "duration": 255,
    "start_time": "2021-07-08T08:48:14.494Z"
   },
   {
    "duration": 219,
    "start_time": "2021-07-08T08:48:22.752Z"
   },
   {
    "duration": 173,
    "start_time": "2021-07-08T08:49:06.395Z"
   },
   {
    "duration": 180,
    "start_time": "2021-07-08T08:49:21.011Z"
   },
   {
    "duration": 6,
    "start_time": "2021-07-08T08:50:31.697Z"
   },
   {
    "duration": 10,
    "start_time": "2021-07-08T08:50:47.394Z"
   },
   {
    "duration": 11,
    "start_time": "2021-07-08T08:53:49.332Z"
   },
   {
    "duration": 171,
    "start_time": "2021-07-08T08:54:28.408Z"
   },
   {
    "duration": 636,
    "start_time": "2021-07-08T09:02:48.385Z"
   },
   {
    "duration": 227,
    "start_time": "2021-07-08T09:02:49.023Z"
   },
   {
    "duration": 104,
    "start_time": "2021-07-08T09:02:49.252Z"
   },
   {
    "duration": 5,
    "start_time": "2021-07-08T09:02:49.358Z"
   },
   {
    "duration": 27,
    "start_time": "2021-07-08T09:02:49.365Z"
   },
   {
    "duration": 8,
    "start_time": "2021-07-08T09:02:49.394Z"
   },
   {
    "duration": 18,
    "start_time": "2021-07-08T09:02:49.404Z"
   },
   {
    "duration": 6,
    "start_time": "2021-07-08T09:02:49.424Z"
   },
   {
    "duration": 11,
    "start_time": "2021-07-08T09:02:49.433Z"
   },
   {
    "duration": 13,
    "start_time": "2021-07-08T09:02:49.485Z"
   },
   {
    "duration": 9,
    "start_time": "2021-07-08T09:02:49.500Z"
   },
   {
    "duration": 38,
    "start_time": "2021-07-08T09:02:49.511Z"
   },
   {
    "duration": 42,
    "start_time": "2021-07-08T09:02:49.551Z"
   },
   {
    "duration": 21,
    "start_time": "2021-07-08T09:02:49.594Z"
   },
   {
    "duration": 6,
    "start_time": "2021-07-08T09:02:49.616Z"
   },
   {
    "duration": 3,
    "start_time": "2021-07-08T09:02:49.623Z"
   },
   {
    "duration": 9,
    "start_time": "2021-07-08T09:02:49.628Z"
   },
   {
    "duration": 52,
    "start_time": "2021-07-08T09:02:49.638Z"
   },
   {
    "duration": 11,
    "start_time": "2021-07-08T09:02:49.692Z"
   },
   {
    "duration": 8,
    "start_time": "2021-07-08T09:02:49.704Z"
   },
   {
    "duration": 27,
    "start_time": "2021-07-08T09:02:49.713Z"
   },
   {
    "duration": 59,
    "start_time": "2021-07-08T09:02:49.741Z"
   },
   {
    "duration": 8,
    "start_time": "2021-07-08T09:02:49.803Z"
   },
   {
    "duration": 14,
    "start_time": "2021-07-08T09:02:49.813Z"
   },
   {
    "duration": 20,
    "start_time": "2021-07-08T09:02:49.829Z"
   },
   {
    "duration": 44,
    "start_time": "2021-07-08T09:02:49.851Z"
   },
   {
    "duration": 14,
    "start_time": "2021-07-08T09:02:49.896Z"
   },
   {
    "duration": 221,
    "start_time": "2021-07-08T09:02:49.912Z"
   },
   {
    "duration": 6,
    "start_time": "2021-07-08T09:02:50.134Z"
   },
   {
    "duration": 206,
    "start_time": "2021-07-08T09:02:50.142Z"
   },
   {
    "duration": 19,
    "start_time": "2021-07-08T09:02:50.350Z"
   },
   {
    "duration": 21,
    "start_time": "2021-07-08T09:02:50.370Z"
   },
   {
    "duration": 20,
    "start_time": "2021-07-08T09:02:50.393Z"
   },
   {
    "duration": 5,
    "start_time": "2021-07-08T09:02:50.414Z"
   },
   {
    "duration": 5,
    "start_time": "2021-07-08T09:03:34.173Z"
   },
   {
    "duration": 6,
    "start_time": "2021-07-08T09:04:49.062Z"
   },
   {
    "duration": 9,
    "start_time": "2021-07-08T09:04:50.118Z"
   },
   {
    "duration": 14,
    "start_time": "2021-07-08T09:04:58.512Z"
   },
   {
    "duration": 9,
    "start_time": "2021-07-08T09:05:10.988Z"
   },
   {
    "duration": 11,
    "start_time": "2021-07-08T09:05:11.743Z"
   },
   {
    "duration": 7,
    "start_time": "2021-07-08T09:05:25.677Z"
   },
   {
    "duration": 13,
    "start_time": "2021-07-08T09:05:47.189Z"
   },
   {
    "duration": 13,
    "start_time": "2021-07-08T09:05:54.755Z"
   },
   {
    "duration": 4,
    "start_time": "2021-07-08T09:06:29.189Z"
   },
   {
    "duration": 244,
    "start_time": "2021-07-08T09:06:29.195Z"
   },
   {
    "duration": 91,
    "start_time": "2021-07-08T09:06:29.441Z"
   },
   {
    "duration": 4,
    "start_time": "2021-07-08T09:06:29.534Z"
   },
   {
    "duration": 28,
    "start_time": "2021-07-08T09:06:29.540Z"
   },
   {
    "duration": 6,
    "start_time": "2021-07-08T09:06:29.570Z"
   },
   {
    "duration": 18,
    "start_time": "2021-07-08T09:06:29.578Z"
   },
   {
    "duration": 5,
    "start_time": "2021-07-08T09:06:29.597Z"
   },
   {
    "duration": 13,
    "start_time": "2021-07-08T09:06:29.605Z"
   },
   {
    "duration": 8,
    "start_time": "2021-07-08T09:06:29.620Z"
   },
   {
    "duration": 7,
    "start_time": "2021-07-08T09:06:29.630Z"
   },
   {
    "duration": 63,
    "start_time": "2021-07-08T09:06:29.639Z"
   },
   {
    "duration": 17,
    "start_time": "2021-07-08T09:06:29.704Z"
   },
   {
    "duration": 20,
    "start_time": "2021-07-08T09:06:29.723Z"
   },
   {
    "duration": 6,
    "start_time": "2021-07-08T09:06:29.745Z"
   },
   {
    "duration": 3,
    "start_time": "2021-07-08T09:06:29.752Z"
   },
   {
    "duration": 7,
    "start_time": "2021-07-08T09:06:29.785Z"
   },
   {
    "duration": 11,
    "start_time": "2021-07-08T09:06:29.794Z"
   },
   {
    "duration": 15,
    "start_time": "2021-07-08T09:06:29.807Z"
   },
   {
    "duration": 8,
    "start_time": "2021-07-08T09:06:29.823Z"
   },
   {
    "duration": 70,
    "start_time": "2021-07-08T09:06:29.832Z"
   },
   {
    "duration": 17,
    "start_time": "2021-07-08T09:06:29.903Z"
   },
   {
    "duration": 9,
    "start_time": "2021-07-08T09:06:29.921Z"
   },
   {
    "duration": 9,
    "start_time": "2021-07-08T09:06:29.932Z"
   },
   {
    "duration": 57,
    "start_time": "2021-07-08T09:06:29.942Z"
   },
   {
    "duration": 11,
    "start_time": "2021-07-08T09:06:30.001Z"
   },
   {
    "duration": 19,
    "start_time": "2021-07-08T09:06:30.016Z"
   },
   {
    "duration": 217,
    "start_time": "2021-07-08T09:06:30.037Z"
   },
   {
    "duration": 6,
    "start_time": "2021-07-08T09:06:30.255Z"
   },
   {
    "duration": 205,
    "start_time": "2021-07-08T09:06:30.263Z"
   },
   {
    "duration": 27,
    "start_time": "2021-07-08T09:06:30.470Z"
   },
   {
    "duration": 11,
    "start_time": "2021-07-08T09:06:30.500Z"
   },
   {
    "duration": 31,
    "start_time": "2021-07-08T09:06:30.513Z"
   },
   {
    "duration": 18,
    "start_time": "2021-07-08T09:06:30.546Z"
   },
   {
    "duration": 11,
    "start_time": "2021-07-08T09:06:30.566Z"
   },
   {
    "duration": 19,
    "start_time": "2021-07-08T09:06:30.579Z"
   },
   {
    "duration": 20,
    "start_time": "2021-07-08T09:06:49.466Z"
   },
   {
    "duration": 9,
    "start_time": "2021-07-08T09:06:51.994Z"
   },
   {
    "duration": 20,
    "start_time": "2021-07-08T09:06:52.273Z"
   },
   {
    "duration": 246,
    "start_time": "2021-07-08T09:10:21.272Z"
   },
   {
    "duration": 84,
    "start_time": "2021-07-08T09:10:21.436Z"
   },
   {
    "duration": 7,
    "start_time": "2021-07-08T09:10:37.608Z"
   },
   {
    "duration": 189,
    "start_time": "2021-07-08T09:10:38.573Z"
   },
   {
    "duration": 185,
    "start_time": "2021-07-08T09:10:53.181Z"
   },
   {
    "duration": 11,
    "start_time": "2021-07-08T09:10:59.549Z"
   },
   {
    "duration": 42,
    "start_time": "2021-07-08T09:10:59.709Z"
   },
   {
    "duration": 12,
    "start_time": "2021-07-08T09:11:02.857Z"
   },
   {
    "duration": 28,
    "start_time": "2021-07-08T09:11:10.062Z"
   },
   {
    "duration": 249,
    "start_time": "2021-07-08T09:11:37.388Z"
   },
   {
    "duration": 232,
    "start_time": "2021-07-08T09:11:49.485Z"
   },
   {
    "duration": 453,
    "start_time": "2021-07-08T09:12:01.546Z"
   },
   {
    "duration": 440,
    "start_time": "2021-07-08T09:12:12.347Z"
   },
   {
    "duration": 213,
    "start_time": "2021-07-08T09:13:32.196Z"
   },
   {
    "duration": 172,
    "start_time": "2021-07-08T09:14:07.400Z"
   },
   {
    "duration": 185,
    "start_time": "2021-07-08T09:14:14.905Z"
   },
   {
    "duration": 209,
    "start_time": "2021-07-08T09:14:40.109Z"
   },
   {
    "duration": 201,
    "start_time": "2021-07-08T09:14:54.506Z"
   },
   {
    "duration": 622,
    "start_time": "2021-07-08T09:18:14.497Z"
   },
   {
    "duration": 220,
    "start_time": "2021-07-08T09:18:15.121Z"
   },
   {
    "duration": 79,
    "start_time": "2021-07-08T09:18:15.343Z"
   },
   {
    "duration": 4,
    "start_time": "2021-07-08T09:18:15.425Z"
   },
   {
    "duration": 24,
    "start_time": "2021-07-08T09:18:15.431Z"
   },
   {
    "duration": 8,
    "start_time": "2021-07-08T09:18:15.457Z"
   },
   {
    "duration": 16,
    "start_time": "2021-07-08T09:18:15.466Z"
   },
   {
    "duration": 5,
    "start_time": "2021-07-08T09:18:15.484Z"
   },
   {
    "duration": 10,
    "start_time": "2021-07-08T09:18:15.493Z"
   },
   {
    "duration": 8,
    "start_time": "2021-07-08T09:18:15.504Z"
   },
   {
    "duration": 7,
    "start_time": "2021-07-08T09:18:15.513Z"
   },
   {
    "duration": 26,
    "start_time": "2021-07-08T09:18:15.522Z"
   },
   {
    "duration": 49,
    "start_time": "2021-07-08T09:18:15.550Z"
   },
   {
    "duration": 21,
    "start_time": "2021-07-08T09:18:15.601Z"
   },
   {
    "duration": 8,
    "start_time": "2021-07-08T09:18:15.624Z"
   },
   {
    "duration": 3,
    "start_time": "2021-07-08T09:18:15.634Z"
   },
   {
    "duration": 8,
    "start_time": "2021-07-08T09:18:15.639Z"
   },
   {
    "duration": 45,
    "start_time": "2021-07-08T09:18:15.649Z"
   },
   {
    "duration": 13,
    "start_time": "2021-07-08T09:18:15.696Z"
   },
   {
    "duration": 10,
    "start_time": "2021-07-08T09:18:15.711Z"
   },
   {
    "duration": 64,
    "start_time": "2021-07-08T09:18:15.722Z"
   },
   {
    "duration": 19,
    "start_time": "2021-07-08T09:18:15.788Z"
   },
   {
    "duration": 9,
    "start_time": "2021-07-08T09:18:15.809Z"
   },
   {
    "duration": 9,
    "start_time": "2021-07-08T09:18:15.820Z"
   },
   {
    "duration": 18,
    "start_time": "2021-07-08T09:18:15.831Z"
   },
   {
    "duration": 43,
    "start_time": "2021-07-08T09:18:15.851Z"
   },
   {
    "duration": 12,
    "start_time": "2021-07-08T09:18:15.897Z"
   },
   {
    "duration": 219,
    "start_time": "2021-07-08T09:18:15.911Z"
   },
   {
    "duration": 8,
    "start_time": "2021-07-08T09:18:16.132Z"
   },
   {
    "duration": 199,
    "start_time": "2021-07-08T09:18:16.141Z"
   },
   {
    "duration": 18,
    "start_time": "2021-07-08T09:18:16.341Z"
   },
   {
    "duration": 24,
    "start_time": "2021-07-08T09:18:16.361Z"
   },
   {
    "duration": 24,
    "start_time": "2021-07-08T09:18:16.387Z"
   },
   {
    "duration": 211,
    "start_time": "2021-07-08T09:18:16.413Z"
   },
   {
    "duration": 18,
    "start_time": "2021-07-08T09:18:16.626Z"
   },
   {
    "duration": 596,
    "start_time": "2021-07-08T10:06:33.623Z"
   },
   {
    "duration": 181,
    "start_time": "2021-07-08T10:06:34.221Z"
   },
   {
    "duration": 176,
    "start_time": "2021-07-08T10:06:34.635Z"
   },
   {
    "duration": 239,
    "start_time": "2021-07-08T10:06:55.572Z"
   },
   {
    "duration": 6,
    "start_time": "2021-07-08T10:06:57.687Z"
   },
   {
    "duration": 4,
    "start_time": "2021-07-08T10:07:03.956Z"
   },
   {
    "duration": 4,
    "start_time": "2021-07-08T10:07:10.376Z"
   },
   {
    "duration": 4,
    "start_time": "2021-07-08T10:17:19.889Z"
   },
   {
    "duration": 3,
    "start_time": "2021-07-08T10:19:19.407Z"
   },
   {
    "duration": 197,
    "start_time": "2021-07-08T10:19:19.412Z"
   },
   {
    "duration": 127,
    "start_time": "2021-07-08T10:19:19.611Z"
   },
   {
    "duration": 4,
    "start_time": "2021-07-08T10:19:19.740Z"
   },
   {
    "duration": 27,
    "start_time": "2021-07-08T10:19:19.746Z"
   },
   {
    "duration": 7,
    "start_time": "2021-07-08T10:19:19.775Z"
   },
   {
    "duration": 30,
    "start_time": "2021-07-08T10:19:19.784Z"
   },
   {
    "duration": 7,
    "start_time": "2021-07-08T10:19:19.817Z"
   },
   {
    "duration": 26,
    "start_time": "2021-07-08T10:19:19.826Z"
   },
   {
    "duration": 18,
    "start_time": "2021-07-08T10:19:19.854Z"
   },
   {
    "duration": 14,
    "start_time": "2021-07-08T10:19:19.874Z"
   },
   {
    "duration": 48,
    "start_time": "2021-07-08T10:19:19.890Z"
   },
   {
    "duration": 17,
    "start_time": "2021-07-08T10:19:19.940Z"
   },
   {
    "duration": 38,
    "start_time": "2021-07-08T10:19:19.959Z"
   },
   {
    "duration": 8,
    "start_time": "2021-07-08T10:19:19.999Z"
   },
   {
    "duration": 15,
    "start_time": "2021-07-08T10:19:20.009Z"
   },
   {
    "duration": 22,
    "start_time": "2021-07-08T10:19:20.026Z"
   },
   {
    "duration": 10,
    "start_time": "2021-07-08T10:19:20.050Z"
   },
   {
    "duration": 10,
    "start_time": "2021-07-08T10:19:20.062Z"
   },
   {
    "duration": 20,
    "start_time": "2021-07-08T10:19:20.073Z"
   },
   {
    "duration": 29,
    "start_time": "2021-07-08T10:19:20.095Z"
   },
   {
    "duration": 17,
    "start_time": "2021-07-08T10:19:20.126Z"
   },
   {
    "duration": 40,
    "start_time": "2021-07-08T10:19:20.146Z"
   },
   {
    "duration": 15,
    "start_time": "2021-07-08T10:19:20.189Z"
   },
   {
    "duration": 19,
    "start_time": "2021-07-08T10:19:20.206Z"
   },
   {
    "duration": 10,
    "start_time": "2021-07-08T10:19:20.226Z"
   },
   {
    "duration": 11,
    "start_time": "2021-07-08T10:19:20.238Z"
   },
   {
    "duration": 297,
    "start_time": "2021-07-08T10:19:20.250Z"
   },
   {
    "duration": 6,
    "start_time": "2021-07-08T10:19:20.549Z"
   },
   {
    "duration": 191,
    "start_time": "2021-07-08T10:19:20.557Z"
   },
   {
    "duration": 19,
    "start_time": "2021-07-08T10:19:20.750Z"
   },
   {
    "duration": 20,
    "start_time": "2021-07-08T10:19:20.771Z"
   },
   {
    "duration": 15,
    "start_time": "2021-07-08T10:19:20.793Z"
   },
   {
    "duration": 222,
    "start_time": "2021-07-08T10:19:20.809Z"
   },
   {
    "duration": 20,
    "start_time": "2021-07-08T10:19:21.033Z"
   },
   {
    "duration": 27,
    "start_time": "2021-07-08T10:45:04.055Z"
   },
   {
    "duration": 8,
    "start_time": "2021-07-08T10:45:08.478Z"
   },
   {
    "duration": 8,
    "start_time": "2021-07-08T10:45:31.982Z"
   },
   {
    "duration": 10,
    "start_time": "2021-07-08T10:46:01.221Z"
   },
   {
    "duration": 17,
    "start_time": "2021-07-08T10:46:40.011Z"
   },
   {
    "duration": 193,
    "start_time": "2021-07-08T10:48:19.471Z"
   },
   {
    "duration": 225,
    "start_time": "2021-07-08T10:49:26.480Z"
   },
   {
    "duration": 204,
    "start_time": "2021-07-08T10:49:59.992Z"
   },
   {
    "duration": 435,
    "start_time": "2021-07-08T10:50:06.779Z"
   },
   {
    "duration": 199,
    "start_time": "2021-07-08T10:50:14.891Z"
   },
   {
    "duration": 204,
    "start_time": "2021-07-08T10:50:18.501Z"
   },
   {
    "duration": 244,
    "start_time": "2021-07-08T10:50:23.359Z"
   },
   {
    "duration": 192,
    "start_time": "2021-07-08T10:50:29.135Z"
   },
   {
    "duration": 218,
    "start_time": "2021-07-08T10:50:33.092Z"
   },
   {
    "duration": 207,
    "start_time": "2021-07-08T10:52:45.381Z"
   },
   {
    "duration": 5,
    "start_time": "2021-07-08T10:53:34.641Z"
   },
   {
    "duration": 196,
    "start_time": "2021-07-08T10:53:41.478Z"
   },
   {
    "duration": 43,
    "start_time": "2021-07-08T10:53:50.335Z"
   },
   {
    "duration": 32,
    "start_time": "2021-07-08T10:53:55.294Z"
   },
   {
    "duration": 55,
    "start_time": "2021-07-08T10:54:09.675Z"
   },
   {
    "duration": 16,
    "start_time": "2021-07-08T10:54:12.260Z"
   },
   {
    "duration": 15,
    "start_time": "2021-07-08T10:54:49.150Z"
   },
   {
    "duration": 20,
    "start_time": "2021-07-08T10:56:07.596Z"
   },
   {
    "duration": 16,
    "start_time": "2021-07-08T10:58:26.276Z"
   },
   {
    "duration": 22,
    "start_time": "2021-07-08T10:59:00.486Z"
   },
   {
    "duration": 18,
    "start_time": "2021-07-08T11:02:09.653Z"
   },
   {
    "duration": 10,
    "start_time": "2021-07-08T11:03:44.331Z"
   },
   {
    "duration": 10,
    "start_time": "2021-07-08T11:03:54.055Z"
   },
   {
    "duration": 12,
    "start_time": "2021-07-08T11:04:41.967Z"
   },
   {
    "duration": 24,
    "start_time": "2021-07-08T11:07:30.732Z"
   },
   {
    "duration": 6,
    "start_time": "2021-07-08T11:07:37.364Z"
   },
   {
    "duration": 16,
    "start_time": "2021-07-08T11:08:01.819Z"
   },
   {
    "duration": 17,
    "start_time": "2021-07-08T11:09:47.488Z"
   },
   {
    "duration": 246,
    "start_time": "2021-07-08T11:10:00.830Z"
   },
   {
    "duration": 18,
    "start_time": "2021-07-08T11:13:55.195Z"
   },
   {
    "duration": 204,
    "start_time": "2021-07-08T11:14:04.951Z"
   },
   {
    "duration": 19,
    "start_time": "2021-07-08T11:15:10.613Z"
   },
   {
    "duration": 680,
    "start_time": "2021-07-08T11:16:25.793Z"
   },
   {
    "duration": 451,
    "start_time": "2021-07-08T11:16:40.313Z"
   },
   {
    "duration": 469,
    "start_time": "2021-07-08T11:17:21.286Z"
   },
   {
    "duration": 20,
    "start_time": "2021-07-08T11:19:12.554Z"
   },
   {
    "duration": 35,
    "start_time": "2021-07-08T11:20:05.484Z"
   },
   {
    "duration": 53,
    "start_time": "2021-07-08T11:21:40.050Z"
   },
   {
    "duration": 13,
    "start_time": "2021-07-08T11:22:26.059Z"
   },
   {
    "duration": 19,
    "start_time": "2021-07-08T11:22:47.419Z"
   },
   {
    "duration": 25,
    "start_time": "2021-07-08T11:23:19.958Z"
   },
   {
    "duration": 29,
    "start_time": "2021-07-08T11:23:25.415Z"
   },
   {
    "duration": 10,
    "start_time": "2021-07-08T11:24:45.138Z"
   },
   {
    "duration": 19,
    "start_time": "2021-07-08T11:24:54.498Z"
   },
   {
    "duration": 12,
    "start_time": "2021-07-08T11:25:32.225Z"
   },
   {
    "duration": 19,
    "start_time": "2021-07-08T11:25:37.092Z"
   },
   {
    "duration": 17,
    "start_time": "2021-07-08T11:25:58.116Z"
   },
   {
    "duration": 15,
    "start_time": "2021-07-08T11:26:02.258Z"
   },
   {
    "duration": 8,
    "start_time": "2021-07-08T11:26:59.682Z"
   },
   {
    "duration": 184,
    "start_time": "2021-07-08T11:27:21.894Z"
   },
   {
    "duration": 8,
    "start_time": "2021-07-08T11:27:23.824Z"
   },
   {
    "duration": 202,
    "start_time": "2021-07-08T11:27:23.962Z"
   },
   {
    "duration": 360,
    "start_time": "2021-07-08T11:28:33.215Z"
   },
   {
    "duration": 231,
    "start_time": "2021-07-08T11:32:05.542Z"
   },
   {
    "duration": 607,
    "start_time": "2021-07-08T11:36:27.854Z"
   },
   {
    "duration": 241,
    "start_time": "2021-07-08T11:36:28.463Z"
   },
   {
    "duration": 67,
    "start_time": "2021-07-08T11:36:28.709Z"
   },
   {
    "duration": 5,
    "start_time": "2021-07-08T11:36:28.778Z"
   },
   {
    "duration": 32,
    "start_time": "2021-07-08T11:36:28.784Z"
   },
   {
    "duration": 11,
    "start_time": "2021-07-08T11:36:28.819Z"
   },
   {
    "duration": 20,
    "start_time": "2021-07-08T11:36:28.834Z"
   },
   {
    "duration": 36,
    "start_time": "2021-07-08T11:36:28.857Z"
   },
   {
    "duration": 16,
    "start_time": "2021-07-08T11:36:28.895Z"
   },
   {
    "duration": 14,
    "start_time": "2021-07-08T11:36:28.913Z"
   },
   {
    "duration": 9,
    "start_time": "2021-07-08T11:36:28.930Z"
   },
   {
    "duration": 55,
    "start_time": "2021-07-08T11:36:28.941Z"
   },
   {
    "duration": 27,
    "start_time": "2021-07-08T11:36:28.999Z"
   },
   {
    "duration": 30,
    "start_time": "2021-07-08T11:36:29.028Z"
   },
   {
    "duration": 31,
    "start_time": "2021-07-08T11:36:29.060Z"
   },
   {
    "duration": 3,
    "start_time": "2021-07-08T11:36:29.093Z"
   },
   {
    "duration": 12,
    "start_time": "2021-07-08T11:36:29.099Z"
   },
   {
    "duration": 11,
    "start_time": "2021-07-08T11:36:29.112Z"
   },
   {
    "duration": 12,
    "start_time": "2021-07-08T11:36:29.125Z"
   },
   {
    "duration": 9,
    "start_time": "2021-07-08T11:36:29.139Z"
   },
   {
    "duration": 31,
    "start_time": "2021-07-08T11:36:29.191Z"
   },
   {
    "duration": 17,
    "start_time": "2021-07-08T11:36:29.226Z"
   },
   {
    "duration": 7,
    "start_time": "2021-07-08T11:36:29.245Z"
   },
   {
    "duration": 10,
    "start_time": "2021-07-08T11:36:29.254Z"
   },
   {
    "duration": 30,
    "start_time": "2021-07-08T11:36:29.292Z"
   },
   {
    "duration": 11,
    "start_time": "2021-07-08T11:36:29.324Z"
   },
   {
    "duration": 11,
    "start_time": "2021-07-08T11:36:29.337Z"
   },
   {
    "duration": 230,
    "start_time": "2021-07-08T11:36:29.349Z"
   },
   {
    "duration": 13,
    "start_time": "2021-07-08T11:36:29.588Z"
   },
   {
    "duration": 205,
    "start_time": "2021-07-08T11:36:29.603Z"
   },
   {
    "duration": 20,
    "start_time": "2021-07-08T11:36:29.810Z"
   },
   {
    "duration": 9,
    "start_time": "2021-07-08T11:36:29.832Z"
   },
   {
    "duration": 16,
    "start_time": "2021-07-08T11:36:29.843Z"
   },
   {
    "duration": 283,
    "start_time": "2021-07-08T11:36:29.861Z"
   },
   {
    "duration": 50,
    "start_time": "2021-07-08T11:36:30.146Z"
   },
   {
    "duration": 14,
    "start_time": "2021-07-08T11:36:30.198Z"
   },
   {
    "duration": 11,
    "start_time": "2021-07-08T11:36:30.214Z"
   },
   {
    "duration": 245,
    "start_time": "2021-07-08T11:36:30.227Z"
   },
   {
    "duration": 439,
    "start_time": "2021-07-08T11:36:30.474Z"
   },
   {
    "duration": 210,
    "start_time": "2021-07-08T11:36:30.915Z"
   },
   {
    "duration": 15,
    "start_time": "2021-07-08T11:36:31.127Z"
   },
   {
    "duration": 17,
    "start_time": "2021-07-08T11:38:20.451Z"
   },
   {
    "duration": 642,
    "start_time": "2021-07-08T11:46:17.881Z"
   },
   {
    "duration": 210,
    "start_time": "2021-07-08T11:46:18.525Z"
   },
   {
    "duration": 104,
    "start_time": "2021-07-08T11:46:18.741Z"
   },
   {
    "duration": 8,
    "start_time": "2021-07-08T11:46:18.847Z"
   },
   {
    "duration": 25,
    "start_time": "2021-07-08T11:46:18.857Z"
   },
   {
    "duration": 14,
    "start_time": "2021-07-08T11:46:18.884Z"
   },
   {
    "duration": 22,
    "start_time": "2021-07-08T11:46:18.900Z"
   },
   {
    "duration": 5,
    "start_time": "2021-07-08T11:46:18.924Z"
   },
   {
    "duration": 13,
    "start_time": "2021-07-08T11:46:18.931Z"
   },
   {
    "duration": 45,
    "start_time": "2021-07-08T11:46:18.946Z"
   },
   {
    "duration": 12,
    "start_time": "2021-07-08T11:46:18.993Z"
   },
   {
    "duration": 38,
    "start_time": "2021-07-08T11:46:19.006Z"
   },
   {
    "duration": 50,
    "start_time": "2021-07-08T11:46:19.046Z"
   },
   {
    "duration": 29,
    "start_time": "2021-07-08T11:46:19.099Z"
   },
   {
    "duration": 7,
    "start_time": "2021-07-08T11:46:19.130Z"
   },
   {
    "duration": 3,
    "start_time": "2021-07-08T11:46:19.139Z"
   },
   {
    "duration": 11,
    "start_time": "2021-07-08T11:46:19.144Z"
   },
   {
    "duration": 40,
    "start_time": "2021-07-08T11:46:19.157Z"
   },
   {
    "duration": 15,
    "start_time": "2021-07-08T11:46:19.199Z"
   },
   {
    "duration": 10,
    "start_time": "2021-07-08T11:46:19.217Z"
   },
   {
    "duration": 68,
    "start_time": "2021-07-08T11:46:19.230Z"
   },
   {
    "duration": 17,
    "start_time": "2021-07-08T11:46:19.301Z"
   },
   {
    "duration": 7,
    "start_time": "2021-07-08T11:46:19.321Z"
   },
   {
    "duration": 11,
    "start_time": "2021-07-08T11:46:19.330Z"
   },
   {
    "duration": 59,
    "start_time": "2021-07-08T11:46:19.343Z"
   },
   {
    "duration": 17,
    "start_time": "2021-07-08T11:46:19.405Z"
   },
   {
    "duration": 16,
    "start_time": "2021-07-08T11:46:19.424Z"
   },
   {
    "duration": 252,
    "start_time": "2021-07-08T11:46:19.443Z"
   },
   {
    "duration": 9,
    "start_time": "2021-07-08T11:46:19.697Z"
   },
   {
    "duration": 224,
    "start_time": "2021-07-08T11:46:19.708Z"
   },
   {
    "duration": 21,
    "start_time": "2021-07-08T11:46:19.934Z"
   },
   {
    "duration": 9,
    "start_time": "2021-07-08T11:46:19.956Z"
   },
   {
    "duration": 32,
    "start_time": "2021-07-08T11:46:19.967Z"
   },
   {
    "duration": 288,
    "start_time": "2021-07-08T11:46:20.004Z"
   },
   {
    "duration": 23,
    "start_time": "2021-07-08T11:46:20.300Z"
   },
   {
    "duration": 11,
    "start_time": "2021-07-08T11:46:20.325Z"
   },
   {
    "duration": 11,
    "start_time": "2021-07-08T11:46:20.339Z"
   },
   {
    "duration": 259,
    "start_time": "2021-07-08T11:46:20.352Z"
   },
   {
    "duration": 438,
    "start_time": "2021-07-08T11:46:20.613Z"
   },
   {
    "duration": 207,
    "start_time": "2021-07-08T11:46:21.054Z"
   },
   {
    "duration": 27,
    "start_time": "2021-07-08T11:46:21.262Z"
   },
   {
    "duration": 19,
    "start_time": "2021-07-08T11:46:21.291Z"
   },
   {
    "duration": 820,
    "start_time": "2021-07-08T11:49:01.655Z"
   },
   {
    "duration": 372,
    "start_time": "2021-07-08T11:49:02.478Z"
   },
   {
    "duration": 98,
    "start_time": "2021-07-08T11:49:02.853Z"
   },
   {
    "duration": 6,
    "start_time": "2021-07-08T11:49:02.953Z"
   },
   {
    "duration": 39,
    "start_time": "2021-07-08T11:49:02.960Z"
   },
   {
    "duration": 9,
    "start_time": "2021-07-08T11:49:03.003Z"
   },
   {
    "duration": 23,
    "start_time": "2021-07-08T11:49:03.014Z"
   },
   {
    "duration": 6,
    "start_time": "2021-07-08T11:49:03.041Z"
   },
   {
    "duration": 20,
    "start_time": "2021-07-08T11:49:03.049Z"
   },
   {
    "duration": 18,
    "start_time": "2021-07-08T11:49:03.084Z"
   },
   {
    "duration": 14,
    "start_time": "2021-07-08T11:49:03.104Z"
   },
   {
    "duration": 39,
    "start_time": "2021-07-08T11:49:03.119Z"
   },
   {
    "duration": 38,
    "start_time": "2021-07-08T11:49:03.160Z"
   },
   {
    "duration": 26,
    "start_time": "2021-07-08T11:49:03.200Z"
   },
   {
    "duration": 7,
    "start_time": "2021-07-08T11:49:03.227Z"
   },
   {
    "duration": 4,
    "start_time": "2021-07-08T11:49:03.236Z"
   },
   {
    "duration": 15,
    "start_time": "2021-07-08T11:49:03.243Z"
   },
   {
    "duration": 21,
    "start_time": "2021-07-08T11:49:03.285Z"
   },
   {
    "duration": 17,
    "start_time": "2021-07-08T11:49:03.309Z"
   },
   {
    "duration": 10,
    "start_time": "2021-07-08T11:49:03.328Z"
   },
   {
    "duration": 65,
    "start_time": "2021-07-08T11:49:03.340Z"
   },
   {
    "duration": 18,
    "start_time": "2021-07-08T11:49:03.407Z"
   },
   {
    "duration": 8,
    "start_time": "2021-07-08T11:49:03.428Z"
   },
   {
    "duration": 15,
    "start_time": "2021-07-08T11:49:03.438Z"
   },
   {
    "duration": 40,
    "start_time": "2021-07-08T11:49:03.455Z"
   },
   {
    "duration": 12,
    "start_time": "2021-07-08T11:49:03.497Z"
   },
   {
    "duration": 29,
    "start_time": "2021-07-08T11:49:03.511Z"
   },
   {
    "duration": 285,
    "start_time": "2021-07-08T11:49:03.542Z"
   },
   {
    "duration": 8,
    "start_time": "2021-07-08T11:49:03.829Z"
   },
   {
    "duration": 227,
    "start_time": "2021-07-08T11:49:03.838Z"
   },
   {
    "duration": 40,
    "start_time": "2021-07-08T11:49:04.066Z"
   },
   {
    "duration": 10,
    "start_time": "2021-07-08T11:49:04.108Z"
   },
   {
    "duration": 26,
    "start_time": "2021-07-08T11:49:04.121Z"
   },
   {
    "duration": 290,
    "start_time": "2021-07-08T11:49:04.149Z"
   },
   {
    "duration": 26,
    "start_time": "2021-07-08T11:49:04.441Z"
   },
   {
    "duration": 31,
    "start_time": "2021-07-08T11:49:04.470Z"
   },
   {
    "duration": 14,
    "start_time": "2021-07-08T11:49:04.503Z"
   },
   {
    "duration": 259,
    "start_time": "2021-07-08T11:49:04.521Z"
   },
   {
    "duration": 480,
    "start_time": "2021-07-08T11:49:04.782Z"
   },
   {
    "duration": 225,
    "start_time": "2021-07-08T11:49:05.264Z"
   },
   {
    "duration": 22,
    "start_time": "2021-07-08T11:49:05.491Z"
   },
   {
    "duration": 24,
    "start_time": "2021-07-08T11:49:05.515Z"
   },
   {
    "duration": 634,
    "start_time": "2021-07-08T11:52:24.960Z"
   },
   {
    "duration": 199,
    "start_time": "2021-07-08T11:52:25.599Z"
   },
   {
    "duration": 106,
    "start_time": "2021-07-08T11:52:25.803Z"
   },
   {
    "duration": 7,
    "start_time": "2021-07-08T11:52:25.911Z"
   },
   {
    "duration": 29,
    "start_time": "2021-07-08T11:52:25.920Z"
   },
   {
    "duration": 7,
    "start_time": "2021-07-08T11:52:25.951Z"
   },
   {
    "duration": 26,
    "start_time": "2021-07-08T11:52:25.961Z"
   },
   {
    "duration": 11,
    "start_time": "2021-07-08T11:52:25.990Z"
   },
   {
    "duration": 29,
    "start_time": "2021-07-08T11:52:26.005Z"
   },
   {
    "duration": 9,
    "start_time": "2021-07-08T11:52:26.036Z"
   },
   {
    "duration": 8,
    "start_time": "2021-07-08T11:52:26.047Z"
   },
   {
    "duration": 63,
    "start_time": "2021-07-08T11:52:26.057Z"
   },
   {
    "duration": 17,
    "start_time": "2021-07-08T11:52:26.122Z"
   },
   {
    "duration": 43,
    "start_time": "2021-07-08T11:52:26.142Z"
   },
   {
    "duration": 17,
    "start_time": "2021-07-08T11:52:26.187Z"
   },
   {
    "duration": 5,
    "start_time": "2021-07-08T11:52:26.206Z"
   },
   {
    "duration": 12,
    "start_time": "2021-07-08T11:52:26.212Z"
   },
   {
    "duration": 11,
    "start_time": "2021-07-08T11:52:26.226Z"
   },
   {
    "duration": 12,
    "start_time": "2021-07-08T11:52:26.238Z"
   },
   {
    "duration": 38,
    "start_time": "2021-07-08T11:52:26.252Z"
   },
   {
    "duration": 40,
    "start_time": "2021-07-08T11:52:26.292Z"
   },
   {
    "duration": 17,
    "start_time": "2021-07-08T11:52:26.336Z"
   },
   {
    "duration": 39,
    "start_time": "2021-07-08T11:52:26.355Z"
   },
   {
    "duration": 11,
    "start_time": "2021-07-08T11:52:26.395Z"
   },
   {
    "duration": 23,
    "start_time": "2021-07-08T11:52:26.408Z"
   },
   {
    "duration": 12,
    "start_time": "2021-07-08T11:52:26.432Z"
   },
   {
    "duration": 41,
    "start_time": "2021-07-08T11:52:26.446Z"
   },
   {
    "duration": 215,
    "start_time": "2021-07-08T11:52:26.493Z"
   },
   {
    "duration": 8,
    "start_time": "2021-07-08T11:52:26.710Z"
   },
   {
    "duration": 228,
    "start_time": "2021-07-08T11:52:26.720Z"
   },
   {
    "duration": 18,
    "start_time": "2021-07-08T11:52:26.950Z"
   },
   {
    "duration": 35,
    "start_time": "2021-07-08T11:52:26.969Z"
   },
   {
    "duration": 23,
    "start_time": "2021-07-08T11:52:27.006Z"
   },
   {
    "duration": 258,
    "start_time": "2021-07-08T11:52:27.030Z"
   },
   {
    "duration": 24,
    "start_time": "2021-07-08T11:52:27.290Z"
   },
   {
    "duration": 12,
    "start_time": "2021-07-08T11:52:27.316Z"
   },
   {
    "duration": 10,
    "start_time": "2021-07-08T11:52:27.329Z"
   },
   {
    "duration": 298,
    "start_time": "2021-07-08T11:52:27.341Z"
   },
   {
    "duration": 436,
    "start_time": "2021-07-08T11:52:27.641Z"
   },
   {
    "duration": 216,
    "start_time": "2021-07-08T11:52:28.079Z"
   },
   {
    "duration": 20,
    "start_time": "2021-07-08T11:52:28.297Z"
   },
   {
    "duration": 17,
    "start_time": "2021-07-08T11:52:28.319Z"
   },
   {
    "duration": 581,
    "start_time": "2024-04-23T05:01:16.295Z"
   },
   {
    "duration": 145,
    "start_time": "2024-04-23T05:01:38.575Z"
   },
   {
    "duration": 127,
    "start_time": "2024-04-23T05:02:29.452Z"
   },
   {
    "duration": 108,
    "start_time": "2024-04-23T05:03:10.345Z"
   },
   {
    "duration": 114,
    "start_time": "2024-04-23T05:03:40.579Z"
   },
   {
    "duration": 108,
    "start_time": "2024-04-23T05:04:04.127Z"
   },
   {
    "duration": 58,
    "start_time": "2024-04-23T05:04:06.719Z"
   },
   {
    "duration": 21,
    "start_time": "2024-04-23T05:12:46.012Z"
   },
   {
    "duration": 14,
    "start_time": "2024-04-23T05:14:54.329Z"
   },
   {
    "duration": 18,
    "start_time": "2024-04-23T05:18:35.687Z"
   },
   {
    "duration": 16,
    "start_time": "2024-04-23T05:21:31.329Z"
   },
   {
    "duration": 14,
    "start_time": "2024-04-23T05:22:54.006Z"
   },
   {
    "duration": 20,
    "start_time": "2024-04-23T05:24:51.782Z"
   },
   {
    "duration": 21,
    "start_time": "2024-04-23T05:26:49.218Z"
   },
   {
    "duration": 19,
    "start_time": "2024-04-23T05:28:52.559Z"
   },
   {
    "duration": 109,
    "start_time": "2024-04-23T05:28:57.959Z"
   },
   {
    "duration": 58,
    "start_time": "2024-04-23T05:29:00.606Z"
   },
   {
    "duration": 16,
    "start_time": "2024-04-23T05:29:03.550Z"
   },
   {
    "duration": 13,
    "start_time": "2024-04-23T05:29:06.214Z"
   },
   {
    "duration": 18,
    "start_time": "2024-04-23T05:29:08.471Z"
   },
   {
    "duration": 16,
    "start_time": "2024-04-23T05:29:11.056Z"
   },
   {
    "duration": 14,
    "start_time": "2024-04-23T05:29:13.642Z"
   },
   {
    "duration": 21,
    "start_time": "2024-04-23T05:29:16.840Z"
   },
   {
    "duration": 62,
    "start_time": "2024-04-23T05:31:23.409Z"
   },
   {
    "duration": 21,
    "start_time": "2024-04-23T05:32:04.497Z"
   },
   {
    "duration": 21,
    "start_time": "2024-04-23T05:32:39.637Z"
   },
   {
    "duration": 22,
    "start_time": "2024-04-23T05:32:57.332Z"
   },
   {
    "duration": 21,
    "start_time": "2024-04-23T05:33:09.961Z"
   },
   {
    "duration": 17,
    "start_time": "2024-04-23T05:34:05.292Z"
   },
   {
    "duration": 7,
    "start_time": "2024-04-23T05:38:14.728Z"
   },
   {
    "duration": 73,
    "start_time": "2024-04-23T05:38:33.272Z"
   },
   {
    "duration": 3371,
    "start_time": "2024-04-23T05:39:16.657Z"
   },
   {
    "duration": 5,
    "start_time": "2024-04-23T05:39:26.128Z"
   },
   {
    "duration": 4,
    "start_time": "2024-04-23T05:41:46.567Z"
   },
   {
    "duration": 2484,
    "start_time": "2024-04-23T05:48:01.261Z"
   },
   {
    "duration": 12,
    "start_time": "2024-04-23T05:48:22.667Z"
   },
   {
    "duration": 1855,
    "start_time": "2024-04-23T05:48:37.601Z"
   },
   {
    "duration": 5,
    "start_time": "2024-04-23T05:54:00.203Z"
   },
   {
    "duration": 4,
    "start_time": "2024-04-23T05:54:31.167Z"
   },
   {
    "duration": 26,
    "start_time": "2024-04-23T05:55:03.876Z"
   },
   {
    "duration": 5,
    "start_time": "2024-04-23T05:55:07.306Z"
   },
   {
    "duration": 16,
    "start_time": "2024-04-23T05:56:17.720Z"
   },
   {
    "duration": 3,
    "start_time": "2024-04-23T05:56:21.194Z"
   },
   {
    "duration": 18,
    "start_time": "2024-04-23T05:56:29.505Z"
   },
   {
    "duration": 5,
    "start_time": "2024-04-23T05:56:31.842Z"
   },
   {
    "duration": 18,
    "start_time": "2024-04-23T05:57:35.634Z"
   },
   {
    "duration": 4,
    "start_time": "2024-04-23T05:57:37.943Z"
   },
   {
    "duration": 10,
    "start_time": "2024-04-23T06:00:50.734Z"
   },
   {
    "duration": 26,
    "start_time": "2024-04-23T06:03:20.670Z"
   },
   {
    "duration": 22,
    "start_time": "2024-04-23T06:04:37.363Z"
   },
   {
    "duration": 35,
    "start_time": "2024-04-23T06:08:43.465Z"
   },
   {
    "duration": 595,
    "start_time": "2024-04-23T06:09:26.831Z"
   },
   {
    "duration": 23,
    "start_time": "2024-04-23T06:09:52.268Z"
   },
   {
    "duration": 7,
    "start_time": "2024-04-23T06:10:17.183Z"
   },
   {
    "duration": 6,
    "start_time": "2024-04-23T06:10:18.230Z"
   },
   {
    "duration": 12,
    "start_time": "2024-04-23T06:10:20.465Z"
   },
   {
    "duration": 503,
    "start_time": "2024-04-23T06:10:33.780Z"
   },
   {
    "duration": 60,
    "start_time": "2024-04-23T06:10:36.996Z"
   },
   {
    "duration": 24,
    "start_time": "2024-04-23T06:10:41.066Z"
   },
   {
    "duration": 14,
    "start_time": "2024-04-23T06:10:43.099Z"
   },
   {
    "duration": 26,
    "start_time": "2024-04-23T06:10:46.123Z"
   },
   {
    "duration": 18,
    "start_time": "2024-04-23T06:10:48.882Z"
   },
   {
    "duration": 4,
    "start_time": "2024-04-23T06:10:51.980Z"
   },
   {
    "duration": 15,
    "start_time": "2024-04-23T06:10:57.535Z"
   },
   {
    "duration": 20,
    "start_time": "2024-04-23T06:11:08.824Z"
   },
   {
    "duration": 5,
    "start_time": "2024-04-23T06:11:13.480Z"
   },
   {
    "duration": 26,
    "start_time": "2024-04-23T06:11:17.466Z"
   },
   {
    "duration": 11,
    "start_time": "2024-04-23T06:25:30.651Z"
   },
   {
    "duration": 13,
    "start_time": "2024-04-23T06:30:25.267Z"
   },
   {
    "duration": 11,
    "start_time": "2024-04-23T06:30:52.503Z"
   },
   {
    "duration": 13,
    "start_time": "2024-04-23T06:31:35.898Z"
   },
   {
    "duration": 15,
    "start_time": "2024-04-23T06:32:00.265Z"
   },
   {
    "duration": 17,
    "start_time": "2024-04-23T06:33:29.437Z"
   },
   {
    "duration": 55,
    "start_time": "2024-04-23T06:33:53.933Z"
   },
   {
    "duration": 66,
    "start_time": "2024-04-23T06:34:49.103Z"
   },
   {
    "duration": 27,
    "start_time": "2024-04-23T06:34:53.216Z"
   },
   {
    "duration": 12,
    "start_time": "2024-04-23T06:35:36.529Z"
   },
   {
    "duration": 8,
    "start_time": "2024-04-23T06:35:53.521Z"
   },
   {
    "duration": 8,
    "start_time": "2024-04-23T06:36:18.086Z"
   },
   {
    "duration": 8,
    "start_time": "2024-04-23T06:37:24.322Z"
   },
   {
    "duration": 10,
    "start_time": "2024-04-23T06:37:31.950Z"
   },
   {
    "duration": 8,
    "start_time": "2024-04-23T06:37:34.136Z"
   },
   {
    "duration": 539,
    "start_time": "2024-04-23T06:37:41.334Z"
   },
   {
    "duration": 58,
    "start_time": "2024-04-23T06:37:43.560Z"
   },
   {
    "duration": 32,
    "start_time": "2024-04-23T06:37:45.785Z"
   },
   {
    "duration": 13,
    "start_time": "2024-04-23T06:37:47.476Z"
   },
   {
    "duration": 17,
    "start_time": "2024-04-23T06:37:49.070Z"
   },
   {
    "duration": 23,
    "start_time": "2024-04-23T06:37:51.718Z"
   },
   {
    "duration": 5,
    "start_time": "2024-04-23T06:37:54.645Z"
   },
   {
    "duration": 16,
    "start_time": "2024-04-23T06:37:57.434Z"
   },
   {
    "duration": 20,
    "start_time": "2024-04-23T06:38:00.145Z"
   },
   {
    "duration": 6,
    "start_time": "2024-04-23T06:38:02.767Z"
   },
   {
    "duration": 27,
    "start_time": "2024-04-23T06:38:05.168Z"
   },
   {
    "duration": 10,
    "start_time": "2024-04-23T06:38:08.177Z"
   },
   {
    "duration": 15,
    "start_time": "2024-04-23T06:38:14.723Z"
   },
   {
    "duration": 12,
    "start_time": "2024-04-23T06:38:48.790Z"
   },
   {
    "duration": 22,
    "start_time": "2024-04-23T06:41:42.929Z"
   },
   {
    "duration": 67,
    "start_time": "2024-04-23T06:42:22.439Z"
   },
   {
    "duration": 17,
    "start_time": "2024-04-23T06:42:30.889Z"
   },
   {
    "duration": 2197,
    "start_time": "2024-04-23T06:43:38.403Z"
   },
   {
    "duration": 21,
    "start_time": "2024-04-23T06:43:49.474Z"
   },
   {
    "duration": 21,
    "start_time": "2024-04-23T06:44:34.107Z"
   },
   {
    "duration": 24,
    "start_time": "2024-04-23T06:46:17.934Z"
   },
   {
    "duration": 7,
    "start_time": "2024-04-23T06:49:45.992Z"
   },
   {
    "duration": 8,
    "start_time": "2024-04-23T06:52:22.479Z"
   },
   {
    "duration": 8,
    "start_time": "2024-04-23T06:56:37.122Z"
   },
   {
    "duration": 10,
    "start_time": "2024-04-23T06:57:29.171Z"
   },
   {
    "duration": 20,
    "start_time": "2024-04-23T06:57:42.048Z"
   },
   {
    "duration": 9,
    "start_time": "2024-04-23T06:57:58.154Z"
   },
   {
    "duration": 24,
    "start_time": "2024-04-23T06:58:15.300Z"
   },
   {
    "duration": 8,
    "start_time": "2024-04-23T07:03:59.922Z"
   },
   {
    "duration": 9,
    "start_time": "2024-04-23T07:06:41.264Z"
   },
   {
    "duration": 1100,
    "start_time": "2024-04-23T07:06:47.826Z"
   },
   {
    "duration": 1177,
    "start_time": "2024-04-23T07:07:24.433Z"
   },
   {
    "duration": 548,
    "start_time": "2024-04-23T07:08:17.754Z"
   },
   {
    "duration": 56,
    "start_time": "2024-04-23T07:08:19.429Z"
   },
   {
    "duration": 32,
    "start_time": "2024-04-23T07:08:21.950Z"
   },
   {
    "duration": 14,
    "start_time": "2024-04-23T07:08:24.126Z"
   },
   {
    "duration": 18,
    "start_time": "2024-04-23T07:08:25.791Z"
   },
   {
    "duration": 17,
    "start_time": "2024-04-23T07:08:28.114Z"
   },
   {
    "duration": 5,
    "start_time": "2024-04-23T07:08:30.650Z"
   },
   {
    "duration": 16,
    "start_time": "2024-04-23T07:08:33.387Z"
   },
   {
    "duration": 21,
    "start_time": "2024-04-23T07:08:35.851Z"
   },
   {
    "duration": 6,
    "start_time": "2024-04-23T07:08:38.475Z"
   },
   {
    "duration": 29,
    "start_time": "2024-04-23T07:08:41.116Z"
   },
   {
    "duration": 10,
    "start_time": "2024-04-23T07:08:44.463Z"
   },
   {
    "duration": 13,
    "start_time": "2024-04-23T07:08:47.605Z"
   },
   {
    "duration": 23,
    "start_time": "2024-04-23T07:08:54.755Z"
   },
   {
    "duration": 8,
    "start_time": "2024-04-23T07:08:57.280Z"
   },
   {
    "duration": 17,
    "start_time": "2024-04-23T07:09:00.290Z"
   },
   {
    "duration": 7,
    "start_time": "2024-04-23T07:09:05.055Z"
   },
   {
    "duration": 8,
    "start_time": "2024-04-23T07:09:07.614Z"
   },
   {
    "duration": 8,
    "start_time": "2024-04-23T07:09:50.873Z"
   },
   {
    "duration": 16,
    "start_time": "2024-04-23T07:12:59.256Z"
   },
   {
    "duration": 9,
    "start_time": "2024-04-23T07:13:13.627Z"
   },
   {
    "duration": 111,
    "start_time": "2024-04-23T07:14:03.855Z"
   },
   {
    "duration": 70,
    "start_time": "2024-04-23T07:14:15.056Z"
   },
   {
    "duration": 70,
    "start_time": "2024-04-23T07:14:25.056Z"
   },
   {
    "duration": 84,
    "start_time": "2024-04-23T07:14:36.456Z"
   },
   {
    "duration": 8,
    "start_time": "2024-04-23T07:15:22.530Z"
   },
   {
    "duration": 13,
    "start_time": "2024-04-23T07:15:30.157Z"
   },
   {
    "duration": 11,
    "start_time": "2024-04-23T07:15:37.988Z"
   },
   {
    "duration": 15,
    "start_time": "2024-04-23T07:15:45.362Z"
   },
   {
    "duration": 16,
    "start_time": "2024-04-23T07:18:47.523Z"
   },
   {
    "duration": 14,
    "start_time": "2024-04-23T07:19:11.056Z"
   },
   {
    "duration": 13,
    "start_time": "2024-04-23T07:19:19.057Z"
   },
   {
    "duration": 15,
    "start_time": "2024-04-23T07:19:20.848Z"
   },
   {
    "duration": 495,
    "start_time": "2024-04-23T07:22:09.881Z"
   },
   {
    "duration": 57,
    "start_time": "2024-04-23T07:22:20.208Z"
   },
   {
    "duration": 23,
    "start_time": "2024-04-23T07:22:23.590Z"
   },
   {
    "duration": 17,
    "start_time": "2024-04-23T07:22:25.824Z"
   },
   {
    "duration": 17,
    "start_time": "2024-04-23T07:22:27.764Z"
   },
   {
    "duration": 19,
    "start_time": "2024-04-23T07:22:30.647Z"
   },
   {
    "duration": 5,
    "start_time": "2024-04-23T07:22:33.319Z"
   },
   {
    "duration": 15,
    "start_time": "2024-04-23T07:22:37.336Z"
   },
   {
    "duration": 21,
    "start_time": "2024-04-23T07:22:39.723Z"
   },
   {
    "duration": 4,
    "start_time": "2024-04-23T07:22:42.106Z"
   },
   {
    "duration": 59,
    "start_time": "2024-04-23T07:22:44.004Z"
   },
   {
    "duration": 11,
    "start_time": "2024-04-23T07:22:47.708Z"
   },
   {
    "duration": 15,
    "start_time": "2024-04-23T07:22:51.614Z"
   },
   {
    "duration": 23,
    "start_time": "2024-04-23T07:22:54.727Z"
   },
   {
    "duration": 8,
    "start_time": "2024-04-23T07:22:57.402Z"
   },
   {
    "duration": 28,
    "start_time": "2024-04-23T07:23:01.539Z"
   },
   {
    "duration": 6,
    "start_time": "2024-04-23T07:23:08.721Z"
   },
   {
    "duration": 8,
    "start_time": "2024-04-23T07:23:13.622Z"
   },
   {
    "duration": 71,
    "start_time": "2024-04-23T07:23:20.993Z"
   },
   {
    "duration": 10,
    "start_time": "2024-04-23T07:23:27.585Z"
   },
   {
    "duration": 52,
    "start_time": "2024-04-23T11:29:16.424Z"
   },
   {
    "duration": 745,
    "start_time": "2024-04-23T11:29:20.643Z"
   },
   {
    "duration": 118,
    "start_time": "2024-04-23T11:29:25.284Z"
   },
   {
    "duration": 23,
    "start_time": "2024-04-23T11:29:27.748Z"
   },
   {
    "duration": 13,
    "start_time": "2024-04-23T11:29:29.222Z"
   },
   {
    "duration": 18,
    "start_time": "2024-04-23T11:29:31.521Z"
   },
   {
    "duration": 19,
    "start_time": "2024-04-23T11:29:33.900Z"
   },
   {
    "duration": 6,
    "start_time": "2024-04-23T11:29:37.062Z"
   },
   {
    "duration": 19,
    "start_time": "2024-04-23T11:29:39.883Z"
   },
   {
    "duration": 20,
    "start_time": "2024-04-23T11:29:42.525Z"
   },
   {
    "duration": 5,
    "start_time": "2024-04-23T11:29:44.733Z"
   },
   {
    "duration": 29,
    "start_time": "2024-04-23T11:29:46.300Z"
   },
   {
    "duration": 11,
    "start_time": "2024-04-23T11:29:49.744Z"
   },
   {
    "duration": 14,
    "start_time": "2024-04-23T11:29:52.422Z"
   },
   {
    "duration": 24,
    "start_time": "2024-04-23T11:30:00.318Z"
   },
   {
    "duration": 8,
    "start_time": "2024-04-23T11:30:02.797Z"
   },
   {
    "duration": 19,
    "start_time": "2024-04-23T11:30:05.844Z"
   },
   {
    "duration": 7,
    "start_time": "2024-04-23T11:30:17.016Z"
   },
   {
    "duration": 8,
    "start_time": "2024-04-23T11:30:20.527Z"
   },
   {
    "duration": 11,
    "start_time": "2024-04-23T11:30:24.005Z"
   },
   {
    "duration": 6,
    "start_time": "2024-04-23T11:30:26.500Z"
   },
   {
    "duration": 5,
    "start_time": "2024-04-23T11:30:39.801Z"
   },
   {
    "duration": 7,
    "start_time": "2024-04-23T11:31:33.167Z"
   },
   {
    "duration": 9,
    "start_time": "2024-04-23T11:33:45.052Z"
   },
   {
    "duration": 9,
    "start_time": "2024-04-23T12:07:10.448Z"
   },
   {
    "duration": 13,
    "start_time": "2024-04-23T12:07:22.962Z"
   },
   {
    "duration": 47,
    "start_time": "2024-04-23T12:09:25.400Z"
   },
   {
    "duration": 18,
    "start_time": "2024-04-23T12:10:37.038Z"
   },
   {
    "duration": 113,
    "start_time": "2024-04-23T12:10:59.312Z"
   },
   {
    "duration": 21,
    "start_time": "2024-04-23T12:11:15.370Z"
   },
   {
    "duration": 68,
    "start_time": "2024-04-23T12:11:32.750Z"
   },
   {
    "duration": 583,
    "start_time": "2024-04-23T12:11:48.347Z"
   },
   {
    "duration": 55,
    "start_time": "2024-04-23T12:11:51.717Z"
   },
   {
    "duration": 23,
    "start_time": "2024-04-23T12:11:54.724Z"
   },
   {
    "duration": 15,
    "start_time": "2024-04-23T12:11:56.130Z"
   },
   {
    "duration": 28,
    "start_time": "2024-04-23T12:11:58.165Z"
   },
   {
    "duration": 19,
    "start_time": "2024-04-23T12:12:00.810Z"
   },
   {
    "duration": 5,
    "start_time": "2024-04-23T12:12:02.897Z"
   },
   {
    "duration": 39,
    "start_time": "2024-04-23T12:12:05.261Z"
   },
   {
    "duration": 37,
    "start_time": "2024-04-23T12:12:07.566Z"
   },
   {
    "duration": 4,
    "start_time": "2024-04-23T12:12:09.748Z"
   },
   {
    "duration": 63,
    "start_time": "2024-04-23T12:12:11.876Z"
   },
   {
    "duration": 11,
    "start_time": "2024-04-23T12:12:14.445Z"
   },
   {
    "duration": 14,
    "start_time": "2024-04-23T12:12:17.016Z"
   },
   {
    "duration": 23,
    "start_time": "2024-04-23T12:12:19.631Z"
   },
   {
    "duration": 10,
    "start_time": "2024-04-23T12:12:22.047Z"
   },
   {
    "duration": 27,
    "start_time": "2024-04-23T12:12:24.260Z"
   },
   {
    "duration": 7,
    "start_time": "2024-04-23T12:12:27.746Z"
   },
   {
    "duration": 12,
    "start_time": "2024-04-23T12:12:30.143Z"
   },
   {
    "duration": 18,
    "start_time": "2024-04-23T12:12:32.497Z"
   },
   {
    "duration": 71,
    "start_time": "2024-04-23T12:12:35.131Z"
   },
   {
    "duration": 5,
    "start_time": "2024-04-23T12:12:38.313Z"
   },
   {
    "duration": 7,
    "start_time": "2024-04-23T12:12:46.935Z"
   },
   {
    "duration": 4,
    "start_time": "2024-04-23T12:28:02.226Z"
   },
   {
    "duration": 19,
    "start_time": "2024-04-23T12:28:18.692Z"
   },
   {
    "duration": 21,
    "start_time": "2024-04-23T12:28:36.758Z"
   },
   {
    "duration": 21,
    "start_time": "2024-04-23T12:28:46.597Z"
   },
   {
    "duration": 7,
    "start_time": "2024-04-23T12:35:53.928Z"
   },
   {
    "duration": 6,
    "start_time": "2024-04-23T12:36:08.633Z"
   },
   {
    "duration": 5,
    "start_time": "2024-04-23T12:36:39.715Z"
   },
   {
    "duration": 6,
    "start_time": "2024-04-23T12:36:44.925Z"
   },
   {
    "duration": 6,
    "start_time": "2024-04-23T12:36:55.715Z"
   },
   {
    "duration": 5,
    "start_time": "2024-04-23T12:37:13.276Z"
   },
   {
    "duration": 6,
    "start_time": "2024-04-23T12:38:05.056Z"
   },
   {
    "duration": 4,
    "start_time": "2024-04-23T12:38:14.056Z"
   },
   {
    "duration": 5,
    "start_time": "2024-04-23T12:38:42.559Z"
   },
   {
    "duration": 27,
    "start_time": "2024-04-23T12:38:50.410Z"
   },
   {
    "duration": 9,
    "start_time": "2024-04-23T12:44:34.670Z"
   },
   {
    "duration": 7,
    "start_time": "2024-04-23T14:01:36.793Z"
   },
   {
    "duration": 8,
    "start_time": "2024-04-23T14:02:24.643Z"
   },
   {
    "duration": 122,
    "start_time": "2024-04-23T14:06:59.702Z"
   },
   {
    "duration": 78,
    "start_time": "2024-04-23T14:07:04.526Z"
   },
   {
    "duration": 142,
    "start_time": "2024-04-23T14:07:19.028Z"
   },
   {
    "duration": 3537,
    "start_time": "2024-04-23T14:12:29.244Z"
   },
   {
    "duration": 13,
    "start_time": "2024-04-23T14:12:47.593Z"
   },
   {
    "duration": 41,
    "start_time": "2024-04-23T14:12:56.887Z"
   },
   {
    "duration": 4,
    "start_time": "2024-04-23T14:16:21.774Z"
   },
   {
    "duration": 90,
    "start_time": "2024-04-23T14:17:01.030Z"
   },
   {
    "duration": 4,
    "start_time": "2024-04-23T14:17:04.777Z"
   },
   {
    "duration": 191,
    "start_time": "2024-04-23T14:18:04.169Z"
   },
   {
    "duration": 84,
    "start_time": "2024-04-23T14:18:11.534Z"
   },
   {
    "duration": 4,
    "start_time": "2024-04-23T14:18:13.825Z"
   },
   {
    "duration": 7,
    "start_time": "2024-04-23T14:23:36.620Z"
   },
   {
    "duration": 203,
    "start_time": "2024-04-23T14:48:39.270Z"
   },
   {
    "duration": 15,
    "start_time": "2024-04-23T14:49:54.334Z"
   },
   {
    "duration": 10,
    "start_time": "2024-04-23T14:51:45.139Z"
   },
   {
    "duration": 450,
    "start_time": "2024-04-23T15:05:54.773Z"
   },
   {
    "duration": 16,
    "start_time": "2024-04-23T15:06:05.841Z"
   },
   {
    "duration": 23,
    "start_time": "2024-04-23T15:06:28.565Z"
   },
   {
    "duration": 8,
    "start_time": "2024-04-23T15:12:03.487Z"
   },
   {
    "duration": 522,
    "start_time": "2024-04-23T15:12:17.393Z"
   },
   {
    "duration": 57,
    "start_time": "2024-04-23T15:12:21.475Z"
   },
   {
    "duration": 27,
    "start_time": "2024-04-23T15:12:23.877Z"
   },
   {
    "duration": 15,
    "start_time": "2024-04-23T15:12:25.291Z"
   },
   {
    "duration": 23,
    "start_time": "2024-04-23T15:12:27.259Z"
   },
   {
    "duration": 18,
    "start_time": "2024-04-23T15:12:29.904Z"
   },
   {
    "duration": 5,
    "start_time": "2024-04-23T15:12:32.384Z"
   },
   {
    "duration": 16,
    "start_time": "2024-04-23T15:12:34.907Z"
   },
   {
    "duration": 21,
    "start_time": "2024-04-23T15:12:37.168Z"
   },
   {
    "duration": 5,
    "start_time": "2024-04-23T15:12:39.100Z"
   },
   {
    "duration": 865,
    "start_time": "2024-04-23T15:12:40.908Z"
   },
   {
    "duration": 11,
    "start_time": "2024-04-23T15:12:42.854Z"
   },
   {
    "duration": 16,
    "start_time": "2024-04-23T15:12:44.970Z"
   },
   {
    "duration": 25,
    "start_time": "2024-04-23T15:12:47.102Z"
   },
   {
    "duration": 9,
    "start_time": "2024-04-23T15:12:49.368Z"
   },
   {
    "duration": 20,
    "start_time": "2024-04-23T15:12:51.593Z"
   },
   {
    "duration": 6,
    "start_time": "2024-04-23T15:12:54.685Z"
   },
   {
    "duration": 11,
    "start_time": "2024-04-23T15:13:00.634Z"
   },
   {
    "duration": 18,
    "start_time": "2024-04-23T15:13:02.082Z"
   },
   {
    "duration": 54,
    "start_time": "2024-04-23T15:13:03.838Z"
   },
   {
    "duration": 5,
    "start_time": "2024-04-23T15:13:06.609Z"
   },
   {
    "duration": 5,
    "start_time": "2024-04-23T15:13:08.773Z"
   },
   {
    "duration": 31,
    "start_time": "2024-04-23T15:13:13.967Z"
   },
   {
    "duration": 85,
    "start_time": "2024-04-23T15:13:18.640Z"
   },
   {
    "duration": 61,
    "start_time": "2024-04-23T15:13:29.469Z"
   },
   {
    "duration": 6,
    "start_time": "2024-04-23T15:13:36.612Z"
   },
   {
    "duration": 27,
    "start_time": "2024-04-23T15:15:48.845Z"
   },
   {
    "duration": 106,
    "start_time": "2024-04-23T15:16:55.335Z"
   },
   {
    "duration": 18,
    "start_time": "2024-04-23T15:17:01.317Z"
   },
   {
    "duration": 12,
    "start_time": "2024-04-23T15:19:48.282Z"
   },
   {
    "duration": 16,
    "start_time": "2024-04-23T15:20:00.686Z"
   },
   {
    "duration": 18,
    "start_time": "2024-04-23T15:20:07.154Z"
   },
   {
    "duration": 21,
    "start_time": "2024-04-23T15:22:56.536Z"
   },
   {
    "duration": 561,
    "start_time": "2024-04-23T15:23:39.768Z"
   },
   {
    "duration": 62,
    "start_time": "2024-04-23T15:23:44.707Z"
   },
   {
    "duration": 23,
    "start_time": "2024-04-23T15:23:47.344Z"
   },
   {
    "duration": 14,
    "start_time": "2024-04-23T15:23:49.423Z"
   },
   {
    "duration": 18,
    "start_time": "2024-04-23T15:23:51.372Z"
   },
   {
    "duration": 18,
    "start_time": "2024-04-23T15:23:54.509Z"
   },
   {
    "duration": 5,
    "start_time": "2024-04-23T15:23:59.673Z"
   },
   {
    "duration": 16,
    "start_time": "2024-04-23T15:24:04.858Z"
   },
   {
    "duration": 24,
    "start_time": "2024-04-23T15:24:18.805Z"
   },
   {
    "duration": 5,
    "start_time": "2024-04-23T15:24:21.583Z"
   },
   {
    "duration": 469,
    "start_time": "2024-04-23T15:26:16.206Z"
   },
   {
    "duration": 112,
    "start_time": "2024-04-23T15:27:46.436Z"
   },
   {
    "duration": 503,
    "start_time": "2024-04-23T15:27:52.492Z"
   },
   {
    "duration": 16,
    "start_time": "2024-04-23T15:28:13.621Z"
   },
   {
    "duration": 8,
    "start_time": "2024-04-23T15:31:23.604Z"
   },
   {
    "duration": 16,
    "start_time": "2024-04-23T15:31:34.722Z"
   },
   {
    "duration": 32,
    "start_time": "2024-04-23T15:32:00.910Z"
   },
   {
    "duration": 13,
    "start_time": "2024-04-23T15:32:59.880Z"
   },
   {
    "duration": 11,
    "start_time": "2024-04-23T15:33:13.635Z"
   },
   {
    "duration": 6,
    "start_time": "2024-04-23T15:33:31.965Z"
   },
   {
    "duration": 12,
    "start_time": "2024-04-23T15:33:34.018Z"
   },
   {
    "duration": 13,
    "start_time": "2024-04-23T15:34:49.196Z"
   },
   {
    "duration": 18,
    "start_time": "2024-04-23T15:35:46.673Z"
   },
   {
    "duration": 18,
    "start_time": "2024-04-23T15:36:00.832Z"
   },
   {
    "duration": 5,
    "start_time": "2024-04-23T15:36:14.888Z"
   },
   {
    "duration": 495,
    "start_time": "2024-04-23T15:36:30.926Z"
   },
   {
    "duration": 57,
    "start_time": "2024-04-23T15:36:34.752Z"
   },
   {
    "duration": 24,
    "start_time": "2024-04-23T15:36:37.783Z"
   },
   {
    "duration": 14,
    "start_time": "2024-04-23T15:36:39.476Z"
   },
   {
    "duration": 18,
    "start_time": "2024-04-23T15:36:41.344Z"
   },
   {
    "duration": 21,
    "start_time": "2024-04-23T15:36:43.786Z"
   },
   {
    "duration": 5,
    "start_time": "2024-04-23T15:36:46.193Z"
   },
   {
    "duration": 17,
    "start_time": "2024-04-23T15:36:50.462Z"
   },
   {
    "duration": 27,
    "start_time": "2024-04-23T15:36:53.110Z"
   },
   {
    "duration": 4,
    "start_time": "2024-04-23T15:36:56.044Z"
   },
   {
    "duration": 965,
    "start_time": "2024-04-23T15:39:07.875Z"
   },
   {
    "duration": 7,
    "start_time": "2024-04-23T15:39:29.791Z"
   },
   {
    "duration": 9,
    "start_time": "2024-04-23T15:41:47.664Z"
   },
   {
    "duration": 0,
    "start_time": "2024-04-23T15:44:48.704Z"
   },
   {
    "duration": 6,
    "start_time": "2024-04-23T15:46:09.251Z"
   },
   {
    "duration": 0,
    "start_time": "2024-04-23T15:49:20.887Z"
   },
   {
    "duration": 18,
    "start_time": "2024-04-23T15:49:31.203Z"
   },
   {
    "duration": 15,
    "start_time": "2024-04-23T15:50:51.829Z"
   },
   {
    "duration": 12,
    "start_time": "2024-04-23T15:51:36.429Z"
   },
   {
    "duration": 541,
    "start_time": "2024-04-23T15:51:49.686Z"
   },
   {
    "duration": 58,
    "start_time": "2024-04-23T15:51:53.019Z"
   },
   {
    "duration": 25,
    "start_time": "2024-04-23T15:51:54.145Z"
   },
   {
    "duration": 18,
    "start_time": "2024-04-23T15:51:54.329Z"
   },
   {
    "duration": 20,
    "start_time": "2024-04-23T15:51:55.017Z"
   },
   {
    "duration": 19,
    "start_time": "2024-04-23T15:51:55.636Z"
   },
   {
    "duration": 5,
    "start_time": "2024-04-23T15:51:56.234Z"
   },
   {
    "duration": 18,
    "start_time": "2024-04-23T15:51:57.503Z"
   },
   {
    "duration": 22,
    "start_time": "2024-04-23T15:51:58.225Z"
   },
   {
    "duration": 5,
    "start_time": "2024-04-23T15:51:59.586Z"
   },
   {
    "duration": 88,
    "start_time": "2024-04-23T15:52:03.784Z"
   },
   {
    "duration": 1472,
    "start_time": "2024-04-23T15:56:56.614Z"
   },
   {
    "duration": 573,
    "start_time": "2024-04-23T15:57:48.353Z"
   },
   {
    "duration": 49,
    "start_time": "2024-04-23T15:57:48.929Z"
   },
   {
    "duration": 24,
    "start_time": "2024-04-23T15:57:49.214Z"
   },
   {
    "duration": 13,
    "start_time": "2024-04-23T15:57:49.376Z"
   },
   {
    "duration": 17,
    "start_time": "2024-04-23T15:57:49.779Z"
   },
   {
    "duration": 24,
    "start_time": "2024-04-23T15:57:50.162Z"
   },
   {
    "duration": 5,
    "start_time": "2024-04-23T15:57:50.535Z"
   },
   {
    "duration": 17,
    "start_time": "2024-04-23T15:57:51.569Z"
   },
   {
    "duration": 20,
    "start_time": "2024-04-23T15:57:52.300Z"
   },
   {
    "duration": 5,
    "start_time": "2024-04-23T15:57:52.459Z"
   },
   {
    "duration": 2037,
    "start_time": "2024-04-23T15:57:56.150Z"
   },
   {
    "duration": 3489,
    "start_time": "2024-04-23T15:58:10.350Z"
   },
   {
    "duration": 107,
    "start_time": "2024-04-23T16:01:16.458Z"
   },
   {
    "duration": 1505,
    "start_time": "2024-04-23T16:01:31.086Z"
   },
   {
    "duration": 540,
    "start_time": "2024-04-23T16:02:07.286Z"
   },
   {
    "duration": 46,
    "start_time": "2024-04-23T16:02:07.828Z"
   },
   {
    "duration": 24,
    "start_time": "2024-04-23T16:02:08.229Z"
   },
   {
    "duration": 14,
    "start_time": "2024-04-23T16:02:08.410Z"
   },
   {
    "duration": 22,
    "start_time": "2024-04-23T16:02:08.781Z"
   },
   {
    "duration": 18,
    "start_time": "2024-04-23T16:02:09.204Z"
   },
   {
    "duration": 5,
    "start_time": "2024-04-23T16:02:09.618Z"
   },
   {
    "duration": 16,
    "start_time": "2024-04-23T16:02:11.360Z"
   },
   {
    "duration": 22,
    "start_time": "2024-04-23T16:02:14.823Z"
   },
   {
    "duration": 6,
    "start_time": "2024-04-23T16:02:16.939Z"
   },
   {
    "duration": 18,
    "start_time": "2024-04-23T16:06:10.827Z"
   },
   {
    "duration": 79,
    "start_time": "2024-04-23T16:06:28.041Z"
   },
   {
    "duration": 12,
    "start_time": "2024-04-23T16:06:42.914Z"
   },
   {
    "duration": 11,
    "start_time": "2024-04-23T16:08:52.966Z"
   },
   {
    "duration": 547,
    "start_time": "2024-04-23T16:09:04.938Z"
   },
   {
    "duration": 46,
    "start_time": "2024-04-23T16:09:05.487Z"
   },
   {
    "duration": 22,
    "start_time": "2024-04-23T16:09:05.535Z"
   },
   {
    "duration": 14,
    "start_time": "2024-04-23T16:09:05.646Z"
   },
   {
    "duration": 18,
    "start_time": "2024-04-23T16:09:05.961Z"
   },
   {
    "duration": 19,
    "start_time": "2024-04-23T16:09:06.311Z"
   },
   {
    "duration": 5,
    "start_time": "2024-04-23T16:09:06.649Z"
   },
   {
    "duration": 16,
    "start_time": "2024-04-23T16:09:07.344Z"
   },
   {
    "duration": 21,
    "start_time": "2024-04-23T16:09:07.696Z"
   },
   {
    "duration": 6,
    "start_time": "2024-04-23T16:09:08.232Z"
   },
   {
    "duration": 40,
    "start_time": "2024-04-23T16:09:11.961Z"
   },
   {
    "duration": 26,
    "start_time": "2024-04-23T16:09:35.126Z"
   },
   {
    "duration": 134,
    "start_time": "2024-04-23T16:10:13.778Z"
   },
   {
    "duration": 624,
    "start_time": "2024-04-23T16:10:23.757Z"
   },
   {
    "duration": 53,
    "start_time": "2024-04-23T16:10:24.384Z"
   },
   {
    "duration": 38,
    "start_time": "2024-04-23T16:10:24.628Z"
   },
   {
    "duration": 15,
    "start_time": "2024-04-23T16:10:24.811Z"
   },
   {
    "duration": 27,
    "start_time": "2024-04-23T16:10:25.152Z"
   },
   {
    "duration": 19,
    "start_time": "2024-04-23T16:10:25.538Z"
   },
   {
    "duration": 7,
    "start_time": "2024-04-23T16:10:25.915Z"
   },
   {
    "duration": 23,
    "start_time": "2024-04-23T16:10:26.644Z"
   },
   {
    "duration": 23,
    "start_time": "2024-04-23T16:10:27.013Z"
   },
   {
    "duration": 5,
    "start_time": "2024-04-23T16:10:27.280Z"
   },
   {
    "duration": 29,
    "start_time": "2024-04-23T16:10:28.139Z"
   },
   {
    "duration": 11,
    "start_time": "2024-04-23T16:10:48.405Z"
   },
   {
    "duration": 15,
    "start_time": "2024-04-23T16:10:52.868Z"
   },
   {
    "duration": 25,
    "start_time": "2024-04-23T16:11:01.813Z"
   },
   {
    "duration": 8,
    "start_time": "2024-04-23T16:11:05.003Z"
   },
   {
    "duration": 20,
    "start_time": "2024-04-23T16:11:11.122Z"
   },
   {
    "duration": 7,
    "start_time": "2024-04-23T16:11:16.548Z"
   },
   {
    "duration": 7,
    "start_time": "2024-04-23T16:11:20.263Z"
   },
   {
    "duration": 8,
    "start_time": "2024-04-23T16:11:22.373Z"
   },
   {
    "duration": 15,
    "start_time": "2024-04-23T16:11:26.226Z"
   },
   {
    "duration": 54,
    "start_time": "2024-04-23T16:11:29.473Z"
   },
   {
    "duration": 4,
    "start_time": "2024-04-23T16:11:32.864Z"
   },
   {
    "duration": 5,
    "start_time": "2024-04-23T16:11:34.621Z"
   },
   {
    "duration": 27,
    "start_time": "2024-04-23T16:11:47.379Z"
   },
   {
    "duration": 19,
    "start_time": "2024-04-23T16:13:10.641Z"
   },
   {
    "duration": 20,
    "start_time": "2024-04-23T16:15:51.170Z"
   },
   {
    "duration": 26,
    "start_time": "2024-04-23T16:15:56.257Z"
   },
   {
    "duration": 504,
    "start_time": "2024-04-23T16:16:33.127Z"
   },
   {
    "duration": 15,
    "start_time": "2024-04-23T16:17:39.004Z"
   },
   {
    "duration": 554,
    "start_time": "2024-04-23T16:17:48.354Z"
   },
   {
    "duration": 374,
    "start_time": "2024-04-23T16:18:30.182Z"
   },
   {
    "duration": 11,
    "start_time": "2024-04-23T16:19:22.201Z"
   },
   {
    "duration": 467,
    "start_time": "2024-04-23T16:19:39.740Z"
   },
   {
    "duration": 561,
    "start_time": "2024-04-23T16:19:49.691Z"
   },
   {
    "duration": 47,
    "start_time": "2024-04-23T16:19:50.254Z"
   },
   {
    "duration": 26,
    "start_time": "2024-04-23T16:19:50.587Z"
   },
   {
    "duration": 13,
    "start_time": "2024-04-23T16:19:50.772Z"
   },
   {
    "duration": 18,
    "start_time": "2024-04-23T16:19:51.100Z"
   },
   {
    "duration": 28,
    "start_time": "2024-04-23T16:19:51.461Z"
   },
   {
    "duration": 5,
    "start_time": "2024-04-23T16:19:52.266Z"
   },
   {
    "duration": 26,
    "start_time": "2024-04-23T16:19:54.172Z"
   },
   {
    "duration": 21,
    "start_time": "2024-04-23T16:19:55.106Z"
   },
   {
    "duration": 5,
    "start_time": "2024-04-23T16:19:55.622Z"
   },
   {
    "duration": 27,
    "start_time": "2024-04-23T16:19:56.823Z"
   },
   {
    "duration": 16,
    "start_time": "2024-04-23T16:19:58.623Z"
   },
   {
    "duration": 13,
    "start_time": "2024-04-23T16:19:59.556Z"
   },
   {
    "duration": 24,
    "start_time": "2024-04-23T16:20:00.514Z"
   },
   {
    "duration": 10,
    "start_time": "2024-04-23T16:20:01.432Z"
   },
   {
    "duration": 18,
    "start_time": "2024-04-23T16:20:02.281Z"
   },
   {
    "duration": 5,
    "start_time": "2024-04-23T16:20:03.454Z"
   },
   {
    "duration": 8,
    "start_time": "2024-04-23T16:20:03.895Z"
   },
   {
    "duration": 16,
    "start_time": "2024-04-23T16:20:04.450Z"
   },
   {
    "duration": 54,
    "start_time": "2024-04-23T16:20:05.090Z"
   },
   {
    "duration": 4,
    "start_time": "2024-04-23T16:20:07.206Z"
   },
   {
    "duration": 5,
    "start_time": "2024-04-23T16:20:08.227Z"
   },
   {
    "duration": 28,
    "start_time": "2024-04-23T16:20:10.066Z"
   },
   {
    "duration": 23,
    "start_time": "2024-04-23T16:20:13.401Z"
   },
   {
    "duration": 27,
    "start_time": "2024-04-23T16:20:16.267Z"
   },
   {
    "duration": 14,
    "start_time": "2024-04-23T16:20:19.382Z"
   },
   {
    "duration": 418,
    "start_time": "2024-04-23T16:20:23.337Z"
   },
   {
    "duration": 566,
    "start_time": "2024-04-23T16:20:55.490Z"
   },
   {
    "duration": 2450,
    "start_time": "2024-04-23T16:21:41.152Z"
   },
   {
    "duration": 352,
    "start_time": "2024-04-23T16:23:15.815Z"
   },
   {
    "duration": 14,
    "start_time": "2024-04-23T16:23:29.897Z"
   },
   {
    "duration": 405,
    "start_time": "2024-04-23T16:23:32.877Z"
   },
   {
    "duration": 4,
    "start_time": "2024-04-23T16:26:22.231Z"
   },
   {
    "duration": 7,
    "start_time": "2024-04-23T16:27:05.989Z"
   },
   {
    "duration": 18,
    "start_time": "2024-04-23T16:29:23.221Z"
   },
   {
    "duration": 639,
    "start_time": "2024-04-23T16:29:41.367Z"
   },
   {
    "duration": 19,
    "start_time": "2024-04-23T16:30:36.292Z"
   },
   {
    "duration": 8,
    "start_time": "2024-04-23T16:30:43.857Z"
   },
   {
    "duration": 5,
    "start_time": "2024-04-23T16:30:59.024Z"
   },
   {
    "duration": 182,
    "start_time": "2024-04-23T16:36:08.925Z"
   },
   {
    "duration": 9,
    "start_time": "2024-04-23T16:38:24.864Z"
   },
   {
    "duration": 189,
    "start_time": "2024-04-23T16:38:31.388Z"
   },
   {
    "duration": 521,
    "start_time": "2024-04-23T17:36:28.102Z"
   },
   {
    "duration": 50,
    "start_time": "2024-04-23T17:36:28.625Z"
   },
   {
    "duration": 25,
    "start_time": "2024-04-23T17:36:28.930Z"
   },
   {
    "duration": 14,
    "start_time": "2024-04-23T17:36:29.097Z"
   },
   {
    "duration": 17,
    "start_time": "2024-04-23T17:36:29.637Z"
   },
   {
    "duration": 18,
    "start_time": "2024-04-23T17:36:29.842Z"
   },
   {
    "duration": 5,
    "start_time": "2024-04-23T17:36:30.242Z"
   },
   {
    "duration": 15,
    "start_time": "2024-04-23T17:36:31.010Z"
   },
   {
    "duration": 21,
    "start_time": "2024-04-23T17:36:31.425Z"
   },
   {
    "duration": 35,
    "start_time": "2024-04-23T17:36:31.580Z"
   },
   {
    "duration": 26,
    "start_time": "2024-04-23T17:36:31.938Z"
   },
   {
    "duration": 10,
    "start_time": "2024-04-23T17:36:32.543Z"
   },
   {
    "duration": 14,
    "start_time": "2024-04-23T17:36:33.072Z"
   },
   {
    "duration": 23,
    "start_time": "2024-04-23T17:36:33.875Z"
   },
   {
    "duration": 8,
    "start_time": "2024-04-23T17:36:34.536Z"
   },
   {
    "duration": 19,
    "start_time": "2024-04-23T17:36:35.192Z"
   },
   {
    "duration": 7,
    "start_time": "2024-04-23T17:36:35.899Z"
   },
   {
    "duration": 8,
    "start_time": "2024-04-23T17:36:36.238Z"
   },
   {
    "duration": 14,
    "start_time": "2024-04-23T17:36:37.127Z"
   },
   {
    "duration": 51,
    "start_time": "2024-04-23T17:36:37.280Z"
   },
   {
    "duration": 4,
    "start_time": "2024-04-23T17:36:37.608Z"
   },
   {
    "duration": 6,
    "start_time": "2024-04-23T17:36:38.259Z"
   },
   {
    "duration": 26,
    "start_time": "2024-04-23T17:36:39.633Z"
   },
   {
    "duration": 21,
    "start_time": "2024-04-23T17:36:41.376Z"
   },
   {
    "duration": 41,
    "start_time": "2024-04-23T17:36:42.691Z"
   },
   {
    "duration": 15,
    "start_time": "2024-04-23T17:36:43.738Z"
   },
   {
    "duration": 450,
    "start_time": "2024-04-23T17:36:43.898Z"
   },
   {
    "duration": 109,
    "start_time": "2024-04-23T17:41:53.011Z"
   },
   {
    "duration": 450,
    "start_time": "2024-04-23T17:41:57.599Z"
   },
   {
    "duration": 388,
    "start_time": "2024-04-23T17:42:22.300Z"
   },
   {
    "duration": 414,
    "start_time": "2024-04-23T17:42:33.626Z"
   },
   {
    "duration": 689,
    "start_time": "2024-04-23T17:44:55.018Z"
   },
   {
    "duration": 10,
    "start_time": "2024-04-23T17:46:43.359Z"
   },
   {
    "duration": 7,
    "start_time": "2024-04-23T17:46:50.818Z"
   },
   {
    "duration": 13,
    "start_time": "2024-04-23T17:47:14.127Z"
   },
   {
    "duration": 23,
    "start_time": "2024-04-23T17:47:51.300Z"
   },
   {
    "duration": 58,
    "start_time": "2024-04-23T17:48:04.710Z"
   },
   {
    "duration": 28,
    "start_time": "2024-04-23T17:50:11.809Z"
   },
   {
    "duration": 6,
    "start_time": "2024-04-23T17:54:35.756Z"
   },
   {
    "duration": 21,
    "start_time": "2024-04-23T17:55:26.534Z"
   },
   {
    "duration": 4,
    "start_time": "2024-04-23T17:55:59.387Z"
   },
   {
    "duration": 4,
    "start_time": "2024-04-23T17:56:12.052Z"
   },
   {
    "duration": 20,
    "start_time": "2024-04-23T17:57:21.589Z"
   },
   {
    "duration": 20,
    "start_time": "2024-04-23T18:02:47.989Z"
   },
   {
    "duration": 31,
    "start_time": "2024-04-23T18:05:19.739Z"
   },
   {
    "duration": 28,
    "start_time": "2024-04-23T18:05:44.994Z"
   },
   {
    "duration": 32,
    "start_time": "2024-04-23T18:05:55.436Z"
   },
   {
    "duration": 3291,
    "start_time": "2024-04-23T18:09:07.360Z"
   },
   {
    "duration": 32,
    "start_time": "2024-04-23T18:10:06.984Z"
   },
   {
    "duration": 31,
    "start_time": "2024-04-23T18:10:26.607Z"
   },
   {
    "duration": 1872,
    "start_time": "2024-04-23T18:10:37.014Z"
   },
   {
    "duration": 45,
    "start_time": "2024-04-23T18:10:47.589Z"
   },
   {
    "duration": 31,
    "start_time": "2024-04-23T18:11:39.971Z"
   },
   {
    "duration": 27,
    "start_time": "2024-04-23T18:12:16.351Z"
   },
   {
    "duration": 27,
    "start_time": "2024-04-23T18:12:50.389Z"
   },
   {
    "duration": 455,
    "start_time": "2024-04-23T18:15:53.768Z"
   },
   {
    "duration": 223,
    "start_time": "2024-04-23T18:29:14.013Z"
   },
   {
    "duration": 503,
    "start_time": "2024-04-23T18:59:06.224Z"
   },
   {
    "duration": 46,
    "start_time": "2024-04-23T18:59:06.729Z"
   },
   {
    "duration": 23,
    "start_time": "2024-04-23T18:59:06.778Z"
   },
   {
    "duration": 14,
    "start_time": "2024-04-23T18:59:06.930Z"
   },
   {
    "duration": 18,
    "start_time": "2024-04-23T18:59:07.267Z"
   },
   {
    "duration": 18,
    "start_time": "2024-04-23T18:59:07.615Z"
   },
   {
    "duration": 4,
    "start_time": "2024-04-23T18:59:07.944Z"
   },
   {
    "duration": 16,
    "start_time": "2024-04-23T18:59:08.632Z"
   },
   {
    "duration": 22,
    "start_time": "2024-04-23T18:59:08.991Z"
   },
   {
    "duration": 4,
    "start_time": "2024-04-23T18:59:09.147Z"
   },
   {
    "duration": 26,
    "start_time": "2024-04-23T18:59:09.506Z"
   },
   {
    "duration": 11,
    "start_time": "2024-04-23T18:59:10.059Z"
   },
   {
    "duration": 13,
    "start_time": "2024-04-23T18:59:10.385Z"
   },
   {
    "duration": 24,
    "start_time": "2024-04-23T18:59:10.718Z"
   },
   {
    "duration": 11,
    "start_time": "2024-04-23T18:59:11.074Z"
   },
   {
    "duration": 19,
    "start_time": "2024-04-23T18:59:11.455Z"
   },
   {
    "duration": 6,
    "start_time": "2024-04-23T18:59:12.021Z"
   },
   {
    "duration": 10,
    "start_time": "2024-04-23T18:59:12.492Z"
   },
   {
    "duration": 14,
    "start_time": "2024-04-23T18:59:12.682Z"
   },
   {
    "duration": 54,
    "start_time": "2024-04-23T18:59:12.898Z"
   },
   {
    "duration": 4,
    "start_time": "2024-04-23T18:59:13.490Z"
   },
   {
    "duration": 6,
    "start_time": "2024-04-23T18:59:14.192Z"
   },
   {
    "duration": 25,
    "start_time": "2024-04-23T18:59:15.487Z"
   },
   {
    "duration": 21,
    "start_time": "2024-04-23T18:59:16.342Z"
   },
   {
    "duration": 27,
    "start_time": "2024-04-23T18:59:17.421Z"
   },
   {
    "duration": 658,
    "start_time": "2024-04-23T18:59:18.127Z"
   },
   {
    "duration": 6,
    "start_time": "2024-04-23T18:59:18.842Z"
   },
   {
    "duration": 15,
    "start_time": "2024-04-23T18:59:47.025Z"
   },
   {
    "duration": 737,
    "start_time": "2024-04-23T18:59:51.602Z"
   },
   {
    "duration": 5,
    "start_time": "2024-04-23T19:00:00.053Z"
   },
   {
    "duration": 475,
    "start_time": "2024-04-23T19:00:04.405Z"
   },
   {
    "duration": 17,
    "start_time": "2024-04-23T19:00:07.524Z"
   },
   {
    "duration": 4,
    "start_time": "2024-04-23T19:00:08.534Z"
   },
   {
    "duration": 203,
    "start_time": "2024-04-23T19:00:09.809Z"
   },
   {
    "duration": 2068,
    "start_time": "2024-04-23T19:08:46.285Z"
   },
   {
    "duration": 187,
    "start_time": "2024-04-23T19:08:54.044Z"
   },
   {
    "duration": 18,
    "start_time": "2024-04-23T19:15:06.761Z"
   },
   {
    "duration": 177,
    "start_time": "2024-04-23T19:17:06.258Z"
   },
   {
    "duration": 238,
    "start_time": "2024-04-23T19:17:49.062Z"
   },
   {
    "duration": 171,
    "start_time": "2024-04-23T19:45:10.790Z"
   },
   {
    "duration": 158,
    "start_time": "2024-04-23T19:46:08.766Z"
   },
   {
    "duration": 152,
    "start_time": "2024-04-23T19:46:33.625Z"
   },
   {
    "duration": 199,
    "start_time": "2024-04-23T19:49:18.713Z"
   },
   {
    "duration": 200,
    "start_time": "2024-04-23T19:49:49.499Z"
   },
   {
    "duration": 197,
    "start_time": "2024-04-23T19:49:58.040Z"
   },
   {
    "duration": 844,
    "start_time": "2024-04-23T19:52:04.657Z"
   },
   {
    "duration": 249,
    "start_time": "2024-04-23T19:52:09.838Z"
   },
   {
    "duration": 257,
    "start_time": "2024-04-23T19:52:42.539Z"
   },
   {
    "duration": 130,
    "start_time": "2024-04-23T19:54:36.716Z"
   },
   {
    "duration": 264,
    "start_time": "2024-04-23T19:54:42.732Z"
   },
   {
    "duration": 325,
    "start_time": "2024-04-23T19:54:54.357Z"
   },
   {
    "duration": 358,
    "start_time": "2024-04-23T19:55:08.669Z"
   },
   {
    "duration": 5,
    "start_time": "2024-04-23T20:05:07.843Z"
   },
   {
    "duration": 223,
    "start_time": "2024-04-23T20:10:29.925Z"
   },
   {
    "duration": 176,
    "start_time": "2024-04-23T20:11:09.499Z"
   },
   {
    "duration": 202,
    "start_time": "2024-04-23T20:15:28.803Z"
   },
   {
    "duration": 96,
    "start_time": "2024-04-23T20:17:10.589Z"
   },
   {
    "duration": 131,
    "start_time": "2024-04-23T20:17:42.710Z"
   },
   {
    "duration": 105,
    "start_time": "2024-04-23T20:17:57.718Z"
   },
   {
    "duration": 4,
    "start_time": "2024-04-23T20:19:13.019Z"
   },
   {
    "duration": 102,
    "start_time": "2024-04-23T20:19:23.200Z"
   },
   {
    "duration": 95,
    "start_time": "2024-04-23T20:19:45.260Z"
   },
   {
    "duration": 96,
    "start_time": "2024-04-23T20:20:33.762Z"
   },
   {
    "duration": 119,
    "start_time": "2024-04-23T20:21:38.126Z"
   },
   {
    "duration": 87,
    "start_time": "2024-04-23T20:21:52.164Z"
   },
   {
    "duration": 101,
    "start_time": "2024-04-23T20:22:11.794Z"
   },
   {
    "duration": 404,
    "start_time": "2024-04-23T20:22:33.874Z"
   },
   {
    "duration": 160,
    "start_time": "2024-04-23T20:23:07.415Z"
   },
   {
    "duration": 104,
    "start_time": "2024-04-23T20:23:58.241Z"
   },
   {
    "duration": 5,
    "start_time": "2024-04-23T20:25:04.557Z"
   },
   {
    "duration": 16,
    "start_time": "2024-04-23T20:25:29.872Z"
   },
   {
    "duration": 16,
    "start_time": "2024-04-23T20:27:27.208Z"
   },
   {
    "duration": 283,
    "start_time": "2024-04-23T20:28:04.730Z"
   },
   {
    "duration": 293,
    "start_time": "2024-04-23T20:30:11.512Z"
   },
   {
    "duration": 288,
    "start_time": "2024-04-23T20:32:27.076Z"
   },
   {
    "duration": 295,
    "start_time": "2024-04-23T20:33:17.480Z"
   },
   {
    "duration": 4,
    "start_time": "2024-04-23T20:37:58.014Z"
   },
   {
    "duration": 287,
    "start_time": "2024-04-23T20:38:00.656Z"
   },
   {
    "duration": 16,
    "start_time": "2024-04-23T20:38:12.726Z"
   },
   {
    "duration": 5,
    "start_time": "2024-04-23T20:39:39.030Z"
   },
   {
    "duration": 15,
    "start_time": "2024-04-23T20:39:51.592Z"
   },
   {
    "duration": 265,
    "start_time": "2024-04-23T20:40:05.442Z"
   },
   {
    "duration": 1283,
    "start_time": "2024-04-23T20:46:35.771Z"
   },
   {
    "duration": 825,
    "start_time": "2024-04-23T20:48:48.062Z"
   },
   {
    "duration": 815,
    "start_time": "2024-04-23T20:49:24.760Z"
   },
   {
    "duration": 898,
    "start_time": "2024-04-23T20:56:02.663Z"
   },
   {
    "duration": 213,
    "start_time": "2024-04-23T20:56:27.204Z"
   },
   {
    "duration": 309,
    "start_time": "2024-04-23T20:57:37.254Z"
   },
   {
    "duration": 528,
    "start_time": "2024-04-23T21:00:45.598Z"
   },
   {
    "duration": 47,
    "start_time": "2024-04-23T21:00:46.127Z"
   },
   {
    "duration": 28,
    "start_time": "2024-04-23T21:00:46.177Z"
   },
   {
    "duration": 13,
    "start_time": "2024-04-23T21:00:46.246Z"
   },
   {
    "duration": 18,
    "start_time": "2024-04-23T21:00:46.643Z"
   },
   {
    "duration": 19,
    "start_time": "2024-04-23T21:00:46.975Z"
   },
   {
    "duration": 4,
    "start_time": "2024-04-23T21:00:47.333Z"
   },
   {
    "duration": 17,
    "start_time": "2024-04-23T21:00:48.034Z"
   },
   {
    "duration": 22,
    "start_time": "2024-04-23T21:00:48.365Z"
   },
   {
    "duration": 5,
    "start_time": "2024-04-23T21:00:48.541Z"
   },
   {
    "duration": 28,
    "start_time": "2024-04-23T21:00:48.882Z"
   },
   {
    "duration": 15,
    "start_time": "2024-04-23T21:00:49.391Z"
   },
   {
    "duration": 15,
    "start_time": "2024-04-23T21:00:49.740Z"
   },
   {
    "duration": 26,
    "start_time": "2024-04-23T21:00:50.099Z"
   },
   {
    "duration": 8,
    "start_time": "2024-04-23T21:00:50.424Z"
   },
   {
    "duration": 19,
    "start_time": "2024-04-23T21:00:50.783Z"
   },
   {
    "duration": 5,
    "start_time": "2024-04-23T21:00:51.336Z"
   },
   {
    "duration": 9,
    "start_time": "2024-04-23T21:00:51.659Z"
   },
   {
    "duration": 14,
    "start_time": "2024-04-23T21:00:51.841Z"
   },
   {
    "duration": 52,
    "start_time": "2024-04-23T21:00:52.006Z"
   },
   {
    "duration": 4,
    "start_time": "2024-04-23T21:00:52.366Z"
   },
   {
    "duration": 5,
    "start_time": "2024-04-23T21:00:52.715Z"
   },
   {
    "duration": 25,
    "start_time": "2024-04-23T21:00:53.593Z"
   },
   {
    "duration": 18,
    "start_time": "2024-04-23T21:00:53.990Z"
   },
   {
    "duration": 26,
    "start_time": "2024-04-23T21:00:54.544Z"
   },
   {
    "duration": 15,
    "start_time": "2024-04-23T21:00:54.882Z"
   },
   {
    "duration": 385,
    "start_time": "2024-04-23T21:00:55.057Z"
   },
   {
    "duration": 5,
    "start_time": "2024-04-23T21:00:55.608Z"
   },
   {
    "duration": 439,
    "start_time": "2024-04-23T21:00:56.153Z"
   },
   {
    "duration": 15,
    "start_time": "2024-04-23T21:00:56.594Z"
   },
   {
    "duration": 4,
    "start_time": "2024-04-23T21:00:56.673Z"
   },
   {
    "duration": 219,
    "start_time": "2024-04-23T21:00:56.858Z"
   },
   {
    "duration": 192,
    "start_time": "2024-04-23T21:00:57.395Z"
   },
   {
    "duration": 184,
    "start_time": "2024-04-23T21:00:57.935Z"
   },
   {
    "duration": 327,
    "start_time": "2024-04-23T21:00:58.274Z"
   },
   {
    "duration": 5,
    "start_time": "2024-04-23T21:00:58.841Z"
   },
   {
    "duration": 14,
    "start_time": "2024-04-23T21:00:59.214Z"
   },
   {
    "duration": 248,
    "start_time": "2024-04-23T21:00:59.390Z"
   },
   {
    "duration": 819,
    "start_time": "2024-04-23T21:00:59.757Z"
   },
   {
    "duration": 213,
    "start_time": "2024-04-23T21:01:00.578Z"
   },
   {
    "duration": 562,
    "start_time": "2024-04-24T18:05:50.379Z"
   },
   {
    "duration": 102,
    "start_time": "2024-04-24T18:05:50.944Z"
   },
   {
    "duration": 20,
    "start_time": "2024-04-24T18:05:51.048Z"
   },
   {
    "duration": 11,
    "start_time": "2024-04-24T18:05:51.069Z"
   },
   {
    "duration": 26,
    "start_time": "2024-04-24T18:05:51.082Z"
   },
   {
    "duration": 17,
    "start_time": "2024-04-24T18:05:51.109Z"
   },
   {
    "duration": 4,
    "start_time": "2024-04-24T18:05:51.128Z"
   },
   {
    "duration": 16,
    "start_time": "2024-04-24T18:05:51.133Z"
   },
   {
    "duration": 17,
    "start_time": "2024-04-24T18:05:51.150Z"
   },
   {
    "duration": 4,
    "start_time": "2024-04-24T18:05:51.169Z"
   },
   {
    "duration": 46,
    "start_time": "2024-04-24T18:05:51.174Z"
   },
   {
    "duration": 10,
    "start_time": "2024-04-24T18:05:51.221Z"
   },
   {
    "duration": 18,
    "start_time": "2024-04-24T18:05:51.232Z"
   },
   {
    "duration": 21,
    "start_time": "2024-04-24T18:05:51.252Z"
   },
   {
    "duration": 7,
    "start_time": "2024-04-24T18:05:51.274Z"
   },
   {
    "duration": 42,
    "start_time": "2024-04-24T18:05:51.283Z"
   },
   {
    "duration": 6,
    "start_time": "2024-04-24T18:05:51.326Z"
   },
   {
    "duration": 12,
    "start_time": "2024-04-24T18:05:51.333Z"
   },
   {
    "duration": 14,
    "start_time": "2024-04-24T18:05:51.346Z"
   },
   {
    "duration": 78,
    "start_time": "2024-04-24T18:05:51.362Z"
   },
   {
    "duration": 4,
    "start_time": "2024-04-24T18:05:51.441Z"
   },
   {
    "duration": 4,
    "start_time": "2024-04-24T18:05:51.447Z"
   },
   {
    "duration": 23,
    "start_time": "2024-04-24T18:05:51.453Z"
   },
   {
    "duration": 45,
    "start_time": "2024-04-24T18:05:51.478Z"
   },
   {
    "duration": 53,
    "start_time": "2024-04-24T18:05:51.524Z"
   },
   {
    "duration": 13,
    "start_time": "2024-04-24T18:05:51.579Z"
   },
   {
    "duration": 251,
    "start_time": "2024-04-24T18:05:51.614Z"
   },
   {
    "duration": 0,
    "start_time": "2024-04-24T18:05:51.867Z"
   },
   {
    "duration": 0,
    "start_time": "2024-04-24T18:05:51.868Z"
   },
   {
    "duration": 0,
    "start_time": "2024-04-24T18:05:51.869Z"
   },
   {
    "duration": 0,
    "start_time": "2024-04-24T18:05:51.871Z"
   },
   {
    "duration": 0,
    "start_time": "2024-04-24T18:05:51.872Z"
   },
   {
    "duration": 0,
    "start_time": "2024-04-24T18:05:51.873Z"
   },
   {
    "duration": 0,
    "start_time": "2024-04-24T18:05:51.873Z"
   },
   {
    "duration": 1,
    "start_time": "2024-04-24T18:05:51.874Z"
   },
   {
    "duration": 0,
    "start_time": "2024-04-24T18:05:51.876Z"
   },
   {
    "duration": 0,
    "start_time": "2024-04-24T18:05:51.877Z"
   },
   {
    "duration": 0,
    "start_time": "2024-04-24T18:05:51.878Z"
   },
   {
    "duration": 0,
    "start_time": "2024-04-24T18:05:51.879Z"
   },
   {
    "duration": 0,
    "start_time": "2024-04-24T18:05:51.880Z"
   },
   {
    "duration": 14,
    "start_time": "2024-04-24T18:07:59.538Z"
   },
   {
    "duration": 544,
    "start_time": "2024-04-24T18:08:34.813Z"
   },
   {
    "duration": 305,
    "start_time": "2024-04-24T18:09:01.271Z"
   },
   {
    "duration": 3,
    "start_time": "2024-04-24T18:09:36.277Z"
   },
   {
    "duration": 6,
    "start_time": "2024-04-24T18:09:39.987Z"
   },
   {
    "duration": 6,
    "start_time": "2024-04-24T18:09:52.730Z"
   },
   {
    "duration": 9,
    "start_time": "2024-04-24T18:56:35.142Z"
   },
   {
    "duration": 5,
    "start_time": "2024-04-24T18:56:40.836Z"
   },
   {
    "duration": 5,
    "start_time": "2024-04-24T18:57:10.949Z"
   },
   {
    "duration": 10,
    "start_time": "2024-04-24T18:59:12.450Z"
   },
   {
    "duration": 5,
    "start_time": "2024-04-24T19:03:53.086Z"
   },
   {
    "duration": 3,
    "start_time": "2024-04-24T19:09:35.372Z"
   },
   {
    "duration": 20,
    "start_time": "2024-04-24T19:09:35.500Z"
   },
   {
    "duration": 476,
    "start_time": "2024-04-24T19:11:53.659Z"
   },
   {
    "duration": 47,
    "start_time": "2024-04-24T19:11:54.136Z"
   },
   {
    "duration": 22,
    "start_time": "2024-04-24T19:11:54.185Z"
   },
   {
    "duration": 13,
    "start_time": "2024-04-24T19:11:54.209Z"
   },
   {
    "duration": 17,
    "start_time": "2024-04-24T19:11:54.224Z"
   },
   {
    "duration": 17,
    "start_time": "2024-04-24T19:11:54.242Z"
   },
   {
    "duration": 6,
    "start_time": "2024-04-24T19:11:54.260Z"
   },
   {
    "duration": 16,
    "start_time": "2024-04-24T19:11:54.268Z"
   },
   {
    "duration": 42,
    "start_time": "2024-04-24T19:11:54.286Z"
   },
   {
    "duration": 5,
    "start_time": "2024-04-24T19:11:54.331Z"
   },
   {
    "duration": 5,
    "start_time": "2024-04-24T19:11:54.337Z"
   },
   {
    "duration": 26,
    "start_time": "2024-04-24T19:11:54.343Z"
   },
   {
    "duration": 10,
    "start_time": "2024-04-24T19:11:54.370Z"
   },
   {
    "duration": 35,
    "start_time": "2024-04-24T19:11:54.381Z"
   },
   {
    "duration": 425,
    "start_time": "2024-04-24T19:11:54.417Z"
   },
   {
    "duration": 12,
    "start_time": "2024-04-24T19:11:54.843Z"
   },
   {
    "duration": 22,
    "start_time": "2024-04-24T19:11:54.857Z"
   },
   {
    "duration": 8,
    "start_time": "2024-04-24T19:11:54.880Z"
   },
   {
    "duration": 40,
    "start_time": "2024-04-24T19:11:54.889Z"
   },
   {
    "duration": 5,
    "start_time": "2024-04-24T19:11:54.931Z"
   },
   {
    "duration": 8,
    "start_time": "2024-04-24T19:11:54.937Z"
   },
   {
    "duration": 13,
    "start_time": "2024-04-24T19:11:54.946Z"
   },
   {
    "duration": 81,
    "start_time": "2024-04-24T19:11:54.961Z"
   },
   {
    "duration": 3,
    "start_time": "2024-04-24T19:11:55.044Z"
   },
   {
    "duration": 4,
    "start_time": "2024-04-24T19:11:55.049Z"
   },
   {
    "duration": 29,
    "start_time": "2024-04-24T19:11:55.054Z"
   },
   {
    "duration": 44,
    "start_time": "2024-04-24T19:11:55.085Z"
   },
   {
    "duration": 36,
    "start_time": "2024-04-24T19:11:55.133Z"
   },
   {
    "duration": 61,
    "start_time": "2024-04-24T19:11:55.172Z"
   },
   {
    "duration": 2,
    "start_time": "2024-04-24T19:11:55.235Z"
   },
   {
    "duration": 8,
    "start_time": "2024-04-24T19:11:55.239Z"
   },
   {
    "duration": 9,
    "start_time": "2024-04-24T19:11:55.249Z"
   },
   {
    "duration": 5,
    "start_time": "2024-04-24T19:11:55.315Z"
   },
   {
    "duration": 335,
    "start_time": "2024-04-24T19:11:55.322Z"
   },
   {
    "duration": 69,
    "start_time": "2024-04-24T19:11:55.659Z"
   },
   {
    "duration": 3,
    "start_time": "2024-04-24T19:11:55.729Z"
   },
   {
    "duration": 402,
    "start_time": "2024-04-24T19:11:55.734Z"
   },
   {
    "duration": 322,
    "start_time": "2024-04-24T19:11:56.138Z"
   },
   {
    "duration": 486,
    "start_time": "2024-04-24T19:11:56.462Z"
   },
   {
    "duration": 268,
    "start_time": "2024-04-24T19:11:56.949Z"
   },
   {
    "duration": 5,
    "start_time": "2024-04-24T19:11:57.218Z"
   },
   {
    "duration": 17,
    "start_time": "2024-04-24T19:11:57.225Z"
   },
   {
    "duration": 253,
    "start_time": "2024-04-24T19:11:57.243Z"
   },
   {
    "duration": 776,
    "start_time": "2024-04-24T19:11:57.497Z"
   },
   {
    "duration": 199,
    "start_time": "2024-04-24T19:11:58.274Z"
   },
   {
    "duration": 495,
    "start_time": "2024-04-24T19:23:48.545Z"
   },
   {
    "duration": 46,
    "start_time": "2024-04-24T19:23:49.042Z"
   },
   {
    "duration": 20,
    "start_time": "2024-04-24T19:23:49.090Z"
   },
   {
    "duration": 14,
    "start_time": "2024-04-24T19:23:49.112Z"
   },
   {
    "duration": 16,
    "start_time": "2024-04-24T19:23:49.128Z"
   },
   {
    "duration": 17,
    "start_time": "2024-04-24T19:23:49.146Z"
   },
   {
    "duration": 4,
    "start_time": "2024-04-24T19:23:49.165Z"
   },
   {
    "duration": 18,
    "start_time": "2024-04-24T19:23:49.171Z"
   },
   {
    "duration": 41,
    "start_time": "2024-04-24T19:23:49.190Z"
   },
   {
    "duration": 5,
    "start_time": "2024-04-24T19:23:49.232Z"
   },
   {
    "duration": 6,
    "start_time": "2024-04-24T19:23:49.239Z"
   },
   {
    "duration": 26,
    "start_time": "2024-04-24T19:23:49.246Z"
   },
   {
    "duration": 48,
    "start_time": "2024-04-24T19:23:49.273Z"
   },
   {
    "duration": 4,
    "start_time": "2024-04-24T19:23:49.325Z"
   },
   {
    "duration": 431,
    "start_time": "2024-04-24T19:23:49.331Z"
   },
   {
    "duration": 14,
    "start_time": "2024-04-24T19:23:49.764Z"
   },
   {
    "duration": 35,
    "start_time": "2024-04-24T19:23:49.780Z"
   },
   {
    "duration": 9,
    "start_time": "2024-04-24T19:23:49.817Z"
   },
   {
    "duration": 18,
    "start_time": "2024-04-24T19:23:49.828Z"
   },
   {
    "duration": 6,
    "start_time": "2024-04-24T19:23:49.848Z"
   },
   {
    "duration": 11,
    "start_time": "2024-04-24T19:23:49.856Z"
   },
   {
    "duration": 51,
    "start_time": "2024-04-24T19:23:49.868Z"
   },
   {
    "duration": 45,
    "start_time": "2024-04-24T19:23:49.921Z"
   },
   {
    "duration": 4,
    "start_time": "2024-04-24T19:23:49.968Z"
   },
   {
    "duration": 5,
    "start_time": "2024-04-24T19:23:49.974Z"
   },
   {
    "duration": 53,
    "start_time": "2024-04-24T19:23:49.980Z"
   },
   {
    "duration": 18,
    "start_time": "2024-04-24T19:23:50.035Z"
   },
   {
    "duration": 38,
    "start_time": "2024-04-24T19:23:50.054Z"
   },
   {
    "duration": 28,
    "start_time": "2024-04-24T19:23:50.094Z"
   },
   {
    "duration": 24,
    "start_time": "2024-04-24T19:23:50.124Z"
   },
   {
    "duration": 20,
    "start_time": "2024-04-24T19:23:50.149Z"
   },
   {
    "duration": 11,
    "start_time": "2024-04-24T19:23:50.170Z"
   },
   {
    "duration": 5,
    "start_time": "2024-04-24T19:23:50.182Z"
   },
   {
    "duration": 181,
    "start_time": "2024-04-24T19:23:50.188Z"
   },
   {
    "duration": 15,
    "start_time": "2024-04-24T19:23:50.370Z"
   },
   {
    "duration": 3,
    "start_time": "2024-04-24T19:23:50.386Z"
   },
   {
    "duration": 218,
    "start_time": "2024-04-24T19:23:50.390Z"
   },
   {
    "duration": 179,
    "start_time": "2024-04-24T19:23:50.614Z"
   },
   {
    "duration": 230,
    "start_time": "2024-04-24T19:23:50.795Z"
   },
   {
    "duration": 275,
    "start_time": "2024-04-24T19:23:51.027Z"
   },
   {
    "duration": 10,
    "start_time": "2024-04-24T19:23:51.306Z"
   },
   {
    "duration": 19,
    "start_time": "2024-04-24T19:23:51.317Z"
   },
   {
    "duration": 259,
    "start_time": "2024-04-24T19:23:51.337Z"
   },
   {
    "duration": 772,
    "start_time": "2024-04-24T19:23:51.598Z"
   },
   {
    "duration": 202,
    "start_time": "2024-04-24T19:23:52.371Z"
   },
   {
    "duration": 407,
    "start_time": "2024-04-25T09:06:28.627Z"
   },
   {
    "duration": 333,
    "start_time": "2024-04-25T09:06:29.865Z"
   },
   {
    "duration": 94,
    "start_time": "2024-04-25T09:07:36.284Z"
   },
   {
    "duration": 121,
    "start_time": "2024-04-25T09:10:09.993Z"
   },
   {
    "duration": 120,
    "start_time": "2024-04-25T09:10:31.650Z"
   },
   {
    "duration": 59,
    "start_time": "2024-04-25T09:13:49.565Z"
   },
   {
    "duration": 68,
    "start_time": "2024-04-25T09:17:19.954Z"
   },
   {
    "duration": 2,
    "start_time": "2024-04-25T09:17:30.033Z"
   },
   {
    "duration": 110,
    "start_time": "2024-04-25T09:17:30.255Z"
   },
   {
    "duration": 50,
    "start_time": "2024-04-25T09:17:31.063Z"
   },
   {
    "duration": 15,
    "start_time": "2024-04-25T09:17:33.357Z"
   },
   {
    "duration": 13,
    "start_time": "2024-04-25T09:17:35.367Z"
   },
   {
    "duration": 17,
    "start_time": "2024-04-25T09:17:37.761Z"
   },
   {
    "duration": 22,
    "start_time": "2024-04-25T09:17:39.364Z"
   },
   {
    "duration": 16,
    "start_time": "2024-04-25T09:25:10.737Z"
   },
   {
    "duration": 5,
    "start_time": "2024-04-25T09:28:10.078Z"
   },
   {
    "duration": 4,
    "start_time": "2024-04-25T09:28:34.605Z"
   },
   {
    "duration": 4,
    "start_time": "2024-04-25T09:28:35.317Z"
   },
   {
    "duration": 92,
    "start_time": "2024-04-25T09:30:14.983Z"
   },
   {
    "duration": 367,
    "start_time": "2024-04-25T20:07:34.199Z"
   },
   {
    "duration": 174,
    "start_time": "2024-04-25T20:07:34.568Z"
   },
   {
    "duration": 104,
    "start_time": "2024-04-25T20:07:36.222Z"
   },
   {
    "duration": 5,
    "start_time": "2024-04-25T20:07:37.198Z"
   },
   {
    "duration": 5,
    "start_time": "2024-04-25T20:07:37.626Z"
   },
   {
    "duration": 16,
    "start_time": "2024-04-25T20:07:37.859Z"
   },
   {
    "duration": 19,
    "start_time": "2024-04-25T20:07:38.097Z"
   },
   {
    "duration": 23,
    "start_time": "2024-04-25T20:07:38.530Z"
   },
   {
    "duration": 23,
    "start_time": "2024-04-25T20:07:39.497Z"
   },
   {
    "duration": 16,
    "start_time": "2024-04-25T20:07:39.932Z"
   },
   {
    "duration": 4,
    "start_time": "2024-04-25T20:07:42.367Z"
   },
   {
    "duration": 17,
    "start_time": "2024-04-25T20:07:44.678Z"
   },
   {
    "duration": 20,
    "start_time": "2024-04-25T20:07:45.683Z"
   },
   {
    "duration": 5,
    "start_time": "2024-04-25T20:07:46.364Z"
   },
   {
    "duration": 4,
    "start_time": "2024-04-25T20:07:49.656Z"
   },
   {
    "duration": 29,
    "start_time": "2024-04-25T20:07:51.896Z"
   },
   {
    "duration": 9,
    "start_time": "2024-04-25T20:07:54.121Z"
   },
   {
    "duration": 4,
    "start_time": "2024-04-25T20:07:55.784Z"
   },
   {
    "duration": 593,
    "start_time": "2024-04-25T20:07:56.204Z"
   },
   {
    "duration": 15,
    "start_time": "2024-04-25T20:08:00.669Z"
   },
   {
    "duration": 23,
    "start_time": "2024-04-25T20:08:03.995Z"
   },
   {
    "duration": 7,
    "start_time": "2024-04-25T20:08:05.629Z"
   },
   {
    "duration": 8,
    "start_time": "2024-04-25T20:08:06.377Z"
   },
   {
    "duration": 29,
    "start_time": "2024-04-25T20:08:27.823Z"
   },
   {
    "duration": 27,
    "start_time": "2024-04-25T20:15:22.271Z"
   },
   {
    "duration": 12,
    "start_time": "2024-04-25T20:15:44.702Z"
   },
   {
    "duration": 11,
    "start_time": "2024-04-25T20:16:05.529Z"
   },
   {
    "duration": 32,
    "start_time": "2024-04-25T20:16:25.982Z"
   },
   {
    "duration": 23,
    "start_time": "2024-04-25T20:19:06.313Z"
   },
   {
    "duration": 6,
    "start_time": "2024-04-25T20:21:45.538Z"
   },
   {
    "duration": 10,
    "start_time": "2024-04-25T20:21:57.773Z"
   },
   {
    "duration": 388,
    "start_time": "2024-04-25T20:22:15.011Z"
   },
   {
    "duration": 117,
    "start_time": "2024-04-25T20:22:15.597Z"
   },
   {
    "duration": 48,
    "start_time": "2024-04-25T20:22:16.151Z"
   },
   {
    "duration": 6,
    "start_time": "2024-04-25T20:22:17.054Z"
   },
   {
    "duration": 4,
    "start_time": "2024-04-25T20:22:17.223Z"
   },
   {
    "duration": 15,
    "start_time": "2024-04-25T20:22:17.390Z"
   },
   {
    "duration": 14,
    "start_time": "2024-04-25T20:22:17.573Z"
   },
   {
    "duration": 18,
    "start_time": "2024-04-25T20:22:17.982Z"
   },
   {
    "duration": 23,
    "start_time": "2024-04-25T20:22:18.365Z"
   },
   {
    "duration": 14,
    "start_time": "2024-04-25T20:22:18.540Z"
   },
   {
    "duration": 6,
    "start_time": "2024-04-25T20:22:21.287Z"
   },
   {
    "duration": 25,
    "start_time": "2024-04-25T20:22:23.002Z"
   },
   {
    "duration": 18,
    "start_time": "2024-04-25T20:22:24.019Z"
   },
   {
    "duration": 5,
    "start_time": "2024-04-25T20:22:24.655Z"
   },
   {
    "duration": 5,
    "start_time": "2024-04-25T20:22:25.971Z"
   },
   {
    "duration": 27,
    "start_time": "2024-04-25T20:22:27.186Z"
   },
   {
    "duration": 10,
    "start_time": "2024-04-25T20:22:28.683Z"
   },
   {
    "duration": 5,
    "start_time": "2024-04-25T20:22:30.338Z"
   },
   {
    "duration": 445,
    "start_time": "2024-04-25T20:22:31.005Z"
   },
   {
    "duration": 13,
    "start_time": "2024-04-25T20:22:45.471Z"
   },
   {
    "duration": 22,
    "start_time": "2024-04-25T20:22:47.438Z"
   },
   {
    "duration": 8,
    "start_time": "2024-04-25T20:22:52.111Z"
   },
   {
    "duration": 26,
    "start_time": "2024-04-25T20:22:52.946Z"
   },
   {
    "duration": 51,
    "start_time": "2024-04-25T20:24:27.388Z"
   },
   {
    "duration": 70,
    "start_time": "2024-04-25T20:24:36.387Z"
   },
   {
    "duration": 13,
    "start_time": "2024-04-25T20:24:48.729Z"
   },
   {
    "duration": 25,
    "start_time": "2024-04-25T20:28:25.108Z"
   },
   {
    "duration": 13,
    "start_time": "2024-04-25T20:32:55.586Z"
   },
   {
    "duration": 28,
    "start_time": "2024-04-25T20:35:37.031Z"
   },
   {
    "duration": 12,
    "start_time": "2024-04-25T20:38:03.340Z"
   },
   {
    "duration": 645,
    "start_time": "2024-04-25T20:53:34.307Z"
   },
   {
    "duration": 6,
    "start_time": "2024-04-25T20:53:36.005Z"
   },
   {
    "duration": 17,
    "start_time": "2024-04-25T20:53:49.780Z"
   },
   {
    "duration": 5,
    "start_time": "2024-04-25T20:53:55.412Z"
   },
   {
    "duration": 11,
    "start_time": "2024-04-25T20:53:56.259Z"
   },
   {
    "duration": 13,
    "start_time": "2024-04-25T20:53:57.468Z"
   },
   {
    "duration": 55,
    "start_time": "2024-04-25T20:53:59.758Z"
   },
   {
    "duration": 4,
    "start_time": "2024-04-25T20:54:00.909Z"
   },
   {
    "duration": 5,
    "start_time": "2024-04-25T20:54:03.253Z"
   },
   {
    "duration": 24,
    "start_time": "2024-04-25T20:54:17.540Z"
   },
   {
    "duration": 20,
    "start_time": "2024-04-25T20:54:22.473Z"
   },
   {
    "duration": 8,
    "start_time": "2024-04-25T20:55:05.287Z"
   },
   {
    "duration": 10,
    "start_time": "2024-04-25T21:10:29.121Z"
   },
   {
    "duration": 31,
    "start_time": "2024-04-25T21:12:16.166Z"
   },
   {
    "duration": 13,
    "start_time": "2024-04-25T21:12:44.562Z"
   },
   {
    "duration": 7,
    "start_time": "2024-04-25T21:12:50.402Z"
   },
   {
    "duration": 9,
    "start_time": "2024-04-25T21:12:52.988Z"
   },
   {
    "duration": 28,
    "start_time": "2024-04-25T21:14:33.328Z"
   },
   {
    "duration": 21,
    "start_time": "2024-04-25T21:14:56.478Z"
   },
   {
    "duration": 9,
    "start_time": "2024-04-25T21:18:44.786Z"
   },
   {
    "duration": 192,
    "start_time": "2024-04-25T21:19:16.423Z"
   },
   {
    "duration": 192,
    "start_time": "2024-04-25T21:24:12.751Z"
   },
   {
    "duration": 172,
    "start_time": "2024-04-25T21:24:54.303Z"
   },
   {
    "duration": 244,
    "start_time": "2024-04-25T21:26:10.362Z"
   },
   {
    "duration": 188,
    "start_time": "2024-04-25T21:26:28.025Z"
   },
   {
    "duration": 194,
    "start_time": "2024-04-25T21:26:44.744Z"
   },
   {
    "duration": 185,
    "start_time": "2024-04-25T21:27:12.075Z"
   },
   {
    "duration": 175,
    "start_time": "2024-04-25T21:27:50.491Z"
   },
   {
    "duration": 208,
    "start_time": "2024-04-25T21:29:35.799Z"
   },
   {
    "duration": 3,
    "start_time": "2024-04-25T21:30:50.105Z"
   },
   {
    "duration": 113,
    "start_time": "2024-04-25T21:30:54.469Z"
   },
   {
    "duration": 182,
    "start_time": "2024-04-25T21:31:17.449Z"
   },
   {
    "duration": 182,
    "start_time": "2024-04-25T21:31:27.862Z"
   },
   {
    "duration": 3,
    "start_time": "2024-04-25T21:32:17.149Z"
   },
   {
    "duration": 27,
    "start_time": "2024-04-25T21:32:25.801Z"
   },
   {
    "duration": 40,
    "start_time": "2024-04-25T21:33:27.214Z"
   },
   {
    "duration": 3,
    "start_time": "2024-04-25T21:34:09.148Z"
   },
   {
    "duration": 116,
    "start_time": "2024-04-25T21:34:09.559Z"
   },
   {
    "duration": 48,
    "start_time": "2024-04-25T21:34:10.247Z"
   },
   {
    "duration": 359,
    "start_time": "2024-04-25T21:34:19.511Z"
   },
   {
    "duration": 116,
    "start_time": "2024-04-25T21:34:19.872Z"
   },
   {
    "duration": 49,
    "start_time": "2024-04-25T21:34:20.233Z"
   },
   {
    "duration": 5,
    "start_time": "2024-04-25T21:34:21.113Z"
   },
   {
    "duration": 4,
    "start_time": "2024-04-25T21:34:21.296Z"
   },
   {
    "duration": 13,
    "start_time": "2024-04-25T21:34:21.464Z"
   },
   {
    "duration": 11,
    "start_time": "2024-04-25T21:34:21.629Z"
   },
   {
    "duration": 16,
    "start_time": "2024-04-25T21:34:21.988Z"
   },
   {
    "duration": 23,
    "start_time": "2024-04-25T21:34:22.337Z"
   },
   {
    "duration": 18,
    "start_time": "2024-04-25T21:34:22.512Z"
   },
   {
    "duration": 4,
    "start_time": "2024-04-25T21:34:23.956Z"
   },
   {
    "duration": 15,
    "start_time": "2024-04-25T21:34:24.830Z"
   },
   {
    "duration": 18,
    "start_time": "2024-04-25T21:34:25.179Z"
   },
   {
    "duration": 5,
    "start_time": "2024-04-25T21:34:25.380Z"
   },
   {
    "duration": 4,
    "start_time": "2024-04-25T21:34:25.759Z"
   },
   {
    "duration": 27,
    "start_time": "2024-04-25T21:34:26.288Z"
   },
   {
    "duration": 10,
    "start_time": "2024-04-25T21:34:26.836Z"
   },
   {
    "duration": 4,
    "start_time": "2024-04-25T21:34:27.162Z"
   },
   {
    "duration": 437,
    "start_time": "2024-04-25T21:34:27.346Z"
   },
   {
    "duration": 13,
    "start_time": "2024-04-25T21:34:27.913Z"
   },
   {
    "duration": 22,
    "start_time": "2024-04-25T21:34:28.446Z"
   },
   {
    "duration": 7,
    "start_time": "2024-04-25T21:34:28.997Z"
   },
   {
    "duration": 12,
    "start_time": "2024-04-25T21:34:29.162Z"
   },
   {
    "duration": 11,
    "start_time": "2024-04-25T21:34:29.332Z"
   },
   {
    "duration": 10,
    "start_time": "2024-04-25T21:34:29.914Z"
   },
   {
    "duration": 6,
    "start_time": "2024-04-25T21:34:30.934Z"
   },
   {
    "duration": 74,
    "start_time": "2024-04-25T21:34:30.942Z"
   },
   {
    "duration": 7,
    "start_time": "2024-04-25T21:34:31.164Z"
   },
   {
    "duration": 14,
    "start_time": "2024-04-25T21:34:31.341Z"
   },
   {
    "duration": 4,
    "start_time": "2024-04-25T21:34:31.721Z"
   },
   {
    "duration": 3,
    "start_time": "2024-04-25T21:34:32.130Z"
   },
   {
    "duration": 382,
    "start_time": "2024-04-25T21:35:25.385Z"
   },
   {
    "duration": 124,
    "start_time": "2024-04-25T21:35:25.799Z"
   },
   {
    "duration": 48,
    "start_time": "2024-04-25T21:35:26.388Z"
   },
   {
    "duration": 6,
    "start_time": "2024-04-25T21:35:27.289Z"
   },
   {
    "duration": 5,
    "start_time": "2024-04-25T21:35:27.462Z"
   },
   {
    "duration": 17,
    "start_time": "2024-04-25T21:35:27.647Z"
   },
   {
    "duration": 13,
    "start_time": "2024-04-25T21:35:27.830Z"
   },
   {
    "duration": 16,
    "start_time": "2024-04-25T21:35:28.212Z"
   },
   {
    "duration": 23,
    "start_time": "2024-04-25T21:35:28.603Z"
   },
   {
    "duration": 20,
    "start_time": "2024-04-25T21:35:28.797Z"
   },
   {
    "duration": 5,
    "start_time": "2024-04-25T21:35:30.381Z"
   },
   {
    "duration": 15,
    "start_time": "2024-04-25T21:35:31.330Z"
   },
   {
    "duration": 29,
    "start_time": "2024-04-25T21:35:31.721Z"
   },
   {
    "duration": 6,
    "start_time": "2024-04-25T21:35:31.895Z"
   },
   {
    "duration": 4,
    "start_time": "2024-04-25T21:35:32.279Z"
   },
   {
    "duration": 27,
    "start_time": "2024-04-25T21:35:32.855Z"
   },
   {
    "duration": 9,
    "start_time": "2024-04-25T21:35:33.448Z"
   },
   {
    "duration": 4,
    "start_time": "2024-04-25T21:35:33.823Z"
   },
   {
    "duration": 431,
    "start_time": "2024-04-25T21:35:33.980Z"
   },
   {
    "duration": 14,
    "start_time": "2024-04-25T21:35:34.513Z"
   },
   {
    "duration": 24,
    "start_time": "2024-04-25T21:35:35.097Z"
   },
   {
    "duration": 7,
    "start_time": "2024-04-25T21:35:35.706Z"
   },
   {
    "duration": 2,
    "start_time": "2024-04-25T21:35:35.880Z"
   },
   {
    "duration": 2,
    "start_time": "2024-04-25T21:35:36.082Z"
   },
   {
    "duration": 16,
    "start_time": "2024-04-25T21:35:37.376Z"
   },
   {
    "duration": 7,
    "start_time": "2024-04-25T21:35:38.491Z"
   },
   {
    "duration": 9,
    "start_time": "2024-04-25T21:35:39.078Z"
   },
   {
    "duration": 15,
    "start_time": "2024-04-25T21:35:39.472Z"
   },
   {
    "duration": 61,
    "start_time": "2024-04-25T21:35:39.648Z"
   },
   {
    "duration": 4,
    "start_time": "2024-04-25T21:35:40.072Z"
   },
   {
    "duration": 5,
    "start_time": "2024-04-25T21:35:40.500Z"
   },
   {
    "duration": 19,
    "start_time": "2024-04-25T21:35:41.664Z"
   },
   {
    "duration": 19,
    "start_time": "2024-04-25T21:35:42.622Z"
   },
   {
    "duration": 7,
    "start_time": "2024-04-25T21:35:43.378Z"
   },
   {
    "duration": 10,
    "start_time": "2024-04-25T21:35:44.844Z"
   },
   {
    "duration": 20,
    "start_time": "2024-04-25T21:35:46.311Z"
   },
   {
    "duration": 15,
    "start_time": "2024-04-25T21:35:47.050Z"
   },
   {
    "duration": 3,
    "start_time": "2024-04-25T21:35:47.378Z"
   },
   {
    "duration": 6,
    "start_time": "2024-04-25T21:35:47.584Z"
   },
   {
    "duration": 7,
    "start_time": "2024-04-25T21:35:47.780Z"
   },
   {
    "duration": 18,
    "start_time": "2024-04-25T21:35:50.088Z"
   },
   {
    "duration": 5,
    "start_time": "2024-04-25T21:35:51.009Z"
   },
   {
    "duration": 174,
    "start_time": "2024-04-25T21:35:52.649Z"
   },
   {
    "duration": 13,
    "start_time": "2024-04-25T21:35:55.044Z"
   },
   {
    "duration": 3,
    "start_time": "2024-04-25T21:35:55.577Z"
   },
   {
    "duration": 221,
    "start_time": "2024-04-25T21:35:56.983Z"
   },
   {
    "duration": 177,
    "start_time": "2024-04-25T21:36:42.010Z"
   },
   {
    "duration": 243,
    "start_time": "2024-04-25T21:36:46.838Z"
   },
   {
    "duration": 6,
    "start_time": "2024-04-25T22:30:09.233Z"
   },
   {
    "duration": 260,
    "start_time": "2024-04-25T22:38:52.912Z"
   },
   {
    "duration": 185,
    "start_time": "2024-04-25T22:41:49.563Z"
   },
   {
    "duration": 361,
    "start_time": "2024-04-25T23:13:33.657Z"
   },
   {
    "duration": 255,
    "start_time": "2024-04-25T23:13:53.028Z"
   },
   {
    "duration": 3,
    "start_time": "2024-04-25T23:14:33.072Z"
   },
   {
    "duration": 273,
    "start_time": "2024-04-25T23:14:59.591Z"
   },
   {
    "duration": 369,
    "start_time": "2024-04-25T23:15:44.207Z"
   },
   {
    "duration": 301,
    "start_time": "2024-04-25T23:17:08.667Z"
   },
   {
    "duration": 266,
    "start_time": "2024-04-25T23:18:24.716Z"
   },
   {
    "duration": 643,
    "start_time": "2024-04-25T23:20:20.735Z"
   },
   {
    "duration": 114,
    "start_time": "2024-04-25T23:20:21.380Z"
   },
   {
    "duration": 47,
    "start_time": "2024-04-25T23:20:21.616Z"
   },
   {
    "duration": 5,
    "start_time": "2024-04-25T23:20:22.575Z"
   },
   {
    "duration": 5,
    "start_time": "2024-04-25T23:20:22.733Z"
   },
   {
    "duration": 15,
    "start_time": "2024-04-25T23:20:22.917Z"
   },
   {
    "duration": 13,
    "start_time": "2024-04-25T23:20:23.082Z"
   },
   {
    "duration": 18,
    "start_time": "2024-04-25T23:20:23.441Z"
   },
   {
    "duration": 21,
    "start_time": "2024-04-25T23:20:23.816Z"
   },
   {
    "duration": 13,
    "start_time": "2024-04-25T23:20:23.982Z"
   },
   {
    "duration": 4,
    "start_time": "2024-04-25T23:20:25.432Z"
   },
   {
    "duration": 16,
    "start_time": "2024-04-25T23:20:26.358Z"
   },
   {
    "duration": 18,
    "start_time": "2024-04-25T23:20:26.717Z"
   },
   {
    "duration": 5,
    "start_time": "2024-04-25T23:20:26.901Z"
   },
   {
    "duration": 5,
    "start_time": "2024-04-25T23:20:27.272Z"
   },
   {
    "duration": 27,
    "start_time": "2024-04-25T23:20:27.842Z"
   },
   {
    "duration": 10,
    "start_time": "2024-04-25T23:20:28.386Z"
   },
   {
    "duration": 4,
    "start_time": "2024-04-25T23:20:28.745Z"
   },
   {
    "duration": 205,
    "start_time": "2024-04-25T23:20:28.916Z"
   },
   {
    "duration": 14,
    "start_time": "2024-04-25T23:20:29.482Z"
   },
   {
    "duration": 24,
    "start_time": "2024-04-25T23:20:30.092Z"
   },
   {
    "duration": 8,
    "start_time": "2024-04-25T23:20:30.619Z"
   },
   {
    "duration": 2,
    "start_time": "2024-04-25T23:20:30.834Z"
   },
   {
    "duration": 2,
    "start_time": "2024-04-25T23:20:31.018Z"
   },
   {
    "duration": 14,
    "start_time": "2024-04-25T23:20:31.567Z"
   },
   {
    "duration": 6,
    "start_time": "2024-04-25T23:20:32.218Z"
   },
   {
    "duration": 7,
    "start_time": "2024-04-25T23:20:32.549Z"
   },
   {
    "duration": 14,
    "start_time": "2024-04-25T23:20:32.933Z"
   },
   {
    "duration": 47,
    "start_time": "2024-04-25T23:20:33.133Z"
   },
   {
    "duration": 4,
    "start_time": "2024-04-25T23:20:33.508Z"
   },
   {
    "duration": 6,
    "start_time": "2024-04-25T23:20:33.883Z"
   },
   {
    "duration": 21,
    "start_time": "2024-04-25T23:20:34.984Z"
   },
   {
    "duration": 27,
    "start_time": "2024-04-25T23:20:35.738Z"
   },
   {
    "duration": 8,
    "start_time": "2024-04-25T23:20:36.530Z"
   },
   {
    "duration": 11,
    "start_time": "2024-04-25T23:20:37.004Z"
   },
   {
    "duration": 18,
    "start_time": "2024-04-25T23:20:37.525Z"
   },
   {
    "duration": 11,
    "start_time": "2024-04-25T23:20:37.889Z"
   },
   {
    "duration": 2,
    "start_time": "2024-04-25T23:20:38.083Z"
   },
   {
    "duration": 6,
    "start_time": "2024-04-25T23:20:38.338Z"
   },
   {
    "duration": 17,
    "start_time": "2024-04-25T23:20:39.295Z"
   },
   {
    "duration": 6,
    "start_time": "2024-04-25T23:20:39.665Z"
   },
   {
    "duration": 5,
    "start_time": "2024-04-25T23:20:40.152Z"
   },
   {
    "duration": 176,
    "start_time": "2024-04-25T23:20:41.063Z"
   },
   {
    "duration": 14,
    "start_time": "2024-04-25T23:20:42.563Z"
   },
   {
    "duration": 3,
    "start_time": "2024-04-25T23:20:42.894Z"
   },
   {
    "duration": 201,
    "start_time": "2024-04-25T23:20:43.365Z"
   },
   {
    "duration": 267,
    "start_time": "2024-04-25T23:21:17.043Z"
   },
   {
    "duration": 178,
    "start_time": "2024-04-25T23:21:18.354Z"
   },
   {
    "duration": 347,
    "start_time": "2024-04-25T23:21:22.461Z"
   },
   {
    "duration": 273,
    "start_time": "2024-04-25T23:25:48.521Z"
   },
   {
    "duration": 49,
    "start_time": "2024-04-26T05:56:19.129Z"
   },
   {
    "duration": 820,
    "start_time": "2024-04-26T05:56:41.095Z"
   },
   {
    "duration": 334,
    "start_time": "2024-04-26T05:56:41.917Z"
   },
   {
    "duration": 92,
    "start_time": "2024-04-26T05:56:42.253Z"
   },
   {
    "duration": 6,
    "start_time": "2024-04-26T05:56:43.099Z"
   },
   {
    "duration": 5,
    "start_time": "2024-04-26T05:56:43.327Z"
   },
   {
    "duration": 16,
    "start_time": "2024-04-26T05:56:43.527Z"
   },
   {
    "duration": 14,
    "start_time": "2024-04-26T05:56:43.726Z"
   },
   {
    "duration": 19,
    "start_time": "2024-04-26T05:56:44.160Z"
   },
   {
    "duration": 31,
    "start_time": "2024-04-26T05:56:44.584Z"
   },
   {
    "duration": 14,
    "start_time": "2024-04-26T05:56:44.759Z"
   },
   {
    "duration": 4,
    "start_time": "2024-04-26T05:56:46.468Z"
   },
   {
    "duration": 15,
    "start_time": "2024-04-26T05:56:47.785Z"
   },
   {
    "duration": 18,
    "start_time": "2024-04-26T05:56:48.254Z"
   },
   {
    "duration": 4,
    "start_time": "2024-04-26T05:56:48.462Z"
   },
   {
    "duration": 5,
    "start_time": "2024-04-26T05:56:49.116Z"
   },
   {
    "duration": 27,
    "start_time": "2024-04-26T05:56:49.806Z"
   },
   {
    "duration": 10,
    "start_time": "2024-04-26T05:56:50.462Z"
   },
   {
    "duration": 4,
    "start_time": "2024-04-26T05:56:50.899Z"
   },
   {
    "duration": 224,
    "start_time": "2024-04-26T05:56:51.077Z"
   },
   {
    "duration": 13,
    "start_time": "2024-04-26T05:56:51.733Z"
   },
   {
    "duration": 32,
    "start_time": "2024-04-26T05:56:52.402Z"
   },
   {
    "duration": 8,
    "start_time": "2024-04-26T05:56:53.018Z"
   },
   {
    "duration": 2,
    "start_time": "2024-04-26T05:56:53.193Z"
   },
   {
    "duration": 2,
    "start_time": "2024-04-26T05:56:53.377Z"
   },
   {
    "duration": 18,
    "start_time": "2024-04-26T05:56:53.999Z"
   },
   {
    "duration": 5,
    "start_time": "2024-04-26T05:56:54.635Z"
   },
   {
    "duration": 8,
    "start_time": "2024-04-26T05:56:55.068Z"
   },
   {
    "duration": 16,
    "start_time": "2024-04-26T05:56:55.490Z"
   },
   {
    "duration": 52,
    "start_time": "2024-04-26T05:56:55.709Z"
   },
   {
    "duration": 4,
    "start_time": "2024-04-26T05:56:56.181Z"
   },
   {
    "duration": 4,
    "start_time": "2024-04-26T05:56:56.635Z"
   },
   {
    "duration": 20,
    "start_time": "2024-04-26T05:56:58.208Z"
   },
   {
    "duration": 20,
    "start_time": "2024-04-26T05:56:59.084Z"
   },
   {
    "duration": 8,
    "start_time": "2024-04-26T05:56:59.720Z"
   },
   {
    "duration": 11,
    "start_time": "2024-04-26T05:57:00.135Z"
   },
   {
    "duration": 22,
    "start_time": "2024-04-26T05:57:00.835Z"
   },
   {
    "duration": 12,
    "start_time": "2024-04-26T05:57:01.283Z"
   },
   {
    "duration": 3,
    "start_time": "2024-04-26T05:57:01.495Z"
   },
   {
    "duration": 6,
    "start_time": "2024-04-26T05:57:01.712Z"
   },
   {
    "duration": 19,
    "start_time": "2024-04-26T05:57:02.718Z"
   },
   {
    "duration": 6,
    "start_time": "2024-04-26T05:57:02.929Z"
   },
   {
    "duration": 6,
    "start_time": "2024-04-26T05:57:03.387Z"
   },
   {
    "duration": 197,
    "start_time": "2024-04-26T05:57:04.320Z"
   },
   {
    "duration": 14,
    "start_time": "2024-04-26T05:57:05.468Z"
   },
   {
    "duration": 3,
    "start_time": "2024-04-26T05:57:05.679Z"
   },
   {
    "duration": 206,
    "start_time": "2024-04-26T05:57:05.894Z"
   },
   {
    "duration": 271,
    "start_time": "2024-04-26T05:57:06.872Z"
   },
   {
    "duration": 201,
    "start_time": "2024-04-26T05:57:07.763Z"
   },
   {
    "duration": 377,
    "start_time": "2024-04-26T05:57:10.068Z"
   },
   {
    "duration": 4,
    "start_time": "2024-04-26T05:57:12.365Z"
   },
   {
    "duration": 18,
    "start_time": "2024-04-26T05:57:13.035Z"
   },
   {
    "duration": 244,
    "start_time": "2024-04-26T05:57:13.602Z"
   },
   {
    "duration": 873,
    "start_time": "2024-04-26T05:57:14.355Z"
   },
   {
    "duration": 187,
    "start_time": "2024-04-26T05:57:15.932Z"
   },
   {
    "duration": 19,
    "start_time": "2024-04-26T05:57:18.336Z"
   },
   {
    "duration": 21,
    "start_time": "2024-04-26T06:01:08.631Z"
   },
   {
    "duration": 20,
    "start_time": "2024-04-26T06:01:26.890Z"
   },
   {
    "duration": 347,
    "start_time": "2024-04-26T06:02:38.243Z"
   },
   {
    "duration": 20,
    "start_time": "2024-04-26T06:04:40.287Z"
   },
   {
    "duration": 17,
    "start_time": "2024-04-26T06:05:01.683Z"
   },
   {
    "duration": 27,
    "start_time": "2024-04-26T06:06:16.732Z"
   },
   {
    "duration": 19,
    "start_time": "2024-04-26T06:06:25.207Z"
   },
   {
    "duration": 20,
    "start_time": "2024-04-26T06:06:37.455Z"
   },
   {
    "duration": 22,
    "start_time": "2024-04-26T06:11:32.627Z"
   },
   {
    "duration": 276,
    "start_time": "2024-04-26T06:13:59.486Z"
   },
   {
    "duration": 335,
    "start_time": "2024-04-26T06:14:31.307Z"
   },
   {
    "duration": 313,
    "start_time": "2024-04-26T06:16:38.680Z"
   },
   {
    "duration": 47,
    "start_time": "2024-04-26T12:10:53.320Z"
   },
   {
    "duration": 780,
    "start_time": "2024-04-26T12:11:41.531Z"
   },
   {
    "duration": 337,
    "start_time": "2024-04-26T12:11:42.313Z"
   },
   {
    "duration": 115,
    "start_time": "2024-04-26T12:11:48.018Z"
   },
   {
    "duration": 5,
    "start_time": "2024-04-26T12:11:48.866Z"
   },
   {
    "duration": 6,
    "start_time": "2024-04-26T12:11:49.077Z"
   },
   {
    "duration": 16,
    "start_time": "2024-04-26T12:11:49.256Z"
   },
   {
    "duration": 12,
    "start_time": "2024-04-26T12:11:49.416Z"
   },
   {
    "duration": 17,
    "start_time": "2024-04-26T12:11:49.836Z"
   },
   {
    "duration": 21,
    "start_time": "2024-04-26T12:11:50.629Z"
   },
   {
    "duration": 13,
    "start_time": "2024-04-26T12:11:51.031Z"
   },
   {
    "duration": 4,
    "start_time": "2024-04-26T12:11:53.822Z"
   },
   {
    "duration": 15,
    "start_time": "2024-04-26T12:11:56.604Z"
   },
   {
    "duration": 18,
    "start_time": "2024-04-26T12:11:59.172Z"
   },
   {
    "duration": 4,
    "start_time": "2024-04-26T12:11:59.915Z"
   },
   {
    "duration": 5,
    "start_time": "2024-04-26T12:12:01.122Z"
   },
   {
    "duration": 27,
    "start_time": "2024-04-26T12:12:05.771Z"
   },
   {
    "duration": 10,
    "start_time": "2024-04-26T12:12:07.486Z"
   },
   {
    "duration": 5,
    "start_time": "2024-04-26T12:12:08.290Z"
   },
   {
    "duration": 213,
    "start_time": "2024-04-26T12:12:10.811Z"
   },
   {
    "duration": 20,
    "start_time": "2024-04-26T12:12:12.947Z"
   },
   {
    "duration": 22,
    "start_time": "2024-04-26T12:12:14.859Z"
   },
   {
    "duration": 7,
    "start_time": "2024-04-26T12:12:16.674Z"
   },
   {
    "duration": 13,
    "start_time": "2024-04-26T12:12:18.284Z"
   },
   {
    "duration": 23,
    "start_time": "2024-04-26T12:12:29.123Z"
   },
   {
    "duration": 13,
    "start_time": "2024-04-26T12:13:16.157Z"
   },
   {
    "duration": 101,
    "start_time": "2024-04-26T12:23:23.125Z"
   },
   {
    "duration": 85,
    "start_time": "2024-04-26T12:26:33.337Z"
   },
   {
    "duration": 15,
    "start_time": "2024-04-26T12:29:21.584Z"
   },
   {
    "duration": 48,
    "start_time": "2024-04-26T12:29:36.499Z"
   },
   {
    "duration": 7,
    "start_time": "2024-04-26T12:29:37.169Z"
   },
   {
    "duration": 7,
    "start_time": "2024-04-26T12:29:38.453Z"
   },
   {
    "duration": 6,
    "start_time": "2024-04-26T12:29:39.800Z"
   },
   {
    "duration": 6,
    "start_time": "2024-04-26T12:29:40.263Z"
   },
   {
    "duration": 993,
    "start_time": "2024-04-26T12:29:58.108Z"
   },
   {
    "duration": 116,
    "start_time": "2024-04-26T12:29:59.102Z"
   },
   {
    "duration": 59,
    "start_time": "2024-04-26T12:30:04.337Z"
   },
   {
    "duration": 6,
    "start_time": "2024-04-26T12:30:07.763Z"
   },
   {
    "duration": 4,
    "start_time": "2024-04-26T12:30:08.212Z"
   },
   {
    "duration": 15,
    "start_time": "2024-04-26T12:30:10.620Z"
   },
   {
    "duration": 12,
    "start_time": "2024-04-26T12:30:12.895Z"
   },
   {
    "duration": 23,
    "start_time": "2024-04-26T12:30:15.463Z"
   },
   {
    "duration": 22,
    "start_time": "2024-04-26T12:30:18.101Z"
   },
   {
    "duration": 20,
    "start_time": "2024-04-26T12:30:20.937Z"
   },
   {
    "duration": 5,
    "start_time": "2024-04-26T12:30:25.384Z"
   },
   {
    "duration": 15,
    "start_time": "2024-04-26T12:30:28.421Z"
   },
   {
    "duration": 28,
    "start_time": "2024-04-26T12:30:31.568Z"
   },
   {
    "duration": 4,
    "start_time": "2024-04-26T12:30:36.022Z"
   },
   {
    "duration": 6,
    "start_time": "2024-04-26T12:30:44.975Z"
   },
   {
    "duration": 26,
    "start_time": "2024-04-26T12:30:47.946Z"
   },
   {
    "duration": 11,
    "start_time": "2024-04-26T12:30:50.792Z"
   },
   {
    "duration": 4,
    "start_time": "2024-04-26T12:30:56.355Z"
   },
   {
    "duration": 257,
    "start_time": "2024-04-26T12:31:03.289Z"
   },
   {
    "duration": 13,
    "start_time": "2024-04-26T12:31:10.025Z"
   },
   {
    "duration": 23,
    "start_time": "2024-04-26T12:31:13.585Z"
   },
   {
    "duration": 8,
    "start_time": "2024-04-26T12:31:16.300Z"
   },
   {
    "duration": 16,
    "start_time": "2024-04-26T12:31:30.285Z"
   },
   {
    "duration": 5,
    "start_time": "2024-04-26T12:31:32.659Z"
   },
   {
    "duration": 7,
    "start_time": "2024-04-26T12:31:33.669Z"
   },
   {
    "duration": 14,
    "start_time": "2024-04-26T12:31:35.980Z"
   },
   {
    "duration": 48,
    "start_time": "2024-04-26T12:31:39.566Z"
   },
   {
    "duration": 3,
    "start_time": "2024-04-26T12:31:42.113Z"
   },
   {
    "duration": 5,
    "start_time": "2024-04-26T12:31:43.045Z"
   },
   {
    "duration": 20,
    "start_time": "2024-04-26T12:31:49.853Z"
   },
   {
    "duration": 25,
    "start_time": "2024-04-26T12:31:58.190Z"
   },
   {
    "duration": 110,
    "start_time": "2024-04-26T12:32:02.784Z"
   },
   {
    "duration": 18,
    "start_time": "2024-04-26T12:32:21.154Z"
   },
   {
    "duration": 10,
    "start_time": "2024-04-26T12:35:07.228Z"
   },
   {
    "duration": 19,
    "start_time": "2024-04-26T12:35:18.424Z"
   },
   {
    "duration": 12,
    "start_time": "2024-04-26T12:35:22.781Z"
   },
   {
    "duration": 6,
    "start_time": "2024-04-26T12:35:25.940Z"
   },
   {
    "duration": 18,
    "start_time": "2024-04-26T12:35:30.262Z"
   },
   {
    "duration": 5,
    "start_time": "2024-04-26T12:36:11.153Z"
   },
   {
    "duration": 175,
    "start_time": "2024-04-26T12:36:16.545Z"
   },
   {
    "duration": 14,
    "start_time": "2024-04-26T12:36:21.646Z"
   },
   {
    "duration": 3,
    "start_time": "2024-04-26T12:36:25.626Z"
   },
   {
    "duration": 21,
    "start_time": "2024-04-26T12:36:27.272Z"
   },
   {
    "duration": 626,
    "start_time": "2024-04-26T12:41:16.196Z"
   },
   {
    "duration": 115,
    "start_time": "2024-04-26T12:41:16.824Z"
   },
   {
    "duration": 48,
    "start_time": "2024-04-26T12:41:16.940Z"
   },
   {
    "duration": 5,
    "start_time": "2024-04-26T12:41:17.721Z"
   },
   {
    "duration": 5,
    "start_time": "2024-04-26T12:41:17.882Z"
   },
   {
    "duration": 16,
    "start_time": "2024-04-26T12:41:18.067Z"
   },
   {
    "duration": 13,
    "start_time": "2024-04-26T12:41:18.231Z"
   },
   {
    "duration": 18,
    "start_time": "2024-04-26T12:41:18.568Z"
   },
   {
    "duration": 22,
    "start_time": "2024-04-26T12:41:18.889Z"
   },
   {
    "duration": 13,
    "start_time": "2024-04-26T12:41:19.048Z"
   },
   {
    "duration": 4,
    "start_time": "2024-04-26T12:41:20.365Z"
   },
   {
    "duration": 14,
    "start_time": "2024-04-26T12:41:21.223Z"
   },
   {
    "duration": 23,
    "start_time": "2024-04-26T12:41:21.549Z"
   },
   {
    "duration": 5,
    "start_time": "2024-04-26T12:41:21.717Z"
   },
   {
    "duration": 4,
    "start_time": "2024-04-26T12:41:22.050Z"
   },
   {
    "duration": 25,
    "start_time": "2024-04-26T12:41:22.586Z"
   },
   {
    "duration": 10,
    "start_time": "2024-04-26T12:41:23.083Z"
   },
   {
    "duration": 4,
    "start_time": "2024-04-26T12:41:23.422Z"
   },
   {
    "duration": 218,
    "start_time": "2024-04-26T12:41:23.600Z"
   },
   {
    "duration": 15,
    "start_time": "2024-04-26T12:41:24.118Z"
   },
   {
    "duration": 22,
    "start_time": "2024-04-26T12:41:24.638Z"
   },
   {
    "duration": 6,
    "start_time": "2024-04-26T12:41:25.194Z"
   },
   {
    "duration": 2,
    "start_time": "2024-04-26T12:41:25.367Z"
   },
   {
    "duration": 2,
    "start_time": "2024-04-26T12:41:25.757Z"
   },
   {
    "duration": 16,
    "start_time": "2024-04-26T12:41:26.339Z"
   },
   {
    "duration": 8,
    "start_time": "2024-04-26T12:41:26.891Z"
   },
   {
    "duration": 8,
    "start_time": "2024-04-26T12:41:27.257Z"
   },
   {
    "duration": 14,
    "start_time": "2024-04-26T12:41:27.637Z"
   },
   {
    "duration": 50,
    "start_time": "2024-04-26T12:41:27.799Z"
   },
   {
    "duration": 4,
    "start_time": "2024-04-26T12:41:28.173Z"
   },
   {
    "duration": 4,
    "start_time": "2024-04-26T12:41:28.524Z"
   },
   {
    "duration": 21,
    "start_time": "2024-04-26T12:41:29.791Z"
   },
   {
    "duration": 19,
    "start_time": "2024-04-26T12:41:30.510Z"
   },
   {
    "duration": 115,
    "start_time": "2024-04-26T12:41:31.073Z"
   },
   {
    "duration": 2,
    "start_time": "2024-04-26T12:41:31.457Z"
   },
   {
    "duration": 23,
    "start_time": "2024-04-26T12:41:32.460Z"
   },
   {
    "duration": 14,
    "start_time": "2024-04-26T12:41:32.816Z"
   },
   {
    "duration": 2,
    "start_time": "2024-04-26T12:41:33.093Z"
   },
   {
    "duration": 8,
    "start_time": "2024-04-26T12:41:33.623Z"
   },
   {
    "duration": 17,
    "start_time": "2024-04-26T12:41:34.549Z"
   },
   {
    "duration": 5,
    "start_time": "2024-04-26T12:41:34.732Z"
   },
   {
    "duration": 7,
    "start_time": "2024-04-26T12:41:35.140Z"
   },
   {
    "duration": 179,
    "start_time": "2024-04-26T12:41:35.914Z"
   },
   {
    "duration": 17,
    "start_time": "2024-04-26T12:41:37.774Z"
   },
   {
    "duration": 3,
    "start_time": "2024-04-26T12:41:38.304Z"
   },
   {
    "duration": 22,
    "start_time": "2024-04-26T12:41:39.015Z"
   },
   {
    "duration": 249,
    "start_time": "2024-04-26T12:41:56.395Z"
   },
   {
    "duration": 196,
    "start_time": "2024-04-26T12:42:07.147Z"
   },
   {
    "duration": 180,
    "start_time": "2024-04-26T12:45:46.173Z"
   },
   {
    "duration": 179,
    "start_time": "2024-04-26T12:46:01.853Z"
   },
   {
    "duration": 247,
    "start_time": "2024-04-26T12:46:11.620Z"
   },
   {
    "duration": 251,
    "start_time": "2024-04-26T12:47:19.808Z"
   },
   {
    "duration": 278,
    "start_time": "2024-04-26T12:48:08.568Z"
   },
   {
    "duration": 271,
    "start_time": "2024-04-26T12:49:37.215Z"
   },
   {
    "duration": 9,
    "start_time": "2024-04-26T12:53:03.032Z"
   },
   {
    "duration": 237,
    "start_time": "2024-04-26T12:53:03.933Z"
   },
   {
    "duration": 13,
    "start_time": "2024-04-26T12:55:18.443Z"
   },
   {
    "duration": 11,
    "start_time": "2024-04-26T12:55:39.571Z"
   },
   {
    "duration": 11,
    "start_time": "2024-04-26T12:56:27.493Z"
   },
   {
    "duration": 11,
    "start_time": "2024-04-26T12:57:03.869Z"
   },
   {
    "duration": 35,
    "start_time": "2024-04-26T12:57:33.348Z"
   },
   {
    "duration": 23,
    "start_time": "2024-04-26T12:57:41.426Z"
   },
   {
    "duration": 18,
    "start_time": "2024-04-26T13:00:58.798Z"
   },
   {
    "duration": 149,
    "start_time": "2024-04-26T13:03:46.229Z"
   },
   {
    "duration": 5,
    "start_time": "2024-04-26T13:07:27.777Z"
   },
   {
    "duration": 13,
    "start_time": "2024-04-26T13:07:40.760Z"
   },
   {
    "duration": 238,
    "start_time": "2024-04-26T13:07:52.700Z"
   },
   {
    "duration": 292,
    "start_time": "2024-04-26T13:13:01.249Z"
   },
   {
    "duration": 242,
    "start_time": "2024-04-26T13:13:11.083Z"
   },
   {
    "duration": 46,
    "start_time": "2024-04-26T16:44:21.859Z"
   },
   {
    "duration": 567,
    "start_time": "2024-04-26T16:44:28.803Z"
   },
   {
    "duration": 113,
    "start_time": "2024-04-26T16:44:29.371Z"
   },
   {
    "duration": 55,
    "start_time": "2024-04-26T16:44:29.485Z"
   },
   {
    "duration": 6,
    "start_time": "2024-04-26T16:44:29.543Z"
   },
   {
    "duration": 10,
    "start_time": "2024-04-26T16:44:29.551Z"
   },
   {
    "duration": 20,
    "start_time": "2024-04-26T16:44:29.562Z"
   },
   {
    "duration": 14,
    "start_time": "2024-04-26T16:44:29.584Z"
   },
   {
    "duration": 21,
    "start_time": "2024-04-26T16:44:29.599Z"
   },
   {
    "duration": 32,
    "start_time": "2024-04-26T16:44:29.622Z"
   },
   {
    "duration": 13,
    "start_time": "2024-04-26T16:44:29.657Z"
   },
   {
    "duration": 4,
    "start_time": "2024-04-26T16:44:29.672Z"
   },
   {
    "duration": 24,
    "start_time": "2024-04-26T16:44:29.678Z"
   },
   {
    "duration": 18,
    "start_time": "2024-04-26T16:44:29.703Z"
   },
   {
    "duration": 4,
    "start_time": "2024-04-26T16:44:29.745Z"
   },
   {
    "duration": 6,
    "start_time": "2024-04-26T16:44:29.751Z"
   },
   {
    "duration": 25,
    "start_time": "2024-04-26T16:44:29.758Z"
   },
   {
    "duration": 9,
    "start_time": "2024-04-26T16:44:29.784Z"
   },
   {
    "duration": 4,
    "start_time": "2024-04-26T16:44:29.795Z"
   },
   {
    "duration": 267,
    "start_time": "2024-04-26T16:44:29.800Z"
   },
   {
    "duration": 12,
    "start_time": "2024-04-26T16:44:30.069Z"
   },
   {
    "duration": 49,
    "start_time": "2024-04-26T16:44:30.083Z"
   },
   {
    "duration": 69,
    "start_time": "2024-04-26T16:44:30.134Z"
   },
   {
    "duration": 33,
    "start_time": "2024-04-26T16:44:30.205Z"
   },
   {
    "duration": 76,
    "start_time": "2024-04-26T16:44:30.239Z"
   },
   {
    "duration": 54,
    "start_time": "2024-04-26T16:44:30.316Z"
   },
   {
    "duration": 19,
    "start_time": "2024-04-26T16:44:30.371Z"
   },
   {
    "duration": 64,
    "start_time": "2024-04-26T16:44:30.391Z"
   },
   {
    "duration": 61,
    "start_time": "2024-04-26T16:44:30.458Z"
   },
   {
    "duration": 95,
    "start_time": "2024-04-26T16:44:30.520Z"
   },
   {
    "duration": 3,
    "start_time": "2024-04-26T16:44:30.617Z"
   },
   {
    "duration": 46,
    "start_time": "2024-04-26T16:44:30.622Z"
   },
   {
    "duration": 69,
    "start_time": "2024-04-26T16:44:30.669Z"
   },
   {
    "duration": 44,
    "start_time": "2024-04-26T16:44:30.740Z"
   },
   {
    "duration": 146,
    "start_time": "2024-04-26T16:44:30.786Z"
   },
   {
    "duration": 29,
    "start_time": "2024-04-26T16:44:30.934Z"
   },
   {
    "duration": 82,
    "start_time": "2024-04-26T16:44:30.965Z"
   },
   {
    "duration": 32,
    "start_time": "2024-04-26T16:44:31.049Z"
   },
   {
    "duration": 28,
    "start_time": "2024-04-26T16:44:31.083Z"
   },
   {
    "duration": 24,
    "start_time": "2024-04-26T16:44:31.112Z"
   },
   {
    "duration": 17,
    "start_time": "2024-04-26T16:44:31.137Z"
   },
   {
    "duration": 25,
    "start_time": "2024-04-26T16:44:31.155Z"
   },
   {
    "duration": 31,
    "start_time": "2024-04-26T16:44:31.181Z"
   },
   {
    "duration": 205,
    "start_time": "2024-04-26T16:44:31.213Z"
   },
   {
    "duration": 14,
    "start_time": "2024-04-26T16:44:31.420Z"
   },
   {
    "duration": 21,
    "start_time": "2024-04-26T16:44:31.435Z"
   },
   {
    "duration": 234,
    "start_time": "2024-04-26T16:44:31.458Z"
   },
   {
    "duration": 176,
    "start_time": "2024-04-26T16:44:31.693Z"
   },
   {
    "duration": 175,
    "start_time": "2024-04-26T16:44:31.871Z"
   },
   {
    "duration": 7,
    "start_time": "2024-04-26T16:44:32.048Z"
   },
   {
    "duration": 250,
    "start_time": "2024-04-26T16:44:32.056Z"
   },
   {
    "duration": 165,
    "start_time": "2024-04-26T16:44:32.307Z"
   },
   {
    "duration": 6,
    "start_time": "2024-04-26T16:44:32.474Z"
   },
   {
    "duration": 26,
    "start_time": "2024-04-26T16:44:32.482Z"
   },
   {
    "duration": 280,
    "start_time": "2024-04-26T16:44:32.510Z"
   },
   {
    "duration": 776,
    "start_time": "2024-04-26T16:44:32.791Z"
   },
   {
    "duration": 178,
    "start_time": "2024-04-26T16:44:33.568Z"
   },
   {
    "duration": 242,
    "start_time": "2024-04-26T16:44:33.748Z"
   },
   {
    "duration": 271,
    "start_time": "2024-04-26T16:44:33.991Z"
   },
   {
    "duration": 70,
    "start_time": "2024-04-26T16:45:12.218Z"
   },
   {
    "duration": 6,
    "start_time": "2024-04-26T16:45:17.449Z"
   },
   {
    "duration": 379,
    "start_time": "2024-04-26T16:48:29.371Z"
   },
   {
    "duration": 20,
    "start_time": "2024-04-26T16:57:11.428Z"
   },
   {
    "duration": 14,
    "start_time": "2024-04-26T17:04:22.903Z"
   },
   {
    "duration": 15,
    "start_time": "2024-04-26T17:04:46.553Z"
   },
   {
    "duration": 14,
    "start_time": "2024-04-26T17:04:52.000Z"
   },
   {
    "duration": 648,
    "start_time": "2024-04-26T17:06:25.631Z"
   },
   {
    "duration": 114,
    "start_time": "2024-04-26T17:06:26.281Z"
   },
   {
    "duration": 48,
    "start_time": "2024-04-26T17:06:26.396Z"
   },
   {
    "duration": 6,
    "start_time": "2024-04-26T17:06:26.446Z"
   },
   {
    "duration": 10,
    "start_time": "2024-04-26T17:06:26.454Z"
   },
   {
    "duration": 16,
    "start_time": "2024-04-26T17:06:26.466Z"
   },
   {
    "duration": 27,
    "start_time": "2024-04-26T17:06:26.484Z"
   },
   {
    "duration": 21,
    "start_time": "2024-04-26T17:06:26.513Z"
   },
   {
    "duration": 22,
    "start_time": "2024-04-26T17:06:26.545Z"
   },
   {
    "duration": 14,
    "start_time": "2024-04-26T17:06:26.569Z"
   },
   {
    "duration": 4,
    "start_time": "2024-04-26T17:06:26.585Z"
   },
   {
    "duration": 16,
    "start_time": "2024-04-26T17:06:26.591Z"
   },
   {
    "duration": 53,
    "start_time": "2024-04-26T17:06:26.609Z"
   },
   {
    "duration": 5,
    "start_time": "2024-04-26T17:06:26.665Z"
   },
   {
    "duration": 6,
    "start_time": "2024-04-26T17:06:26.671Z"
   },
   {
    "duration": 40,
    "start_time": "2024-04-26T17:06:26.678Z"
   },
   {
    "duration": 26,
    "start_time": "2024-04-26T17:06:26.720Z"
   },
   {
    "duration": 5,
    "start_time": "2024-04-26T17:06:26.748Z"
   },
   {
    "duration": 237,
    "start_time": "2024-04-26T17:06:26.755Z"
   },
   {
    "duration": 13,
    "start_time": "2024-04-26T17:06:26.994Z"
   },
   {
    "duration": 38,
    "start_time": "2024-04-26T17:06:27.009Z"
   },
   {
    "duration": 6,
    "start_time": "2024-04-26T17:06:27.049Z"
   },
   {
    "duration": 3,
    "start_time": "2024-04-26T17:06:27.057Z"
   },
   {
    "duration": 14,
    "start_time": "2024-04-26T17:06:27.061Z"
   },
   {
    "duration": 19,
    "start_time": "2024-04-26T17:06:27.077Z"
   },
   {
    "duration": 5,
    "start_time": "2024-04-26T17:06:27.098Z"
   },
   {
    "duration": 8,
    "start_time": "2024-04-26T17:06:27.104Z"
   },
   {
    "duration": 33,
    "start_time": "2024-04-26T17:06:27.114Z"
   },
   {
    "duration": 54,
    "start_time": "2024-04-26T17:06:27.149Z"
   },
   {
    "duration": 4,
    "start_time": "2024-04-26T17:06:27.205Z"
   },
   {
    "duration": 22,
    "start_time": "2024-04-26T17:06:27.210Z"
   },
   {
    "duration": 21,
    "start_time": "2024-04-26T17:06:27.246Z"
   },
   {
    "duration": 19,
    "start_time": "2024-04-26T17:06:27.269Z"
   },
   {
    "duration": 132,
    "start_time": "2024-04-26T17:06:27.289Z"
   },
   {
    "duration": 35,
    "start_time": "2024-04-26T17:06:27.422Z"
   },
   {
    "duration": 13,
    "start_time": "2024-04-26T17:06:27.459Z"
   },
   {
    "duration": 4,
    "start_time": "2024-04-26T17:06:27.474Z"
   },
   {
    "duration": 12,
    "start_time": "2024-04-26T17:06:27.480Z"
   },
   {
    "duration": 20,
    "start_time": "2024-04-26T17:06:27.494Z"
   },
   {
    "duration": 33,
    "start_time": "2024-04-26T17:06:27.515Z"
   },
   {
    "duration": 10,
    "start_time": "2024-04-26T17:06:27.552Z"
   },
   {
    "duration": 215,
    "start_time": "2024-04-26T17:06:27.563Z"
   },
   {
    "duration": 14,
    "start_time": "2024-04-26T17:06:27.780Z"
   },
   {
    "duration": 6,
    "start_time": "2024-04-26T17:06:27.795Z"
   },
   {
    "duration": 267,
    "start_time": "2024-04-26T17:06:27.802Z"
   },
   {
    "duration": 209,
    "start_time": "2024-04-26T17:06:28.071Z"
   },
   {
    "duration": 204,
    "start_time": "2024-04-26T17:06:28.281Z"
   },
   {
    "duration": 8,
    "start_time": "2024-04-26T17:06:28.487Z"
   },
   {
    "duration": 259,
    "start_time": "2024-04-26T17:06:28.497Z"
   },
   {
    "duration": 162,
    "start_time": "2024-04-26T17:06:28.758Z"
   },
   {
    "duration": 27,
    "start_time": "2024-04-26T17:06:28.922Z"
   },
   {
    "duration": 6,
    "start_time": "2024-04-26T17:06:28.951Z"
   },
   {
    "duration": 17,
    "start_time": "2024-04-26T17:06:28.958Z"
   },
   {
    "duration": 254,
    "start_time": "2024-04-26T17:06:28.977Z"
   },
   {
    "duration": 821,
    "start_time": "2024-04-26T17:06:29.233Z"
   },
   {
    "duration": 177,
    "start_time": "2024-04-26T17:06:30.056Z"
   },
   {
    "duration": 255,
    "start_time": "2024-04-26T17:06:30.235Z"
   },
   {
    "duration": 299,
    "start_time": "2024-04-26T17:06:30.491Z"
   },
   {
    "duration": 15,
    "start_time": "2024-04-26T17:06:30.792Z"
   },
   {
    "duration": 643,
    "start_time": "2024-04-26T17:10:52.513Z"
   },
   {
    "duration": 112,
    "start_time": "2024-04-26T17:10:53.158Z"
   },
   {
    "duration": 47,
    "start_time": "2024-04-26T17:10:53.271Z"
   },
   {
    "duration": 5,
    "start_time": "2024-04-26T17:10:53.320Z"
   },
   {
    "duration": 4,
    "start_time": "2024-04-26T17:10:53.327Z"
   },
   {
    "duration": 15,
    "start_time": "2024-04-26T17:10:53.332Z"
   },
   {
    "duration": 11,
    "start_time": "2024-04-26T17:10:53.348Z"
   },
   {
    "duration": 16,
    "start_time": "2024-04-26T17:10:53.360Z"
   },
   {
    "duration": 21,
    "start_time": "2024-04-26T17:10:53.378Z"
   },
   {
    "duration": 13,
    "start_time": "2024-04-26T17:10:53.401Z"
   },
   {
    "duration": 4,
    "start_time": "2024-04-26T17:10:53.446Z"
   },
   {
    "duration": 15,
    "start_time": "2024-04-26T17:10:53.451Z"
   },
   {
    "duration": 25,
    "start_time": "2024-04-26T17:10:53.468Z"
   },
   {
    "duration": 5,
    "start_time": "2024-04-26T17:10:53.496Z"
   },
   {
    "duration": 5,
    "start_time": "2024-04-26T17:10:53.503Z"
   },
   {
    "duration": 66,
    "start_time": "2024-04-26T17:10:53.509Z"
   },
   {
    "duration": 9,
    "start_time": "2024-04-26T17:10:53.577Z"
   },
   {
    "duration": 4,
    "start_time": "2024-04-26T17:10:53.587Z"
   },
   {
    "duration": 229,
    "start_time": "2024-04-26T17:10:53.592Z"
   },
   {
    "duration": 24,
    "start_time": "2024-04-26T17:10:53.823Z"
   },
   {
    "duration": 21,
    "start_time": "2024-04-26T17:10:53.848Z"
   },
   {
    "duration": 7,
    "start_time": "2024-04-26T17:10:53.871Z"
   },
   {
    "duration": 2,
    "start_time": "2024-04-26T17:10:53.879Z"
   },
   {
    "duration": 22,
    "start_time": "2024-04-26T17:10:53.882Z"
   },
   {
    "duration": 17,
    "start_time": "2024-04-26T17:10:53.906Z"
   },
   {
    "duration": 20,
    "start_time": "2024-04-26T17:10:53.925Z"
   },
   {
    "duration": 9,
    "start_time": "2024-04-26T17:10:53.946Z"
   },
   {
    "duration": 13,
    "start_time": "2024-04-26T17:10:53.956Z"
   },
   {
    "duration": 48,
    "start_time": "2024-04-26T17:10:53.971Z"
   },
   {
    "duration": 27,
    "start_time": "2024-04-26T17:10:54.020Z"
   },
   {
    "duration": 9,
    "start_time": "2024-04-26T17:10:54.049Z"
   },
   {
    "duration": 24,
    "start_time": "2024-04-26T17:10:54.060Z"
   },
   {
    "duration": 19,
    "start_time": "2024-04-26T17:10:54.085Z"
   },
   {
    "duration": 119,
    "start_time": "2024-04-26T17:10:54.105Z"
   },
   {
    "duration": 31,
    "start_time": "2024-04-26T17:10:54.225Z"
   },
   {
    "duration": 20,
    "start_time": "2024-04-26T17:10:54.257Z"
   },
   {
    "duration": 32,
    "start_time": "2024-04-26T17:10:54.278Z"
   },
   {
    "duration": 30,
    "start_time": "2024-04-26T17:10:54.312Z"
   },
   {
    "duration": 46,
    "start_time": "2024-04-26T17:10:54.344Z"
   },
   {
    "duration": 14,
    "start_time": "2024-04-26T17:10:54.391Z"
   },
   {
    "duration": 31,
    "start_time": "2024-04-26T17:10:54.408Z"
   },
   {
    "duration": 192,
    "start_time": "2024-04-26T17:10:54.440Z"
   },
   {
    "duration": 18,
    "start_time": "2024-04-26T17:10:54.633Z"
   },
   {
    "duration": 14,
    "start_time": "2024-04-26T17:10:54.652Z"
   },
   {
    "duration": 261,
    "start_time": "2024-04-26T17:10:54.667Z"
   },
   {
    "duration": 187,
    "start_time": "2024-04-26T17:10:54.930Z"
   },
   {
    "duration": 182,
    "start_time": "2024-04-26T17:10:55.118Z"
   },
   {
    "duration": 7,
    "start_time": "2024-04-26T17:10:55.302Z"
   },
   {
    "duration": 272,
    "start_time": "2024-04-26T17:10:55.311Z"
   },
   {
    "duration": 153,
    "start_time": "2024-04-26T17:10:55.584Z"
   },
   {
    "duration": 22,
    "start_time": "2024-04-26T17:10:55.738Z"
   },
   {
    "duration": 6,
    "start_time": "2024-04-26T17:10:55.761Z"
   },
   {
    "duration": 34,
    "start_time": "2024-04-26T17:10:55.768Z"
   },
   {
    "duration": 239,
    "start_time": "2024-04-26T17:10:55.803Z"
   },
   {
    "duration": 717,
    "start_time": "2024-04-26T17:10:56.045Z"
   },
   {
    "duration": 161,
    "start_time": "2024-04-26T17:10:56.763Z"
   },
   {
    "duration": 250,
    "start_time": "2024-04-26T17:10:56.926Z"
   },
   {
    "duration": 317,
    "start_time": "2024-04-26T17:10:57.178Z"
   },
   {
    "duration": 16,
    "start_time": "2024-04-26T17:10:57.497Z"
   },
   {
    "duration": 833,
    "start_time": "2024-04-27T08:21:42.982Z"
   },
   {
    "duration": 88,
    "start_time": "2024-04-27T08:21:44.163Z"
   },
   {
    "duration": 120,
    "start_time": "2024-04-27T08:21:47.760Z"
   },
   {
    "duration": 5,
    "start_time": "2024-04-27T08:21:48.987Z"
   },
   {
    "duration": 5,
    "start_time": "2024-04-27T08:21:49.160Z"
   },
   {
    "duration": 16,
    "start_time": "2024-04-27T08:21:49.541Z"
   },
   {
    "duration": 12,
    "start_time": "2024-04-27T08:21:49.719Z"
   },
   {
    "duration": 16,
    "start_time": "2024-04-27T08:21:50.130Z"
   },
   {
    "duration": 21,
    "start_time": "2024-04-27T08:21:50.528Z"
   },
   {
    "duration": 14,
    "start_time": "2024-04-27T08:21:50.692Z"
   },
   {
    "duration": 4,
    "start_time": "2024-04-27T08:21:53.021Z"
   },
   {
    "duration": 17,
    "start_time": "2024-04-27T08:21:54.519Z"
   },
   {
    "duration": 19,
    "start_time": "2024-04-27T08:21:55.323Z"
   },
   {
    "duration": 4,
    "start_time": "2024-04-27T08:21:55.910Z"
   },
   {
    "duration": 5,
    "start_time": "2024-04-27T08:21:56.317Z"
   },
   {
    "duration": 27,
    "start_time": "2024-04-27T08:21:57.151Z"
   },
   {
    "duration": 10,
    "start_time": "2024-04-27T08:21:57.925Z"
   },
   {
    "duration": 4,
    "start_time": "2024-04-27T08:21:59.101Z"
   },
   {
    "duration": 211,
    "start_time": "2024-04-27T08:21:59.322Z"
   },
   {
    "duration": 13,
    "start_time": "2024-04-27T08:22:00.273Z"
   },
   {
    "duration": 22,
    "start_time": "2024-04-27T08:22:02.056Z"
   },
   {
    "duration": 7,
    "start_time": "2024-04-27T08:22:03.525Z"
   },
   {
    "duration": 86,
    "start_time": "2024-04-27T08:22:08.009Z"
   },
   {
    "duration": 27,
    "start_time": "2024-04-27T08:23:34.394Z"
   },
   {
    "duration": 19,
    "start_time": "2024-04-27T08:24:18.540Z"
   },
   {
    "duration": 15,
    "start_time": "2024-04-27T08:26:54.590Z"
   },
   {
    "duration": 24,
    "start_time": "2024-04-27T08:29:48.913Z"
   },
   {
    "duration": 13,
    "start_time": "2024-04-27T08:30:00.864Z"
   },
   {
    "duration": 14,
    "start_time": "2024-04-27T08:31:24.708Z"
   },
   {
    "duration": 12,
    "start_time": "2024-04-27T08:37:44.686Z"
   },
   {
    "duration": 656,
    "start_time": "2024-04-27T08:39:28.429Z"
   },
   {
    "duration": 111,
    "start_time": "2024-04-27T08:39:29.087Z"
   },
   {
    "duration": 46,
    "start_time": "2024-04-27T08:39:29.200Z"
   },
   {
    "duration": 6,
    "start_time": "2024-04-27T08:39:30.115Z"
   },
   {
    "duration": 5,
    "start_time": "2024-04-27T08:39:30.283Z"
   },
   {
    "duration": 17,
    "start_time": "2024-04-27T08:39:30.645Z"
   },
   {
    "duration": 12,
    "start_time": "2024-04-27T08:39:30.828Z"
   },
   {
    "duration": 17,
    "start_time": "2024-04-27T08:39:31.208Z"
   },
   {
    "duration": 21,
    "start_time": "2024-04-27T08:39:31.589Z"
   },
   {
    "duration": 13,
    "start_time": "2024-04-27T08:39:31.794Z"
   },
   {
    "duration": 4,
    "start_time": "2024-04-27T08:39:33.257Z"
   },
   {
    "duration": 15,
    "start_time": "2024-04-27T08:39:34.228Z"
   },
   {
    "duration": 18,
    "start_time": "2024-04-27T08:39:34.643Z"
   },
   {
    "duration": 5,
    "start_time": "2024-04-27T08:39:34.973Z"
   },
   {
    "duration": 5,
    "start_time": "2024-04-27T08:39:35.403Z"
   },
   {
    "duration": 26,
    "start_time": "2024-04-27T08:39:36.039Z"
   },
   {
    "duration": 12,
    "start_time": "2024-04-27T08:39:37.070Z"
   },
   {
    "duration": 4,
    "start_time": "2024-04-27T08:39:38.094Z"
   },
   {
    "duration": 216,
    "start_time": "2024-04-27T08:39:38.280Z"
   },
   {
    "duration": 13,
    "start_time": "2024-04-27T08:39:39.948Z"
   },
   {
    "duration": 23,
    "start_time": "2024-04-27T08:39:42.542Z"
   },
   {
    "duration": 8,
    "start_time": "2024-04-27T08:39:43.160Z"
   },
   {
    "duration": 9,
    "start_time": "2024-04-27T08:39:43.414Z"
   },
   {
    "duration": 16,
    "start_time": "2024-04-27T08:39:44.894Z"
   },
   {
    "duration": 604,
    "start_time": "2024-04-27T08:59:42.934Z"
   },
   {
    "duration": 113,
    "start_time": "2024-04-27T08:59:43.539Z"
   },
   {
    "duration": 60,
    "start_time": "2024-04-27T08:59:44.871Z"
   },
   {
    "duration": 5,
    "start_time": "2024-04-27T08:59:45.786Z"
   },
   {
    "duration": 5,
    "start_time": "2024-04-27T08:59:45.984Z"
   },
   {
    "duration": 20,
    "start_time": "2024-04-27T08:59:46.296Z"
   },
   {
    "duration": 12,
    "start_time": "2024-04-27T08:59:46.467Z"
   },
   {
    "duration": 17,
    "start_time": "2024-04-27T08:59:46.946Z"
   },
   {
    "duration": 21,
    "start_time": "2024-04-27T08:59:47.204Z"
   },
   {
    "duration": 21,
    "start_time": "2024-04-27T08:59:47.363Z"
   },
   {
    "duration": 6,
    "start_time": "2024-04-27T08:59:48.844Z"
   },
   {
    "duration": 14,
    "start_time": "2024-04-27T08:59:49.774Z"
   },
   {
    "duration": 18,
    "start_time": "2024-04-27T08:59:50.166Z"
   },
   {
    "duration": 4,
    "start_time": "2024-04-27T08:59:50.336Z"
   },
   {
    "duration": 4,
    "start_time": "2024-04-27T08:59:50.729Z"
   },
   {
    "duration": 26,
    "start_time": "2024-04-27T08:59:51.356Z"
   },
   {
    "duration": 10,
    "start_time": "2024-04-27T08:59:51.936Z"
   },
   {
    "duration": 4,
    "start_time": "2024-04-27T08:59:52.359Z"
   },
   {
    "duration": 219,
    "start_time": "2024-04-27T08:59:52.516Z"
   },
   {
    "duration": 16,
    "start_time": "2024-04-27T08:59:53.353Z"
   },
   {
    "duration": 22,
    "start_time": "2024-04-27T08:59:53.964Z"
   },
   {
    "duration": 7,
    "start_time": "2024-04-27T08:59:54.539Z"
   },
   {
    "duration": 8,
    "start_time": "2024-04-27T08:59:54.723Z"
   },
   {
    "duration": 3,
    "start_time": "2024-04-27T08:59:54.945Z"
   },
   {
    "duration": 16,
    "start_time": "2024-04-27T08:59:57.013Z"
   },
   {
    "duration": 5,
    "start_time": "2024-04-27T08:59:57.523Z"
   },
   {
    "duration": 9,
    "start_time": "2024-04-27T08:59:57.903Z"
   },
   {
    "duration": 16,
    "start_time": "2024-04-27T08:59:58.236Z"
   },
   {
    "duration": 47,
    "start_time": "2024-04-27T08:59:58.416Z"
   },
   {
    "duration": 3,
    "start_time": "2024-04-27T08:59:59.196Z"
   },
   {
    "duration": 4,
    "start_time": "2024-04-27T09:00:00.204Z"
   },
   {
    "duration": 21,
    "start_time": "2024-04-27T09:00:03.956Z"
   },
   {
    "duration": 18,
    "start_time": "2024-04-27T09:00:07.294Z"
   },
   {
    "duration": 116,
    "start_time": "2024-04-27T09:00:09.915Z"
   },
   {
    "duration": 9,
    "start_time": "2024-04-27T09:00:13.434Z"
   },
   {
    "duration": 71,
    "start_time": "2024-04-27T09:00:29.705Z"
   },
   {
    "duration": 7,
    "start_time": "2024-04-27T09:00:39.887Z"
   },
   {
    "duration": 677,
    "start_time": "2024-04-27T09:02:08.403Z"
   },
   {
    "duration": 114,
    "start_time": "2024-04-27T09:02:09.082Z"
   },
   {
    "duration": 48,
    "start_time": "2024-04-27T09:02:09.203Z"
   },
   {
    "duration": 5,
    "start_time": "2024-04-27T09:02:10.164Z"
   },
   {
    "duration": 4,
    "start_time": "2024-04-27T09:02:10.354Z"
   },
   {
    "duration": 15,
    "start_time": "2024-04-27T09:02:13.919Z"
   },
   {
    "duration": 18,
    "start_time": "2024-04-27T09:02:42.246Z"
   },
   {
    "duration": 17,
    "start_time": "2024-04-27T09:02:42.627Z"
   },
   {
    "duration": 21,
    "start_time": "2024-04-27T09:02:43.029Z"
   },
   {
    "duration": 13,
    "start_time": "2024-04-27T09:02:43.196Z"
   },
   {
    "duration": 5,
    "start_time": "2024-04-27T09:02:44.588Z"
   },
   {
    "duration": 15,
    "start_time": "2024-04-27T09:02:45.556Z"
   },
   {
    "duration": 21,
    "start_time": "2024-04-27T09:02:45.876Z"
   },
   {
    "duration": 4,
    "start_time": "2024-04-27T09:02:46.082Z"
   },
   {
    "duration": 5,
    "start_time": "2024-04-27T09:02:46.443Z"
   },
   {
    "duration": 26,
    "start_time": "2024-04-27T09:02:47.396Z"
   },
   {
    "duration": 10,
    "start_time": "2024-04-27T09:02:48.218Z"
   },
   {
    "duration": 4,
    "start_time": "2024-04-27T09:02:48.324Z"
   },
   {
    "duration": 212,
    "start_time": "2024-04-27T09:02:49.044Z"
   },
   {
    "duration": 14,
    "start_time": "2024-04-27T09:02:49.723Z"
   },
   {
    "duration": 24,
    "start_time": "2024-04-27T09:02:50.316Z"
   },
   {
    "duration": 8,
    "start_time": "2024-04-27T09:02:51.097Z"
   },
   {
    "duration": 16,
    "start_time": "2024-04-27T09:02:51.107Z"
   },
   {
    "duration": 2,
    "start_time": "2024-04-27T09:02:51.356Z"
   },
   {
    "duration": 17,
    "start_time": "2024-04-27T09:02:54.565Z"
   },
   {
    "duration": 6,
    "start_time": "2024-04-27T09:02:55.795Z"
   },
   {
    "duration": 8,
    "start_time": "2024-04-27T09:02:56.286Z"
   },
   {
    "duration": 14,
    "start_time": "2024-04-27T09:02:56.674Z"
   },
   {
    "duration": 50,
    "start_time": "2024-04-27T09:02:56.845Z"
   },
   {
    "duration": 4,
    "start_time": "2024-04-27T09:02:57.345Z"
   },
   {
    "duration": 4,
    "start_time": "2024-04-27T09:02:58.245Z"
   },
   {
    "duration": 24,
    "start_time": "2024-04-27T09:03:01.146Z"
   },
   {
    "duration": 20,
    "start_time": "2024-04-27T09:03:02.811Z"
   },
   {
    "duration": 114,
    "start_time": "2024-04-27T09:03:05.016Z"
   },
   {
    "duration": 9,
    "start_time": "2024-04-27T09:03:27.586Z"
   },
   {
    "duration": 22,
    "start_time": "2024-04-27T09:05:49.519Z"
   },
   {
    "duration": 22,
    "start_time": "2024-04-27T09:07:06.145Z"
   },
   {
    "duration": 80,
    "start_time": "2024-04-27T09:15:16.632Z"
   },
   {
    "duration": 21,
    "start_time": "2024-04-27T09:16:10.910Z"
   },
   {
    "duration": 23,
    "start_time": "2024-04-27T09:16:12.361Z"
   },
   {
    "duration": 12,
    "start_time": "2024-04-27T09:16:12.700Z"
   },
   {
    "duration": 2,
    "start_time": "2024-04-27T09:16:13.252Z"
   },
   {
    "duration": 8,
    "start_time": "2024-04-27T09:16:13.380Z"
   },
   {
    "duration": 17,
    "start_time": "2024-04-27T09:16:14.069Z"
   },
   {
    "duration": 5,
    "start_time": "2024-04-27T09:16:14.259Z"
   },
   {
    "duration": 6,
    "start_time": "2024-04-27T09:16:14.629Z"
   },
   {
    "duration": 206,
    "start_time": "2024-04-27T09:16:15.786Z"
   },
   {
    "duration": 16,
    "start_time": "2024-04-27T09:16:18.085Z"
   },
   {
    "duration": 4,
    "start_time": "2024-04-27T09:16:18.331Z"
   },
   {
    "duration": 268,
    "start_time": "2024-04-27T09:16:18.456Z"
   },
   {
    "duration": 157,
    "start_time": "2024-04-27T09:16:19.850Z"
   },
   {
    "duration": 19,
    "start_time": "2024-04-27T09:16:21.652Z"
   },
   {
    "duration": 642,
    "start_time": "2024-04-27T09:18:52.427Z"
   },
   {
    "duration": 118,
    "start_time": "2024-04-27T09:18:53.070Z"
   },
   {
    "duration": 47,
    "start_time": "2024-04-27T09:18:53.199Z"
   },
   {
    "duration": 5,
    "start_time": "2024-04-27T09:18:54.300Z"
   },
   {
    "duration": 10,
    "start_time": "2024-04-27T09:18:54.313Z"
   },
   {
    "duration": 16,
    "start_time": "2024-04-27T09:18:54.606Z"
   },
   {
    "duration": 12,
    "start_time": "2024-04-27T09:18:54.727Z"
   },
   {
    "duration": 17,
    "start_time": "2024-04-27T09:18:55.121Z"
   },
   {
    "duration": 23,
    "start_time": "2024-04-27T09:18:55.420Z"
   },
   {
    "duration": 13,
    "start_time": "2024-04-27T09:18:55.588Z"
   },
   {
    "duration": 4,
    "start_time": "2024-04-27T09:18:57.027Z"
   },
   {
    "duration": 15,
    "start_time": "2024-04-27T09:18:57.927Z"
   },
   {
    "duration": 19,
    "start_time": "2024-04-27T09:18:58.326Z"
   },
   {
    "duration": 5,
    "start_time": "2024-04-27T09:18:58.460Z"
   },
   {
    "duration": 5,
    "start_time": "2024-04-27T09:18:58.868Z"
   },
   {
    "duration": 27,
    "start_time": "2024-04-27T09:18:59.430Z"
   },
   {
    "duration": 11,
    "start_time": "2024-04-27T09:18:59.921Z"
   },
   {
    "duration": 4,
    "start_time": "2024-04-27T09:19:00.319Z"
   },
   {
    "duration": 211,
    "start_time": "2024-04-27T09:19:00.460Z"
   },
   {
    "duration": 15,
    "start_time": "2024-04-27T09:19:01.318Z"
   },
   {
    "duration": 22,
    "start_time": "2024-04-27T09:19:01.910Z"
   },
   {
    "duration": 6,
    "start_time": "2024-04-27T09:19:02.516Z"
   },
   {
    "duration": 9,
    "start_time": "2024-04-27T09:19:02.658Z"
   },
   {
    "duration": 2,
    "start_time": "2024-04-27T09:19:02.872Z"
   },
   {
    "duration": 18,
    "start_time": "2024-04-27T09:19:04.219Z"
   },
   {
    "duration": 6,
    "start_time": "2024-04-27T09:19:04.630Z"
   },
   {
    "duration": 9,
    "start_time": "2024-04-27T09:19:05.008Z"
   },
   {
    "duration": 15,
    "start_time": "2024-04-27T09:19:05.395Z"
   },
   {
    "duration": 60,
    "start_time": "2024-04-27T09:19:05.561Z"
   },
   {
    "duration": 5,
    "start_time": "2024-04-27T09:19:05.897Z"
   },
   {
    "duration": 5,
    "start_time": "2024-04-27T09:19:06.390Z"
   },
   {
    "duration": 19,
    "start_time": "2024-04-27T09:19:07.917Z"
   },
   {
    "duration": 19,
    "start_time": "2024-04-27T09:19:08.700Z"
   },
   {
    "duration": 111,
    "start_time": "2024-04-27T09:19:09.430Z"
   },
   {
    "duration": 2,
    "start_time": "2024-04-27T09:19:10.508Z"
   },
   {
    "duration": 25,
    "start_time": "2024-04-27T09:19:11.632Z"
   },
   {
    "duration": 13,
    "start_time": "2024-04-27T09:19:12.195Z"
   },
   {
    "duration": 2,
    "start_time": "2024-04-27T09:19:12.840Z"
   },
   {
    "duration": 10,
    "start_time": "2024-04-27T09:19:13.074Z"
   },
   {
    "duration": 18,
    "start_time": "2024-04-27T09:19:13.968Z"
   },
   {
    "duration": 7,
    "start_time": "2024-04-27T09:19:14.089Z"
   },
   {
    "duration": 5,
    "start_time": "2024-04-27T09:19:14.780Z"
   },
   {
    "duration": 205,
    "start_time": "2024-04-27T09:19:16.129Z"
   },
   {
    "duration": 15,
    "start_time": "2024-04-27T09:19:20.239Z"
   },
   {
    "duration": 3,
    "start_time": "2024-04-27T09:19:20.718Z"
   },
   {
    "duration": 250,
    "start_time": "2024-04-27T09:19:20.926Z"
   },
   {
    "duration": 192,
    "start_time": "2024-04-27T09:19:22.041Z"
   },
   {
    "duration": 185,
    "start_time": "2024-04-27T09:19:24.214Z"
   },
   {
    "duration": 9,
    "start_time": "2024-04-27T09:19:27.428Z"
   },
   {
    "duration": 244,
    "start_time": "2024-04-27T09:19:27.637Z"
   },
   {
    "duration": 166,
    "start_time": "2024-04-27T09:19:31.282Z"
   },
   {
    "duration": 250,
    "start_time": "2024-04-27T09:19:33.558Z"
   },
   {
    "duration": 19,
    "start_time": "2024-04-27T09:30:22.796Z"
   },
   {
    "duration": 7,
    "start_time": "2024-04-27T09:30:24.086Z"
   },
   {
    "duration": 15,
    "start_time": "2024-04-27T09:30:25.811Z"
   },
   {
    "duration": 232,
    "start_time": "2024-04-27T09:30:27.038Z"
   },
   {
    "duration": 744,
    "start_time": "2024-04-27T09:30:33.496Z"
   },
   {
    "duration": 133,
    "start_time": "2024-04-27T09:30:44.266Z"
   },
   {
    "duration": 291,
    "start_time": "2024-04-27T09:30:58.340Z"
   },
   {
    "duration": 235,
    "start_time": "2024-04-27T09:32:15.028Z"
   },
   {
    "duration": 235,
    "start_time": "2024-04-27T09:33:45.542Z"
   },
   {
    "duration": 41,
    "start_time": "2024-04-27T13:25:56.116Z"
   },
   {
    "duration": 723,
    "start_time": "2024-04-27T13:26:07.274Z"
   },
   {
    "duration": 318,
    "start_time": "2024-04-27T13:26:07.999Z"
   },
   {
    "duration": 109,
    "start_time": "2024-04-27T13:26:09.542Z"
   },
   {
    "duration": 5,
    "start_time": "2024-04-27T13:26:10.466Z"
   },
   {
    "duration": 4,
    "start_time": "2024-04-27T13:26:10.583Z"
   },
   {
    "duration": 12,
    "start_time": "2024-04-27T13:26:10.926Z"
   },
   {
    "duration": 14,
    "start_time": "2024-04-27T13:26:11.096Z"
   },
   {
    "duration": 13,
    "start_time": "2024-04-27T13:26:11.459Z"
   },
   {
    "duration": 17,
    "start_time": "2024-04-27T13:26:12.454Z"
   },
   {
    "duration": 10,
    "start_time": "2024-04-27T13:26:12.588Z"
   },
   {
    "duration": 4,
    "start_time": "2024-04-27T13:26:14.147Z"
   },
   {
    "duration": 12,
    "start_time": "2024-04-27T13:26:15.763Z"
   },
   {
    "duration": 14,
    "start_time": "2024-04-27T13:26:16.287Z"
   },
   {
    "duration": 4,
    "start_time": "2024-04-27T13:26:17.014Z"
   },
   {
    "duration": 4,
    "start_time": "2024-04-27T13:26:18.015Z"
   },
   {
    "duration": 20,
    "start_time": "2024-04-27T13:26:19.119Z"
   },
   {
    "duration": 7,
    "start_time": "2024-04-27T13:26:19.966Z"
   },
   {
    "duration": 5,
    "start_time": "2024-04-27T13:26:21.164Z"
   },
   {
    "duration": 182,
    "start_time": "2024-04-27T13:26:21.764Z"
   },
   {
    "duration": 11,
    "start_time": "2024-04-27T13:26:22.706Z"
   },
   {
    "duration": 19,
    "start_time": "2024-04-27T13:26:24.215Z"
   },
   {
    "duration": 6,
    "start_time": "2024-04-27T13:26:25.266Z"
   },
   {
    "duration": 20,
    "start_time": "2024-04-27T13:26:25.496Z"
   },
   {
    "duration": 9,
    "start_time": "2024-04-27T13:26:48.256Z"
   },
   {
    "duration": 82,
    "start_time": "2024-04-27T13:28:21.034Z"
   },
   {
    "duration": 13,
    "start_time": "2024-04-27T13:28:36.526Z"
   },
   {
    "duration": 12,
    "start_time": "2024-04-27T13:33:07.795Z"
   },
   {
    "duration": 14,
    "start_time": "2024-04-27T13:36:18.012Z"
   },
   {
    "duration": 13,
    "start_time": "2024-04-27T13:36:23.997Z"
   },
   {
    "duration": 535,
    "start_time": "2024-04-27T13:47:08.551Z"
   },
   {
    "duration": 96,
    "start_time": "2024-04-27T13:47:09.087Z"
   },
   {
    "duration": 45,
    "start_time": "2024-04-27T13:47:09.185Z"
   },
   {
    "duration": 5,
    "start_time": "2024-04-27T13:47:10.045Z"
   },
   {
    "duration": 6,
    "start_time": "2024-04-27T13:47:10.155Z"
   },
   {
    "duration": 12,
    "start_time": "2024-04-27T13:47:10.545Z"
   },
   {
    "duration": 13,
    "start_time": "2024-04-27T13:47:10.726Z"
   },
   {
    "duration": 13,
    "start_time": "2024-04-27T13:47:11.055Z"
   },
   {
    "duration": 17,
    "start_time": "2024-04-27T13:47:11.395Z"
   },
   {
    "duration": 12,
    "start_time": "2024-04-27T13:47:11.531Z"
   },
   {
    "duration": 3,
    "start_time": "2024-04-27T13:47:12.915Z"
   },
   {
    "duration": 11,
    "start_time": "2024-04-27T13:47:13.806Z"
   },
   {
    "duration": 13,
    "start_time": "2024-04-27T13:47:14.237Z"
   },
   {
    "duration": 4,
    "start_time": "2024-04-27T13:47:14.355Z"
   },
   {
    "duration": 4,
    "start_time": "2024-04-27T13:47:14.735Z"
   },
   {
    "duration": 21,
    "start_time": "2024-04-27T13:47:15.244Z"
   },
   {
    "duration": 8,
    "start_time": "2024-04-27T13:47:15.802Z"
   },
   {
    "duration": 4,
    "start_time": "2024-04-27T13:47:16.171Z"
   },
   {
    "duration": 181,
    "start_time": "2024-04-27T13:47:16.295Z"
   },
   {
    "duration": 10,
    "start_time": "2024-04-27T13:47:16.996Z"
   },
   {
    "duration": 21,
    "start_time": "2024-04-27T13:47:17.535Z"
   },
   {
    "duration": 6,
    "start_time": "2024-04-27T13:47:18.397Z"
   },
   {
    "duration": 35,
    "start_time": "2024-04-27T13:47:18.404Z"
   },
   {
    "duration": 13,
    "start_time": "2024-04-27T13:47:18.451Z"
   },
   {
    "duration": 9,
    "start_time": "2024-04-27T13:47:19.562Z"
   },
   {
    "duration": 4,
    "start_time": "2024-04-27T13:47:20.125Z"
   },
   {
    "duration": 6,
    "start_time": "2024-04-27T13:47:20.543Z"
   },
   {
    "duration": 11,
    "start_time": "2024-04-27T13:47:20.895Z"
   },
   {
    "duration": 38,
    "start_time": "2024-04-27T13:47:21.075Z"
   },
   {
    "duration": 3,
    "start_time": "2024-04-27T13:47:21.477Z"
   },
   {
    "duration": 3,
    "start_time": "2024-04-27T13:47:21.923Z"
   },
   {
    "duration": 15,
    "start_time": "2024-04-27T13:47:23.423Z"
   },
   {
    "duration": 14,
    "start_time": "2024-04-27T13:47:24.213Z"
   },
   {
    "duration": 83,
    "start_time": "2024-04-27T13:47:24.818Z"
   },
   {
    "duration": 2,
    "start_time": "2024-04-27T13:47:25.435Z"
   },
   {
    "duration": 18,
    "start_time": "2024-04-27T13:47:26.225Z"
   },
   {
    "duration": 11,
    "start_time": "2024-04-27T13:47:26.625Z"
   },
   {
    "duration": 2,
    "start_time": "2024-04-27T13:47:27.211Z"
   },
   {
    "duration": 7,
    "start_time": "2024-04-27T13:47:27.397Z"
   },
   {
    "duration": 15,
    "start_time": "2024-04-27T13:47:28.260Z"
   },
   {
    "duration": 5,
    "start_time": "2024-04-27T13:47:28.432Z"
   },
   {
    "duration": 4,
    "start_time": "2024-04-27T13:47:28.833Z"
   },
   {
    "duration": 146,
    "start_time": "2024-04-27T13:47:30.006Z"
   },
   {
    "duration": 10,
    "start_time": "2024-04-27T13:47:32.056Z"
   },
   {
    "duration": 3,
    "start_time": "2024-04-27T13:47:32.236Z"
   },
   {
    "duration": 185,
    "start_time": "2024-04-27T13:47:32.404Z"
   },
   {
    "duration": 142,
    "start_time": "2024-04-27T13:47:33.063Z"
   },
   {
    "duration": 143,
    "start_time": "2024-04-27T13:47:34.065Z"
   },
   {
    "duration": 6,
    "start_time": "2024-04-27T13:47:35.956Z"
   },
   {
    "duration": 203,
    "start_time": "2024-04-27T13:47:36.237Z"
   },
   {
    "duration": 124,
    "start_time": "2024-04-27T13:47:37.863Z"
   },
   {
    "duration": 201,
    "start_time": "2024-04-27T13:47:38.557Z"
   },
   {
    "duration": 15,
    "start_time": "2024-04-27T13:47:38.905Z"
   },
   {
    "duration": 4,
    "start_time": "2024-04-27T13:47:39.573Z"
   },
   {
    "duration": 11,
    "start_time": "2024-04-27T13:47:40.175Z"
   },
   {
    "duration": 193,
    "start_time": "2024-04-27T13:47:40.584Z"
   },
   {
    "duration": 569,
    "start_time": "2024-04-27T13:47:41.185Z"
   },
   {
    "duration": 150,
    "start_time": "2024-04-27T13:47:42.655Z"
   },
   {
    "duration": 193,
    "start_time": "2024-04-27T13:47:43.285Z"
   },
   {
    "duration": 256,
    "start_time": "2024-04-27T13:47:43.916Z"
   },
   {
    "duration": 13,
    "start_time": "2024-04-27T13:47:44.465Z"
   },
   {
    "duration": 191,
    "start_time": "2024-04-27T13:50:29.104Z"
   },
   {
    "duration": 623,
    "start_time": "2024-04-27T20:36:07.567Z"
   },
   {
    "duration": 116,
    "start_time": "2024-04-27T20:36:08.192Z"
   },
   {
    "duration": 46,
    "start_time": "2024-04-27T20:36:08.309Z"
   },
   {
    "duration": 7,
    "start_time": "2024-04-27T20:36:08.357Z"
   },
   {
    "duration": 7,
    "start_time": "2024-04-27T20:36:08.365Z"
   },
   {
    "duration": 36,
    "start_time": "2024-04-27T20:36:08.373Z"
   },
   {
    "duration": 12,
    "start_time": "2024-04-27T20:36:08.411Z"
   },
   {
    "duration": 20,
    "start_time": "2024-04-27T20:36:08.425Z"
   },
   {
    "duration": 22,
    "start_time": "2024-04-27T20:36:08.446Z"
   },
   {
    "duration": 14,
    "start_time": "2024-04-27T20:36:08.471Z"
   },
   {
    "duration": 4,
    "start_time": "2024-04-27T20:36:08.486Z"
   },
   {
    "duration": 38,
    "start_time": "2024-04-27T20:36:08.492Z"
   },
   {
    "duration": 19,
    "start_time": "2024-04-27T20:36:08.532Z"
   },
   {
    "duration": 5,
    "start_time": "2024-04-27T20:36:08.552Z"
   },
   {
    "duration": 8,
    "start_time": "2024-04-27T20:36:08.558Z"
   },
   {
    "duration": 37,
    "start_time": "2024-04-27T20:36:08.567Z"
   },
   {
    "duration": 24,
    "start_time": "2024-04-27T20:36:08.606Z"
   },
   {
    "duration": 5,
    "start_time": "2024-04-27T20:36:08.631Z"
   },
   {
    "duration": 246,
    "start_time": "2024-04-27T20:36:08.637Z"
   },
   {
    "duration": 15,
    "start_time": "2024-04-27T20:36:08.885Z"
   },
   {
    "duration": 40,
    "start_time": "2024-04-27T20:36:08.902Z"
   },
   {
    "duration": 10,
    "start_time": "2024-04-27T20:36:08.944Z"
   },
   {
    "duration": 19,
    "start_time": "2024-04-27T20:36:08.955Z"
   },
   {
    "duration": 17,
    "start_time": "2024-04-27T20:36:08.976Z"
   },
   {
    "duration": 35,
    "start_time": "2024-04-27T20:36:08.995Z"
   },
   {
    "duration": 6,
    "start_time": "2024-04-27T20:36:09.032Z"
   },
   {
    "duration": 10,
    "start_time": "2024-04-27T20:36:09.039Z"
   },
   {
    "duration": 27,
    "start_time": "2024-04-27T20:36:09.052Z"
   },
   {
    "duration": 81,
    "start_time": "2024-04-27T20:36:09.081Z"
   },
   {
    "duration": 4,
    "start_time": "2024-04-27T20:36:09.163Z"
   },
   {
    "duration": 33,
    "start_time": "2024-04-27T20:36:09.168Z"
   },
   {
    "duration": 60,
    "start_time": "2024-04-27T20:36:09.203Z"
   },
   {
    "duration": 18,
    "start_time": "2024-04-27T20:36:09.265Z"
   },
   {
    "duration": 111,
    "start_time": "2024-04-27T20:36:09.285Z"
   },
   {
    "duration": 2,
    "start_time": "2024-04-27T20:36:09.398Z"
   },
   {
    "duration": 37,
    "start_time": "2024-04-27T20:36:09.402Z"
   },
   {
    "duration": 13,
    "start_time": "2024-04-27T20:36:09.441Z"
   },
   {
    "duration": 40,
    "start_time": "2024-04-27T20:36:09.456Z"
   },
   {
    "duration": 9,
    "start_time": "2024-04-27T20:36:09.497Z"
   },
   {
    "duration": 18,
    "start_time": "2024-04-27T20:36:09.508Z"
   },
   {
    "duration": 6,
    "start_time": "2024-04-27T20:36:09.527Z"
   },
   {
    "duration": 11,
    "start_time": "2024-04-27T20:36:09.534Z"
   },
   {
    "duration": 202,
    "start_time": "2024-04-27T20:36:09.546Z"
   },
   {
    "duration": 16,
    "start_time": "2024-04-27T20:36:09.750Z"
   },
   {
    "duration": 4,
    "start_time": "2024-04-27T20:36:09.768Z"
   },
   {
    "duration": 299,
    "start_time": "2024-04-27T20:36:09.773Z"
   },
   {
    "duration": 200,
    "start_time": "2024-04-27T20:36:10.073Z"
   },
   {
    "duration": 205,
    "start_time": "2024-04-27T20:36:10.276Z"
   },
   {
    "duration": 8,
    "start_time": "2024-04-27T20:36:10.483Z"
   },
   {
    "duration": 293,
    "start_time": "2024-04-27T20:36:10.493Z"
   },
   {
    "duration": 165,
    "start_time": "2024-04-27T20:36:10.787Z"
   },
   {
    "duration": 266,
    "start_time": "2024-04-27T20:36:10.953Z"
   },
   {
    "duration": 26,
    "start_time": "2024-04-27T20:36:11.220Z"
   },
   {
    "duration": 15,
    "start_time": "2024-04-27T20:36:11.248Z"
   },
   {
    "duration": 34,
    "start_time": "2024-04-27T20:36:11.265Z"
   },
   {
    "duration": 256,
    "start_time": "2024-04-27T20:36:11.301Z"
   },
   {
    "duration": 816,
    "start_time": "2024-04-27T20:36:11.558Z"
   },
   {
    "duration": 177,
    "start_time": "2024-04-27T20:36:12.376Z"
   },
   {
    "duration": 261,
    "start_time": "2024-04-27T20:36:12.555Z"
   },
   {
    "duration": 367,
    "start_time": "2024-04-27T20:36:12.818Z"
   },
   {
    "duration": 15,
    "start_time": "2024-04-27T20:36:13.187Z"
   },
   {
    "duration": 657,
    "start_time": "2024-04-27T20:38:00.246Z"
   },
   {
    "duration": 125,
    "start_time": "2024-04-27T20:38:00.905Z"
   },
   {
    "duration": 50,
    "start_time": "2024-04-27T20:38:01.032Z"
   },
   {
    "duration": 6,
    "start_time": "2024-04-27T20:38:01.084Z"
   },
   {
    "duration": 31,
    "start_time": "2024-04-27T20:38:01.091Z"
   },
   {
    "duration": 36,
    "start_time": "2024-04-27T20:38:01.124Z"
   },
   {
    "duration": 36,
    "start_time": "2024-04-27T20:38:01.162Z"
   },
   {
    "duration": 46,
    "start_time": "2024-04-27T20:38:01.200Z"
   },
   {
    "duration": 43,
    "start_time": "2024-04-27T20:38:01.248Z"
   },
   {
    "duration": 26,
    "start_time": "2024-04-27T20:38:01.294Z"
   },
   {
    "duration": 38,
    "start_time": "2024-04-27T20:38:01.321Z"
   },
   {
    "duration": 37,
    "start_time": "2024-04-27T20:38:01.361Z"
   },
   {
    "duration": 27,
    "start_time": "2024-04-27T20:38:01.400Z"
   },
   {
    "duration": 17,
    "start_time": "2024-04-27T20:38:01.429Z"
   },
   {
    "duration": 43,
    "start_time": "2024-04-27T20:38:01.448Z"
   },
   {
    "duration": 73,
    "start_time": "2024-04-27T20:38:01.493Z"
   },
   {
    "duration": 21,
    "start_time": "2024-04-27T20:38:01.568Z"
   },
   {
    "duration": 34,
    "start_time": "2024-04-27T20:38:01.591Z"
   },
   {
    "duration": 283,
    "start_time": "2024-04-27T20:38:01.627Z"
   },
   {
    "duration": 21,
    "start_time": "2024-04-27T20:38:01.912Z"
   },
   {
    "duration": 94,
    "start_time": "2024-04-27T20:38:01.935Z"
   },
   {
    "duration": 53,
    "start_time": "2024-04-27T20:38:02.030Z"
   },
   {
    "duration": 60,
    "start_time": "2024-04-27T20:38:02.084Z"
   },
   {
    "duration": 30,
    "start_time": "2024-04-27T20:38:02.146Z"
   },
   {
    "duration": 20,
    "start_time": "2024-04-27T20:38:02.178Z"
   },
   {
    "duration": 19,
    "start_time": "2024-04-27T20:38:02.200Z"
   },
   {
    "duration": 22,
    "start_time": "2024-04-27T20:38:02.221Z"
   },
   {
    "duration": 23,
    "start_time": "2024-04-27T20:38:02.247Z"
   },
   {
    "duration": 49,
    "start_time": "2024-04-27T20:38:02.271Z"
   },
   {
    "duration": 8,
    "start_time": "2024-04-27T20:38:02.322Z"
   },
   {
    "duration": 31,
    "start_time": "2024-04-27T20:38:02.332Z"
   },
   {
    "duration": 27,
    "start_time": "2024-04-27T20:38:02.365Z"
   },
   {
    "duration": 36,
    "start_time": "2024-04-27T20:38:02.395Z"
   },
   {
    "duration": 123,
    "start_time": "2024-04-27T20:38:02.433Z"
   },
   {
    "duration": 3,
    "start_time": "2024-04-27T20:38:02.558Z"
   },
   {
    "duration": 40,
    "start_time": "2024-04-27T20:38:02.563Z"
   },
   {
    "duration": 34,
    "start_time": "2024-04-27T20:38:02.605Z"
   },
   {
    "duration": 11,
    "start_time": "2024-04-27T20:38:02.641Z"
   },
   {
    "duration": 22,
    "start_time": "2024-04-27T20:38:02.653Z"
   },
   {
    "duration": 44,
    "start_time": "2024-04-27T20:38:02.677Z"
   },
   {
    "duration": 5,
    "start_time": "2024-04-27T20:38:02.723Z"
   },
   {
    "duration": 46,
    "start_time": "2024-04-27T20:38:02.729Z"
   },
   {
    "duration": 198,
    "start_time": "2024-04-27T20:38:02.777Z"
   },
   {
    "duration": 16,
    "start_time": "2024-04-27T20:38:02.977Z"
   },
   {
    "duration": 23,
    "start_time": "2024-04-27T20:38:02.995Z"
   },
   {
    "duration": 271,
    "start_time": "2024-04-27T20:38:03.020Z"
   },
   {
    "duration": 200,
    "start_time": "2024-04-27T20:38:03.293Z"
   },
   {
    "duration": 223,
    "start_time": "2024-04-27T20:38:03.494Z"
   },
   {
    "duration": 16,
    "start_time": "2024-04-27T20:38:03.718Z"
   },
   {
    "duration": 262,
    "start_time": "2024-04-27T20:38:03.736Z"
   },
   {
    "duration": 172,
    "start_time": "2024-04-27T20:38:04.000Z"
   },
   {
    "duration": 257,
    "start_time": "2024-04-27T20:38:04.174Z"
   },
   {
    "duration": 20,
    "start_time": "2024-04-27T20:38:04.432Z"
   },
   {
    "duration": 5,
    "start_time": "2024-04-27T20:38:04.454Z"
   },
   {
    "duration": 30,
    "start_time": "2024-04-27T20:38:04.460Z"
   },
   {
    "duration": 262,
    "start_time": "2024-04-27T20:38:04.492Z"
   },
   {
    "duration": 837,
    "start_time": "2024-04-27T20:38:04.755Z"
   },
   {
    "duration": 181,
    "start_time": "2024-04-27T20:38:05.594Z"
   },
   {
    "duration": 261,
    "start_time": "2024-04-27T20:38:05.777Z"
   },
   {
    "duration": 377,
    "start_time": "2024-04-27T20:38:06.040Z"
   },
   {
    "duration": 20,
    "start_time": "2024-04-27T20:38:06.418Z"
   },
   {
    "duration": 24,
    "start_time": "2024-04-27T20:38:56.732Z"
   },
   {
    "duration": 4,
    "start_time": "2024-04-27T20:45:15.715Z"
   },
   {
    "duration": 7,
    "start_time": "2024-04-27T20:45:16.044Z"
   },
   {
    "duration": 10,
    "start_time": "2024-04-27T20:45:16.339Z"
   },
   {
    "duration": 16,
    "start_time": "2024-04-27T20:45:16.571Z"
   },
   {
    "duration": 8,
    "start_time": "2024-04-27T20:45:16.795Z"
   },
   {
    "duration": 4,
    "start_time": "2024-04-27T20:45:17.347Z"
   },
   {
    "duration": 632,
    "start_time": "2024-04-27T20:48:10.584Z"
   },
   {
    "duration": 130,
    "start_time": "2024-04-27T20:48:11.218Z"
   },
   {
    "duration": 48,
    "start_time": "2024-04-27T20:48:11.350Z"
   },
   {
    "duration": 5,
    "start_time": "2024-04-27T20:48:11.400Z"
   },
   {
    "duration": 31,
    "start_time": "2024-04-27T20:48:11.407Z"
   },
   {
    "duration": 16,
    "start_time": "2024-04-27T20:48:11.440Z"
   },
   {
    "duration": 15,
    "start_time": "2024-04-27T20:48:11.458Z"
   },
   {
    "duration": 18,
    "start_time": "2024-04-27T20:48:11.475Z"
   },
   {
    "duration": 50,
    "start_time": "2024-04-27T20:48:11.494Z"
   },
   {
    "duration": 14,
    "start_time": "2024-04-27T20:48:11.545Z"
   },
   {
    "duration": 7,
    "start_time": "2024-04-27T20:48:11.560Z"
   },
   {
    "duration": 28,
    "start_time": "2024-04-27T20:48:11.569Z"
   },
   {
    "duration": 41,
    "start_time": "2024-04-27T20:48:11.598Z"
   },
   {
    "duration": 5,
    "start_time": "2024-04-27T20:48:11.643Z"
   },
   {
    "duration": 22,
    "start_time": "2024-04-27T20:48:11.649Z"
   },
   {
    "duration": 58,
    "start_time": "2024-04-27T20:48:11.673Z"
   },
   {
    "duration": 13,
    "start_time": "2024-04-27T20:48:11.733Z"
   },
   {
    "duration": 6,
    "start_time": "2024-04-27T20:48:11.748Z"
   },
   {
    "duration": 239,
    "start_time": "2024-04-27T20:48:11.756Z"
   },
   {
    "duration": 13,
    "start_time": "2024-04-27T20:48:11.997Z"
   },
   {
    "duration": 33,
    "start_time": "2024-04-27T20:48:12.012Z"
   },
   {
    "duration": 7,
    "start_time": "2024-04-27T20:48:12.047Z"
   },
   {
    "duration": 19,
    "start_time": "2024-04-27T20:48:12.056Z"
   },
   {
    "duration": 16,
    "start_time": "2024-04-27T20:48:12.077Z"
   },
   {
    "duration": 51,
    "start_time": "2024-04-27T20:48:12.095Z"
   },
   {
    "duration": 10,
    "start_time": "2024-04-27T20:48:12.147Z"
   },
   {
    "duration": 10,
    "start_time": "2024-04-27T20:48:12.159Z"
   },
   {
    "duration": 19,
    "start_time": "2024-04-27T20:48:12.171Z"
   },
   {
    "duration": 21,
    "start_time": "2024-04-27T20:48:12.191Z"
   },
   {
    "duration": 64,
    "start_time": "2024-04-27T20:48:12.214Z"
   },
   {
    "duration": 4,
    "start_time": "2024-04-27T20:48:12.280Z"
   },
   {
    "duration": 31,
    "start_time": "2024-04-27T20:48:12.285Z"
   },
   {
    "duration": 21,
    "start_time": "2024-04-27T20:48:12.318Z"
   },
   {
    "duration": 19,
    "start_time": "2024-04-27T20:48:12.340Z"
   },
   {
    "duration": 130,
    "start_time": "2024-04-27T20:48:12.361Z"
   },
   {
    "duration": 2,
    "start_time": "2024-04-27T20:48:12.494Z"
   },
   {
    "duration": 36,
    "start_time": "2024-04-27T20:48:12.498Z"
   },
   {
    "duration": 14,
    "start_time": "2024-04-27T20:48:12.536Z"
   },
   {
    "duration": 3,
    "start_time": "2024-04-27T20:48:12.552Z"
   },
   {
    "duration": 20,
    "start_time": "2024-04-27T20:48:12.556Z"
   },
   {
    "duration": 19,
    "start_time": "2024-04-27T20:48:12.582Z"
   },
   {
    "duration": 29,
    "start_time": "2024-04-27T20:48:12.602Z"
   },
   {
    "duration": 5,
    "start_time": "2024-04-27T20:48:12.633Z"
   },
   {
    "duration": 208,
    "start_time": "2024-04-27T20:48:12.639Z"
   },
   {
    "duration": 15,
    "start_time": "2024-04-27T20:48:12.849Z"
   },
   {
    "duration": 5,
    "start_time": "2024-04-27T20:48:12.865Z"
   },
   {
    "duration": 287,
    "start_time": "2024-04-27T20:48:12.872Z"
   },
   {
    "duration": 209,
    "start_time": "2024-04-27T20:48:13.160Z"
   },
   {
    "duration": 203,
    "start_time": "2024-04-27T20:48:13.370Z"
   },
   {
    "duration": 8,
    "start_time": "2024-04-27T20:48:13.575Z"
   },
   {
    "duration": 273,
    "start_time": "2024-04-27T20:48:13.584Z"
   },
   {
    "duration": 171,
    "start_time": "2024-04-27T20:48:13.858Z"
   },
   {
    "duration": 260,
    "start_time": "2024-04-27T20:48:14.030Z"
   },
   {
    "duration": 24,
    "start_time": "2024-04-27T20:48:14.292Z"
   },
   {
    "duration": 16,
    "start_time": "2024-04-27T20:48:14.317Z"
   },
   {
    "duration": 14,
    "start_time": "2024-04-27T20:48:14.335Z"
   },
   {
    "duration": 283,
    "start_time": "2024-04-27T20:48:14.351Z"
   },
   {
    "duration": 824,
    "start_time": "2024-04-27T20:48:14.635Z"
   },
   {
    "duration": 178,
    "start_time": "2024-04-27T20:48:15.461Z"
   },
   {
    "duration": 272,
    "start_time": "2024-04-27T20:48:15.641Z"
   },
   {
    "duration": 401,
    "start_time": "2024-04-27T20:48:15.915Z"
   },
   {
    "duration": 21,
    "start_time": "2024-04-27T20:48:16.318Z"
   },
   {
    "duration": 39,
    "start_time": "2024-04-27T20:48:16.341Z"
   },
   {
    "duration": 18,
    "start_time": "2024-04-27T20:48:16.382Z"
   },
   {
    "duration": 21,
    "start_time": "2024-04-27T20:48:16.402Z"
   },
   {
    "duration": 44,
    "start_time": "2024-04-27T20:48:16.424Z"
   },
   {
    "duration": 30,
    "start_time": "2024-04-27T20:48:16.470Z"
   },
   {
    "duration": 13,
    "start_time": "2024-04-27T20:48:16.501Z"
   },
   {
    "duration": 247,
    "start_time": "2024-04-27T20:53:19.036Z"
   },
   {
    "duration": 631,
    "start_time": "2024-04-27T20:54:44.172Z"
   },
   {
    "duration": 132,
    "start_time": "2024-04-27T20:54:44.805Z"
   },
   {
    "duration": 48,
    "start_time": "2024-04-27T20:54:44.939Z"
   },
   {
    "duration": 6,
    "start_time": "2024-04-27T20:54:44.989Z"
   },
   {
    "duration": 6,
    "start_time": "2024-04-27T20:54:44.997Z"
   },
   {
    "duration": 62,
    "start_time": "2024-04-27T20:54:45.004Z"
   },
   {
    "duration": 37,
    "start_time": "2024-04-27T20:54:45.067Z"
   },
   {
    "duration": 21,
    "start_time": "2024-04-27T20:54:45.106Z"
   },
   {
    "duration": 22,
    "start_time": "2024-04-27T20:54:45.129Z"
   },
   {
    "duration": 14,
    "start_time": "2024-04-27T20:54:45.153Z"
   },
   {
    "duration": 5,
    "start_time": "2024-04-27T20:54:45.168Z"
   },
   {
    "duration": 29,
    "start_time": "2024-04-27T20:54:45.174Z"
   },
   {
    "duration": 39,
    "start_time": "2024-04-27T20:54:45.204Z"
   },
   {
    "duration": 5,
    "start_time": "2024-04-27T20:54:45.247Z"
   },
   {
    "duration": 23,
    "start_time": "2024-04-27T20:54:45.254Z"
   },
   {
    "duration": 42,
    "start_time": "2024-04-27T20:54:45.279Z"
   },
   {
    "duration": 11,
    "start_time": "2024-04-27T20:54:45.322Z"
   },
   {
    "duration": 9,
    "start_time": "2024-04-27T20:54:45.334Z"
   },
   {
    "duration": 256,
    "start_time": "2024-04-27T20:54:45.345Z"
   },
   {
    "duration": 14,
    "start_time": "2024-04-27T20:54:45.603Z"
   },
   {
    "duration": 49,
    "start_time": "2024-04-27T20:54:45.618Z"
   },
   {
    "duration": 26,
    "start_time": "2024-04-27T20:54:45.668Z"
   },
   {
    "duration": 42,
    "start_time": "2024-04-27T20:54:45.696Z"
   },
   {
    "duration": 19,
    "start_time": "2024-04-27T20:54:45.739Z"
   },
   {
    "duration": 45,
    "start_time": "2024-04-27T20:54:45.760Z"
   },
   {
    "duration": 11,
    "start_time": "2024-04-27T20:54:45.806Z"
   },
   {
    "duration": 12,
    "start_time": "2024-04-27T20:54:45.818Z"
   },
   {
    "duration": 9,
    "start_time": "2024-04-27T20:54:45.831Z"
   },
   {
    "duration": 21,
    "start_time": "2024-04-27T20:54:45.842Z"
   },
   {
    "duration": 67,
    "start_time": "2024-04-27T20:54:45.864Z"
   },
   {
    "duration": 4,
    "start_time": "2024-04-27T20:54:45.933Z"
   },
   {
    "duration": 28,
    "start_time": "2024-04-27T20:54:45.938Z"
   },
   {
    "duration": 34,
    "start_time": "2024-04-27T20:54:45.967Z"
   },
   {
    "duration": 26,
    "start_time": "2024-04-27T20:54:46.003Z"
   },
   {
    "duration": 122,
    "start_time": "2024-04-27T20:54:46.031Z"
   },
   {
    "duration": 3,
    "start_time": "2024-04-27T20:54:46.154Z"
   },
   {
    "duration": 38,
    "start_time": "2024-04-27T20:54:46.158Z"
   },
   {
    "duration": 14,
    "start_time": "2024-04-27T20:54:46.198Z"
   },
   {
    "duration": 16,
    "start_time": "2024-04-27T20:54:46.213Z"
   },
   {
    "duration": 10,
    "start_time": "2024-04-27T20:54:46.231Z"
   },
   {
    "duration": 31,
    "start_time": "2024-04-27T20:54:46.244Z"
   },
   {
    "duration": 20,
    "start_time": "2024-04-27T20:54:46.277Z"
   },
   {
    "duration": 5,
    "start_time": "2024-04-27T20:54:46.299Z"
   },
   {
    "duration": 191,
    "start_time": "2024-04-27T20:54:46.305Z"
   },
   {
    "duration": 16,
    "start_time": "2024-04-27T20:54:46.497Z"
   },
   {
    "duration": 17,
    "start_time": "2024-04-27T20:54:46.514Z"
   },
   {
    "duration": 331,
    "start_time": "2024-04-27T20:54:46.532Z"
   },
   {
    "duration": 406,
    "start_time": "2024-04-27T20:54:46.865Z"
   },
   {
    "duration": 406,
    "start_time": "2024-04-27T20:54:47.328Z"
   },
   {
    "duration": 8,
    "start_time": "2024-04-27T20:54:47.736Z"
   },
   {
    "duration": 549,
    "start_time": "2024-04-27T20:54:47.745Z"
   },
   {
    "duration": 195,
    "start_time": "2024-04-27T20:54:48.296Z"
   },
   {
    "duration": 279,
    "start_time": "2024-04-27T20:54:48.493Z"
   },
   {
    "duration": 20,
    "start_time": "2024-04-27T20:54:48.773Z"
   },
   {
    "duration": 7,
    "start_time": "2024-04-27T20:54:48.794Z"
   },
   {
    "duration": 37,
    "start_time": "2024-04-27T20:54:48.802Z"
   },
   {
    "duration": 263,
    "start_time": "2024-04-27T20:54:48.840Z"
   },
   {
    "duration": 757,
    "start_time": "2024-04-27T20:54:49.105Z"
   },
   {
    "duration": 202,
    "start_time": "2024-04-27T20:54:49.864Z"
   },
   {
    "duration": 259,
    "start_time": "2024-04-27T20:54:50.068Z"
   },
   {
    "duration": 373,
    "start_time": "2024-04-27T20:54:50.329Z"
   },
   {
    "duration": 26,
    "start_time": "2024-04-27T20:54:50.704Z"
   },
   {
    "duration": 40,
    "start_time": "2024-04-27T20:54:50.732Z"
   },
   {
    "duration": 27,
    "start_time": "2024-04-27T20:54:50.773Z"
   },
   {
    "duration": 33,
    "start_time": "2024-04-27T20:54:50.802Z"
   },
   {
    "duration": 38,
    "start_time": "2024-04-27T20:54:50.837Z"
   },
   {
    "duration": 36,
    "start_time": "2024-04-27T20:54:50.877Z"
   },
   {
    "duration": 17,
    "start_time": "2024-04-27T20:54:50.915Z"
   },
   {
    "duration": 666,
    "start_time": "2024-04-27T20:57:03.399Z"
   },
   {
    "duration": 116,
    "start_time": "2024-04-27T20:57:04.067Z"
   },
   {
    "duration": 47,
    "start_time": "2024-04-27T20:57:04.185Z"
   },
   {
    "duration": 5,
    "start_time": "2024-04-27T20:57:04.234Z"
   },
   {
    "duration": 6,
    "start_time": "2024-04-27T20:57:04.240Z"
   },
   {
    "duration": 15,
    "start_time": "2024-04-27T20:57:04.248Z"
   },
   {
    "duration": 12,
    "start_time": "2024-04-27T20:57:04.264Z"
   },
   {
    "duration": 17,
    "start_time": "2024-04-27T20:57:04.278Z"
   },
   {
    "duration": 55,
    "start_time": "2024-04-27T20:57:04.296Z"
   },
   {
    "duration": 14,
    "start_time": "2024-04-27T20:57:04.354Z"
   },
   {
    "duration": 5,
    "start_time": "2024-04-27T20:57:04.370Z"
   },
   {
    "duration": 25,
    "start_time": "2024-04-27T20:57:04.377Z"
   },
   {
    "duration": 40,
    "start_time": "2024-04-27T20:57:04.404Z"
   },
   {
    "duration": 5,
    "start_time": "2024-04-27T20:57:04.446Z"
   },
   {
    "duration": 9,
    "start_time": "2024-04-27T20:57:04.452Z"
   },
   {
    "duration": 52,
    "start_time": "2024-04-27T20:57:04.462Z"
   },
   {
    "duration": 10,
    "start_time": "2024-04-27T20:57:04.515Z"
   },
   {
    "duration": 5,
    "start_time": "2024-04-27T20:57:04.528Z"
   },
   {
    "duration": 232,
    "start_time": "2024-04-27T20:57:04.534Z"
   },
   {
    "duration": 14,
    "start_time": "2024-04-27T20:57:04.768Z"
   },
   {
    "duration": 29,
    "start_time": "2024-04-27T20:57:04.784Z"
   },
   {
    "duration": 22,
    "start_time": "2024-04-27T20:57:04.815Z"
   },
   {
    "duration": 27,
    "start_time": "2024-04-27T20:57:04.839Z"
   },
   {
    "duration": 20,
    "start_time": "2024-04-27T20:57:04.867Z"
   },
   {
    "duration": 50,
    "start_time": "2024-04-27T20:57:04.889Z"
   },
   {
    "duration": 10,
    "start_time": "2024-04-27T20:57:04.940Z"
   },
   {
    "duration": 7,
    "start_time": "2024-04-27T20:57:04.951Z"
   },
   {
    "duration": 13,
    "start_time": "2024-04-27T20:57:04.961Z"
   },
   {
    "duration": 14,
    "start_time": "2024-04-27T20:57:04.975Z"
   },
   {
    "duration": 83,
    "start_time": "2024-04-27T20:57:04.991Z"
   },
   {
    "duration": 4,
    "start_time": "2024-04-27T20:57:05.076Z"
   },
   {
    "duration": 21,
    "start_time": "2024-04-27T20:57:05.082Z"
   },
   {
    "duration": 33,
    "start_time": "2024-04-27T20:57:05.106Z"
   },
   {
    "duration": 21,
    "start_time": "2024-04-27T20:57:05.140Z"
   },
   {
    "duration": 140,
    "start_time": "2024-04-27T20:57:05.163Z"
   },
   {
    "duration": 1,
    "start_time": "2024-04-27T20:57:05.305Z"
   },
   {
    "duration": 35,
    "start_time": "2024-04-27T20:57:05.308Z"
   },
   {
    "duration": 13,
    "start_time": "2024-04-27T20:57:05.345Z"
   },
   {
    "duration": 6,
    "start_time": "2024-04-27T20:57:05.360Z"
   },
   {
    "duration": 11,
    "start_time": "2024-04-27T20:57:05.368Z"
   },
   {
    "duration": 18,
    "start_time": "2024-04-27T20:57:05.381Z"
   },
   {
    "duration": 31,
    "start_time": "2024-04-27T20:57:05.401Z"
   },
   {
    "duration": 6,
    "start_time": "2024-04-27T20:57:05.433Z"
   },
   {
    "duration": 214,
    "start_time": "2024-04-27T20:57:05.441Z"
   },
   {
    "duration": 15,
    "start_time": "2024-04-27T20:57:05.657Z"
   },
   {
    "duration": 4,
    "start_time": "2024-04-27T20:57:05.674Z"
   },
   {
    "duration": 292,
    "start_time": "2024-04-27T20:57:05.679Z"
   },
   {
    "duration": 192,
    "start_time": "2024-04-27T20:57:05.973Z"
   },
   {
    "duration": 208,
    "start_time": "2024-04-27T20:57:06.167Z"
   },
   {
    "duration": 7,
    "start_time": "2024-04-27T20:57:06.377Z"
   },
   {
    "duration": 264,
    "start_time": "2024-04-27T20:57:06.386Z"
   },
   {
    "duration": 159,
    "start_time": "2024-04-27T20:57:06.652Z"
   },
   {
    "duration": 252,
    "start_time": "2024-04-27T20:57:06.812Z"
   },
   {
    "duration": 19,
    "start_time": "2024-04-27T20:57:07.066Z"
   },
   {
    "duration": 4,
    "start_time": "2024-04-27T20:57:07.087Z"
   },
   {
    "duration": 15,
    "start_time": "2024-04-27T20:57:07.092Z"
   },
   {
    "duration": 261,
    "start_time": "2024-04-27T20:57:07.109Z"
   },
   {
    "duration": 819,
    "start_time": "2024-04-27T20:57:07.372Z"
   },
   {
    "duration": 173,
    "start_time": "2024-04-27T20:57:08.193Z"
   },
   {
    "duration": 265,
    "start_time": "2024-04-27T20:57:08.368Z"
   },
   {
    "duration": 354,
    "start_time": "2024-04-27T20:57:08.635Z"
   },
   {
    "duration": 16,
    "start_time": "2024-04-27T20:57:08.990Z"
   },
   {
    "duration": 3,
    "start_time": "2024-04-27T20:57:09.008Z"
   },
   {
    "duration": 10,
    "start_time": "2024-04-27T20:57:09.028Z"
   },
   {
    "duration": 15,
    "start_time": "2024-04-27T20:57:09.040Z"
   },
   {
    "duration": 21,
    "start_time": "2024-04-27T20:57:09.057Z"
   },
   {
    "duration": 10,
    "start_time": "2024-04-27T20:57:09.080Z"
   },
   {
    "duration": 5,
    "start_time": "2024-04-27T20:57:09.091Z"
   }
  ],
  "colab": {
   "name": "DA+. Сборный проект 1. Шаблон (1).ipynb",
   "provenance": []
  },
  "kernelspec": {
   "display_name": "Python 3 (ipykernel)",
   "language": "python",
   "name": "python3"
  },
  "language_info": {
   "codemirror_mode": {
    "name": "ipython",
    "version": 3
   },
   "file_extension": ".py",
   "mimetype": "text/x-python",
   "name": "python",
   "nbconvert_exporter": "python",
   "pygments_lexer": "ipython3",
   "version": "3.9.5"
  },
  "toc": {
   "base_numbering": 1,
   "nav_menu": {},
   "number_sections": true,
   "sideBar": true,
   "skip_h1_title": true,
   "title_cell": "Table of Contents",
   "title_sidebar": "Contents",
   "toc_cell": false,
   "toc_position": {
    "height": "482px",
    "left": "36px",
    "top": "110.525px",
    "width": "165px"
   },
   "toc_section_display": true,
   "toc_window_display": true
  }
 },
 "nbformat": 4,
 "nbformat_minor": 1
}
