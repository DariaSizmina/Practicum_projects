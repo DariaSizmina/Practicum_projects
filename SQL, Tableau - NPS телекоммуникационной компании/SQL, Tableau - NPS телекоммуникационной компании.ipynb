{
 "cells": [
  {
   "cell_type": "markdown",
   "id": "d365fb23",
   "metadata": {},
   "source": [
    "Шаг 1. Подключение к базе"
   ]
  },
  {
   "cell_type": "code",
   "execution_count": 1,
   "id": "fc7efa54",
   "metadata": {},
   "outputs": [],
   "source": [
    "import os\n",
    "import pandas as pd\n",
    "import numpy as np\n",
    "\n",
    "from sqlalchemy import create_engine"
   ]
  },
  {
   "cell_type": "code",
   "execution_count": 2,
   "id": "0017f8e7",
   "metadata": {},
   "outputs": [],
   "source": [
    "path_to_db_local = 'telecomm_csi.db'\n",
    "path_to_db_platform = '/datasets/telecomm_csi.db'\n",
    "path_to_db = None\n",
    "\n",
    "if os.path.exists(path_to_db_local):\n",
    "    path_to_db = path_to_db_local\n",
    "elif os.path.exists(path_to_db_platform):\n",
    "    path_to_db = path_to_db_platform\n",
    "else:\n",
    "    raise Exception('Файл с базой данных SQLite не найден!')\n",
    "\n",
    "if path_to_db:\n",
    "    engine = create_engine(f'sqlite:///{path_to_db}', echo=False)"
   ]
  },
  {
   "cell_type": "markdown",
   "id": "8fe46309",
   "metadata": {},
   "source": [
    "Шаг 2. Выгрузка данных с помощью SQL запросов"
   ]
  },
  {
   "cell_type": "code",
   "execution_count": 3,
   "id": "84ebad43",
   "metadata": {},
   "outputs": [],
   "source": [
    "query = \"\"\"\n",
    "SELECT u.user_id,\n",
    "       u.lt_day,\n",
    "       \n",
    "       CASE WHEN u.lt_day <= 365 THEN 'да'\n",
    "            ELSE 'нет'\n",
    "            END as is_new,\n",
    "            \n",
    "       u.age,\n",
    "       \n",
    "       CASE WHEN u.gender_segment = 1 THEN 'женщина'\n",
    "            WHEN u.gender_segment = 0 THEN 'мужчина'\n",
    "            ELSE 'другой'\n",
    "            END as gender_segment,\n",
    "            \n",
    "        u.os_name,\n",
    "        u.cpe_type_name,\n",
    "        l.country,\n",
    "        l.city,\n",
    "        ag.title as age_segment,\n",
    "        ts.title as traffic_segment,\n",
    "        ls.title as lifetime_segment,\n",
    "        u.nps_score,\n",
    "        \n",
    "        CASE WHEN u.nps_score >= 9 THEN 'cторонники'\n",
    "             WHEN u.nps_score >= 7 THEN 'нейтралы'\n",
    "             ELSE 'критики'\n",
    "             END as nps_group\n",
    "             \n",
    "FROM user as u \n",
    "LEFT JOIN location as l on u.location_id = l.location_id\n",
    "LEFT JOIN age_segment as ag on u.age_gr_id = ag.age_gr_id\n",
    "LEFT JOIN traffic_segment as ts on u.tr_gr_id = ts.tr_gr_id\n",
    "LEFT JOIN lifetime_segment as ls on u.lt_gr_id = ls.lt_gr_id;\n",
    "\n",
    "\"\"\""
   ]
  },
  {
   "cell_type": "code",
   "execution_count": 4,
   "id": "3965faf2",
   "metadata": {},
   "outputs": [
    {
     "data": {
      "text/html": [
       "<div>\n",
       "<style scoped>\n",
       "    .dataframe tbody tr th:only-of-type {\n",
       "        vertical-align: middle;\n",
       "    }\n",
       "\n",
       "    .dataframe tbody tr th {\n",
       "        vertical-align: top;\n",
       "    }\n",
       "\n",
       "    .dataframe thead th {\n",
       "        text-align: right;\n",
       "    }\n",
       "</style>\n",
       "<table border=\"1\" class=\"dataframe\">\n",
       "  <thead>\n",
       "    <tr style=\"text-align: right;\">\n",
       "      <th></th>\n",
       "      <th>user_id</th>\n",
       "      <th>lt_day</th>\n",
       "      <th>is_new</th>\n",
       "      <th>age</th>\n",
       "      <th>gender_segment</th>\n",
       "      <th>os_name</th>\n",
       "      <th>cpe_type_name</th>\n",
       "      <th>country</th>\n",
       "      <th>city</th>\n",
       "      <th>age_segment</th>\n",
       "      <th>traffic_segment</th>\n",
       "      <th>lifetime_segment</th>\n",
       "      <th>nps_score</th>\n",
       "      <th>nps_group</th>\n",
       "    </tr>\n",
       "  </thead>\n",
       "  <tbody>\n",
       "    <tr>\n",
       "      <th>0</th>\n",
       "      <td>A001A2</td>\n",
       "      <td>2320</td>\n",
       "      <td>нет</td>\n",
       "      <td>45.0</td>\n",
       "      <td>женщина</td>\n",
       "      <td>ANDROID</td>\n",
       "      <td>SMARTPHONE</td>\n",
       "      <td>Россия</td>\n",
       "      <td>Уфа</td>\n",
       "      <td>05 45-54</td>\n",
       "      <td>04 1-5</td>\n",
       "      <td>08 36+</td>\n",
       "      <td>10</td>\n",
       "      <td>cторонники</td>\n",
       "    </tr>\n",
       "    <tr>\n",
       "      <th>1</th>\n",
       "      <td>A001WF</td>\n",
       "      <td>2344</td>\n",
       "      <td>нет</td>\n",
       "      <td>53.0</td>\n",
       "      <td>мужчина</td>\n",
       "      <td>ANDROID</td>\n",
       "      <td>SMARTPHONE</td>\n",
       "      <td>Россия</td>\n",
       "      <td>Киров</td>\n",
       "      <td>05 45-54</td>\n",
       "      <td>04 1-5</td>\n",
       "      <td>08 36+</td>\n",
       "      <td>10</td>\n",
       "      <td>cторонники</td>\n",
       "    </tr>\n",
       "    <tr>\n",
       "      <th>2</th>\n",
       "      <td>A003Q7</td>\n",
       "      <td>467</td>\n",
       "      <td>нет</td>\n",
       "      <td>57.0</td>\n",
       "      <td>мужчина</td>\n",
       "      <td>ANDROID</td>\n",
       "      <td>SMARTPHONE</td>\n",
       "      <td>Россия</td>\n",
       "      <td>Москва</td>\n",
       "      <td>06 55-64</td>\n",
       "      <td>08 20-25</td>\n",
       "      <td>06 13-24</td>\n",
       "      <td>10</td>\n",
       "      <td>cторонники</td>\n",
       "    </tr>\n",
       "  </tbody>\n",
       "</table>\n",
       "</div>"
      ],
      "text/plain": [
       "  user_id  lt_day is_new   age gender_segment  os_name cpe_type_name country  \\\n",
       "0  A001A2    2320    нет  45.0        женщина  ANDROID    SMARTPHONE  Россия   \n",
       "1  A001WF    2344    нет  53.0        мужчина  ANDROID    SMARTPHONE  Россия   \n",
       "2  A003Q7     467    нет  57.0        мужчина  ANDROID    SMARTPHONE  Россия   \n",
       "\n",
       "     city age_segment traffic_segment lifetime_segment  nps_score   nps_group  \n",
       "0     Уфа    05 45-54          04 1-5           08 36+         10  cторонники  \n",
       "1   Киров    05 45-54          04 1-5           08 36+         10  cторонники  \n",
       "2  Москва    06 55-64        08 20-25         06 13-24         10  cторонники  "
      ]
     },
     "execution_count": 4,
     "metadata": {},
     "output_type": "execute_result"
    }
   ],
   "source": [
    "df = pd.read_sql(query, engine)\n",
    "df.head(3)"
   ]
  },
  {
   "cell_type": "code",
   "execution_count": 5,
   "id": "9db04858",
   "metadata": {},
   "outputs": [],
   "source": [
    "df.to_csv('telecomm_csi_tableau.csv', index=False)"
   ]
  },
  {
   "cell_type": "markdown",
   "id": "00998d01",
   "metadata": {},
   "source": [
    "<div class=\"alert alert-success\" style=\"border-radius: 15px; box-shadow: 4px 4px 4px; border: 1px solid \">\n",
    "<h2> Комментарий ревьюера v_1: <a class=\"tocSkip\"> </h2>  \n",
    "    \n",
    "✅ Сделано хорошо:\n",
    "    \n",
    "* на вкладке расположено несколько графиков\n",
    "    \n",
    "* есть заголовки визуализаций\n",
    "\n",
    "* есть подписи на визуализациях\n",
    "    \n",
    "* подписи во всплывающих подсказках визуализаций на русском языке\n",
    "     \n",
    "* представлены необходимые графики по распределению участников\n",
    "    \n",
    "* графики выглядят отлично на дашборде, ничего не съезжает\n",
    "    \n",
    "* даны ответы на все вопросы по распределению\n",
    "  "
   ]
  },
  {
   "cell_type": "markdown",
   "id": "ab8fd52b",
   "metadata": {},
   "source": [
    "<div class=\"alert alert-info\"  style=\"border-radius: 15px; box-shadow: 4px 4px 4px; border: 1px solid \">\n",
    "    \n",
    "<h2>Ссылка на дашборд: <a class=\"tocSkip\"> </h2>\n",
    "    \n",
    "    \n",
    "https://public.tableau.com/views/_17224378201730/NPS_7?:language=en-US&publish=yes&:sid=&:redirect=auth&:display_count=n&:origin=viz_share_link"
   ]
  }
 ],
 "metadata": {
  "ExecuteTimeLog": [
   {
    "duration": 570,
    "start_time": "2024-07-30T20:22:52.245Z"
   },
   {
    "duration": 105,
    "start_time": "2024-07-30T20:22:53.946Z"
   },
   {
    "duration": 3,
    "start_time": "2024-07-30T20:22:56.883Z"
   },
   {
    "duration": 732,
    "start_time": "2024-07-30T20:23:01.237Z"
   },
   {
    "duration": 3,
    "start_time": "2024-07-30T20:24:34.489Z"
   },
   {
    "duration": 4,
    "start_time": "2024-07-30T20:24:47.830Z"
   },
   {
    "duration": 4,
    "start_time": "2024-07-30T20:25:12.273Z"
   },
   {
    "duration": 624,
    "start_time": "2024-07-30T20:25:17.163Z"
   },
   {
    "duration": 4,
    "start_time": "2024-07-30T20:25:44.757Z"
   },
   {
    "duration": 6017,
    "start_time": "2024-07-30T20:25:46.826Z"
   },
   {
    "duration": 4925,
    "start_time": "2024-07-30T20:27:00.324Z"
   },
   {
    "duration": 4937,
    "start_time": "2024-07-30T20:31:03.426Z"
   },
   {
    "duration": 534,
    "start_time": "2024-07-31T09:36:30.533Z"
   },
   {
    "duration": 80,
    "start_time": "2024-07-31T09:36:31.939Z"
   },
   {
    "duration": 3,
    "start_time": "2024-07-31T09:36:32.815Z"
   },
   {
    "duration": 5769,
    "start_time": "2024-07-31T09:36:33.665Z"
   },
   {
    "duration": 4488,
    "start_time": "2024-07-31T09:36:39.435Z"
   },
   {
    "duration": 549,
    "start_time": "2024-07-31T17:12:14.669Z"
   },
   {
    "duration": 12,
    "start_time": "2024-07-31T17:12:15.221Z"
   },
   {
    "duration": 29,
    "start_time": "2024-07-31T17:12:15.235Z"
   },
   {
    "duration": 6689,
    "start_time": "2024-07-31T17:12:15.266Z"
   },
   {
    "duration": 4924,
    "start_time": "2024-07-31T17:12:21.957Z"
   },
   {
    "duration": 939,
    "start_time": "2024-07-31T19:17:54.234Z"
   },
   {
    "duration": 582,
    "start_time": "2024-07-31T19:39:27.025Z"
   },
   {
    "duration": 12,
    "start_time": "2024-07-31T19:39:27.609Z"
   },
   {
    "duration": 4,
    "start_time": "2024-07-31T19:39:27.622Z"
   },
   {
    "duration": 6281,
    "start_time": "2024-07-31T19:39:27.627Z"
   },
   {
    "duration": 5035,
    "start_time": "2024-07-31T19:39:33.910Z"
   },
   {
    "duration": 469,
    "start_time": "2024-08-02T13:48:24.381Z"
   },
   {
    "duration": 9,
    "start_time": "2024-08-02T13:48:24.852Z"
   },
   {
    "duration": 4,
    "start_time": "2024-08-02T13:48:24.862Z"
   },
   {
    "duration": 4788,
    "start_time": "2024-08-02T13:48:24.868Z"
   },
   {
    "duration": 3986,
    "start_time": "2024-08-02T13:48:29.657Z"
   },
   {
    "duration": 481,
    "start_time": "2024-08-02T13:49:22.991Z"
   },
   {
    "duration": 12,
    "start_time": "2024-08-02T13:49:23.474Z"
   },
   {
    "duration": 8,
    "start_time": "2024-08-02T13:49:23.487Z"
   },
   {
    "duration": 6339,
    "start_time": "2024-08-02T13:49:23.496Z"
   },
   {
    "duration": 3750,
    "start_time": "2024-08-02T13:49:29.836Z"
   },
   {
    "duration": 429,
    "start_time": "2024-08-02T17:23:32.949Z"
   },
   {
    "duration": 11,
    "start_time": "2024-08-02T17:23:33.380Z"
   },
   {
    "duration": 67,
    "start_time": "2024-08-02T17:23:33.393Z"
   },
   {
    "duration": 5398,
    "start_time": "2024-08-02T17:23:33.462Z"
   },
   {
    "duration": 3921,
    "start_time": "2024-08-02T17:23:38.862Z"
   },
   {
    "duration": 458,
    "start_time": "2024-08-02T20:46:38.114Z"
   },
   {
    "duration": 8,
    "start_time": "2024-08-02T20:46:38.574Z"
   },
   {
    "duration": 5,
    "start_time": "2024-08-02T20:46:38.583Z"
   },
   {
    "duration": 5112,
    "start_time": "2024-08-02T20:46:38.590Z"
   },
   {
    "duration": 3732,
    "start_time": "2024-08-02T20:46:43.704Z"
   }
  ],
  "kernelspec": {
   "display_name": "Python 3 (ipykernel)",
   "language": "python",
   "name": "python3"
  },
  "language_info": {
   "codemirror_mode": {
    "name": "ipython",
    "version": 3
   },
   "file_extension": ".py",
   "mimetype": "text/x-python",
   "name": "python",
   "nbconvert_exporter": "python",
   "pygments_lexer": "ipython3",
   "version": "3.9.5"
  },
  "toc": {
   "base_numbering": 1,
   "nav_menu": {},
   "number_sections": true,
   "sideBar": true,
   "skip_h1_title": true,
   "title_cell": "Table of Contents",
   "title_sidebar": "Contents",
   "toc_cell": false,
   "toc_position": {},
   "toc_section_display": true,
   "toc_window_display": false
  }
 },
 "nbformat": 4,
 "nbformat_minor": 5
}
